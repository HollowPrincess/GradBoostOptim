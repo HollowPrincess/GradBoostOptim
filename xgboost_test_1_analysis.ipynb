{
 "cells": [
  {
   "cell_type": "code",
   "execution_count": 1,
   "metadata": {},
   "outputs": [],
   "source": [
    "import pandas as pd\n",
    "import numpy as np\n",
    "from matplotlib import pyplot as plt\n",
    "import os"
   ]
  },
  {
   "cell_type": "code",
   "execution_count": 2,
   "metadata": {},
   "outputs": [],
   "source": [
    "files=os.listdir(\"./data/results\")"
   ]
  },
  {
   "cell_type": "code",
   "execution_count": 3,
   "metadata": {},
   "outputs": [],
   "source": [
    "grid = [s for s in files if \"grid\" in s] # files with results for grid search\n",
    "random = [s for s in files if \"random\" in s] \n",
    "group = [s for s in files if \"group\" in s] "
   ]
  },
  {
   "cell_type": "code",
   "execution_count": 4,
   "metadata": {},
   "outputs": [],
   "source": [
    "grid_df=pd.DataFrame([])\n",
    "for file in grid:\n",
    "    df = pd.read_csv(\"./data/results/\"+file)\n",
    "    \n",
    "    df['iter_num']=1\n",
    "    df.loc[df['experiment_name']!='default params', \n",
    "           'iter_num'] = range(1, df.loc[df['experiment_name']!='default params'].shape[0]+1)\n",
    "    \n",
    "    grid_df = pd.concat([grid_df, df], sort=False)\n",
    "\n",
    "\n",
    "group_df=pd.DataFrame([])\n",
    "for file in group:\n",
    "    df = pd.read_csv(\"./data/results/\"+file)\n",
    "    \n",
    "    df['iter_num'] = range(1, df.shape[0]+1)\n",
    "    \n",
    "    group_df = pd.concat([group_df, df], sort=False)\n",
    "    \n",
    "random_df=pd.DataFrame([])\n",
    "for file in random:\n",
    "    df = pd.read_csv(\"./data/results/\"+file)\n",
    "    \n",
    "    df['iter_num'] = range(1, df.shape[0]+1)\n",
    "    \n",
    "    random_df = pd.concat([random_df, df], sort=False)"
   ]
  },
  {
   "cell_type": "code",
   "execution_count": 5,
   "metadata": {},
   "outputs": [],
   "source": [
    "df = pd.concat([grid_df, group_df, random_df], sort=False)"
   ]
  },
  {
   "cell_type": "code",
   "execution_count": 6,
   "metadata": {},
   "outputs": [
    {
     "data": {
      "text/plain": [
       "Index(['mean_fit_time', 'std_fit_time', 'mean_score_time', 'std_score_time',\n",
       "       'param_alpha', 'param_colsample_bytree', 'param_lambda',\n",
       "       'param_max_depth', 'param_min_child_weight', 'param_subsample',\n",
       "       'params', 'split0_test_score', 'split1_test_score', 'split2_test_score',\n",
       "       'split3_test_score', 'split4_test_score', 'mean_test_score',\n",
       "       'std_test_score', 'rank_test_score', 'experiment_name', 'iter_num',\n",
       "       'run_number'],\n",
       "      dtype='object')"
      ]
     },
     "execution_count": 6,
     "metadata": {},
     "output_type": "execute_result"
    }
   ],
   "source": [
    "df.columns"
   ]
  },
  {
   "cell_type": "code",
   "execution_count": 7,
   "metadata": {},
   "outputs": [],
   "source": [
    "time_cols = [ col for col in df.columns if col.find(\"time\")!=-1]"
   ]
  },
  {
   "cell_type": "code",
   "execution_count": 8,
   "metadata": {},
   "outputs": [],
   "source": [
    "time_cols.extend(['experiment_name', 'run_number'])"
   ]
  },
  {
   "cell_type": "code",
   "execution_count": 14,
   "metadata": {},
   "outputs": [],
   "source": [
    "tmp = df.loc[:, time_cols].fillna(0)\n",
    "\n",
    "tmp_time = tmp.groupby(['experiment_name', 'run_number']).sum()"
   ]
  },
  {
   "cell_type": "code",
   "execution_count": 20,
   "metadata": {},
   "outputs": [
    {
     "data": {
      "text/html": [
       "<div>\n",
       "<style scoped>\n",
       "    .dataframe tbody tr th:only-of-type {\n",
       "        vertical-align: middle;\n",
       "    }\n",
       "\n",
       "    .dataframe tbody tr th {\n",
       "        vertical-align: top;\n",
       "    }\n",
       "\n",
       "    .dataframe thead th {\n",
       "        text-align: right;\n",
       "    }\n",
       "</style>\n",
       "<table border=\"1\" class=\"dataframe\">\n",
       "  <thead>\n",
       "    <tr style=\"text-align: right;\">\n",
       "      <th></th>\n",
       "      <th>mean_fit_time</th>\n",
       "      <th>std_fit_time</th>\n",
       "      <th>mean_score_time</th>\n",
       "      <th>std_score_time</th>\n",
       "    </tr>\n",
       "    <tr>\n",
       "      <th>run_number</th>\n",
       "      <th></th>\n",
       "      <th></th>\n",
       "      <th></th>\n",
       "      <th></th>\n",
       "    </tr>\n",
       "  </thead>\n",
       "  <tbody>\n",
       "    <tr>\n",
       "      <th>0.0</th>\n",
       "      <td>377.963461</td>\n",
       "      <td>11.255572</td>\n",
       "      <td>3.918226</td>\n",
       "      <td>0.120981</td>\n",
       "    </tr>\n",
       "  </tbody>\n",
       "</table>\n",
       "</div>"
      ],
      "text/plain": [
       "            mean_fit_time  std_fit_time  mean_score_time  std_score_time\n",
       "run_number                                                              \n",
       "0.0            377.963461     11.255572         3.918226        0.120981"
      ]
     },
     "execution_count": 20,
     "metadata": {},
     "output_type": "execute_result"
    }
   ],
   "source": [
    "tmp_time.loc[\"grid search\"]"
   ]
  },
  {
   "cell_type": "code",
   "execution_count": 27,
   "metadata": {},
   "outputs": [
    {
     "name": "stdout",
     "output_type": "stream",
     "text": [
      "MEAN fit and score time 5 folds:\n",
      "[1909.40843344]\n",
      "MAX fit and score time 5 folds:\n",
      "[1966.29119757]\n",
      "MIN fit and score time 5 folds:\n",
      "[1852.52566931]\n",
      "REAL TIME:\n",
      "1940.05\n"
     ]
    }
   ],
   "source": [
    "grid_time = tmp_time.loc[\"grid search\"].values * 5\n",
    "print(\"MEAN fit and score time 5 folds:\")\n",
    "print(grid_time[:,0] + grid_time[:,2])\n",
    "print(\"MAX fit and score time 5 folds:\")\n",
    "print(grid_time[:,0] + grid_time[:,2] + grid_time[:,1] + grid_time[:,3])\n",
    "print(\"MIN fit and score time 5 folds:\")\n",
    "print(grid_time[:,0] + grid_time[:,2] - grid_time[:,1] - grid_time[:,3])\n",
    "print(\"REAL TIME:\")\n",
    "print(\"1940.05\")"
   ]
  },
  {
   "cell_type": "code",
   "execution_count": 6,
   "metadata": {},
   "outputs": [],
   "source": [
    "grid_time = 1940.05\n",
    "\n",
    "random_time = [2073.10, 1991.44, 1941.67,\n",
    "               1830.35, 1770.31, 1805.24,\n",
    "               1883.62, 1863.26, 1877.53\n",
    "              ]\n",
    "\n",
    "\"\"\"\n",
    "random_time = [\n",
    "    2148, 2085, 2060, 2158, 2193, 2068, 2045, 2097\n",
    "]\n",
    "\"\"\"\n",
    "\n",
    "\n",
    "groups_time = [\n",
    "    [810.24, 765.14, 742.56, 744.10, 749.14, \n",
    "     676.46, 702.35, 749.01, 715.88, 677.28],\n",
    "    [515.27, 518.78, 519.46, 520.49, 520.53, \n",
    "     491.02, 495.51, 497.50, 498.53, 489.28],\n",
    "    [521.28, 521.50, 522.18, 525.42, 526.47, \n",
    "     495.62, 499.08, 499.29, 500.98, 491.89]\n",
    "]#first, second and third groups\n",
    "\"\"\"\n",
    "groups_time = [\n",
    "    [704, 725, 693, 699, 694, 684, 673],\n",
    "    [491, 489, 489, 488, 490, 489, 489],\n",
    "    [494, 493, 494, 494, 496, 494, 494]\n",
    "]#first, second and third groups\n",
    "\"\"\"\n",
    "default_time = 2.02"
   ]
  },
  {
   "cell_type": "code",
   "execution_count": 7,
   "metadata": {},
   "outputs": [
    {
     "data": {
      "image/png": "[encoded data removed]",
      "text/plain": [
       "<Figure size 720x504 with 1 Axes>"
      ]
     },
     "metadata": {
      "needs_background": "light"
     },
     "output_type": "display_data"
    }
   ],
   "source": [
    "def autolabel(rects, add=0):\n",
    "    \"\"\"Attach a text label above each bar in *rects*, displaying its height.\"\"\"\n",
    "    for rect in rects:\n",
    "        height = rect.get_height()+add\n",
    "        ax.annotate('{}'.format(round(height-add,2)),\n",
    "                    xy=(rect.get_x() + rect.get_width() / 2, height),\n",
    "                    xytext=(0, 3),  \n",
    "                    textcoords=\"offset points\",\n",
    "                    ha='center', va='bottom')\n",
    "        \n",
    "x = [0,0.5,1]  \n",
    "width = 0.2  \n",
    "\n",
    "fig, ax = plt.subplots(figsize=(10,7))\n",
    "\n",
    "labels=['grid search','random search', 'random search in groups']\n",
    "\n",
    "rects1 = ax.bar(0, grid_time/60, width, label='grid search')\n",
    "rects2 = ax.bar(0.5, np.mean(random_time)/60, width, label='random search')\n",
    "\n",
    "\n",
    "groups_time_mean = np.mean(groups_time, axis =1)/60\n",
    "rects3_1 = ax.bar(1, groups_time_mean[0], width, label='random search 1 group')\n",
    "rects3_2 = ax.bar(1, groups_time_mean[1], width,\n",
    "             bottom=groups_time_mean[0], label='random search 2 group')\n",
    "rects3_3 = ax.bar(1, groups_time_mean[2], width,\n",
    "             bottom=groups_time_mean[0] + groups_time_mean[1], \n",
    "                  label='random search 3 group')\n",
    "\n",
    "\n",
    "ax.set_ylabel('Time (min)')\n",
    "ax.set_title('Search Methods Average Runtime in minutes')\n",
    "ax.set_xticks(x)\n",
    "ax.set_xticklabels(labels)\n",
    "ax.legend(loc=(1.01,0.8))\n",
    "\n",
    "autolabel(rects1)\n",
    "autolabel(rects2)\n",
    "autolabel(rects3_1)\n",
    "autolabel(rects3_2, groups_time_mean[0])\n",
    "autolabel(rects3_3, groups_time_mean[0]+groups_time_mean[1])\n",
    "fig.tight_layout()\n",
    "\n",
    "plt.savefig(\"graphs/1_time_exec.jpg\")\n",
    "plt.show()"
   ]
  },
  {
   "cell_type": "code",
   "execution_count": 8,
   "metadata": {},
   "outputs": [],
   "source": [
    "top5=df.loc[:,['experiment_name','params','mean_test_score']].sort_values(by='mean_test_score',ascending=False)[:5]"
   ]
  },
  {
   "cell_type": "code",
   "execution_count": 9,
   "metadata": {},
   "outputs": [
    {
     "data": {
      "text/html": [
       "<div>\n",
       "<style scoped>\n",
       "    .dataframe tbody tr th:only-of-type {\n",
       "        vertical-align: middle;\n",
       "    }\n",
       "\n",
       "    .dataframe tbody tr th {\n",
       "        vertical-align: top;\n",
       "    }\n",
       "\n",
       "    .dataframe thead th {\n",
       "        text-align: right;\n",
       "    }\n",
       "</style>\n",
       "<table border=\"1\" class=\"dataframe\">\n",
       "  <thead>\n",
       "    <tr style=\"text-align: right;\">\n",
       "      <th></th>\n",
       "      <th>experiment_name</th>\n",
       "      <th>params</th>\n",
       "      <th>mean_test_score</th>\n",
       "    </tr>\n",
       "  </thead>\n",
       "  <tbody>\n",
       "    <tr>\n",
       "      <th>607</th>\n",
       "      <td>random search for 3 group</td>\n",
       "      <td>{'colsample_bytree': 0.9441981813670506, 'subs...</td>\n",
       "      <td>0.670763</td>\n",
       "    </tr>\n",
       "    <tr>\n",
       "      <th>655</th>\n",
       "      <td>random search for 3 group</td>\n",
       "      <td>{'colsample_bytree': 0.92725365631945, 'subsam...</td>\n",
       "      <td>0.670091</td>\n",
       "    </tr>\n",
       "    <tr>\n",
       "      <th>638</th>\n",
       "      <td>random search for 3 group</td>\n",
       "      <td>{'colsample_bytree': 0.5211363108799119, 'subs...</td>\n",
       "      <td>0.668882</td>\n",
       "    </tr>\n",
       "    <tr>\n",
       "      <th>649</th>\n",
       "      <td>random search</td>\n",
       "      <td>{'alpha': 0.8756469398389447, 'colsample_bytre...</td>\n",
       "      <td>0.668790</td>\n",
       "    </tr>\n",
       "    <tr>\n",
       "      <th>595</th>\n",
       "      <td>random search for 3 group</td>\n",
       "      <td>{'colsample_bytree': 0.9429017611834876, 'subs...</td>\n",
       "      <td>0.668607</td>\n",
       "    </tr>\n",
       "  </tbody>\n",
       "</table>\n",
       "</div>"
      ],
      "text/plain": [
       "               experiment_name  \\\n",
       "607  random search for 3 group   \n",
       "655  random search for 3 group   \n",
       "638  random search for 3 group   \n",
       "649              random search   \n",
       "595  random search for 3 group   \n",
       "\n",
       "                                                params  mean_test_score  \n",
       "607  {'colsample_bytree': 0.9441981813670506, 'subs...         0.670763  \n",
       "655  {'colsample_bytree': 0.92725365631945, 'subsam...         0.670091  \n",
       "638  {'colsample_bytree': 0.5211363108799119, 'subs...         0.668882  \n",
       "649  {'alpha': 0.8756469398389447, 'colsample_bytre...         0.668790  \n",
       "595  {'colsample_bytree': 0.9429017611834876, 'subs...         0.668607  "
      ]
     },
     "execution_count": 9,
     "metadata": {},
     "output_type": "execute_result"
    }
   ],
   "source": [
    "top5 #random search is in top5 than sometimes it may be better than serch in groups"
   ]
  },
  {
   "cell_type": "code",
   "execution_count": 10,
   "metadata": {
    "scrolled": true
   },
   "outputs": [
    {
     "name": "stdout",
     "output_type": "stream",
     "text": [
      "571\n"
     ]
    }
   ],
   "source": [
    "max_interval_length=1\n",
    "for i in random_df.run_number.unique():\n",
    "    tmp=pd.DataFrame(random_df.loc[random_df.run_number==i, \"mean_test_score\"].copy().cummax())\n",
    "    tmp[\"run_num\"]=random_df.loc[random_df.run_number==i, \"iter_num\"]\n",
    "    curr_max=tmp.groupby(\"mean_test_score\").count().reset_index()#.max().values[0]\n",
    "    #print(curr_max.run_num)\n",
    "    curr_max=curr_max.loc[curr_max.mean_test_score!=curr_max.mean_test_score.max()]\n",
    "    \n",
    "    curr_max=curr_max.run_num.max()\n",
    "    if curr_max>max_interval_length:\n",
    "        max_interval_length=curr_max\n",
    "        \n",
    "print(max_interval_length)"
   ]
  },
  {
   "cell_type": "code",
   "execution_count": 11,
   "metadata": {},
   "outputs": [
    {
     "name": "stdout",
     "output_type": "stream",
     "text": [
      "490\n"
     ]
    }
   ],
   "source": [
    "max_interval_length=1\n",
    "for i in group_df.run_number.unique():\n",
    "    tmp=pd.DataFrame(group_df.loc[group_df.run_number==i, \"mean_test_score\"].copy().cummax())\n",
    "    tmp[\"run_num\"]=group_df.loc[group_df.run_number==i, \"iter_num\"]\n",
    "    curr_max=tmp.groupby(\"mean_test_score\").count().reset_index()#.max().values[0]\n",
    "    #print(curr_max.run_num)\n",
    "    curr_max=curr_max.loc[curr_max.mean_test_score!=curr_max.mean_test_score.max()]\n",
    "    \n",
    "    curr_max=curr_max.run_num.max()\n",
    "    if curr_max>max_interval_length:\n",
    "        max_interval_length=curr_max\n",
    "        \n",
    "print(max_interval_length)"
   ]
  },
  {
   "cell_type": "code",
   "execution_count": 12,
   "metadata": {},
   "outputs": [
    {
     "name": "stdout",
     "output_type": "stream",
     "text": [
      "2\n",
      "21\n",
      "10\n",
      "15\n",
      "97\n",
      "43\n",
      "14\n",
      "13\n",
      "105\n",
      "6\n"
     ]
    }
   ],
   "source": [
    "max_interval_length=1\n",
    "for i in group_df.run_number.unique():\n",
    "    tmp=pd.DataFrame(group_df.loc[\n",
    "        (group_df.run_number==i) & (group_df.experiment_name==\"random search for 1 group\"),\n",
    "        \"mean_test_score\"].copy().cummax())\n",
    "\n",
    "    tmp[\"run_num\"]=group_df.loc[(group_df.run_number==i) & (group_df.experiment_name==\"random search for 1 group\"), \"iter_num\"]\n",
    "    curr_max=tmp.groupby(\"mean_test_score\").count().reset_index()#.max().values[0]\n",
    "    #print(curr_max.run_num)\n",
    "    curr_max=curr_max.loc[curr_max.mean_test_score!=curr_max.mean_test_score.max()]\n",
    "    \n",
    "    curr_max=curr_max.run_num.max()\n",
    "    print(curr_max)\n",
    "    if curr_max>max_interval_length:\n",
    "        max_interval_length=curr_max\n",
    "        \n",
    "#print(max_interval_length)"
   ]
  },
  {
   "cell_type": "code",
   "execution_count": 13,
   "metadata": {},
   "outputs": [
    {
     "data": {
      "image/png": "[encoded data removed]",
      "text/plain": [
       "<Figure size 1080x504 with 1 Axes>"
      ]
     },
     "metadata": {
      "needs_background": "light"
     },
     "output_type": "display_data"
    }
   ],
   "source": [
    "#comparison\n",
    "# confidence intervals theory get from: \n",
    "# https://medium.com/ml-ai-study-group/confidence-interval-confidence-level-be58d250dd40\n",
    "\n",
    "\n",
    "## GRID_SEARCH\n",
    "#get best scores per itration for grid_search performance:\n",
    "grid_perf=grid_df.loc[grid_df['experiment_name']!='default params', 'mean_test_score'].cummax()\n",
    "\n",
    "\n",
    "## RANDOM_SEARCH\n",
    "#get best scores per itration for each random_search performance:\n",
    "random_mean=pd.DataFrame([])\n",
    "for i in random_df.run_number.unique():\n",
    "    tmp=pd.DataFrame(random_df.loc[random_df.run_number==i, \"mean_test_score\"].copy().cummax())\n",
    "    tmp[\"iter_num\"]=random_df.loc[random_df.run_number==i, \"iter_num\"]\n",
    "    random_mean=pd.concat([random_mean, tmp], sort=False)\n",
    "    \n",
    "#get mean and confidence interval value for random_search performance on iteration:    \n",
    "\n",
    "z = 1.96 # for 95% conf interval (coefficient)\n",
    "# z = 1.64 # for 90% conf interval\n",
    "\n",
    "n=random_mean.shape[0]/random_mean.iter_num.max() # now n=9, because 4 runs were made for random search\n",
    "random_std=random_mean.groupby(by=\"iter_num\")['mean_test_score'].std() #std\n",
    "random_std=(random_std*z)/np.sqrt(n) #confidence interval value \n",
    "random_mean=random_mean.groupby(by=\"iter_num\")['mean_test_score'].mean() #mean\n",
    "\n",
    "\n",
    "## GROUP_SEARCH\n",
    "#get best scores per itration for each group_search performance (same computations):\n",
    "group_mean=pd.DataFrame([])\n",
    "for i in group_df.run_number.unique():\n",
    "    tmp=pd.DataFrame(group_df.loc[group_df.run_number==i, \"mean_test_score\"].cummax())\n",
    "    tmp[\"iter_num\"]=group_df.loc[group_df.run_number==i, \"iter_num\"]\n",
    "    group_mean=pd.concat([group_mean, tmp], sort=False)\n",
    "\n",
    "n=group_mean.shape[0]/group_mean.iter_num.max() # now n=10\n",
    "group_std=group_mean.groupby(by=\"iter_num\")['mean_test_score'].std()\n",
    "group_std=(group_std*z)/np.sqrt(n) \n",
    "group_mean=group_mean.groupby(by=\"iter_num\")['mean_test_score'].mean()\n",
    "\n",
    "## DEFAULT performance\n",
    "default_perf=grid_df.loc[grid_df['experiment_name']=='default params', 'mean_test_score']\n",
    "\n",
    "\n",
    "## PLOT\n",
    "plt.figure(figsize=(15,7))\n",
    "plt.grid()\n",
    "x=list(range(0, grid_perf.shape[0]))\n",
    "\n",
    "#grid plot:\n",
    "plt.plot(x, grid_perf, label=\"grid_search\")\n",
    "\n",
    "#conf for random:\n",
    "plt.plot(x, random_mean, color=\"y\", label=\"random_search mean values\")\n",
    "lower_random=random_mean - random_std\n",
    "upper_random=random_mean + random_std\n",
    "plt.plot(x, lower_random, alpha=0.7, color=\"y\")\n",
    "plt.plot(x, upper_random, alpha=0.7, color=\"y\")\n",
    "plt.fill_between(x, lower_random, upper_random, alpha=0.1, color=\"y\") \n",
    "\n",
    "#conf for group:\n",
    "plt.plot(x, group_mean, color=\"green\", label=\"group_search mean values\")\n",
    "lower_group=group_mean - group_std\n",
    "upper_group=group_mean + group_std\n",
    "plt.plot(x, lower_group, alpha=0.5, color=\"green\")\n",
    "plt.plot(x, upper_group, alpha=0.5, color=\"green\")\n",
    "plt.fill_between(x, lower_group, upper_group, alpha=0.1, color=\"green\")\n",
    "\n",
    "#line for default values\n",
    "plt.axhline(default_perf.values, label=\"default_params\", color='r')\n",
    "\n",
    "plt.legend(title='tests:')\n",
    "plt.title(\"Learning curves: the best score per iteration\")\n",
    "plt.ylabel(\"Best score r2 per iteration\")\n",
    "plt.xlabel(\"iteration number\")\n",
    "plt.savefig(\"graphs/2_scores.jpg\")\n",
    "plt.show()"
   ]
  },
  {
   "cell_type": "code",
   "execution_count": 14,
   "metadata": {},
   "outputs": [
    {
     "name": "stdout",
     "output_type": "stream",
     "text": [
      "difference:  False\n",
      "difference is less than zero than intervals don't intersect in last point\n"
     ]
    }
   ],
   "source": [
    "#print(\"green last lower values: \", lower_group.iloc[-11:-1])\n",
    "#print(\"yellow last upper values: \", upper_random.iloc[0:10])\n",
    "print(\"difference: \", ((lower_group.iloc[-1:].values-upper_random.iloc[-1:].values) > 0).all())\n",
    "print(\"difference is less than zero than intervals don't intersect in last point\")"
   ]
  },
  {
   "cell_type": "code",
   "execution_count": 15,
   "metadata": {},
   "outputs": [
    {
     "data": {
      "image/png": "[encoded data removed]",
      "text/plain": [
       "<Figure size 1080x504 with 1 Axes>"
      ]
     },
     "metadata": {
      "needs_background": "light"
     },
     "output_type": "display_data"
    }
   ],
   "source": [
    "#comparison\n",
    "# confidence intervals theory get from: \n",
    "# https://medium.com/ml-ai-study-group/confidence-interval-confidence-level-be58d250dd40\n",
    "\n",
    "## PLOT\n",
    "plt.figure(figsize=(15,7))\n",
    "plt.grid()\n",
    "x=list(range(0, grid_perf.shape[0]))\n",
    "\n",
    "#grid plot:\n",
    "plt.plot(x, grid_perf, label=\"grid_search\")\n",
    "\n",
    "#conf for random:\n",
    "plt.plot(x, random_mean, color=\"y\", label=\"random_search mean values\")\n",
    "plt.plot(x, lower_random, alpha=0.7, color=\"y\")\n",
    "plt.plot(x, upper_random, alpha=0.7, color=\"y\")\n",
    "plt.fill_between(x, lower_random, upper_random, alpha=0.1, color=\"y\") \n",
    "\n",
    "#conf for group:\n",
    "plt.plot(x, group_mean, color=\"green\", label=\"group_search mean values\")\n",
    "plt.plot(x, lower_group, alpha=0.5, color=\"green\")\n",
    "plt.plot(x, upper_group, alpha=0.5, color=\"green\")\n",
    "plt.fill_between(x, lower_group, upper_group, alpha=0.1, color=\"green\")\n",
    "\n",
    "#line for default values\n",
    "plt.axhline(default_perf.values, label=\"default_params\", color='r')\n",
    "\n",
    "plt.legend(title='tests:')\n",
    "plt.title(\"Learning curves: the best score per iteration\")\n",
    "plt.ylabel(\"Best score r2 per iteration\")\n",
    "plt.xlabel(\"iteration number\")\n",
    "plt.xlim(600,730)\n",
    "plt.ylim(0.66, 0.67)\n",
    "plt.legend(loc=\"lower right\")\n",
    "plt.savefig(\"graphs/2_scores_scaled.jpg\")\n",
    "plt.show()"
   ]
  },
  {
   "cell_type": "code",
   "execution_count": 16,
   "metadata": {},
   "outputs": [
    {
     "name": "stdout",
     "output_type": "stream",
     "text": [
      "(113, 2)\n"
     ]
    }
   ],
   "source": [
    "tmp=grid_df.loc[grid_df['experiment_name']!='default params', 'mean_test_score'].cummax().reset_index()\n",
    "curr_max=tmp.groupby(\"mean_test_score\").count().reset_index()\n",
    "max_score=curr_max.loc[curr_max[\"index\"]>=100, \"mean_test_score\"].values[0]\n",
    "\n",
    "tmp_before=tmp.loc[tmp[\"mean_test_score\"]<max_score] #get steps before stop criterion\n",
    "tmp_stop=tmp.loc[tmp[\"mean_test_score\"]==max_score].sort_values(by=\"index\")\n",
    "tmp_stop=tmp_stop.iloc[:100]\n",
    "grid_df_stopped=pd.concat([tmp_before, tmp_stop], sort = False)\n",
    "\n",
    "print(grid_df_stopped.shape)"
   ]
  },
  {
   "cell_type": "code",
   "execution_count": 17,
   "metadata": {},
   "outputs": [
    {
     "name": "stdout",
     "output_type": "stream",
     "text": [
      "(170, 3)\n",
      "(308, 3)\n",
      "(140, 3)\n",
      "(235, 3)\n",
      "(206, 3)\n",
      "(214, 3)\n",
      "(157, 3)\n",
      "(193, 3)\n",
      "(138, 3)\n",
      "(189, 3)\n"
     ]
    }
   ],
   "source": [
    "## RANDOM_SEARCH\n",
    "#get best scores per itration for each random_search performance:\n",
    "random_df_stopped=pd.DataFrame([])\n",
    "for i in random_df.run_number.unique():\n",
    "    tmp=pd.DataFrame(random_df.loc[random_df.run_number==i, \"mean_test_score\"].copy().cummax())\n",
    "    tmp[\"iter_num\"]=random_df.loc[random_df.run_number==i, \"iter_num\"]\n",
    "    curr_max=tmp.groupby(\"mean_test_score\").count().reset_index()\n",
    "    max_score=curr_max.loc[curr_max[\"iter_num\"]>=100, \"mean_test_score\"].values[0]\n",
    "    \n",
    "    tmp_before=tmp.loc[tmp[\"mean_test_score\"]<max_score] #get steps before stop criterion\n",
    "    tmp_stop=tmp.loc[tmp[\"mean_test_score\"]==max_score].sort_values(by=\"iter_num\")\n",
    "    tmp_stop=tmp_stop.iloc[:100]\n",
    "    df_stopped=pd.concat([tmp_before, tmp_stop], sort = False)  \n",
    "    df_stopped['run_number']=i\n",
    "    print(df_stopped.shape)    \n",
    "    \n",
    "    random_df_stopped=pd.concat([random_df_stopped, df_stopped], sort=False)"
   ]
  },
  {
   "cell_type": "code",
   "execution_count": 23,
   "metadata": {},
   "outputs": [
    {
     "name": "stdout",
     "output_type": "stream",
     "text": [
      "195.0\n",
      "48.20165972246184\n"
     ]
    }
   ],
   "source": [
    "arr=[170, 308, 140, 235, 206, 214, 157, 193, 138, 189]\n",
    "print(np.mean(arr))\n",
    "print(np.std(arr))"
   ]
  },
  {
   "cell_type": "code",
   "execution_count": 28,
   "metadata": {},
   "outputs": [
    {
     "name": "stdout",
     "output_type": "stream",
     "text": [
      "8\n",
      "   mean_test_score  iter_num\n",
      "0         0.648758         2\n",
      "1         0.657690       241\n",
      "   mean_test_score  iter_num\n",
      "0          0.65769       243\n",
      "   mean_test_score  iter_num\n",
      "0         0.655148         1\n",
      "1         0.656348         2\n",
      "2         0.656918         3\n",
      "3         0.663776        27\n",
      "4         0.664641        41\n",
      "5         0.664919        22\n",
      "6         0.666765       124\n",
      "7         0.668075        23\n",
      "3\n",
      "   mean_test_score  iter_num\n",
      "0         0.610381         1\n",
      "1         0.631454         3\n",
      "2         0.633974         1\n",
      "3         0.642777         2\n",
      "4         0.650594         3\n",
      "5         0.653189         2\n",
      "6         0.654305         2\n",
      "7         0.657019        21\n",
      "8         0.657690       208\n",
      "   mean_test_score  iter_num\n",
      "0          0.65769       243\n",
      "   mean_test_score  iter_num\n",
      "0         0.656925         3\n",
      "1         0.658379         1\n",
      "2         0.658741         1\n",
      "3         0.662534         9\n",
      "4         0.663089         2\n",
      "5         0.663970         5\n",
      "6         0.664638        60\n",
      "7         0.665802        18\n",
      "8         0.666612       101\n",
      "9         0.667700        43\n",
      "1\n",
      "   mean_test_score  iter_num\n",
      "0         0.610381         1\n",
      "1         0.651791         7\n",
      "2         0.657019        10\n",
      "3         0.657690       225\n",
      "   mean_test_score  iter_num\n",
      "0          0.65769       243\n",
      "   mean_test_score  iter_num\n",
      "0         0.656764         1\n",
      "1         0.657986         4\n",
      "2         0.664238        10\n",
      "3         0.664695        28\n",
      "4         0.665747         8\n",
      "5         0.666346       171\n",
      "6         0.666358        21\n",
      "9\n",
      "   mean_test_score  iter_num\n",
      "0          0.64452         4\n",
      "1          0.65453        15\n",
      "2          0.65769       224\n",
      "   mean_test_score  iter_num\n",
      "0          0.65769       243\n",
      "   mean_test_score  iter_num\n",
      "0         0.655358         1\n",
      "1         0.661859         4\n",
      "2         0.662334        53\n",
      "3         0.662774        10\n",
      "4         0.663978         8\n",
      "5         0.665202        70\n",
      "6         0.666263        85\n",
      "7         0.666874        12\n",
      "7\n",
      "   mean_test_score  iter_num\n",
      "0         0.628360         1\n",
      "1         0.649218         5\n",
      "2         0.650695         4\n",
      "3         0.653556        23\n",
      "4         0.657019        97\n",
      "5         0.657690       113\n",
      "   mean_test_score  iter_num\n",
      "0          0.65769       243\n",
      "   mean_test_score  iter_num\n",
      "0         0.656655         1\n",
      "1         0.663364        20\n",
      "2         0.663729        35\n",
      "3         0.664279        29\n",
      "4         0.664663        18\n",
      "5         0.666869       140\n",
      "10\n",
      "   mean_test_score  iter_num\n",
      "0         0.650578         4\n",
      "1         0.653556         2\n",
      "2         0.656872        38\n",
      "3         0.657019        43\n",
      "4         0.657690       156\n",
      "   mean_test_score  iter_num\n",
      "0          0.65769       243\n",
      "   mean_test_score  iter_num\n",
      "0         0.661937         3\n",
      "1         0.663616        36\n",
      "2         0.663645        46\n",
      "3         0.666450        67\n",
      "4         0.668882        91\n",
      "5\n",
      "   mean_test_score  iter_num\n",
      "0         0.634076         2\n",
      "1         0.647459         1\n",
      "2         0.647516         1\n",
      "3         0.647581         3\n",
      "4         0.657019        14\n",
      "5         0.657690       222\n",
      "   mean_test_score  iter_num\n",
      "0          0.65769       243\n",
      "   mean_test_score  iter_num\n",
      "0         0.651235         1\n",
      "1         0.652941         1\n",
      "2         0.656934         1\n",
      "3         0.662518         5\n",
      "4         0.662525        35\n",
      "5         0.663176        12\n",
      "6         0.665145       170\n",
      "7         0.665907        18\n",
      "4\n",
      "   mean_test_score  iter_num\n",
      "0         0.640506         1\n",
      "1         0.643484         3\n",
      "2         0.647449         2\n",
      "3         0.651791         7\n",
      "4         0.652473         9\n",
      "5         0.656872        13\n",
      "6         0.657690       208\n",
      "   mean_test_score  iter_num\n",
      "0          0.65769       243\n",
      "   mean_test_score  iter_num\n",
      "0         0.656308         1\n",
      "1         0.659045         5\n",
      "2         0.659706         7\n",
      "3         0.664070        22\n",
      "4         0.665680        74\n",
      "5         0.668607        60\n",
      "6         0.670091        74\n",
      "2\n",
      "   mean_test_score  iter_num\n",
      "0         0.646649         3\n",
      "1         0.651791         2\n",
      "2         0.656872        15\n",
      "3         0.657019       105\n",
      "4         0.657690       118\n",
      "   mean_test_score  iter_num\n",
      "0          0.65769       243\n",
      "   mean_test_score  iter_num\n",
      "0         0.657362         3\n",
      "1         0.657388         1\n",
      "2         0.657878         2\n",
      "3         0.657934         1\n",
      "4         0.661602         3\n",
      "5         0.662374         3\n",
      "6         0.662972         4\n",
      "7         0.667058       104\n",
      "8         0.670763       122\n",
      "6\n",
      "   mean_test_score  iter_num\n",
      "0         0.644520         1\n",
      "1         0.650695         4\n",
      "2         0.656872         6\n",
      "3         0.657690       232\n",
      "   mean_test_score  iter_num\n",
      "0          0.65769       243\n",
      "   mean_test_score  iter_num\n",
      "0         0.660580         6\n",
      "1         0.665599        62\n",
      "2         0.666403       175\n"
     ]
    }
   ],
   "source": [
    "## GROUP_SEARCH\n",
    "# get best scores per itration for each group_search performance:\n",
    "# we can do it on this way because \n",
    "# in first group more than 100 iterations without growth was got once\n",
    "# second group hasn't any influence\n",
    "\n",
    "group_df_stopped=pd.DataFrame([])\n",
    "for i in group_df.run_number.unique():\n",
    "    print(i)\n",
    "    for j in group_df.experiment_name.unique():\n",
    "        tmp=pd.DataFrame(group_df.loc[\n",
    "            (group_df.run_number==i) & (group_df.experiment_name==j),\n",
    "            \"mean_test_score\"].copy().cummax())\n",
    "        tmp[\"iter_num\"]=group_df.loc[\n",
    "            (group_df.run_number==i) & (group_df.experiment_name==j), \n",
    "            \"iter_num\"]\n",
    "        curr_max=tmp.groupby(\"mean_test_score\").count().reset_index()\n",
    "        #print(curr_max)\n",
    "        try:\n",
    "            max_score=curr_max.loc[curr_max[\"iter_num\"]>=100, \"mean_test_score\"].values[0]\n",
    "            tmp_before=tmp.loc[tmp[\"mean_test_score\"]<max_score] #get steps before stop criterion\n",
    "            tmp_stop=tmp.loc[tmp[\"mean_test_score\"]==max_score].sort_values(by=\"iter_num\")\n",
    "            tmp_stop=tmp_stop.iloc[:100]\n",
    "            group_df_stopped_exp=pd.concat([tmp_before, tmp_stop], sort = False) \n",
    "        except:\n",
    "            group_df_stopped_exp=tmp         \n",
    "\n",
    "        group_df_stopped_exp['run_number']=i\n",
    "        #print(group_df_stopped_exp.shape)    \n",
    "        group_df_stopped=pd.concat([group_df_stopped, group_df_stopped_exp], sort=False)"
   ]
  },
  {
   "cell_type": "code",
   "execution_count": 27,
   "metadata": {},
   "outputs": [
    {
     "name": "stdout",
     "output_type": "stream",
     "text": [
      "102\n",
      "230\n",
      "137.8\n",
      "37.791004220581385\n",
      "117\n",
      "243\n",
      "191.8\n",
      "41.52059729820851\n"
     ]
    }
   ],
   "source": [
    "arr1=[102, 135, 118, 119, 230, 187, 121, 135, 120, 111]\n",
    "arr2=100\n",
    "arr3=[196, 199, 151, 243, 203, 243, 155, 243, 117, 168]\n",
    "print(np.min(arr1))\n",
    "print(np.max(arr1))\n",
    "print(np.mean(arr1))\n",
    "print(np.std(arr1))\n",
    "\n",
    "print(np.min(arr3))\n",
    "print(np.max(arr3))\n",
    "print(np.mean(arr3))\n",
    "print(np.std(arr3))"
   ]
  },
  {
   "cell_type": "code",
   "execution_count": 35,
   "metadata": {},
   "outputs": [
    {
     "name": "stdout",
     "output_type": "stream",
     "text": [
      "337\n",
      "533\n",
      "429.6\n",
      "65.46938215685252\n"
     ]
    }
   ],
   "source": [
    "arr_sum=np.add(arr1,arr3)+100\n",
    "print(np.min(arr_sum))\n",
    "print(np.max(arr_sum))\n",
    "print(np.mean(arr_sum))\n",
    "print(np.std(arr_sum))"
   ]
  },
  {
   "cell_type": "code",
   "execution_count": 19,
   "metadata": {},
   "outputs": [
    {
     "data": {
      "image/png": "[encoded data removed]",
      "text/plain": [
       "<Figure size 1080x504 with 1 Axes>"
      ]
     },
     "metadata": {
      "needs_background": "light"
     },
     "output_type": "display_data"
    }
   ],
   "source": [
    "# Data with stop criterion\n",
    "# stop if the cumulative score hasn't grown in 100 iterations\n",
    "\n",
    "## GRID_SEARCH\n",
    "# get best scores per itration for grid_search performance:\n",
    "# grid_df_stopped\n",
    "\n",
    "## RANDOM_SEARCH\n",
    "# get best scores per itration for each random_search performance:\n",
    "# random_df_stopped\n",
    "    \n",
    "#get mean and confidence interval value for random_search performance on iteration:    \n",
    "\n",
    "z = 1.96 # for 95% conf interval (coefficient)\n",
    "# z = 1.64 # for 90% conf interval\n",
    "\n",
    "n=random_df_stopped.shape[0]/random_df_stopped.iter_num.max() # now n=9, because 4 runs were made for random search\n",
    "random_std=random_df_stopped.groupby(by=\"iter_num\")['mean_test_score'].std() #std\n",
    "random_std=(random_std*z)/np.sqrt(n) #confidence interval value \n",
    "random_mean=random_df_stopped.groupby(by=\"iter_num\")['mean_test_score'].mean() #mean\n",
    "\n",
    "\n",
    "## GROUP_SEARCH\n",
    "#get best scores per itration for each group_search performance (same computations):\n",
    "\n",
    "n=group_df_stopped.shape[0]/group_df_stopped.iter_num.max() # now n=10\n",
    "group_std=group_df_stopped.groupby(by=\"iter_num\")['mean_test_score'].std()\n",
    "group_std=(group_std*z)/np.sqrt(n) \n",
    "group_std=group_std.fillna(0)\n",
    "group_mean=group_df_stopped.groupby(by=\"iter_num\")['mean_test_score'].mean()\n",
    "\n",
    "## DEFAULT performance\n",
    "default_perf=grid_df.loc[grid_df['experiment_name']=='default params', 'mean_test_score']\n",
    "\n",
    "\n",
    "## PLOT\n",
    "plt.figure(figsize=(15,7))\n",
    "plt.grid()\n",
    "\n",
    "#grid plot:\n",
    "x=list(range(0, grid_df_stopped.shape[0]))\n",
    "plt.plot(x, grid_df_stopped['mean_test_score'], label=\"grid_search\")\n",
    "\n",
    "#conf for random:\n",
    "x=list(range(0, random_mean.shape[0]))\n",
    "plt.plot(x, random_mean, color=\"y\", label=\"random_search mean values\")\n",
    "lower_random=random_mean - random_std\n",
    "upper_random=random_mean + random_std\n",
    "plt.plot(x, lower_random, alpha=0.7, color=\"y\")\n",
    "plt.plot(x, upper_random, alpha=0.7, color=\"y\")\n",
    "plt.fill_between(x, lower_random, upper_random, alpha=0.1, color=\"y\") \n",
    "\n",
    "#conf for group:\n",
    "x=list(range(0, group_mean.shape[0]))\n",
    "plt.plot(x, group_mean, color=\"green\", label=\"group_search mean values\")\n",
    "lower_group=group_mean - group_std\n",
    "upper_group=group_mean + group_std\n",
    "plt.plot(x, lower_group, alpha=0.5, color=\"green\")\n",
    "plt.plot(x, upper_group, alpha=0.5, color=\"green\")\n",
    "plt.fill_between(x, lower_group, upper_group, alpha=0.1, color=\"green\")\n",
    "\n",
    "#line for default values\n",
    "plt.axhline(default_perf.values, label=\"default_params\", color='r')\n",
    "\n",
    "plt.legend(title='tests:')\n",
    "plt.title(\"Learning curves: the best score per iteration\")\n",
    "plt.ylabel(\"Best score r2 per iteration\")\n",
    "plt.xlabel(\"iteration number\")\n",
    "plt.savefig(\"graphs/2_scores.jpg\")\n",
    "plt.show()"
   ]
  },
  {
   "cell_type": "code",
   "execution_count": 20,
   "metadata": {},
   "outputs": [
    {
     "ename": "NameError",
     "evalue": "name 'f' is not defined",
     "output_type": "error",
     "traceback": [
      "\u001b[0;31m---------------------------------------------------------------------------\u001b[0m",
      "\u001b[0;31mNameError\u001b[0m                                 Traceback (most recent call last)",
      "\u001b[0;32m<ipython-input-20-a9fcd54b25e7>\u001b[0m in \u001b[0;36m<module>\u001b[0;34m\u001b[0m\n\u001b[0;32m----> 1\u001b[0;31m \u001b[0mf\u001b[0m\u001b[0;34m\u001b[0m\u001b[0;34m\u001b[0m\u001b[0m\n\u001b[0m",
      "\u001b[0;31mNameError\u001b[0m: name 'f' is not defined"
     ]
    }
   ],
   "source": [
    "f"
   ]
  },
  {
   "cell_type": "code",
   "execution_count": null,
   "metadata": {},
   "outputs": [],
   "source": [
    "df.loc[df.experiment_name==\"grid search\", \"run_number\"]=1"
   ]
  },
  {
   "cell_type": "code",
   "execution_count": null,
   "metadata": {},
   "outputs": [],
   "source": [
    "df.loc[df.experiment_name == 'default params','mean_test_score']"
   ]
  },
  {
   "cell_type": "code",
   "execution_count": null,
   "metadata": {},
   "outputs": [],
   "source": [
    "best_scores=df.groupby(by=['experiment_name', 'run_number'])['mean_test_score'].max().reset_index()\n",
    "#print(\"best scores:\")\n",
    "#print(best_scores)\n",
    "\n",
    "best=pd.merge(df, best_scores, how='inner', on=['experiment_name','run_number','mean_test_score']).loc[:,['experiment_name','mean_test_score', 'params', 'iter_num','run_number']]\n",
    "#best step and params"
   ]
  },
  {
   "cell_type": "code",
   "execution_count": null,
   "metadata": {},
   "outputs": [],
   "source": [
    "print(\"MEAN:\")\n",
    "print(best_scores.groupby(by='experiment_name')['mean_test_score'].mean())\n",
    "print(\"STD:\")\n",
    "print(best_scores.groupby(by='experiment_name')['mean_test_score'].std())"
   ]
  },
  {
   "cell_type": "code",
   "execution_count": null,
   "metadata": {},
   "outputs": [],
   "source": [
    "best_iter=best.groupby(by=['experiment_name', 'run_number'])['iter_num'].min().reset_index()"
   ]
  },
  {
   "cell_type": "code",
   "execution_count": null,
   "metadata": {},
   "outputs": [],
   "source": [
    "params=pd.merge(df, best_iter, how='inner', on=['experiment_name','iter_num','run_number'])"
   ]
  },
  {
   "cell_type": "code",
   "execution_count": null,
   "metadata": {},
   "outputs": [],
   "source": [
    "best_iter.loc[best_iter.experiment_name==\"random search for 2 group\", \"iter_num\"]-=(729/3)\n",
    "best_iter.loc[best_iter.experiment_name==\"random search for 3 group\", \"iter_num\"]-=(2*729/3)"
   ]
  },
  {
   "cell_type": "code",
   "execution_count": null,
   "metadata": {},
   "outputs": [],
   "source": [
    "#cols=params.experiment_name.values\n",
    "vals=params.loc[:, [\"experiment_name\", \"params\"]]\n",
    "for i in vals.experiment_name.unique():\n",
    "    print(i)\n",
    "    tmp=(vals.loc[vals.experiment_name==i, 'params'])\n",
    "    tmp=tmp.apply(lambda x: eval(x)).apply(pd.Series)\n",
    "    print(\"MEAN:\")\n",
    "    print(tmp.mean())\n",
    "    print(\"STD:\")\n",
    "    print(tmp.std())\n",
    "    \n",
    "    print(\"====\")"
   ]
  },
  {
   "cell_type": "code",
   "execution_count": null,
   "metadata": {},
   "outputs": [],
   "source": [
    "# on which min step algo get best result \n",
    "import math\n",
    "best_iter=best_iter.loc[best_iter['experiment_name']!='default params'].reset_index(drop=True)\n",
    "x = np.arange(best_iter.shape[0])  # the label locations\n",
    "width = 0.35  # the width of the bars\n",
    "\n",
    "fig, ax = plt.subplots(figsize=(15,10))\n",
    "\n",
    "labels_prefix=best_iter.loc[:,'experiment_name']\n",
    "labels_postfix=best_iter.loc[:,'run_number']\n",
    "labels=np.sum((labels_prefix.values+\" \", labels_postfix.values.astype(int).astype(str)), axis=0)+\" run\"\n",
    "\n",
    "rects=[]\n",
    "for row in range(best_iter.shape[0]):\n",
    "    rects.append(ax.bar(row, best_iter.loc[row,'iter_num'], width, label=labels[row]))\n",
    "    autolabel(rects[row])\n",
    "\n",
    "ax.set_ylabel('Step num')\n",
    "ax.set_title('Step number at which the optimum was reached')\n",
    "ax.set_xticks(x)\n",
    "ax.set_xticklabels(labels, rotation=90)\n",
    "\n",
    "fig.tight_layout()\n",
    "\n",
    "plt.savefig(\"graphs/3_best_step.jpg\")\n",
    "plt.show()"
   ]
  },
  {
   "cell_type": "code",
   "execution_count": null,
   "metadata": {},
   "outputs": [],
   "source": [
    "print(\"MEAN:\")\n",
    "print(best_iter.groupby(by=\"experiment_name\")[\"iter_num\"].mean())\n",
    "print(\"STD: \")\n",
    "print(best_iter.groupby(by=\"experiment_name\")[\"iter_num\"].std())"
   ]
  },
  {
   "cell_type": "code",
   "execution_count": null,
   "metadata": {},
   "outputs": [],
   "source": [
    "#random search in groups has null values\n",
    "df.loc[df.experiment_name=='random search for 1 group',\n",
    "                  'param_alpha']=0\n",
    "df.loc[df.experiment_name=='random search for 1 group',\n",
    "                  'param_colsample_bytree']=1\n",
    "df.loc[df.experiment_name=='random search for 1 group',\n",
    "                  'param_lambda']=1\n",
    "df.loc[df.experiment_name=='random search for 1 group',\n",
    "                  'param_subsample']=1"
   ]
  },
  {
   "cell_type": "code",
   "execution_count": null,
   "metadata": {},
   "outputs": [],
   "source": [
    "df.loc[df.experiment_name=='random search for 2 group',\n",
    "                  'param_max_depth']=5\n",
    "df.loc[df.experiment_name=='random search for 2 group',\n",
    "                  'param_colsample_bytree']=1\n",
    "df.loc[df.experiment_name=='random search for 2 group',\n",
    "                  'param_min_child_weight']=9\n",
    "df.loc[df.experiment_name=='random search for 2 group',\n",
    "                  'param_subsample']=1"
   ]
  },
  {
   "cell_type": "code",
   "execution_count": null,
   "metadata": {},
   "outputs": [],
   "source": [
    "df.loc[df.experiment_name=='random search for 3 group',\n",
    "                  'param_max_depth']=5\n",
    "df.loc[df.experiment_name=='random search for 3 group',\n",
    "                  'param_min_child_weight']=9\n"
   ]
  },
  {
   "cell_type": "code",
   "execution_count": null,
   "metadata": {},
   "outputs": [],
   "source": [
    "max_iter=df.loc[(df.experiment_name=='random search for 2 group'),\"iter_num\"].max()\n",
    "lost_params=df.loc[(df.experiment_name=='random search for 2 group')\n",
    "                  &(df.iter_num==max_iter), ['param_lambda', 'param_alpha','run_number']]"
   ]
  },
  {
   "cell_type": "code",
   "execution_count": null,
   "metadata": {},
   "outputs": [],
   "source": [
    "cols_names=df.columns.tolist()\n",
    "cols_names.remove(\"param_alpha\")\n",
    "cols_names.remove(\"param_lambda\")"
   ]
  },
  {
   "cell_type": "code",
   "execution_count": null,
   "metadata": {},
   "outputs": [],
   "source": [
    "df.loc[df.experiment_name=='random search for 3 group'\n",
    "      ]=df.loc[df.experiment_name=='random search for 3 group',\n",
    "                  cols_names].merge(lost_params, on = \"run_number\", how=\"inner\")"
   ]
  },
  {
   "cell_type": "code",
   "execution_count": null,
   "metadata": {},
   "outputs": [],
   "source": [
    "tmp=df.loc[df.experiment_name.astype(str).str.contains('group'),['param_alpha', 'param_colsample_bytree', 'param_lambda',\n",
    "       'param_max_depth', 'param_min_child_weight', 'param_subsample']]\n",
    "print(\"Null values amount:\")\n",
    "print(tmp.isnull().sum())"
   ]
  },
  {
   "cell_type": "code",
   "execution_count": null,
   "metadata": {},
   "outputs": [],
   "source": [
    "tmp=df.loc[df.experiment_name.astype(str).str.contains('default'),['param_alpha', 'param_colsample_bytree', 'param_lambda',\n",
    "       'param_max_depth', 'param_min_child_weight', 'param_subsample']]\n",
    "print(\"Null values amount:\")\n",
    "print(tmp.isnull().sum())"
   ]
  },
  {
   "cell_type": "code",
   "execution_count": null,
   "metadata": {},
   "outputs": [],
   "source": [
    "df.loc[df.experiment_name.astype(str).str.contains('default'),[\n",
    "    'param_alpha', 'param_colsample_bytree', 'param_lambda',\n",
    "       'param_min_child_weight', 'param_subsample']]=[0,1,1,1,1]"
   ]
  },
  {
   "cell_type": "code",
   "execution_count": null,
   "metadata": {
    "scrolled": false
   },
   "outputs": [],
   "source": [
    "#params influence\n",
    "params_list=['param_alpha', 'param_colsample_bytree',\n",
    "       #'param_gamma', \n",
    "             'param_lambda', 'param_max_depth',\n",
    "       'param_min_child_weight', 'param_subsample']\n",
    "\n",
    "df.loc[df.experiment_name.astype(str).str.contains(\"group\"), \"experiment_name\"] = \"group search\"\n",
    "\n",
    "\n",
    "exp_list = (\"random search\", \"group search\", \"grid search\", \"default params\")\n",
    "color_list = (\"y\",\"green\", \"b\", \"r\")\n",
    "for param in params_list:    \n",
    "    plt.figure(figsize=(15,7))  \n",
    "    \n",
    "    for exp_name, color in zip(exp_list, color_list):            \n",
    "        data = df.loc[df.experiment_name == exp_name]\n",
    "        x=data.loc[:,param]\n",
    "        y=data.loc[:,'mean_test_score']\n",
    "        plt.scatter(x, y, color = color, alpha=1, label = exp_name)\n",
    "        \n",
    "    plt.title(param+\" influence on scores\")\n",
    "    plt.xlabel(param)\n",
    "    plt.ylabel(\"score r2\")\n",
    "    plt.legend()\n",
    "    plt.savefig(\"graphs/4 {} influence.jpg\".format(param))\n",
    "    plt.show()"
   ]
  },
  {
   "cell_type": "code",
   "execution_count": null,
   "metadata": {},
   "outputs": [],
   "source": []
  }
 ],
 "metadata": {
  "kernelspec": {
   "display_name": "Python 3",
   "language": "python",
   "name": "python3"
  },
  "language_info": {
   "codemirror_mode": {
    "name": "ipython",
    "version": 3
   },
   "file_extension": ".py",
   "mimetype": "text/x-python",
   "name": "python",
   "nbconvert_exporter": "python",
   "pygments_lexer": "ipython3",
   "version": "3.7.3"
  }
 },
 "nbformat": 4,
 "nbformat_minor": 2
}
