{
 "cells": [
  {
   "cell_type": "code",
   "execution_count": 1,
   "metadata": {},
   "outputs": [],
   "source": [
    "import pandas as pd\n",
    "import numpy as np\n",
    "from matplotlib import pyplot as plt\n",
    "import os"
   ]
  },
  {
   "cell_type": "code",
   "execution_count": 2,
   "metadata": {},
   "outputs": [],
   "source": [
    "files=os.listdir(\"./data/results\")"
   ]
  },
  {
   "cell_type": "code",
   "execution_count": 3,
   "metadata": {},
   "outputs": [],
   "source": [
    "grid = [s for s in files if \"grid\" in s] # files with results for grid search\n",
    "random = [s for s in files if \"random\" in s] \n",
    "group = [s for s in files if \"group\" in s] "
   ]
  },
  {
   "cell_type": "code",
   "execution_count": 4,
   "metadata": {},
   "outputs": [
    {
     "name": "stdout",
     "output_type": "stream",
     "text": [
      "reading: xgboost_perfomance_grid_search_GPU.csv\n",
      "grid_df shape:  (730, 21)\n",
      "===============================\n",
      "reading: xgboost_perfomance_group_search_GPU_3.csv\n",
      "group_df shape:  (729, 22)\n",
      "reading: xgboost_perfomance_group_search_GPU_1.csv\n",
      "group_df shape:  (1458, 22)\n",
      "reading: xgboost_perfomance_group_search_GPU_5.csv\n",
      "group_df shape:  (2187, 22)\n",
      "reading: xgboost_perfomance_group_search_GPU_4.csv\n",
      "group_df shape:  (2916, 22)\n",
      "reading: xgboost_perfomance_group_search_GPU_2.csv\n",
      "group_df shape:  (3645, 22)\n",
      "===============================\n",
      "reading: xgboost_perfomance_random_search_GPU_2.csv\n",
      "random_df shape:  (729, 22)\n",
      "reading: xgboost_perfomance_random_search_GPU_4.csv\n",
      "random_df shape:  (1458, 22)\n",
      "reading: xgboost_perfomance_random_search_GPU_3.csv\n",
      "random_df shape:  (2187, 22)\n",
      "reading: xgboost_perfomance_random_search_GPU_1.csv\n",
      "random_df shape:  (2916, 22)\n"
     ]
    }
   ],
   "source": [
    "grid_df=pd.DataFrame([])\n",
    "for file in grid:\n",
    "    print(\"reading:\", file)\n",
    "    df = pd.read_csv(\"./data/results/\"+file)\n",
    "    \n",
    "    df['iter_num']=1\n",
    "    df.loc[df['experiment_name']!='default params', \n",
    "           'iter_num'] = range(1, df.loc[df['experiment_name']!='default params'].shape[0]+1)\n",
    "    \n",
    "    grid_df = pd.concat([grid_df, df], sort=False)\n",
    "    print(\"grid_df shape: \", grid_df.shape) #729 grid run and 1 default\n",
    "\n",
    "    \n",
    "print(\"===============================\")\n",
    "group_df=pd.DataFrame([])\n",
    "for file in group:\n",
    "    print(\"reading:\", file)\n",
    "    df = pd.read_csv(\"./data/results/\"+file)\n",
    "    \n",
    "    df['iter_num'] = range(1, df.shape[0]+1)\n",
    "    \n",
    "    group_df = pd.concat([group_df, df], sort=False)\n",
    "    print(\"group_df shape: \", group_df.shape)\n",
    "    \n",
    "print(\"===============================\")\n",
    "random_df=pd.DataFrame([])\n",
    "for file in random:\n",
    "    print(\"reading:\", file)\n",
    "    df = pd.read_csv(\"./data/results/\"+file)\n",
    "    \n",
    "    df['iter_num'] = range(1, df.shape[0]+1)\n",
    "    \n",
    "    random_df = pd.concat([random_df, df], sort=False)\n",
    "    print(\"random_df shape: \", random_df.shape)\n",
    "   "
   ]
  },
  {
   "cell_type": "raw",
   "metadata": {},
   "source": [
    "group_df=pd.DataFrame([])\n",
    "for file in group:\n",
    "    print(\"reading:\", file)\n",
    "    tmp = pd.read_csv(\"./data/results/\"+file)\n",
    "    print(tmp.run_number.unique())"
   ]
  },
  {
   "cell_type": "raw",
   "metadata": {},
   "source": [
    "random_df=pd.DataFrame([])\n",
    "for file in random:\n",
    "    print(\"reading:\", file)\n",
    "    tmp = pd.read_csv(\"./data/results/\"+file)\n",
    "    print(tmp.run_number.unique())"
   ]
  },
  {
   "cell_type": "raw",
   "metadata": {},
   "source": [
    "file=\"xgboost_perfomance_random_search_GPU_4.csv\"\n",
    "tmp = pd.read_csv(\"./data/results/\"+file)\n",
    "tmp['run_number']=4\n",
    "tmp.to_csv(\"./data/results/\"+file, index=False)"
   ]
  },
  {
   "cell_type": "code",
   "execution_count": 5,
   "metadata": {},
   "outputs": [],
   "source": [
    "df = pd.concat([grid_df, group_df, random_df], sort=False)"
   ]
  },
  {
   "cell_type": "code",
   "execution_count": 6,
   "metadata": {},
   "outputs": [],
   "source": [
    "####### CHANGE IT ################\n",
    "##############################################\n",
    "\n",
    "working_time={\n",
    "    'grid search':3927.89,\n",
    "    'random params':4134.34,\n",
    "    'random params in group 1':1171.77,\n",
    "    'random params in group 2':855.39,\n",
    "    'random params in group 3':740.36,\n",
    "    'default params':61.26\n",
    "}"
   ]
  },
  {
   "cell_type": "code",
   "execution_count": 7,
   "metadata": {},
   "outputs": [
    {
     "data": {
      "image/png": "[encoded data removed]",
      "text/plain": [
       "<Figure size 1080x720 with 1 Axes>"
      ]
     },
     "metadata": {
      "needs_background": "light"
     },
     "output_type": "display_data"
    }
   ],
   "source": [
    "def autolabel(rects, add=0):\n",
    "    \"\"\"Attach a text label above each bar in *rects*, displaying its height.\"\"\"\n",
    "    for rect in rects:\n",
    "        height = rect.get_height()+add\n",
    "        ax.annotate('{}'.format(round(height-add,2)),\n",
    "                    xy=(rect.get_x() + rect.get_width() / 2, height),\n",
    "                    xytext=(0, 3),  # 3 points vertical offset\n",
    "                    textcoords=\"offset points\",\n",
    "                    ha='center', va='bottom')\n",
    "        \n",
    "x = [0,0.5,1]  # the label locations\n",
    "width = 0.2  # the width of the bars\n",
    "\n",
    "fig, ax = plt.subplots(figsize=(15,10))\n",
    "\n",
    "labels=['grid search','random params', 'random params in groups']\n",
    "rects1 = ax.bar(0, working_time['grid search'], width, label='grid search')\n",
    "rects2 = ax.bar(0.5, working_time['random params'], width, label='random params')\n",
    "\n",
    "rects3_1 = ax.bar(1, working_time['random params in group 1'], width, label='random params in group 1')\n",
    "rects3_2 = ax.bar(1, working_time['random params in group 2'], width,\n",
    "             bottom=working_time['random params in group 1'], label='random params in group 2')\n",
    "rects3_3 = ax.bar(1, working_time['random params in group 3'], width,\n",
    "             bottom=working_time['random params in group 2'] + working_time['random params in group 1'], \n",
    "                  label='random params in group 3')\n",
    "\n",
    "\n",
    "\n",
    "ax.set_ylabel('Time (sec)')\n",
    "ax.set_title('Search Methods Runtime')\n",
    "ax.set_xticks(x)\n",
    "ax.set_xticklabels(labels)\n",
    "ax.legend(loc='best')\n",
    "\n",
    "autolabel(rects1)\n",
    "autolabel(rects2)\n",
    "autolabel(rects3_1)\n",
    "autolabel(rects3_2, working_time['random params in group 1'])\n",
    "autolabel(rects3_3, working_time['random params in group 1']+working_time['random params in group 2'])\n",
    "fig.tight_layout()\n",
    "\n",
    "plt.savefig(\"graphs/1_time_exec.jpg\")\n",
    "plt.show()"
   ]
  },
  {
   "cell_type": "code",
   "execution_count": 8,
   "metadata": {},
   "outputs": [],
   "source": [
    "top5=df.loc[:,['experiment_name','params','mean_test_score']].sort_values(by='mean_test_score',ascending=False)[:5]"
   ]
  },
  {
   "cell_type": "code",
   "execution_count": 9,
   "metadata": {},
   "outputs": [
    {
     "data": {
      "text/html": [
       "<div>\n",
       "<style scoped>\n",
       "    .dataframe tbody tr th:only-of-type {\n",
       "        vertical-align: middle;\n",
       "    }\n",
       "\n",
       "    .dataframe tbody tr th {\n",
       "        vertical-align: top;\n",
       "    }\n",
       "\n",
       "    .dataframe thead th {\n",
       "        text-align: right;\n",
       "    }\n",
       "</style>\n",
       "<table border=\"1\" class=\"dataframe\">\n",
       "  <thead>\n",
       "    <tr style=\"text-align: right;\">\n",
       "      <th></th>\n",
       "      <th>experiment_name</th>\n",
       "      <th>params</th>\n",
       "      <th>mean_test_score</th>\n",
       "    </tr>\n",
       "  </thead>\n",
       "  <tbody>\n",
       "    <tr>\n",
       "      <th>611</th>\n",
       "      <td>random search for 3 group</td>\n",
       "      <td>{'colsample_bytree': 0.6377829940262529, 'subs...</td>\n",
       "      <td>0.668893</td>\n",
       "    </tr>\n",
       "    <tr>\n",
       "      <th>494</th>\n",
       "      <td>random search for 3 group</td>\n",
       "      <td>{'colsample_bytree': 0.8561761903119284, 'subs...</td>\n",
       "      <td>0.668684</td>\n",
       "    </tr>\n",
       "    <tr>\n",
       "      <th>632</th>\n",
       "      <td>random search for 3 group</td>\n",
       "      <td>{'colsample_bytree': 0.7357267698298404, 'subs...</td>\n",
       "      <td>0.667381</td>\n",
       "    </tr>\n",
       "    <tr>\n",
       "      <th>213</th>\n",
       "      <td>random search</td>\n",
       "      <td>{'alpha': 0.49756682216606285, 'colsample_bytr...</td>\n",
       "      <td>0.667099</td>\n",
       "    </tr>\n",
       "    <tr>\n",
       "      <th>584</th>\n",
       "      <td>random search for 3 group</td>\n",
       "      <td>{'colsample_bytree': 0.518416632682847, 'subsa...</td>\n",
       "      <td>0.667024</td>\n",
       "    </tr>\n",
       "  </tbody>\n",
       "</table>\n",
       "</div>"
      ],
      "text/plain": [
       "               experiment_name  \\\n",
       "611  random search for 3 group   \n",
       "494  random search for 3 group   \n",
       "632  random search for 3 group   \n",
       "213              random search   \n",
       "584  random search for 3 group   \n",
       "\n",
       "                                                params  mean_test_score  \n",
       "611  {'colsample_bytree': 0.6377829940262529, 'subs...         0.668893  \n",
       "494  {'colsample_bytree': 0.8561761903119284, 'subs...         0.668684  \n",
       "632  {'colsample_bytree': 0.7357267698298404, 'subs...         0.667381  \n",
       "213  {'alpha': 0.49756682216606285, 'colsample_bytr...         0.667099  \n",
       "584  {'colsample_bytree': 0.518416632682847, 'subsa...         0.667024  "
      ]
     },
     "execution_count": 9,
     "metadata": {},
     "output_type": "execute_result"
    }
   ],
   "source": [
    "top5"
   ]
  },
  {
   "cell_type": "code",
   "execution_count": 10,
   "metadata": {},
   "outputs": [
    {
     "name": "stdout",
     "output_type": "stream",
     "text": [
      "{'colsample_bytree': 0.6377829940262529, 'subsample': 0.8194911486224106}\n",
      "{'colsample_bytree': 0.8561761903119284, 'subsample': 0.8305738637937383}\n",
      "{'colsample_bytree': 0.7357267698298404, 'subsample': 0.8616109807531065}\n",
      "{'alpha': 0.49756682216606285, 'colsample_bytree': 0.7402656409962164, 'lambda': 0.8617115096485154, 'max_depth': 4, 'min_child_weight': 7, 'subsample': 0.866164910824629}\n",
      "{'colsample_bytree': 0.518416632682847, 'subsample': 0.8109188749423228}\n"
     ]
    }
   ],
   "source": [
    "for elem in top5.loc[:,'params']:\n",
    "    print(elem)"
   ]
  },
  {
   "cell_type": "code",
   "execution_count": 12,
   "metadata": {},
   "outputs": [
    {
     "data": {
      "image/png": "[encoded data removed]",
      "text/plain": [
       "<Figure size 1080x504 with 1 Axes>"
      ]
     },
     "metadata": {
      "needs_background": "light"
     },
     "output_type": "display_data"
    }
   ],
   "source": [
    "#comparison\n",
    "# confidence intervals theory get from: \n",
    "# https://medium.com/ml-ai-study-group/confidence-interval-confidence-level-be58d250dd40\n",
    "\n",
    "\n",
    "## GRID_SEARCH\n",
    "#get best scores per itration for grid_search performance:\n",
    "grid_perf=grid_df.loc[grid_df['experiment_name']!='default params', 'mean_test_score'].cummax()\n",
    "\n",
    "\n",
    "## RANDOM_SEARCH\n",
    "#get best scores per itration for each random_search performance:\n",
    "random_mean=pd.DataFrame([])\n",
    "for i in random_df.run_number.unique():\n",
    "    tmp=pd.DataFrame(random_df.loc[random_df.run_number==i, \"mean_test_score\"].cummax())\n",
    "    tmp[\"iter_num\"]=random_df.loc[random_df.run_number==i, \"iter_num\"]\n",
    "    random_mean=pd.concat([random_mean, tmp], sort=False)\n",
    "    \n",
    "#get mean and confidence interval value for random_search performance on iteration:    \n",
    "\n",
    "z = 1.96 # for 95% conf interval (coefficient)\n",
    "# z = 1.64 # for 90% conf interval\n",
    "\n",
    "n=random_mean.shape[0]/random_mean.iter_num.max() # now n=4, because 4 runs were made for random search\n",
    "random_std=random_mean.groupby(by=\"iter_num\")['mean_test_score'].std() #std\n",
    "random_std=(random_std*z)/np.sqrt(n) #confidence interval value \n",
    "random_mean=random_mean.groupby(by=\"iter_num\")['mean_test_score'].mean() #mean\n",
    "\n",
    "\n",
    "## GROUP_SEARCH\n",
    "#get best scores per itration for each group_search performance (same computations):\n",
    "group_mean=pd.DataFrame([])\n",
    "for i in group_df.run_number.unique():\n",
    "    tmp=pd.DataFrame(group_df.loc[group_df.run_number==i, \"mean_test_score\"].cummax())\n",
    "    tmp[\"iter_num\"]=group_df.loc[group_df.run_number==i, \"iter_num\"]\n",
    "    group_mean=pd.concat([group_mean, tmp], sort=False)\n",
    "\n",
    "n=group_mean.shape[0]/group_mean.iter_num.max() # now n=5\n",
    "group_std=group_mean.groupby(by=\"iter_num\")['mean_test_score'].std()\n",
    "group_std=(group_std*z)/np.sqrt(n) \n",
    "group_mean=group_mean.groupby(by=\"iter_num\")['mean_test_score'].mean()\n",
    "\n",
    "## DEFAULT performance\n",
    "default_perf=grid_df.loc[grid_df['experiment_name']=='default params', 'mean_test_score']\n",
    "\n",
    "\n",
    "## PLOT\n",
    "plt.figure(figsize=(15,7))\n",
    "plt.grid()\n",
    "x=list(range(0, grid_perf.shape[0]))\n",
    "\n",
    "#grid plot:\n",
    "plt.plot(x, grid_perf, label=\"grid_search\")\n",
    "\n",
    "#conf for random:\n",
    "plt.plot(x, random_mean, color=\"y\", label=\"random_search mean values\")\n",
    "lower=random_mean - random_std\n",
    "upper=random_mean + random_std\n",
    "plt.plot(x, lower, alpha=0.7, color=\"y\")\n",
    "plt.plot(x, upper, alpha=0.7, color=\"y\")\n",
    "plt.fill_between(x, lower, upper, alpha=0.1, color=\"y\") \n",
    "\n",
    "#conf for group:\n",
    "plt.plot(x, group_mean, color=\"green\", label=\"group_search mean values\")\n",
    "lower=group_mean - group_std\n",
    "upper=group_mean + group_std\n",
    "plt.plot(x, lower, alpha=0.5, color=\"green\")\n",
    "plt.plot(x, upper, alpha=0.5, color=\"green\")\n",
    "plt.fill_between(x, lower, upper, alpha=0.1, color=\"green\")\n",
    "\n",
    "#line for default values\n",
    "plt.axhline(default_perf.values, label=\"default_params\", color='r')\n",
    "\n",
    "plt.legend(title='tests:')\n",
    "plt.title(\"Learning curves: the best score per iteration\")\n",
    "plt.ylabel(\"Best score r2 per iteration\")\n",
    "plt.xlabel(\"iteration number\")\n",
    "plt.savefig(\"graphs/2_scores.jpg\")\n",
    "plt.show()"
   ]
  },
  {
   "cell_type": "code",
   "execution_count": null,
   "metadata": {},
   "outputs": [],
   "source": [
    "df.experiment_name.unique()"
   ]
  },
  {
   "cell_type": "code",
   "execution_count": null,
   "metadata": {},
   "outputs": [],
   "source": [
    "best_scores=df.groupby(by='experiment_name')['mean_test_score'].max().reset_index()\n",
    "print(\"best scores:\")\n",
    "print(best_scores)\n",
    "\n",
    "best=pd.merge(df, best_scores, how='inner', on=['experiment_name','mean_test_score']).loc[:,['experiment_name','mean_test_score', 'params', 'iter_num']]\n",
    "#best step and params"
   ]
  },
  {
   "cell_type": "code",
   "execution_count": null,
   "metadata": {},
   "outputs": [],
   "source": [
    "best_iter=best.groupby('experiment_name')['iter_num'].min().reset_index()\n",
    "params=pd.merge(df, best_iter, how='inner', on=['experiment_name','iter_num'])\n",
    "#print(params)\n",
    "print(params.params.values)"
   ]
  },
  {
   "cell_type": "code",
   "execution_count": null,
   "metadata": {},
   "outputs": [],
   "source": [
    "# on which min step algo get best result \n",
    "import math\n",
    "params=params.loc[params['experiment_name']!='default params'].reset_index(drop=True)\n",
    "x = np.arange(params.shape[0])  # the label locations\n",
    "width = 0.35  # the width of the bars\n",
    "\n",
    "fig, ax = plt.subplots(figsize=(10,7))\n",
    "\n",
    "labels=params.loc[:,'experiment_name']\n",
    "rects=[]\n",
    "for row in range(params.shape[0]):\n",
    "    rects.append(ax.bar(row, params.loc[row,'iter_num'], width, label=params.loc[row,'experiment_name']))\n",
    "    autolabel(rects[row])\n",
    "\n",
    "ax.set_ylabel('Step num')\n",
    "ax.set_title('Step number at which the optimum was reached')\n",
    "ax.set_xticks(x)\n",
    "ax.set_xticklabels(labels, rotation=45)\n",
    "ax.legend()\n",
    "\n",
    "fig.tight_layout()\n",
    "\n",
    "plt.savefig(\"graphs/3_best_step.jpg\")\n",
    "plt.show()"
   ]
  },
  {
   "cell_type": "code",
   "execution_count": null,
   "metadata": {
    "scrolled": false
   },
   "outputs": [],
   "source": [
    "#params influence\n",
    "\n",
    "\n",
    "params_list=['param_alpha', 'param_colsample_bytree',\n",
    "       'param_gamma', 'param_lambda', 'param_max_depth',\n",
    "       'param_min_child_weight', 'param_subsample']\n",
    "\n",
    "for param in params_list:\n",
    "    df.loc[:,param].unique().sort\n",
    "\n",
    "    plt.figure(figsize=(15,7))\n",
    "    x=df.loc[:,param]\n",
    "    y=df.loc[:,'mean_test_score']\n",
    "    plt.scatter(x, y)\n",
    "\n",
    "    plt.title(param+\" influence on scores\")\n",
    "    plt.xlabel(param)\n",
    "    plt.ylabel(\"score r2\")\n",
    "    plt.savefig(\"graphs/4 {} influence.jpg\".format(param))\n",
    "    plt.show()"
   ]
  },
  {
   "cell_type": "code",
   "execution_count": null,
   "metadata": {},
   "outputs": [],
   "source": []
  }
 ],
 "metadata": {
  "kernelspec": {
   "display_name": "Python 3",
   "language": "python",
   "name": "python3"
  },
  "language_info": {
   "codemirror_mode": {
    "name": "ipython",
    "version": 3
   },
   "file_extension": ".py",
   "mimetype": "text/x-python",
   "name": "python",
   "nbconvert_exporter": "python",
   "pygments_lexer": "ipython3",
   "version": "3.7.3"
  }
 },
 "nbformat": 4,
 "nbformat_minor": 2
}
