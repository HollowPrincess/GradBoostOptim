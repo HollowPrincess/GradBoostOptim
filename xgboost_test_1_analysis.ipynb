{
 "cells": [
  {
   "cell_type": "code",
   "execution_count": 1,
   "metadata": {},
   "outputs": [],
   "source": [
    "import pandas as pd\n",
    "import numpy as np\n",
    "from matplotlib import pyplot as plt\n",
    "import os"
   ]
  },
  {
   "cell_type": "code",
   "execution_count": 2,
   "metadata": {},
   "outputs": [],
   "source": [
    "files=os.listdir(\"./data/results\")"
   ]
  },
  {
   "cell_type": "code",
   "execution_count": 3,
   "metadata": {},
   "outputs": [],
   "source": [
    "grid = [s for s in files if \"grid\" in s] # files with results for grid search\n",
    "random = [s for s in files if \"random\" in s] \n",
    "group = [s for s in files if \"group\" in s] "
   ]
  },
  {
   "cell_type": "code",
   "execution_count": 4,
   "metadata": {},
   "outputs": [],
   "source": [
    "grid_df=pd.DataFrame([])\n",
    "for file in grid:\n",
    "    df = pd.read_csv(\"./data/results/\"+file)\n",
    "    \n",
    "    df['iter_num']=1\n",
    "    df.loc[df['experiment_name']!='default params', \n",
    "           'iter_num'] = range(1, df.loc[df['experiment_name']!='default params'].shape[0]+1)\n",
    "    \n",
    "    grid_df = pd.concat([grid_df, df], sort=False)\n",
    "\n",
    "\n",
    "group_df=pd.DataFrame([])\n",
    "for file in group:\n",
    "    df = pd.read_csv(\"./data/results/\"+file)\n",
    "    \n",
    "    df['iter_num'] = range(1, df.shape[0]+1)\n",
    "    \n",
    "    group_df = pd.concat([group_df, df], sort=False)\n",
    "    \n",
    "random_df=pd.DataFrame([])\n",
    "for file in random:\n",
    "    df = pd.read_csv(\"./data/results/\"+file)\n",
    "    \n",
    "    df['iter_num'] = range(1, df.shape[0]+1)\n",
    "    \n",
    "    random_df = pd.concat([random_df, df], sort=False)"
   ]
  },
  {
   "cell_type": "code",
   "execution_count": 5,
   "metadata": {},
   "outputs": [],
   "source": [
    "df = pd.concat([grid_df, group_df, random_df], sort=False)"
   ]
  },
  {
   "cell_type": "code",
   "execution_count": 6,
   "metadata": {},
   "outputs": [],
   "source": [
    "grid_time = 1940.05\n",
    "\n",
    "random_time = [2073.10, 1991.44, 1941.67,\n",
    "               1830.35, 1770.31, 1805.24,\n",
    "               1883.62, 1863.26, 1877.53\n",
    "              ]\n",
    "\n",
    "\n",
    "groups_time = [\n",
    "    [810.24, 765.14, 742.56, 744.10, 749.14, \n",
    "     676.46, 702.35, 749.01, 715.88, 677.28],\n",
    "    [515.27, 518.78, 519.46, 520.49, 520.53, \n",
    "     491.02, 495.51, 497.50, 498.53, 489.28],\n",
    "    [521.28, 521.50, 522.18, 525.42, 526.47, \n",
    "     495.62, 499.08, 499.29, 500.98, 491.89]\n",
    "]#first, second and third groups\n",
    "\n",
    "default_time = 2.02"
   ]
  },
  {
   "cell_type": "code",
   "execution_count": 7,
   "metadata": {},
   "outputs": [
    {
     "data": {
      "image/png": "[encoded data removed]",
      "text/plain": [
       "<Figure size 1080x720 with 1 Axes>"
      ]
     },
     "metadata": {
      "needs_background": "light"
     },
     "output_type": "display_data"
    }
   ],
   "source": [
    "def autolabel(rects, add=0):\n",
    "    \"\"\"Attach a text label above each bar in *rects*, displaying its height.\"\"\"\n",
    "    for rect in rects:\n",
    "        height = rect.get_height()+add\n",
    "        ax.annotate('{}'.format(round(height-add,2)),\n",
    "                    xy=(rect.get_x() + rect.get_width() / 2, height),\n",
    "                    xytext=(0, 3),  \n",
    "                    textcoords=\"offset points\",\n",
    "                    ha='center', va='bottom')\n",
    "        \n",
    "x = [0,0.5,1]  \n",
    "width = 0.2  \n",
    "\n",
    "fig, ax = plt.subplots(figsize=(15,10))\n",
    "\n",
    "labels=['grid search','random search', 'random search in groups']\n",
    "\n",
    "rects1 = ax.bar(0, grid_time/60, width, label='grid search')\n",
    "rects2 = ax.bar(0.5, np.mean(random_time)/60, width, label='random search')\n",
    "\n",
    "\n",
    "groups_time_mean = np.mean(groups_time, axis =1)/60\n",
    "rects3_1 = ax.bar(1, groups_time_mean[0], width, label='random search 1 group')\n",
    "rects3_2 = ax.bar(1, groups_time_mean[1], width,\n",
    "             bottom=groups_time_mean[0], label='random search 2 group')\n",
    "rects3_3 = ax.bar(1, groups_time_mean[2], width,\n",
    "             bottom=groups_time_mean[0] + groups_time_mean[1], \n",
    "                  label='random search 3 group')\n",
    "\n",
    "\n",
    "ax.set_ylabel('Time (min)')\n",
    "ax.set_title('Search Methods Average Runtime in minutes')\n",
    "ax.set_xticks(x)\n",
    "ax.set_xticklabels(labels)\n",
    "ax.legend(loc='best')\n",
    "\n",
    "autolabel(rects1)\n",
    "autolabel(rects2)\n",
    "autolabel(rects3_1)\n",
    "autolabel(rects3_2, groups_time_mean[0])\n",
    "autolabel(rects3_3, groups_time_mean[0]+groups_time_mean[1])\n",
    "fig.tight_layout()\n",
    "\n",
    "plt.savefig(\"graphs/1_time_exec.jpg\")\n",
    "plt.show()"
   ]
  },
  {
   "cell_type": "code",
   "execution_count": 8,
   "metadata": {},
   "outputs": [],
   "source": [
    "top5=df.loc[:,['experiment_name','params','mean_test_score']].sort_values(by='mean_test_score',ascending=False)[:5]"
   ]
  },
  {
   "cell_type": "code",
   "execution_count": 9,
   "metadata": {},
   "outputs": [
    {
     "data": {
      "text/html": [
       "<div>\n",
       "<style scoped>\n",
       "    .dataframe tbody tr th:only-of-type {\n",
       "        vertical-align: middle;\n",
       "    }\n",
       "\n",
       "    .dataframe tbody tr th {\n",
       "        vertical-align: top;\n",
       "    }\n",
       "\n",
       "    .dataframe thead th {\n",
       "        text-align: right;\n",
       "    }\n",
       "</style>\n",
       "<table border=\"1\" class=\"dataframe\">\n",
       "  <thead>\n",
       "    <tr style=\"text-align: right;\">\n",
       "      <th></th>\n",
       "      <th>experiment_name</th>\n",
       "      <th>params</th>\n",
       "      <th>mean_test_score</th>\n",
       "    </tr>\n",
       "  </thead>\n",
       "  <tbody>\n",
       "    <tr>\n",
       "      <th>718</th>\n",
       "      <td>random search for 3 group</td>\n",
       "      <td>{'colsample_bytree': 0.7726166520388937, 'subs...</td>\n",
       "      <td>0.669707</td>\n",
       "    </tr>\n",
       "    <tr>\n",
       "      <th>611</th>\n",
       "      <td>random search for 3 group</td>\n",
       "      <td>{'colsample_bytree': 0.6377829940262529, 'subs...</td>\n",
       "      <td>0.668893</td>\n",
       "    </tr>\n",
       "    <tr>\n",
       "      <th>494</th>\n",
       "      <td>random search for 3 group</td>\n",
       "      <td>{'colsample_bytree': 0.8561761903119284, 'subs...</td>\n",
       "      <td>0.668684</td>\n",
       "    </tr>\n",
       "    <tr>\n",
       "      <th>489</th>\n",
       "      <td>random search for 3 group</td>\n",
       "      <td>{'colsample_bytree': 0.5791399443148867, 'subs...</td>\n",
       "      <td>0.667752</td>\n",
       "    </tr>\n",
       "    <tr>\n",
       "      <th>234</th>\n",
       "      <td>random search</td>\n",
       "      <td>{'alpha': 0.8252577014252843, 'colsample_bytre...</td>\n",
       "      <td>0.667675</td>\n",
       "    </tr>\n",
       "  </tbody>\n",
       "</table>\n",
       "</div>"
      ],
      "text/plain": [
       "               experiment_name  \\\n",
       "718  random search for 3 group   \n",
       "611  random search for 3 group   \n",
       "494  random search for 3 group   \n",
       "489  random search for 3 group   \n",
       "234              random search   \n",
       "\n",
       "                                                params  mean_test_score  \n",
       "718  {'colsample_bytree': 0.7726166520388937, 'subs...         0.669707  \n",
       "611  {'colsample_bytree': 0.6377829940262529, 'subs...         0.668893  \n",
       "494  {'colsample_bytree': 0.8561761903119284, 'subs...         0.668684  \n",
       "489  {'colsample_bytree': 0.5791399443148867, 'subs...         0.667752  \n",
       "234  {'alpha': 0.8252577014252843, 'colsample_bytre...         0.667675  "
      ]
     },
     "execution_count": 9,
     "metadata": {},
     "output_type": "execute_result"
    }
   ],
   "source": [
    "top5 #random search is in top5 than sometimes it may be better than serch in groups"
   ]
  },
  {
   "cell_type": "code",
   "execution_count": 10,
   "metadata": {},
   "outputs": [
    {
     "data": {
      "image/png": "[encoded data removed]",
      "text/plain": [
       "<Figure size 1080x504 with 1 Axes>"
      ]
     },
     "metadata": {
      "needs_background": "light"
     },
     "output_type": "display_data"
    }
   ],
   "source": [
    "#comparison\n",
    "# confidence intervals theory get from: \n",
    "# https://medium.com/ml-ai-study-group/confidence-interval-confidence-level-be58d250dd40\n",
    "\n",
    "\n",
    "## GRID_SEARCH\n",
    "#get best scores per itration for grid_search performance:\n",
    "grid_perf=grid_df.loc[grid_df['experiment_name']!='default params', 'mean_test_score'].cummax()\n",
    "\n",
    "\n",
    "## RANDOM_SEARCH\n",
    "#get best scores per itration for each random_search performance:\n",
    "random_mean=pd.DataFrame([])\n",
    "for i in random_df.run_number.unique():\n",
    "    tmp=pd.DataFrame(random_df.loc[random_df.run_number==i, \"mean_test_score\"].copy().cummax())\n",
    "    tmp[\"iter_num\"]=random_df.loc[random_df.run_number==i, \"iter_num\"]\n",
    "    random_mean=pd.concat([random_mean, tmp], sort=False)\n",
    "    \n",
    "#get mean and confidence interval value for random_search performance on iteration:    \n",
    "\n",
    "z = 1.96 # for 95% conf interval (coefficient)\n",
    "# z = 1.64 # for 90% conf interval\n",
    "\n",
    "n=random_mean.shape[0]/random_mean.iter_num.max() # now n=9, because 4 runs were made for random search\n",
    "random_std=random_mean.groupby(by=\"iter_num\")['mean_test_score'].std() #std\n",
    "random_std=(random_std*z)/np.sqrt(n) #confidence interval value \n",
    "random_mean=random_mean.groupby(by=\"iter_num\")['mean_test_score'].mean() #mean\n",
    "\n",
    "\n",
    "## GROUP_SEARCH\n",
    "#get best scores per itration for each group_search performance (same computations):\n",
    "group_mean=pd.DataFrame([])\n",
    "for i in group_df.run_number.unique():\n",
    "    tmp=pd.DataFrame(group_df.loc[group_df.run_number==i, \"mean_test_score\"].cummax())\n",
    "    tmp[\"iter_num\"]=group_df.loc[group_df.run_number==i, \"iter_num\"]\n",
    "    group_mean=pd.concat([group_mean, tmp], sort=False)\n",
    "\n",
    "n=group_mean.shape[0]/group_mean.iter_num.max() # now n=10\n",
    "group_std=group_mean.groupby(by=\"iter_num\")['mean_test_score'].std()\n",
    "group_std=(group_std*z)/np.sqrt(n) \n",
    "group_mean=group_mean.groupby(by=\"iter_num\")['mean_test_score'].mean()\n",
    "\n",
    "## DEFAULT performance\n",
    "default_perf=grid_df.loc[grid_df['experiment_name']=='default params', 'mean_test_score']\n",
    "\n",
    "\n",
    "## PLOT\n",
    "plt.figure(figsize=(15,7))\n",
    "plt.grid()\n",
    "x=list(range(0, grid_perf.shape[0]))\n",
    "\n",
    "#grid plot:\n",
    "plt.plot(x, grid_perf, label=\"grid_search\")\n",
    "\n",
    "#conf for random:\n",
    "plt.plot(x, random_mean, color=\"y\", label=\"random_search mean values\")\n",
    "lower_random=random_mean - random_std\n",
    "upper_random=random_mean + random_std\n",
    "plt.plot(x, lower_random, alpha=0.7, color=\"y\")\n",
    "plt.plot(x, upper_random, alpha=0.7, color=\"y\")\n",
    "plt.fill_between(x, lower_random, upper_random, alpha=0.1, color=\"y\") \n",
    "\n",
    "#conf for group:\n",
    "plt.plot(x, group_mean, color=\"green\", label=\"group_search mean values\")\n",
    "lower_group=group_mean - group_std\n",
    "upper_group=group_mean + group_std\n",
    "plt.plot(x, lower_group, alpha=0.5, color=\"green\")\n",
    "plt.plot(x, upper_group, alpha=0.5, color=\"green\")\n",
    "plt.fill_between(x, lower_group, upper_group, alpha=0.1, color=\"green\")\n",
    "\n",
    "#line for default values\n",
    "plt.axhline(default_perf.values, label=\"default_params\", color='r')\n",
    "\n",
    "plt.legend(title='tests:')\n",
    "plt.title(\"Learning curves: the best score per iteration\")\n",
    "plt.ylabel(\"Best score r2 per iteration\")\n",
    "plt.xlabel(\"iteration number\")\n",
    "plt.savefig(\"graphs/2_scores.jpg\")\n",
    "plt.show()"
   ]
  },
  {
   "cell_type": "code",
   "execution_count": 11,
   "metadata": {},
   "outputs": [
    {
     "name": "stdout",
     "output_type": "stream",
     "text": [
      "difference:  False\n",
      "difference is less than zero than intervals don't intersect in last point\n"
     ]
    }
   ],
   "source": [
    "#print(\"green last lower values: \", lower_group.iloc[-11:-1])\n",
    "#print(\"yellow last upper values: \", upper_random.iloc[0:10])\n",
    "print(\"difference: \", ((lower_group.iloc[-1:].values-upper_random.iloc[-1:].values) > 0).all())\n",
    "print(\"difference is less than zero than intervals don't intersect in last point\")"
   ]
  },
  {
   "cell_type": "code",
   "execution_count": 12,
   "metadata": {},
   "outputs": [
    {
     "data": {
      "image/png": "[encoded data removed]",
      "text/plain": [
       "<Figure size 1080x504 with 1 Axes>"
      ]
     },
     "metadata": {
      "needs_background": "light"
     },
     "output_type": "display_data"
    }
   ],
   "source": [
    "#comparison\n",
    "# confidence intervals theory get from: \n",
    "# https://medium.com/ml-ai-study-group/confidence-interval-confidence-level-be58d250dd40\n",
    "\n",
    "## PLOT\n",
    "plt.figure(figsize=(15,7))\n",
    "plt.grid()\n",
    "x=list(range(0, grid_perf.shape[0]))\n",
    "\n",
    "#grid plot:\n",
    "plt.plot(x, grid_perf, label=\"grid_search\")\n",
    "\n",
    "#conf for random:\n",
    "plt.plot(x, random_mean, color=\"y\", label=\"random_search mean values\")\n",
    "plt.plot(x, lower_random, alpha=0.7, color=\"y\")\n",
    "plt.plot(x, upper_random, alpha=0.7, color=\"y\")\n",
    "plt.fill_between(x, lower_random, upper_random, alpha=0.1, color=\"y\") \n",
    "\n",
    "#conf for group:\n",
    "plt.plot(x, group_mean, color=\"green\", label=\"group_search mean values\")\n",
    "plt.plot(x, lower_group, alpha=0.5, color=\"green\")\n",
    "plt.plot(x, upper_group, alpha=0.5, color=\"green\")\n",
    "plt.fill_between(x, lower_group, upper_group, alpha=0.1, color=\"green\")\n",
    "\n",
    "#line for default values\n",
    "plt.axhline(default_perf.values, label=\"default_params\", color='r')\n",
    "\n",
    "plt.legend(title='tests:')\n",
    "plt.title(\"Learning curves: the best score per iteration\")\n",
    "plt.ylabel(\"Best score r2 per iteration\")\n",
    "plt.xlabel(\"iteration number\")\n",
    "plt.xlim(600,730)\n",
    "plt.ylim(0.66, 0.67)\n",
    "plt.savefig(\"graphs/2_scores_scaled.jpg\")\n",
    "plt.show()"
   ]
  },
  {
   "cell_type": "code",
   "execution_count": 13,
   "metadata": {},
   "outputs": [],
   "source": [
    "df.loc[df.experiment_name==\"grid search\", \"run_number\"]=1"
   ]
  },
  {
   "cell_type": "code",
   "execution_count": 14,
   "metadata": {},
   "outputs": [
    {
     "data": {
      "text/plain": [
       "729    0.640144\n",
       "Name: mean_test_score, dtype: float64"
      ]
     },
     "execution_count": 14,
     "metadata": {},
     "output_type": "execute_result"
    }
   ],
   "source": [
    "df.loc[df.experiment_name == 'default params','mean_test_score']"
   ]
  },
  {
   "cell_type": "code",
   "execution_count": 15,
   "metadata": {},
   "outputs": [],
   "source": [
    "best_scores=df.groupby(by=['experiment_name', 'run_number'])['mean_test_score'].max().reset_index()\n",
    "#print(\"best scores:\")\n",
    "#print(best_scores)\n",
    "\n",
    "best=pd.merge(df, best_scores, how='inner', on=['experiment_name','run_number','mean_test_score']).loc[:,['experiment_name','mean_test_score', 'params', 'iter_num','run_number']]\n",
    "#best step and params"
   ]
  },
  {
   "cell_type": "code",
   "execution_count": 16,
   "metadata": {},
   "outputs": [
    {
     "name": "stdout",
     "output_type": "stream",
     "text": [
      "MEAN:\n",
      "experiment_name\n",
      "grid search                  0.659186\n",
      "random search                0.665191\n",
      "random search for 1 group    0.657690\n",
      "random search for 2 group    0.657690\n",
      "random search for 3 group    0.667078\n",
      "Name: mean_test_score, dtype: float64\n",
      "STD:\n",
      "experiment_name\n",
      "grid search                       NaN\n",
      "random search                0.001492\n",
      "random search for 1 group    0.000000\n",
      "random search for 2 group    0.000000\n",
      "random search for 3 group    0.001657\n",
      "Name: mean_test_score, dtype: float64\n"
     ]
    }
   ],
   "source": [
    "print(\"MEAN:\")\n",
    "print(best_scores.groupby(by='experiment_name')['mean_test_score'].mean())\n",
    "print(\"STD:\")\n",
    "print(best_scores.groupby(by='experiment_name')['mean_test_score'].std())"
   ]
  },
  {
   "cell_type": "code",
   "execution_count": 17,
   "metadata": {},
   "outputs": [],
   "source": [
    "best_iter=best.groupby(by=['experiment_name', 'run_number'])['iter_num'].min().reset_index()"
   ]
  },
  {
   "cell_type": "code",
   "execution_count": 18,
   "metadata": {},
   "outputs": [],
   "source": [
    "params=pd.merge(df, best_iter, how='inner', on=['experiment_name','iter_num','run_number'])"
   ]
  },
  {
   "cell_type": "code",
   "execution_count": 19,
   "metadata": {},
   "outputs": [],
   "source": [
    "best_iter.loc[best_iter.experiment_name==\"random search for 2 group\", \"iter_num\"]-=(729/3)\n",
    "best_iter.loc[best_iter.experiment_name==\"random search for 3 group\", \"iter_num\"]-=(2*729/3)"
   ]
  },
  {
   "cell_type": "code",
   "execution_count": 20,
   "metadata": {},
   "outputs": [
    {
     "name": "stdout",
     "output_type": "stream",
     "text": [
      "grid search\n",
      "MEAN:\n",
      "alpha               0.250\n",
      "colsample_bytree    0.625\n",
      "lambda              0.250\n",
      "max_depth           5.000\n",
      "min_child_weight    5.000\n",
      "subsample           0.750\n",
      "dtype: float64\n",
      "STD:\n",
      "alpha              NaN\n",
      "colsample_bytree   NaN\n",
      "lambda             NaN\n",
      "max_depth          NaN\n",
      "min_child_weight   NaN\n",
      "subsample          NaN\n",
      "dtype: float64\n",
      "====\n",
      "random search for 1 group\n",
      "MEAN:\n",
      "max_depth           5.0\n",
      "min_child_weight    9.0\n",
      "dtype: float64\n",
      "STD:\n",
      "max_depth           0.0\n",
      "min_child_weight    0.0\n",
      "dtype: float64\n",
      "====\n",
      "random search for 2 group\n",
      "MEAN:\n",
      "alpha     0.460037\n",
      "lambda    0.471978\n",
      "dtype: float64\n",
      "STD:\n",
      "alpha     0.371950\n",
      "lambda    0.264047\n",
      "dtype: float64\n",
      "====\n",
      "random search for 3 group\n",
      "MEAN:\n",
      "colsample_bytree    0.691896\n",
      "subsample           0.825079\n",
      "dtype: float64\n",
      "STD:\n",
      "colsample_bytree    0.110971\n",
      "subsample           0.037044\n",
      "dtype: float64\n",
      "====\n",
      "random search\n",
      "MEAN:\n",
      "alpha               0.436345\n",
      "colsample_bytree    0.659581\n",
      "lambda              0.489646\n",
      "max_depth           4.900000\n",
      "min_child_weight    7.300000\n",
      "subsample           0.788593\n",
      "dtype: float64\n",
      "STD:\n",
      "alpha               0.299964\n",
      "colsample_bytree    0.144133\n",
      "lambda              0.261094\n",
      "max_depth           0.737865\n",
      "min_child_weight    2.451757\n",
      "subsample           0.102007\n",
      "dtype: float64\n",
      "====\n"
     ]
    }
   ],
   "source": [
    "#cols=params.experiment_name.values\n",
    "vals=params.loc[:, [\"experiment_name\", \"params\"]]\n",
    "for i in vals.experiment_name.unique():\n",
    "    print(i)\n",
    "    tmp=(vals.loc[vals.experiment_name==i, 'params'])\n",
    "    tmp=tmp.apply(lambda x: eval(x)).apply(pd.Series)\n",
    "    print(\"MEAN:\")\n",
    "    print(tmp.mean())\n",
    "    print(\"STD:\")\n",
    "    print(tmp.std())\n",
    "    \n",
    "    print(\"====\")"
   ]
  },
  {
   "cell_type": "code",
   "execution_count": null,
   "metadata": {},
   "outputs": [],
   "source": [
    "# on which min step algo get best result \n",
    "import math\n",
    "best_iter=best_iter.loc[best_iter['experiment_name']!='default params'].reset_index(drop=True)\n",
    "x = np.arange(best_iter.shape[0])  # the label locations\n",
    "width = 0.35  # the width of the bars\n",
    "\n",
    "fig, ax = plt.subplots(figsize=(15,10))\n",
    "\n",
    "labels_prefix=best_iter.loc[:,'experiment_name']\n",
    "labels_postfix=best_iter.loc[:,'run_number']\n",
    "labels=np.sum((labels_prefix.values+\" \", labels_postfix.values.astype(int).astype(str)), axis=0)+\" run\"\n",
    "\n",
    "rects=[]\n",
    "for row in range(best_iter.shape[0]):\n",
    "    rects.append(ax.bar(row, best_iter.loc[row,'iter_num'], width, label=labels[row]))\n",
    "    autolabel(rects[row])\n",
    "\n",
    "ax.set_ylabel('Step num')\n",
    "ax.set_title('Step number at which the optimum was reached')\n",
    "ax.set_xticks(x)\n",
    "ax.set_xticklabels(labels, rotation=90)\n",
    "\n",
    "fig.tight_layout()\n",
    "\n",
    "plt.savefig(\"graphs/3_best_step.jpg\")\n",
    "plt.show()"
   ]
  },
  {
   "cell_type": "code",
   "execution_count": null,
   "metadata": {},
   "outputs": [],
   "source": [
    "print(\"MEAN:\")\n",
    "print(best_iter.groupby(by=\"experiment_name\")[\"iter_num\"].mean())\n",
    "print(\"STD: \")\n",
    "print(best_iter.groupby(by=\"experiment_name\")[\"iter_num\"].std())"
   ]
  },
  {
   "cell_type": "code",
   "execution_count": null,
   "metadata": {},
   "outputs": [],
   "source": [
    "#random search in groups has null values\n",
    "df.loc[df.experiment_name=='random search for 1 group',\n",
    "                  'param_alpha']=0\n",
    "df.loc[df.experiment_name=='random search for 1 group',\n",
    "                  'param_colsample_bytree']=1\n",
    "df.loc[df.experiment_name=='random search for 1 group',\n",
    "                  'param_lambda']=1\n",
    "df.loc[df.experiment_name=='random search for 1 group',\n",
    "                  'param_subsample']=1"
   ]
  },
  {
   "cell_type": "code",
   "execution_count": null,
   "metadata": {},
   "outputs": [],
   "source": [
    "df.loc[df.experiment_name=='random search for 2 group',\n",
    "                  'param_max_depth']=5\n",
    "df.loc[df.experiment_name=='random search for 2 group',\n",
    "                  'param_colsample_bytree']=1\n",
    "df.loc[df.experiment_name=='random search for 2 group',\n",
    "                  'param_min_child_weight']=9\n",
    "df.loc[df.experiment_name=='random search for 2 group',\n",
    "                  'param_subsample']=1"
   ]
  },
  {
   "cell_type": "code",
   "execution_count": null,
   "metadata": {},
   "outputs": [],
   "source": [
    "df.loc[df.experiment_name=='random search for 3 group',\n",
    "                  'param_max_depth']=5\n",
    "df.loc[df.experiment_name=='random search for 3 group',\n",
    "                  'param_min_child_weight']=9\n"
   ]
  },
  {
   "cell_type": "code",
   "execution_count": null,
   "metadata": {},
   "outputs": [],
   "source": [
    "max_iter=df.loc[(df.experiment_name=='random search for 2 group'),\"iter_num\"].max()\n",
    "lost_params=df.loc[(df.experiment_name=='random search for 2 group')\n",
    "                  &(df.iter_num==max_iter), ['param_lambda', 'param_alpha','run_number']]"
   ]
  },
  {
   "cell_type": "code",
   "execution_count": null,
   "metadata": {},
   "outputs": [],
   "source": [
    "cols_names=df.columns.tolist()\n",
    "cols_names.remove(\"param_alpha\")\n",
    "cols_names.remove(\"param_lambda\")"
   ]
  },
  {
   "cell_type": "code",
   "execution_count": null,
   "metadata": {},
   "outputs": [],
   "source": [
    "df.loc[df.experiment_name=='random search for 3 group'\n",
    "      ]=df.loc[df.experiment_name=='random search for 3 group',\n",
    "                  cols_names].merge(lost_params, on = \"run_number\", how=\"inner\")"
   ]
  },
  {
   "cell_type": "code",
   "execution_count": null,
   "metadata": {},
   "outputs": [],
   "source": [
    "tmp=df.loc[df.experiment_name.astype(str).str.contains('group'),['param_alpha', 'param_colsample_bytree', 'param_lambda',\n",
    "       'param_max_depth', 'param_min_child_weight', 'param_subsample']]\n",
    "print(\"Null values amount:\")\n",
    "print(tmp.isnull().sum())"
   ]
  },
  {
   "cell_type": "code",
   "execution_count": null,
   "metadata": {},
   "outputs": [],
   "source": [
    "tmp=df.loc[df.experiment_name.astype(str).str.contains('default'),['param_alpha', 'param_colsample_bytree', 'param_lambda',\n",
    "       'param_max_depth', 'param_min_child_weight', 'param_subsample']]\n",
    "print(\"Null values amount:\")\n",
    "print(tmp.isnull().sum())"
   ]
  },
  {
   "cell_type": "code",
   "execution_count": null,
   "metadata": {},
   "outputs": [],
   "source": [
    "df.loc[df.experiment_name.astype(str).str.contains('default'),[\n",
    "    'param_alpha', 'param_colsample_bytree', 'param_lambda',\n",
    "       'param_min_child_weight', 'param_subsample']]=[0,1,1,1,1]"
   ]
  },
  {
   "cell_type": "code",
   "execution_count": null,
   "metadata": {
    "scrolled": false
   },
   "outputs": [],
   "source": [
    "#params influence\n",
    "params_list=['param_alpha', 'param_colsample_bytree',\n",
    "       #'param_gamma', \n",
    "             'param_lambda', 'param_max_depth',\n",
    "       'param_min_child_weight', 'param_subsample']\n",
    "\n",
    "df.loc[df.experiment_name.astype(str).str.contains(\"group\"), \"experiment_name\"] = \"group search\"\n",
    "\n",
    "\n",
    "exp_list = (\"random search\", \"group search\", \"grid search\", \"default params\")\n",
    "color_list = (\"y\",\"green\", \"b\", \"r\")\n",
    "for param in params_list:    \n",
    "    plt.figure(figsize=(15,7))  \n",
    "    \n",
    "    for exp_name, color in zip(exp_list, color_list):            \n",
    "        data = df.loc[df.experiment_name == exp_name]\n",
    "        x=data.loc[:,param]\n",
    "        y=data.loc[:,'mean_test_score']\n",
    "        plt.scatter(x, y, color = color, label = exp_name)\n",
    "        \n",
    "    plt.title(param+\" influence on scores\")\n",
    "    plt.xlabel(param)\n",
    "    plt.ylabel(\"score r2\")\n",
    "    plt.legend()\n",
    "    plt.savefig(\"graphs/4 {} influence.jpg\".format(param))\n",
    "    plt.show()"
   ]
  },
  {
   "cell_type": "code",
   "execution_count": null,
   "metadata": {},
   "outputs": [],
   "source": []
  }
 ],
 "metadata": {
  "kernelspec": {
   "display_name": "Python 3",
   "language": "python",
   "name": "python3"
  },
  "language_info": {
   "codemirror_mode": {
    "name": "ipython",
    "version": 3
   },
   "file_extension": ".py",
   "mimetype": "text/x-python",
   "name": "python",
   "nbconvert_exporter": "python",
   "pygments_lexer": "ipython3",
   "version": "3.7.3"
  }
 },
 "nbformat": 4,
 "nbformat_minor": 2
}
