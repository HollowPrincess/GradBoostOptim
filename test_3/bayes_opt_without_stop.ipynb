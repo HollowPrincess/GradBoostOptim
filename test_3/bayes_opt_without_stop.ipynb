{
  "nbformat": 4,
  "nbformat_minor": 0,
  "metadata": {
    "colab": {
      "name": "bayes_opt_without_stop.ipynb",
      "provenance": [],
      "collapsed_sections": []
    },
    "kernelspec": {
      "name": "python3",
      "display_name": "Python 3"
    },
    "accelerator": "GPU"
  },
  "cells": [
    {
      "cell_type": "code",
      "metadata": {
        "id": "1hibMhqOFeSA",
        "colab_type": "code",
        "colab": {}
      },
      "source": [
        "#imports:\n",
        "import pandas as pd\n",
        "import numpy as np\n",
        "import math\n",
        "import os\n",
        "import json \n",
        "\n",
        "import xgboost"
      ],
      "execution_count": 0,
      "outputs": []
    },
    {
      "cell_type": "code",
      "metadata": {
        "id": "-caTivtYn_1Y",
        "colab_type": "code",
        "outputId": "7f5192a9-2dcf-4810-b633-3cc228ea0ef5",
        "colab": {
          "base_uri": "https://localhost:8080/",
          "height": 176
        }
      },
      "source": [
        "!pip install bayesian-optimization\n",
        "from bayes_opt import BayesianOptimization\n",
        "from sklearn.metrics import r2_score"
      ],
      "execution_count": 2,
      "outputs": [
        {
          "output_type": "stream",
          "text": [
            "Collecting bayesian-optimization\n",
            "  Downloading https://files.pythonhosted.org/packages/b5/26/9842333adbb8f17bcb3d699400a8b1ccde0af0b6de8d07224e183728acdf/bayesian_optimization-1.1.0-py3-none-any.whl\n",
            "Requirement already satisfied: scikit-learn>=0.18.0 in /usr/local/lib/python3.6/dist-packages (from bayesian-optimization) (0.22.2.post1)\n",
            "Requirement already satisfied: scipy>=0.14.0 in /usr/local/lib/python3.6/dist-packages (from bayesian-optimization) (1.4.1)\n",
            "Requirement already satisfied: numpy>=1.9.0 in /usr/local/lib/python3.6/dist-packages (from bayesian-optimization) (1.18.3)\n",
            "Requirement already satisfied: joblib>=0.11 in /usr/local/lib/python3.6/dist-packages (from scikit-learn>=0.18.0->bayesian-optimization) (0.14.1)\n",
            "Installing collected packages: bayesian-optimization\n",
            "Successfully installed bayesian-optimization-1.1.0\n"
          ],
          "name": "stdout"
        }
      ]
    },
    {
      "cell_type": "code",
      "metadata": {
        "id": "dKa26G9iFaEQ",
        "colab_type": "code",
        "outputId": "a374a4ca-8d86-4df3-84df-f585bc0a2289",
        "colab": {
          "base_uri": "https://localhost:8080/",
          "height": 124
        }
      },
      "source": [
        "from google.colab import drive \n",
        "drive.mount('/mntDrive') \n"
      ],
      "execution_count": 3,
      "outputs": [
        {
          "output_type": "stream",
          "text": [
            "Go to this URL in a browser: https://accounts.google.com/o/oauth2/auth?client_id=947318989803-6bn6qk8qdgf4n4g3pfee6491hc0brc4i.apps.googleusercontent.com&redirect_uri=urn%3aietf%3awg%3aoauth%3a2.0%3aoob&response_type=code&scope=email%20https%3a%2f%2fwww.googleapis.com%2fauth%2fdocs.test%20https%3a%2f%2fwww.googleapis.com%2fauth%2fdrive%20https%3a%2f%2fwww.googleapis.com%2fauth%2fdrive.photos.readonly%20https%3a%2f%2fwww.googleapis.com%2fauth%2fpeopleapi.readonly\n",
            "\n",
            "Enter your authorization code:\n",
            "··········\n",
            "Mounted at /mntDrive\n"
          ],
          "name": "stdout"
        }
      ]
    },
    {
      "cell_type": "code",
      "metadata": {
        "id": "ip9jvA2zjufk",
        "colab_type": "code",
        "colab": {}
      },
      "source": [
        "PREP_DATA_PATH = \"/mntDrive/My Drive/GrBoost/Практика/data/input/prepared_facebook_data.csv\"\n",
        "data=pd.read_csv(PREP_DATA_PATH)\n",
        "\n",
        "RES_SAVE_DIR = \"/mntDrive/My Drive/GrBoost/Практика/data/results/test 3\""
      ],
      "execution_count": 0,
      "outputs": []
    },
    {
      "cell_type": "code",
      "metadata": {
        "id": "cWPPbGCqWRVr",
        "colab_type": "code",
        "outputId": "92860577-109e-426c-afc2-5a09699038d8",
        "colab": {
          "base_uri": "https://localhost:8080/",
          "height": 34
        }
      },
      "source": [
        "%tensorflow_version 2.x\n",
        "import tensorflow as tf\n",
        "device_name = tf.test.gpu_device_name()\n",
        "if device_name != '/device:GPU:0':\n",
        "  raise SystemError('GPU device not found')\n",
        "print('Found GPU at: {}'.format(device_name))"
      ],
      "execution_count": 5,
      "outputs": [
        {
          "output_type": "stream",
          "text": [
            "Found GPU at: /device:GPU:0\n"
          ],
          "name": "stdout"
        }
      ]
    },
    {
      "cell_type": "code",
      "metadata": {
        "id": "ggL7wBOdPKAx",
        "colab_type": "code",
        "outputId": "4350e1f7-8f47-4bcb-e654-b04c5280f96c",
        "colab": {
          "base_uri": "https://localhost:8080/",
          "height": 54
        }
      },
      "source": [
        "# get some data\n",
        "X, y = data.iloc[:,:-1].values, data.iloc[:,-1].values"
      ],
      "execution_count": 6,
      "outputs": [
        {
          "output_type": "execute_result",
          "data": {
            "text/plain": [
              "'\\nparam_dist_group_1 = {\"max_depth\": sp_randint(3, 10),\\n                  \"min_child_weight\": sp_randint(1, 10)}\\n\\nparam_dist_group_2 = {\"alpha\": uniform(loc=0, scale=1),\\n                  \"lambda\": uniform(loc=0, scale=1)}\\n\\nparam_dist_group_3 = {\"subsample\":uniform(loc=0.5, scale=0.4),\\n                  \"colsample_bytree\":uniform(loc=0.5, scale=0.4)}\\n\\nall_params_sets = param_dist_group_1.copy()\\nall_params_sets.update(param_dist_group_2)\\nall_params_sets.update(param_dist_group_3)\\n'"
            ]
          },
          "metadata": {
            "tags": []
          },
          "execution_count": 6
        }
      ]
    },
    {
      "cell_type": "code",
      "metadata": {
        "id": "bZ7uD8J4OWGm",
        "colab_type": "code",
        "colab": {}
      },
      "source": [
        "dtrain = xgboost.DMatrix(X, label=y)"
      ],
      "execution_count": 0,
      "outputs": []
    },
    {
      "cell_type": "code",
      "metadata": {
        "id": "GRtuvtvqT7ev",
        "colab_type": "code",
        "colab": {}
      },
      "source": [
        "def my_r2_score(preds, dtrain):\n",
        "    labels = dtrain.get_label()\n",
        "    return 'r2', r2_score(labels, preds)"
      ],
      "execution_count": 0,
      "outputs": []
    },
    {
      "cell_type": "code",
      "metadata": {
        "id": "pf7-00EJJvxe",
        "colab_type": "code",
        "colab": {}
      },
      "source": [
        "def bayes_opt_tune_xgb(max_depth=3.0, min_child_weight=1.0, alpha=0.0, lam=1.0, subsample=1.0, colsample_bytree=1.0):\n",
        "  params = {\n",
        "      \"tree_method\": \"gpu_hist\", \n",
        "      \"gpu_id\": 0, \n",
        "      \"verbosity\": 0,\n",
        "      \"max_depth\": int(round(max_depth)),\n",
        "      \"min_child_weight\": int(round(min_child_weight)),\n",
        "      \"alpha\": alpha,\n",
        "      \"lambda\":lam,\n",
        "      \"subsample\":subsample,\n",
        "      \"colsample_bytree\":colsample_bytree\n",
        "      }\n",
        "    #Cross validating with the specified parameters in 5 folds\n",
        "  cv_result = xgboost.cv(params, dtrain, nfold=5, feval=my_r2_score,  maximize=True)\n",
        "  return cv_result['test-r2-mean'].iloc[-1]"
      ],
      "execution_count": 0,
      "outputs": []
    },
    {
      "cell_type": "code",
      "metadata": {
        "id": "1vyVrMyjrt5n",
        "colab_type": "code",
        "colab": {}
      },
      "source": [
        "from bayes_opt.logger import JSONLogger\n",
        "from bayes_opt.event import Events"
      ],
      "execution_count": 0,
      "outputs": []
    },
    {
      "cell_type": "code",
      "metadata": {
        "id": "BbHMeqIt8Nm4",
        "colab_type": "code",
        "colab": {}
      },
      "source": [
        "# Without groups"
      ],
      "execution_count": 0,
      "outputs": []
    },
    {
      "cell_type": "code",
      "metadata": {
        "id": "bNz6z1-MLDco",
        "colab_type": "code",
        "colab": {}
      },
      "source": [
        "restarts=int(round((729-10)/10))"
      ],
      "execution_count": 0,
      "outputs": []
    },
    {
      "cell_type": "code",
      "metadata": {
        "id": "TnqkIrtDOy3R",
        "colab_type": "code",
        "colab": {}
      },
      "source": [
        "for i in range(1,11):\n",
        "  xgb_bayes_opt = BayesianOptimization(bayes_opt_tune_xgb, {\n",
        "      \"max_depth\": (3, 10),\n",
        "      \"min_child_weight\": (1, 10),\n",
        "      \"alpha\": (0.0, 1.0),\n",
        "      \"lam\": (0.0, 1.0),\n",
        "      \"subsample\":(0.5, 0.9),\n",
        "      \"colsample_bytree\":(0.5, 0.9)\n",
        "      })\n",
        "  logger = JSONLogger(path=RES_SAVE_DIR+\"/BO_simple_{}.json\".format(i))\n",
        "  xgb_bayes_opt.subscribe(Events.OPTIMIZATION_STEP, logger)\n",
        "  xgb_bayes_opt.maximize(n_iter=719, restarts = restarts, init_points=10)"
      ],
      "execution_count": 0,
      "outputs": []
    },
    {
      "cell_type": "code",
      "metadata": {
        "id": "JPRx0NIz8San",
        "colab_type": "code",
        "colab": {}
      },
      "source": [
        "# with groups"
      ],
      "execution_count": 0,
      "outputs": []
    },
    {
      "cell_type": "code",
      "metadata": {
        "id": "mjIBs_-mOtTh",
        "colab_type": "code",
        "colab": {}
      },
      "source": [
        "restarts=int(round((243-10)/10))"
      ],
      "execution_count": 0,
      "outputs": []
    },
    {
      "cell_type": "code",
      "metadata": {
        "id": "-FdjDpOzGI6Y",
        "colab_type": "code",
        "colab": {}
      },
      "source": [
        "for i in range(1,3):\n",
        "  logger = JSONLogger(path=RES_SAVE_DIR+\"/BO_groups_without_stop_{}.json\".format(i))\n",
        "  # first group\n",
        "  params = {\n",
        "      \"max_depth\": (3, 10),\n",
        "      \"min_child_weight\": (1, 10)\n",
        "      }\n",
        "\n",
        "  xgb_bayes_opt = BayesianOptimization(bayes_opt_tune_xgb, pbounds = params)\n",
        "  xgb_bayes_opt.subscribe(Events.OPTIMIZATION_STEP, logger)\n",
        "  xgb_bayes_opt.maximize(n_iter=233, restarts=restarts, init_points=10)\n",
        "\n",
        "  best_params = xgb_bayes_opt.max['params']\n",
        "  # second group\n",
        "  params[\"max_depth\"] = (int(round(best_params[\"max_depth\"])), int(round(best_params[\"max_depth\"])))\n",
        "  params[\"min_child_weight\"] = (int(round(best_params[\"min_child_weight\"])), int(round(best_params[\"min_child_weight\"])))\n",
        "  params.update({\"alpha\": (0.0, 1.0), \"lam\": (0.0, 1.0)})\n",
        "\n",
        "  xgb_bayes_opt = BayesianOptimization(bayes_opt_tune_xgb, pbounds = params)\n",
        "  xgb_bayes_opt.subscribe(Events.OPTIMIZATION_STEP, logger)\n",
        "  xgb_bayes_opt.maximize(n_iter=233, restarts=restarts, init_points=10)\n",
        "  best_params = xgb_bayes_opt.max['params']\n",
        "  \n",
        "  # third group\n",
        "  params[\"alpha\"] = (best_params[\"alpha\"], best_params[\"alpha\"])\n",
        "  params[\"lam\"] = (best_params[\"lam\"], best_params[\"lam\"])\n",
        "  params.update({\"subsample\":(0.5, 0.9), \"colsample_bytree\":(0.5, 0.9)})\n",
        "\n",
        "  xgb_bayes_opt = BayesianOptimization(bayes_opt_tune_xgb, pbounds = params)\n",
        "  xgb_bayes_opt.subscribe(Events.OPTIMIZATION_STEP, logger)\n",
        "  xgb_bayes_opt.maximize(n_iter=233, restarts=restarts, init_points=10)\n"
      ],
      "execution_count": 0,
      "outputs": []
    },
    {
      "cell_type": "code",
      "metadata": {
        "id": "fVxCrrWTMHGM",
        "colab_type": "code",
        "colab": {}
      },
      "source": [
        ""
      ],
      "execution_count": 0,
      "outputs": []
    }
  ]
}