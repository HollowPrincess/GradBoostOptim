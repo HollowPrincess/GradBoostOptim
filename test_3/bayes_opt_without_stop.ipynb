{
 "cells": [
  {
   "cell_type": "code",
   "execution_count": 0,
   "metadata": {
    "colab": {},
    "colab_type": "code",
    "id": "1hibMhqOFeSA"
   },
   "outputs": [],
   "source": [
    "#imports:\n",
    "import pandas as pd\n",
    "import numpy as np\n",
    "import math\n",
    "import os\n",
    "import json \n",
    "\n",
    "import xgboost"
   ]
  },
  {
   "cell_type": "code",
   "execution_count": 2,
   "metadata": {
    "colab": {
     "base_uri": "https://localhost:8080/",
     "height": 176
    },
    "colab_type": "code",
    "executionInfo": {
     "elapsed": 7241,
     "status": "ok",
     "timestamp": 1587982488606,
     "user": {
      "displayName": "Света Сорокина",
      "photoUrl": "https://lh3.googleusercontent.com/a-/AOh14GhP5b7WHhwRcbIn8yB21S2mZi9tlMCD4aFLmFcr=s64",
      "userId": "00408643672459262753"
     },
     "user_tz": -180
    },
    "id": "-caTivtYn_1Y",
    "outputId": "d151a584-a0d1-4c99-dc05-fd56a92c9e14"
   },
   "outputs": [
    {
     "name": "stdout",
     "output_type": "stream",
     "text": [
      "Collecting bayesian-optimization\n",
      "  Downloading https://files.pythonhosted.org/packages/b5/26/9842333adbb8f17bcb3d699400a8b1ccde0af0b6de8d07224e183728acdf/bayesian_optimization-1.1.0-py3-none-any.whl\n",
      "Requirement already satisfied: numpy>=1.9.0 in /usr/local/lib/python3.6/dist-packages (from bayesian-optimization) (1.18.3)\n",
      "Requirement already satisfied: scikit-learn>=0.18.0 in /usr/local/lib/python3.6/dist-packages (from bayesian-optimization) (0.22.2.post1)\n",
      "Requirement already satisfied: scipy>=0.14.0 in /usr/local/lib/python3.6/dist-packages (from bayesian-optimization) (1.4.1)\n",
      "Requirement already satisfied: joblib>=0.11 in /usr/local/lib/python3.6/dist-packages (from scikit-learn>=0.18.0->bayesian-optimization) (0.14.1)\n",
      "Installing collected packages: bayesian-optimization\n",
      "Successfully installed bayesian-optimization-1.1.0\n"
     ]
    }
   ],
   "source": [
    "!pip install bayesian-optimization\n",
    "from bayes_opt import BayesianOptimization\n",
    "from sklearn.metrics import r2_score"
   ]
  },
  {
   "cell_type": "code",
   "execution_count": 3,
   "metadata": {
    "colab": {
     "base_uri": "https://localhost:8080/",
     "height": 124
    },
    "colab_type": "code",
    "executionInfo": {
     "elapsed": 33944,
     "status": "ok",
     "timestamp": 1587982515358,
     "user": {
      "displayName": "Света Сорокина",
      "photoUrl": "https://lh3.googleusercontent.com/a-/AOh14GhP5b7WHhwRcbIn8yB21S2mZi9tlMCD4aFLmFcr=s64",
      "userId": "00408643672459262753"
     },
     "user_tz": -180
    },
    "id": "dKa26G9iFaEQ",
    "outputId": "0b0d2f83-6f58-44b8-85a4-bd477af46a62"
   },
   "outputs": [
    {
     "name": "stdout",
     "output_type": "stream",
     "text": [
      "Go to this URL in a browser: https://accounts.google.com/o/oauth2/auth?client_id=947318989803-6bn6qk8qdgf4n4g3pfee6491hc0brc4i.apps.googleusercontent.com&redirect_uri=urn%3aietf%3awg%3aoauth%3a2.0%3aoob&response_type=code&scope=email%20https%3a%2f%2fwww.googleapis.com%2fauth%2fdocs.test%20https%3a%2f%2fwww.googleapis.com%2fauth%2fdrive%20https%3a%2f%2fwww.googleapis.com%2fauth%2fdrive.photos.readonly%20https%3a%2f%2fwww.googleapis.com%2fauth%2fpeopleapi.readonly\n",
      "\n",
      "Enter your authorization code:\n",
      "··········\n",
      "Mounted at /mntDrive\n"
     ]
    }
   ],
   "source": [
    "from google.colab import drive \n",
    "drive.mount('/mntDrive') \n"
   ]
  },
  {
   "cell_type": "code",
   "execution_count": 0,
   "metadata": {
    "colab": {},
    "colab_type": "code",
    "id": "ip9jvA2zjufk"
   },
   "outputs": [],
   "source": [
    "PREP_DATA_PATH = \"/mntDrive/My Drive/GrBoost/Практика/data/input/prepared_facebook_data.csv\"\n",
    "data=pd.read_csv(PREP_DATA_PATH)\n",
    "\n",
    "RES_SAVE_DIR = \"/mntDrive/My Drive/GrBoost/Практика/data/results/test 3\""
   ]
  },
  {
   "cell_type": "code",
   "execution_count": 5,
   "metadata": {
    "colab": {
     "base_uri": "https://localhost:8080/",
     "height": 106
    },
    "colab_type": "code",
    "executionInfo": {
     "elapsed": 7390,
     "status": "ok",
     "timestamp": 1587982527179,
     "user": {
      "displayName": "Света Сорокина",
      "photoUrl": "https://lh3.googleusercontent.com/a-/AOh14GhP5b7WHhwRcbIn8yB21S2mZi9tlMCD4aFLmFcr=s64",
      "userId": "00408643672459262753"
     },
     "user_tz": -180
    },
    "id": "99N1tmrDwVk7",
    "outputId": "f8ca6f87-0cc5-4de3-ed87-16a87f396358"
   },
   "outputs": [
    {
     "name": "stdout",
     "output_type": "stream",
     "text": [
      "Collecting ndjson\n",
      "  Downloading https://files.pythonhosted.org/packages/70/c9/04ba0056011ba96a58163ebfd666d8385300bd12da1afe661a5a147758d7/ndjson-0.3.1-py2.py3-none-any.whl\n",
      "Installing collected packages: ndjson\n",
      "Successfully installed ndjson-0.3.1\n"
     ]
    }
   ],
   "source": [
    "!pip install ndjson"
   ]
  },
  {
   "cell_type": "code",
   "execution_count": 0,
   "metadata": {
    "colab": {},
    "colab_type": "code",
    "id": "b4uTnkZLwRmn"
   },
   "outputs": [],
   "source": [
    "import ndjson"
   ]
  },
  {
   "cell_type": "code",
   "execution_count": 0,
   "metadata": {
    "colab": {
     "base_uri": "https://localhost:8080/",
     "height": 260
    },
    "colab_type": "code",
    "executionInfo": {
     "elapsed": 4574,
     "status": "ok",
     "timestamp": 1587892369832,
     "user": {
      "displayName": "Света Сорокина",
      "photoUrl": "https://lh3.googleusercontent.com/a-/AOh14GhP5b7WHhwRcbIn8yB21S2mZi9tlMCD4aFLmFcr=s64",
      "userId": "00408643672459262753"
     },
     "user_tz": -180
    },
    "id": "Y4MvummmvB98",
    "outputId": "2501a3a7-c378-4327-a84f-78cc28da8f6f"
   },
   "outputs": [
    {
     "name": "stdout",
     "output_type": "stream",
     "text": [
      "BO_simple_1.json\n",
      "Num of objects:  729\n",
      "BO_simple_2.json\n",
      "Num of objects:  729\n",
      "BO_simple_3.json\n",
      "Num of objects:  729\n",
      "BO_simple_4.json\n",
      "Num of objects:  723\n",
      "BO_simple_9.json\n",
      "Num of objects:  729\n",
      "BO_simple_10.json\n",
      "Num of objects:  729\n",
      "BO_simple_8.json\n",
      "Num of objects:  729\n"
     ]
    }
   ],
   "source": [
    "files = os.listdir(RES_SAVE_DIR)\n",
    "for file in files:\n",
    "  print(file)\n",
    "  with open (RES_SAVE_DIR+\"/\"+file, \"r\") as read_file:\n",
    "    ans = len(ndjson.load(read_file))\n",
    "  print(\"Num of objects: \", ans)"
   ]
  },
  {
   "cell_type": "code",
   "execution_count": 0,
   "metadata": {
    "colab": {},
    "colab_type": "code",
    "id": "dt2ydDAmH9uq"
   },
   "outputs": [],
   "source": [
    "with open (RES_SAVE_DIR+\"/BO_simple_4.json\", \"r\") as read_file:\n",
    "    part_1 = ndjson.load(read_file)\n",
    "with open (RES_SAVE_DIR+\"/BO_simple_4_1.json\", \"r\") as read_file:\n",
    "    part_2 = ndjson.load(read_file)\n",
    "part_1.extend(part_2)\n",
    "with open(RES_SAVE_DIR+\"/BO_simple_4_concat.json\", 'w') as f:\n",
    "    ndjson.dump(part_1, f)"
   ]
  },
  {
   "cell_type": "code",
   "execution_count": 0,
   "metadata": {
    "colab": {
     "base_uri": "https://localhost:8080/",
     "height": 34
    },
    "colab_type": "code",
    "executionInfo": {
     "elapsed": 9504,
     "status": "ok",
     "timestamp": 1587892651808,
     "user": {
      "displayName": "Света Сорокина",
      "photoUrl": "https://lh3.googleusercontent.com/a-/AOh14GhP5b7WHhwRcbIn8yB21S2mZi9tlMCD4aFLmFcr=s64",
      "userId": "00408643672459262753"
     },
     "user_tz": -180
    },
    "id": "cWPPbGCqWRVr",
    "outputId": "f0e75bab-1a6c-492d-9275-1fbeba1bd282"
   },
   "outputs": [
    {
     "name": "stdout",
     "output_type": "stream",
     "text": [
      "Found GPU at: /device:GPU:0\n"
     ]
    }
   ],
   "source": [
    "%tensorflow_version 2.x\n",
    "import tensorflow as tf\n",
    "device_name = tf.test.gpu_device_name()\n",
    "if device_name != '/device:GPU:0':\n",
    "  raise SystemError('GPU device not found')\n",
    "print('Found GPU at: {}'.format(device_name))"
   ]
  },
  {
   "cell_type": "code",
   "execution_count": 0,
   "metadata": {
    "colab": {},
    "colab_type": "code",
    "id": "ggL7wBOdPKAx"
   },
   "outputs": [],
   "source": [
    "# get some data\n",
    "X, y = data.iloc[:,:-1].values, data.iloc[:,-1].values"
   ]
  },
  {
   "cell_type": "code",
   "execution_count": 0,
   "metadata": {
    "colab": {},
    "colab_type": "code",
    "id": "bZ7uD8J4OWGm"
   },
   "outputs": [],
   "source": [
    "dtrain = xgboost.DMatrix(X, label=y)"
   ]
  },
  {
   "cell_type": "code",
   "execution_count": 0,
   "metadata": {
    "colab": {},
    "colab_type": "code",
    "id": "GRtuvtvqT7ev"
   },
   "outputs": [],
   "source": [
    "def my_r2_score(preds, dtrain):\n",
    "    labels = dtrain.get_label()\n",
    "    return 'r2', r2_score(labels, preds)"
   ]
  },
  {
   "cell_type": "code",
   "execution_count": 0,
   "metadata": {
    "colab": {},
    "colab_type": "code",
    "id": "pf7-00EJJvxe"
   },
   "outputs": [],
   "source": [
    "def bayes_opt_tune_xgb(max_depth=3.0, min_child_weight=1.0, alpha=0.0, lam=1.0, subsample=1.0, colsample_bytree=1.0):\n",
    "  params = {\n",
    "      \"tree_method\": \"gpu_hist\", \n",
    "      \"gpu_id\": 0, \n",
    "      \"verbosity\": 0,\n",
    "      \"max_depth\": int(round(max_depth)),\n",
    "      \"min_child_weight\": int(round(min_child_weight)),\n",
    "      \"alpha\": alpha,\n",
    "      \"lambda\":lam,\n",
    "      \"subsample\":subsample,\n",
    "      \"colsample_bytree\":colsample_bytree\n",
    "      }\n",
    "    #Cross validating with the specified parameters in 5 folds\n",
    "  cv_result = xgboost.cv(params, dtrain, nfold=5, feval=my_r2_score,  maximize=True)\n",
    "  return cv_result['test-r2-mean'].iloc[-1]"
   ]
  },
  {
   "cell_type": "code",
   "execution_count": 0,
   "metadata": {
    "colab": {},
    "colab_type": "code",
    "id": "1vyVrMyjrt5n"
   },
   "outputs": [],
   "source": [
    "from bayes_opt.logger import JSONLogger\n",
    "from bayes_opt.event import Events"
   ]
  },
  {
   "cell_type": "code",
   "execution_count": 0,
   "metadata": {
    "colab": {},
    "colab_type": "code",
    "id": "BbHMeqIt8Nm4"
   },
   "outputs": [],
   "source": [
    "# Without groups"
   ]
  },
  {
   "cell_type": "code",
   "execution_count": 0,
   "metadata": {
    "colab": {},
    "colab_type": "code",
    "id": "bNz6z1-MLDco"
   },
   "outputs": [],
   "source": [
    "restarts=int(round((729-10)/10))"
   ]
  },
  {
   "cell_type": "code",
   "execution_count": 0,
   "metadata": {
    "colab": {
     "base_uri": "https://localhost:8080/",
     "height": 34
    },
    "colab_type": "code",
    "executionInfo": {
     "elapsed": 38805,
     "status": "ok",
     "timestamp": 1587817178617,
     "user": {
      "displayName": "Света Сорокина",
      "photoUrl": "https://lh3.googleusercontent.com/a-/AOh14GhP5b7WHhwRcbIn8yB21S2mZi9tlMCD4aFLmFcr=s64",
      "userId": "00408643672459262753"
     },
     "user_tz": -180
    },
    "id": "sBRcYcpeP1cm",
    "outputId": "66e57eb3-4690-4105-f905-4f63ca4816d3"
   },
   "outputs": [
    {
     "data": {
      "text/plain": [
       "72"
      ]
     },
     "execution_count": 13,
     "metadata": {
      "tags": []
     },
     "output_type": "execute_result"
    }
   ],
   "source": [
    "restarts"
   ]
  },
  {
   "cell_type": "code",
   "execution_count": 0,
   "metadata": {
    "colab": {},
    "colab_type": "code",
    "id": "TnqkIrtDOy3R"
   },
   "outputs": [],
   "source": [
    "for i in range(8,9):\n",
    "  xgb_bayes_opt = BayesianOptimization(bayes_opt_tune_xgb, {\n",
    "      \"max_depth\": (3, 10),\n",
    "      \"min_child_weight\": (1, 10),\n",
    "      \"alpha\": (0.0, 1.0),\n",
    "      \"lam\": (0.0, 1.0),\n",
    "      \"subsample\":(0.5, 0.9),\n",
    "      \"colsample_bytree\":(0.5, 0.9)\n",
    "      })\n",
    "  logger = JSONLogger(path=RES_SAVE_DIR+\"/BO_simple_{}.json\".format(i))\n",
    "  xgb_bayes_opt.subscribe(Events.OPTIMIZATION_STEP, logger)\n",
    "  xgb_bayes_opt.maximize(n_iter=719, n_restarts_optimizer = restarts, init_points=10)\n"
   ]
  },
  {
   "cell_type": "code",
   "execution_count": 0,
   "metadata": {
    "colab": {},
    "colab_type": "code",
    "id": "bgOjThyTwzDf"
   },
   "outputs": [],
   "source": [
    "# problem: BO_simple_4.json\n",
    "from bayes_opt.util import load_logs\n",
    "new_optimizer = BayesianOptimization(\n",
    "    f=bayes_opt_tune_xgb,\n",
    "    pbounds={\n",
    "      \"max_depth\": (3, 10),\n",
    "      \"min_child_weight\": (1, 10),\n",
    "      \"alpha\": (0.0, 1.0),\n",
    "      \"lam\": (0.0, 1.0),\n",
    "      \"subsample\":(0.5, 0.9),\n",
    "      \"colsample_bytree\":(0.5, 0.9)\n",
    "      }\n",
    ")\n",
    "load_logs(new_optimizer, logs=[RES_SAVE_DIR+\"/BO_simple_4.json\"]);\n",
    "\n",
    "logger = JSONLogger(path=RES_SAVE_DIR+\"/BO_simple_4_1.json\")\n",
    "new_optimizer.subscribe(Events.OPTIMIZATION_STEP, logger)\n",
    "\n",
    "new_optimizer.maximize(\n",
    "    init_points=0,\n",
    "    n_iter=6,\n",
    ")\n"
   ]
  },
  {
   "cell_type": "code",
   "execution_count": 0,
   "metadata": {
    "colab": {},
    "colab_type": "code",
    "id": "FpjBySdZxyRp"
   },
   "outputs": [],
   "source": []
  },
  {
   "cell_type": "code",
   "execution_count": 0,
   "metadata": {
    "colab": {},
    "colab_type": "code",
    "id": "JPRx0NIz8San"
   },
   "outputs": [],
   "source": [
    "# with groups"
   ]
  },
  {
   "cell_type": "code",
   "execution_count": 0,
   "metadata": {
    "colab": {},
    "colab_type": "code",
    "id": "mjIBs_-mOtTh"
   },
   "outputs": [],
   "source": [
    "#restarts=int(round((243-10)/10))"
   ]
  },
  {
   "cell_type": "code",
   "execution_count": 0,
   "metadata": {
    "colab": {
     "base_uri": "https://localhost:8080/",
     "height": 54
    },
    "colab_type": "code",
    "executionInfo": {
     "elapsed": 198,
     "status": "ok",
     "timestamp": 1587834837065,
     "user": {
      "displayName": "Света Сорокина",
      "photoUrl": "https://lh3.googleusercontent.com/a-/AOh14GhP5b7WHhwRcbIn8yB21S2mZi9tlMCD4aFLmFcr=s64",
      "userId": "00408643672459262753"
     },
     "user_tz": -180
    },
    "id": "-FdjDpOzGI6Y",
    "outputId": "128c69bc-0e8d-4c7a-a707-58952f72b12a"
   },
   "outputs": [
    {
     "data": {
      "text/plain": [
       "'\\nfor i in range(1,3):\\n  logger = JSONLogger(path=RES_SAVE_DIR+\"/BO_groups_without_stop_{}.json\".format(i))\\n  # first group\\n  params = {\\n      \"max_depth\": (3, 10),\\n      \"min_child_weight\": (1, 10)\\n      }\\n\\n  xgb_bayes_opt = BayesianOptimization(bayes_opt_tune_xgb, pbounds = params)\\n  xgb_bayes_opt.subscribe(Events.OPTIMIZATION_STEP, logger)\\n  xgb_bayes_opt.maximize(n_iter=233, n_restarts_optimizer=restarts, init_points=10)\\n\\n  best_params = xgb_bayes_opt.max[\\'params\\']\\n  # second group\\n  params[\"max_depth\"] = (int(round(best_params[\"max_depth\"])), int(round(best_params[\"max_depth\"])))\\n  params[\"min_child_weight\"] = (int(round(best_params[\"min_child_weight\"])), int(round(best_params[\"min_child_weight\"])))\\n  params.update({\"alpha\": (0.0, 1.0), \"lam\": (0.0, 1.0)})\\n\\n  xgb_bayes_opt = BayesianOptimization(bayes_opt_tune_xgb, pbounds = params)\\n  xgb_bayes_opt.subscribe(Events.OPTIMIZATION_STEP, logger)\\n  xgb_bayes_opt.maximize(n_iter=233, n_restarts_optimizer=restarts, init_points=10)\\n  best_params = xgb_bayes_opt.max[\\'params\\']\\n  \\n  # third group\\n  params[\"alpha\"] = (best_params[\"alpha\"], best_params[\"alpha\"])\\n  params[\"lam\"] = (best_params[\"lam\"], best_params[\"lam\"])\\n  params.update({\"subsample\":(0.5, 0.9), \"colsample_bytree\":(0.5, 0.9)})\\n\\n  xgb_bayes_opt = BayesianOptimization(bayes_opt_tune_xgb, pbounds = params)\\n  xgb_bayes_opt.subscribe(Events.OPTIMIZATION_STEP, logger)\\n  xgb_bayes_opt.maximize(n_iter=233, n_restarts_optimizer=restarts, init_points=10)\\n'"
      ]
     },
     "execution_count": 17,
     "metadata": {
      "tags": []
     },
     "output_type": "execute_result"
    }
   ],
   "source": [
    "\"\"\"\n",
    "for i in range(1,3):\n",
    "  logger = JSONLogger(path=RES_SAVE_DIR+\"/BO_groups_without_stop_{}.json\".format(i))\n",
    "  # first group\n",
    "  params = {\n",
    "      \"max_depth\": (3, 10),\n",
    "      \"min_child_weight\": (1, 10)\n",
    "      }\n",
    "\n",
    "  xgb_bayes_opt = BayesianOptimization(bayes_opt_tune_xgb, pbounds = params)\n",
    "  xgb_bayes_opt.subscribe(Events.OPTIMIZATION_STEP, logger)\n",
    "  xgb_bayes_opt.maximize(n_iter=233, n_restarts_optimizer=restarts, init_points=10)\n",
    "\n",
    "  best_params = xgb_bayes_opt.max['params']\n",
    "  # second group\n",
    "  params[\"max_depth\"] = (int(round(best_params[\"max_depth\"])), int(round(best_params[\"max_depth\"])))\n",
    "  params[\"min_child_weight\"] = (int(round(best_params[\"min_child_weight\"])), int(round(best_params[\"min_child_weight\"])))\n",
    "  params.update({\"alpha\": (0.0, 1.0), \"lam\": (0.0, 1.0)})\n",
    "\n",
    "  xgb_bayes_opt = BayesianOptimization(bayes_opt_tune_xgb, pbounds = params)\n",
    "  xgb_bayes_opt.subscribe(Events.OPTIMIZATION_STEP, logger)\n",
    "  xgb_bayes_opt.maximize(n_iter=233, n_restarts_optimizer=restarts, init_points=10)\n",
    "  best_params = xgb_bayes_opt.max['params']\n",
    "  \n",
    "  # third group\n",
    "  params[\"alpha\"] = (best_params[\"alpha\"], best_params[\"alpha\"])\n",
    "  params[\"lam\"] = (best_params[\"lam\"], best_params[\"lam\"])\n",
    "  params.update({\"subsample\":(0.5, 0.9), \"colsample_bytree\":(0.5, 0.9)})\n",
    "\n",
    "  xgb_bayes_opt = BayesianOptimization(bayes_opt_tune_xgb, pbounds = params)\n",
    "  xgb_bayes_opt.subscribe(Events.OPTIMIZATION_STEP, logger)\n",
    "  xgb_bayes_opt.maximize(n_iter=233, n_restarts_optimizer=restarts, init_points=10)\n",
    "\"\"\""
   ]
  },
  {
   "cell_type": "code",
   "execution_count": 0,
   "metadata": {
    "colab": {},
    "colab_type": "code",
    "id": "fVxCrrWTMHGM"
   },
   "outputs": [],
   "source": []
  }
 ],
 "metadata": {
  "accelerator": "GPU",
  "colab": {
   "collapsed_sections": [],
   "name": "bayes_opt_without_stop.ipynb",
   "provenance": []
  },
  "kernelspec": {
   "display_name": "Python 3",
   "language": "python",
   "name": "python3"
  },
  "language_info": {
   "codemirror_mode": {
    "name": "ipython",
    "version": 3
   },
   "file_extension": ".py",
   "mimetype": "text/x-python",
   "name": "python",
   "nbconvert_exporter": "python",
   "pygments_lexer": "ipython3",
   "version": "3.8.5"
  }
 },
 "nbformat": 4,
 "nbformat_minor": 1
}
