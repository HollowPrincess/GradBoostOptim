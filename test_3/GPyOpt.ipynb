{
  "nbformat": 4,
  "nbformat_minor": 0,
  "metadata": {
    "colab": {
      "name": "another_bayes.ipynb",
      "provenance": [],
      "collapsed_sections": []
    },
    "kernelspec": {
      "name": "python3",
      "display_name": "Python 3"
    },
    "accelerator": "GPU"
  },
  "cells": [
    {
      "cell_type": "code",
      "metadata": {
        "id": "FJQUKprFfLyU",
        "colab_type": "code",
        "colab": {}
      },
      "source": [
        "!pip install gpyopt"
      ],
      "execution_count": 0,
      "outputs": []
    },
    {
      "cell_type": "code",
      "metadata": {
        "id": "phJvakULfSVP",
        "colab_type": "code",
        "colab": {}
      },
      "source": [
        "from GPyOpt.methods import BayesianOptimization\n",
        "import numpy as np"
      ],
      "execution_count": 0,
      "outputs": []
    },
    {
      "cell_type": "code",
      "metadata": {
        "id": "RpU8R8oXfbvB",
        "colab_type": "code",
        "colab": {}
      },
      "source": [
        "#imports:\n",
        "import pandas as pd\n",
        "import numpy as np\n",
        "import math\n",
        "import os\n",
        "import json \n",
        "\n",
        "import xgboost\n",
        "from sklearn.metrics import r2_score"
      ],
      "execution_count": 0,
      "outputs": []
    },
    {
      "cell_type": "code",
      "metadata": {
        "id": "5zA2pBn5iflZ",
        "colab_type": "code",
        "colab": {
          "base_uri": "https://localhost:8080/",
          "height": 54
        },
        "outputId": "508ca248-9b17-4244-cc90-39502e5512d2"
      },
      "source": [
        "\"\"\"\n",
        "from GPyOpt.methods import BayesianOptimization\n",
        "import numpy as np\n",
        "\n",
        "# --- Define your problem\n",
        "gpyopt_output = []\n",
        "def f(x): \n",
        "  gpyopt_output.append(\n",
        "        1\n",
        "    )\n",
        "  return (6*x-2)**2*np.sin(12*x-4)\n",
        "domain = [{'name': 'var_1', 'type': 'continuous', 'domain': (0,1)}]\n",
        "\n",
        "# --- Solve your problem\n",
        "\n",
        "myBopt = BayesianOptimization(f=f, domain=domain, \n",
        "                                 optimize_restarts = 3, initial_design_numdata = 10)\n",
        "myBopt.run_optimization(max_iter=15)\n",
        "myBopt.plot_acquisition()\n",
        "\"\"\""
      ],
      "execution_count": 4,
      "outputs": [
        {
          "output_type": "execute_result",
          "data": {
            "text/plain": [
              "\"\\nfrom GPyOpt.methods import BayesianOptimization\\nimport numpy as np\\n\\n# --- Define your problem\\ngpyopt_output = []\\ndef f(x): \\n  gpyopt_output.append(\\n        1\\n    )\\n  return (6*x-2)**2*np.sin(12*x-4)\\ndomain = [{'name': 'var_1', 'type': 'continuous', 'domain': (0,1)}]\\n\\n# --- Solve your problem\\n\\nmyBopt = BayesianOptimization(f=f, domain=domain, \\n                                 optimize_restarts = 3, initial_design_numdata = 10)\\nmyBopt.run_optimization(max_iter=15)\\nmyBopt.plot_acquisition()\\n\""
            ]
          },
          "metadata": {
            "tags": []
          },
          "execution_count": 4
        }
      ]
    },
    {
      "cell_type": "code",
      "metadata": {
        "id": "DxI-ksP2juBs",
        "colab_type": "code",
        "colab": {}
      },
      "source": [
        "#sum(gpyopt_output)"
      ],
      "execution_count": 0,
      "outputs": []
    },
    {
      "cell_type": "code",
      "metadata": {
        "id": "iMasaOm_fidb",
        "colab_type": "code",
        "colab": {
          "base_uri": "https://localhost:8080/",
          "height": 124
        },
        "outputId": "c7a87ba3-e954-4cdc-944e-fbd5f363d246"
      },
      "source": [
        "from google.colab import drive \n",
        "drive.mount('/mntDrive') \n"
      ],
      "execution_count": 6,
      "outputs": [
        {
          "output_type": "stream",
          "text": [
            "Go to this URL in a browser: https://accounts.google.com/o/oauth2/auth?client_id=947318989803-6bn6qk8qdgf4n4g3pfee6491hc0brc4i.apps.googleusercontent.com&redirect_uri=urn%3aietf%3awg%3aoauth%3a2.0%3aoob&response_type=code&scope=email%20https%3a%2f%2fwww.googleapis.com%2fauth%2fdocs.test%20https%3a%2f%2fwww.googleapis.com%2fauth%2fdrive%20https%3a%2f%2fwww.googleapis.com%2fauth%2fdrive.photos.readonly%20https%3a%2f%2fwww.googleapis.com%2fauth%2fpeopleapi.readonly\n",
            "\n",
            "Enter your authorization code:\n",
            "··········\n",
            "Mounted at /mntDrive\n"
          ],
          "name": "stdout"
        }
      ]
    },
    {
      "cell_type": "code",
      "metadata": {
        "id": "fzdqzGlefi_v",
        "colab_type": "code",
        "colab": {}
      },
      "source": [
        "PREP_DATA_PATH = \"/mntDrive/My Drive/НИР/data/prepared_facebook_data.csv\"\n",
        "data=pd.read_csv(PREP_DATA_PATH)\n",
        "\n",
        "RES_SAVE_DIR = \"/mntDrive/My Drive/НИР/data/results/test 3\""
      ],
      "execution_count": 0,
      "outputs": []
    },
    {
      "cell_type": "code",
      "metadata": {
        "id": "6MDfaSPbflAf",
        "colab_type": "code",
        "colab": {
          "base_uri": "https://localhost:8080/",
          "height": 34
        },
        "outputId": "fced2e22-87c8-40e6-8f05-7b39e0211a41"
      },
      "source": [
        "%tensorflow_version 2.x\n",
        "import tensorflow as tf\n",
        "device_name = tf.test.gpu_device_name()\n",
        "if device_name != '/device:GPU:0':\n",
        "  raise SystemError('GPU device not found')\n",
        "print('Found GPU at: {}'.format(device_name))"
      ],
      "execution_count": 8,
      "outputs": [
        {
          "output_type": "stream",
          "text": [
            "Found GPU at: /device:GPU:0\n"
          ],
          "name": "stdout"
        }
      ]
    },
    {
      "cell_type": "code",
      "metadata": {
        "id": "ZSPTZzkYfnUO",
        "colab_type": "code",
        "colab": {}
      },
      "source": [
        "# get some data\n",
        "X, y = data.iloc[:,:-1].values, data.iloc[:,-1].values"
      ],
      "execution_count": 0,
      "outputs": []
    },
    {
      "cell_type": "code",
      "metadata": {
        "id": "7B7zYvI0fpC2",
        "colab_type": "code",
        "colab": {}
      },
      "source": [
        "dtrain = xgboost.DMatrix(X, label=y)"
      ],
      "execution_count": 0,
      "outputs": []
    },
    {
      "cell_type": "code",
      "metadata": {
        "id": "thmzZYinfqlS",
        "colab_type": "code",
        "colab": {}
      },
      "source": [
        "def my_r2_score(preds, dtrain):\n",
        "    labels = dtrain.get_label()\n",
        "    return 'r2', r2_score(labels, preds)\n",
        "\n",
        "def bayes_opt_tune_xgb(para):\n",
        "  para = para[0]\n",
        "  params = {\n",
        "      \"tree_method\": \"gpu_hist\", \n",
        "      \"gpu_id\": 0, \n",
        "      \"verbosity\": 0,\n",
        "      \"max_depth\": int(round(para[0])),\n",
        "      \"min_child_weight\": int(round(para[1])),\n",
        "      \"alpha\": para[2],\n",
        "      \"lambda\": para[3],\n",
        "      \"subsample\": para[4],\n",
        "      \"colsample_bytree\": para[5]\n",
        "      }\n",
        "    #Cross validating with the specified parameters in 5 folds\n",
        "  cv_result = xgboost.cv(params, dtrain, nfold=5, feval=my_r2_score,  maximize=True)\n",
        "  gpyopt_output.append(\n",
        "        [\n",
        "         cv_result['test-r2-mean'].iloc[-1],\n",
        "         params[\"max_depth\"], params[\"min_child_weight\"], \n",
        "         params[\"alpha\"], params[\"lambda\"], \n",
        "         params[\"subsample\"], params[\"colsample_bytree\"]\n",
        "        ]\n",
        "    )\n",
        "  return cv_result['test-r2-mean'].iloc[-1]"
      ],
      "execution_count": 0,
      "outputs": []
    },
    {
      "cell_type": "code",
      "metadata": {
        "id": "3R2lQwApf0-T",
        "colab_type": "code",
        "colab": {}
      },
      "source": [
        "gpyopt_output = []\n",
        "gpy_importance = pd.DataFrame()\n",
        "bds = [ {'name': 'max_depth', 'type': 'discrete', 'domain': (3, 10)},\n",
        "        {'name': 'min_child_weight', 'type': 'discrete', 'domain': (1, 10)},\n",
        "        {'name': 'alpha', 'type': 'continuous', 'domain': (0, 1)},\n",
        "        {'name': 'lambda', 'type': 'continuous', 'domain': (0, 1)},\n",
        "        {'name': 'subsample', 'type': 'continuous', 'domain': (0.5, 0.9)},\n",
        "        {'name': 'colsample_bytree', 'type': 'continuous', 'domain': (0.5, 0.9)}\n",
        "      ]\n",
        "optimizer = BayesianOptimization(f=bayes_opt_tune_xgb, \n",
        "                                 domain=bds,\n",
        "                                 model_type='GP',\n",
        "                                 optimize_restarts = 72,\n",
        "                                 initial_design_numdata = 10,\n",
        "                                 acquisition_type ='EI',\n",
        "                                 acquisition_jitter = 0.05,\n",
        "                                 exact_feval=True, \n",
        "                                 maximize=True)\n",
        "\n",
        "optimizer.run_optimization(max_iter=719)"
      ],
      "execution_count": 0,
      "outputs": []
    },
    {
      "cell_type": "code",
      "metadata": {
        "id": "JNAj3uywisS1",
        "colab_type": "code",
        "colab": {}
      },
      "source": [
        "results = pd.DataFrame(gpyopt_output)"
      ],
      "execution_count": 0,
      "outputs": []
    },
    {
      "cell_type": "code",
      "metadata": {
        "id": "xI04RV3nmI_f",
        "colab_type": "code",
        "colab": {}
      },
      "source": [
        "results.max(axis = 1)"
      ],
      "execution_count": 0,
      "outputs": []
    },
    {
      "cell_type": "code",
      "metadata": {
        "id": "1PvJsK7SiUHf",
        "colab_type": "code",
        "colab": {}
      },
      "source": [
        "results.max(axis = 0)"
      ],
      "execution_count": 0,
      "outputs": []
    },
    {
      "cell_type": "code",
      "metadata": {
        "id": "LdpCcHMQiWsn",
        "colab_type": "code",
        "colab": {}
      },
      "source": [
        ""
      ],
      "execution_count": 0,
      "outputs": []
    }
  ]
}