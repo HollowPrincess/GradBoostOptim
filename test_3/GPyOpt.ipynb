{
 "cells": [
  {
   "cell_type": "code",
   "execution_count": 0,
   "metadata": {
    "colab": {},
    "colab_type": "code",
    "id": "FJQUKprFfLyU"
   },
   "outputs": [],
   "source": [
    "!pip install gpyopt"
   ]
  },
  {
   "cell_type": "code",
   "execution_count": 0,
   "metadata": {
    "colab": {},
    "colab_type": "code",
    "id": "phJvakULfSVP"
   },
   "outputs": [],
   "source": [
    "from GPyOpt.methods import BayesianOptimization\n",
    "import numpy as np"
   ]
  },
  {
   "cell_type": "code",
   "execution_count": 0,
   "metadata": {
    "colab": {},
    "colab_type": "code",
    "id": "RpU8R8oXfbvB"
   },
   "outputs": [],
   "source": [
    "#imports:\n",
    "import pandas as pd\n",
    "import numpy as np\n",
    "import math\n",
    "import os\n",
    "import json \n",
    "\n",
    "import xgboost\n",
    "from sklearn.metrics import r2_score"
   ]
  },
  {
   "cell_type": "code",
   "execution_count": 4,
   "metadata": {
    "colab": {
     "base_uri": "https://localhost:8080/",
     "height": 54
    },
    "colab_type": "code",
    "id": "5zA2pBn5iflZ",
    "outputId": "508ca248-9b17-4244-cc90-39502e5512d2"
   },
   "outputs": [
    {
     "data": {
      "text/plain": [
       "\"\\nfrom GPyOpt.methods import BayesianOptimization\\nimport numpy as np\\n\\n# --- Define your problem\\ngpyopt_output = []\\ndef f(x): \\n  gpyopt_output.append(\\n        1\\n    )\\n  return (6*x-2)**2*np.sin(12*x-4)\\ndomain = [{'name': 'var_1', 'type': 'continuous', 'domain': (0,1)}]\\n\\n# --- Solve your problem\\n\\nmyBopt = BayesianOptimization(f=f, domain=domain, \\n                                 optimize_restarts = 3, initial_design_numdata = 10)\\nmyBopt.run_optimization(max_iter=15)\\nmyBopt.plot_acquisition()\\n\""
      ]
     },
     "execution_count": 4,
     "metadata": {
      "tags": []
     },
     "output_type": "execute_result"
    }
   ],
   "source": [
    "\"\"\"\n",
    "from GPyOpt.methods import BayesianOptimization\n",
    "import numpy as np\n",
    "\n",
    "# --- Define your problem\n",
    "gpyopt_output = []\n",
    "def f(x): \n",
    "  gpyopt_output.append(\n",
    "        1\n",
    "    )\n",
    "  return (6*x-2)**2*np.sin(12*x-4)\n",
    "domain = [{'name': 'var_1', 'type': 'continuous', 'domain': (0,1)}]\n",
    "\n",
    "# --- Solve your problem\n",
    "\n",
    "myBopt = BayesianOptimization(f=f, domain=domain, \n",
    "                                 optimize_restarts = 3, initial_design_numdata = 10)\n",
    "myBopt.run_optimization(max_iter=15)\n",
    "myBopt.plot_acquisition()\n",
    "\"\"\""
   ]
  },
  {
   "cell_type": "code",
   "execution_count": 0,
   "metadata": {
    "colab": {},
    "colab_type": "code",
    "id": "DxI-ksP2juBs"
   },
   "outputs": [],
   "source": [
    "#sum(gpyopt_output)"
   ]
  },
  {
   "cell_type": "code",
   "execution_count": 6,
   "metadata": {
    "colab": {
     "base_uri": "https://localhost:8080/",
     "height": 124
    },
    "colab_type": "code",
    "id": "iMasaOm_fidb",
    "outputId": "c7a87ba3-e954-4cdc-944e-fbd5f363d246"
   },
   "outputs": [
    {
     "name": "stdout",
     "output_type": "stream",
     "text": [
      "Go to this URL in a browser: https://accounts.google.com/o/oauth2/auth?client_id=947318989803-6bn6qk8qdgf4n4g3pfee6491hc0brc4i.apps.googleusercontent.com&redirect_uri=urn%3aietf%3awg%3aoauth%3a2.0%3aoob&response_type=code&scope=email%20https%3a%2f%2fwww.googleapis.com%2fauth%2fdocs.test%20https%3a%2f%2fwww.googleapis.com%2fauth%2fdrive%20https%3a%2f%2fwww.googleapis.com%2fauth%2fdrive.photos.readonly%20https%3a%2f%2fwww.googleapis.com%2fauth%2fpeopleapi.readonly\n",
      "\n",
      "Enter your authorization code:\n",
      "··········\n",
      "Mounted at /mntDrive\n"
     ]
    }
   ],
   "source": [
    "from google.colab import drive \n",
    "drive.mount('/mntDrive') \n"
   ]
  },
  {
   "cell_type": "code",
   "execution_count": 0,
   "metadata": {
    "colab": {},
    "colab_type": "code",
    "id": "fzdqzGlefi_v"
   },
   "outputs": [],
   "source": [
    "PREP_DATA_PATH = \"/mntDrive/My Drive/НИР/data/prepared_facebook_data.csv\"\n",
    "data=pd.read_csv(PREP_DATA_PATH)\n",
    "\n",
    "RES_SAVE_DIR = \"/mntDrive/My Drive/НИР/data/results/test 3\""
   ]
  },
  {
   "cell_type": "code",
   "execution_count": 8,
   "metadata": {
    "colab": {
     "base_uri": "https://localhost:8080/",
     "height": 34
    },
    "colab_type": "code",
    "id": "6MDfaSPbflAf",
    "outputId": "fced2e22-87c8-40e6-8f05-7b39e0211a41"
   },
   "outputs": [
    {
     "name": "stdout",
     "output_type": "stream",
     "text": [
      "Found GPU at: /device:GPU:0\n"
     ]
    }
   ],
   "source": [
    "%tensorflow_version 2.x\n",
    "import tensorflow as tf\n",
    "device_name = tf.test.gpu_device_name()\n",
    "if device_name != '/device:GPU:0':\n",
    "  raise SystemError('GPU device not found')\n",
    "print('Found GPU at: {}'.format(device_name))"
   ]
  },
  {
   "cell_type": "code",
   "execution_count": 0,
   "metadata": {
    "colab": {},
    "colab_type": "code",
    "id": "ZSPTZzkYfnUO"
   },
   "outputs": [],
   "source": [
    "# get some data\n",
    "X, y = data.iloc[:,:-1].values, data.iloc[:,-1].values"
   ]
  },
  {
   "cell_type": "code",
   "execution_count": 0,
   "metadata": {
    "colab": {},
    "colab_type": "code",
    "id": "7B7zYvI0fpC2"
   },
   "outputs": [],
   "source": [
    "dtrain = xgboost.DMatrix(X, label=y)"
   ]
  },
  {
   "cell_type": "code",
   "execution_count": 0,
   "metadata": {
    "colab": {},
    "colab_type": "code",
    "id": "thmzZYinfqlS"
   },
   "outputs": [],
   "source": [
    "def my_r2_score(preds, dtrain):\n",
    "    labels = dtrain.get_label()\n",
    "    return 'r2', r2_score(labels, preds)\n",
    "\n",
    "def bayes_opt_tune_xgb(para):\n",
    "  para = para[0]\n",
    "  params = {\n",
    "      \"tree_method\": \"gpu_hist\", \n",
    "      \"gpu_id\": 0, \n",
    "      \"verbosity\": 0,\n",
    "      \"max_depth\": int(round(para[0])),\n",
    "      \"min_child_weight\": int(round(para[1])),\n",
    "      \"alpha\": para[2],\n",
    "      \"lambda\": para[3],\n",
    "      \"subsample\": para[4],\n",
    "      \"colsample_bytree\": para[5]\n",
    "      }\n",
    "    #Cross validating with the specified parameters in 5 folds\n",
    "  cv_result = xgboost.cv(params, dtrain, nfold=5, feval=my_r2_score,  maximize=True)\n",
    "  gpyopt_output.append(\n",
    "        [\n",
    "         cv_result['test-r2-mean'].iloc[-1],\n",
    "         params[\"max_depth\"], params[\"min_child_weight\"], \n",
    "         params[\"alpha\"], params[\"lambda\"], \n",
    "         params[\"subsample\"], params[\"colsample_bytree\"]\n",
    "        ]\n",
    "    )\n",
    "  return cv_result['test-r2-mean'].iloc[-1]"
   ]
  },
  {
   "cell_type": "code",
   "execution_count": 0,
   "metadata": {
    "colab": {},
    "colab_type": "code",
    "id": "3R2lQwApf0-T"
   },
   "outputs": [],
   "source": [
    "gpyopt_output = []\n",
    "gpy_importance = pd.DataFrame()\n",
    "bds = [ {'name': 'max_depth', 'type': 'discrete', 'domain': (3, 10)},\n",
    "        {'name': 'min_child_weight', 'type': 'discrete', 'domain': (1, 10)},\n",
    "        {'name': 'alpha', 'type': 'continuous', 'domain': (0, 1)},\n",
    "        {'name': 'lambda', 'type': 'continuous', 'domain': (0, 1)},\n",
    "        {'name': 'subsample', 'type': 'continuous', 'domain': (0.5, 0.9)},\n",
    "        {'name': 'colsample_bytree', 'type': 'continuous', 'domain': (0.5, 0.9)}\n",
    "      ]\n",
    "optimizer = BayesianOptimization(f=bayes_opt_tune_xgb, \n",
    "                                 domain=bds,\n",
    "                                 model_type='TPE',\n",
    "                                 optimize_restarts = 72,\n",
    "                                 initial_design_numdata = 10,\n",
    "                                 acquisition_type ='EI',\n",
    "                                 acquisition_jitter = 0.05,\n",
    "                                 exact_feval=True, \n",
    "                                 maximize=True)\n",
    "\n",
    "# optimizer.run_optimization(max_iter=719)\n",
    "optimizer.run_optimization(max_iter=3)"
   ]
  },
  {
   "cell_type": "code",
   "execution_count": 0,
   "metadata": {
    "colab": {},
    "colab_type": "code",
    "id": "JNAj3uywisS1"
   },
   "outputs": [],
   "source": [
    "results = pd.DataFrame(gpyopt_output)"
   ]
  },
  {
   "cell_type": "code",
   "execution_count": 0,
   "metadata": {
    "colab": {},
    "colab_type": "code",
    "id": "xI04RV3nmI_f"
   },
   "outputs": [],
   "source": [
    "results.max(axis = 1)"
   ]
  },
  {
   "cell_type": "code",
   "execution_count": 0,
   "metadata": {
    "colab": {},
    "colab_type": "code",
    "id": "1PvJsK7SiUHf"
   },
   "outputs": [],
   "source": [
    "results.max(axis = 0)"
   ]
  },
  {
   "cell_type": "code",
   "execution_count": 0,
   "metadata": {
    "colab": {},
    "colab_type": "code",
    "id": "LdpCcHMQiWsn"
   },
   "outputs": [],
   "source": []
  }
 ],
 "metadata": {
  "accelerator": "GPU",
  "colab": {
   "collapsed_sections": [],
   "name": "another_bayes.ipynb",
   "provenance": []
  },
  "kernelspec": {
   "display_name": "Python 3",
   "language": "python",
   "name": "python3"
  },
  "language_info": {
   "codemirror_mode": {
    "name": "ipython",
    "version": 3
   },
   "file_extension": ".py",
   "mimetype": "text/x-python",
   "name": "python",
   "nbconvert_exporter": "python",
   "pygments_lexer": "ipython3",
   "version": "3.8.5"
  }
 },
 "nbformat": 4,
 "nbformat_minor": 1
}
