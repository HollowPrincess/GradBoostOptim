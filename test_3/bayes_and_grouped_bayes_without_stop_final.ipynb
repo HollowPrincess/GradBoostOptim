{
  "nbformat": 4,
  "nbformat_minor": 0,
  "metadata": {
    "colab": {
      "name": "bayes_opt_without_stop.ipynb",
      "provenance": [],
      "collapsed_sections": []
    },
    "kernelspec": {
      "name": "python3",
      "display_name": "Python 3"
    },
    "accelerator": "GPU"
  },
  "cells": [
    {
      "cell_type": "code",
      "metadata": {
        "id": "1hibMhqOFeSA",
        "colab_type": "code",
        "colab": {}
      },
      "source": [
        "#imports:\n",
        "import pandas as pd\n",
        "import numpy as np\n",
        "import math\n",
        "import os\n",
        "import json \n",
        "\n",
        "import xgboost"
      ],
      "execution_count": 0,
      "outputs": []
    },
    {
      "cell_type": "code",
      "metadata": {
        "id": "-caTivtYn_1Y",
        "colab_type": "code",
        "outputId": "a0ea11bb-3df4-4d3c-be34-99b9bca6a9a3",
        "colab": {
          "base_uri": "https://localhost:8080/",
          "height": 176
        }
      },
      "source": [
        "!pip install bayesian-optimization\n",
        "from bayes_opt import BayesianOptimization\n",
        "from sklearn.metrics import r2_score"
      ],
      "execution_count": 0,
      "outputs": [
        {
          "output_type": "stream",
          "text": [
            "Collecting bayesian-optimization\n",
            "  Downloading https://files.pythonhosted.org/packages/b5/26/9842333adbb8f17bcb3d699400a8b1ccde0af0b6de8d07224e183728acdf/bayesian_optimization-1.1.0-py3-none-any.whl\n",
            "Requirement already satisfied: numpy>=1.9.0 in /usr/local/lib/python3.6/dist-packages (from bayesian-optimization) (1.18.4)\n",
            "Requirement already satisfied: scipy>=0.14.0 in /usr/local/lib/python3.6/dist-packages (from bayesian-optimization) (1.4.1)\n",
            "Requirement already satisfied: scikit-learn>=0.18.0 in /usr/local/lib/python3.6/dist-packages (from bayesian-optimization) (0.22.2.post1)\n",
            "Requirement already satisfied: joblib>=0.11 in /usr/local/lib/python3.6/dist-packages (from scikit-learn>=0.18.0->bayesian-optimization) (0.14.1)\n",
            "Installing collected packages: bayesian-optimization\n",
            "Successfully installed bayesian-optimization-1.1.0\n"
          ],
          "name": "stdout"
        }
      ]
    },
    {
      "cell_type": "code",
      "metadata": {
        "id": "dKa26G9iFaEQ",
        "colab_type": "code",
        "outputId": "d3b4a0fb-e5ef-4641-f677-54d9a5f3f920",
        "colab": {
          "base_uri": "https://localhost:8080/",
          "height": 124
        }
      },
      "source": [
        "from google.colab import drive \n",
        "drive.mount('/mntDrive') \n"
      ],
      "execution_count": 0,
      "outputs": [
        {
          "output_type": "stream",
          "text": [
            "Go to this URL in a browser: https://accounts.google.com/o/oauth2/auth?client_id=947318989803-6bn6qk8qdgf4n4g3pfee6491hc0brc4i.apps.googleusercontent.com&redirect_uri=urn%3aietf%3awg%3aoauth%3a2.0%3aoob&response_type=code&scope=email%20https%3a%2f%2fwww.googleapis.com%2fauth%2fdocs.test%20https%3a%2f%2fwww.googleapis.com%2fauth%2fdrive%20https%3a%2f%2fwww.googleapis.com%2fauth%2fdrive.photos.readonly%20https%3a%2f%2fwww.googleapis.com%2fauth%2fpeopleapi.readonly\n",
            "\n",
            "Enter your authorization code:\n",
            "··········\n",
            "Mounted at /mntDrive\n"
          ],
          "name": "stdout"
        }
      ]
    },
    {
      "cell_type": "code",
      "metadata": {
        "id": "ip9jvA2zjufk",
        "colab_type": "code",
        "colab": {}
      },
      "source": [
        "PREP_DATA_PATH = \"/mntDrive/My Drive/GrBoost/Практика/data/input/prepared_facebook_data.csv\"\n",
        "data=pd.read_csv(PREP_DATA_PATH)\n",
        "\n",
        "RES_SAVE_DIR = \"/mntDrive/My Drive/GrBoost/Практика/data/results/test 3\""
      ],
      "execution_count": 0,
      "outputs": []
    },
    {
      "cell_type": "code",
      "metadata": {
        "id": "cWPPbGCqWRVr",
        "colab_type": "code",
        "outputId": "2e963af7-db7c-4ec8-c218-2f20704acdb1",
        "colab": {
          "base_uri": "https://localhost:8080/",
          "height": 34
        }
      },
      "source": [
        "%tensorflow_version 2.x\n",
        "import tensorflow as tf\n",
        "device_name = tf.test.gpu_device_name()\n",
        "if device_name != '/device:GPU:0':\n",
        "  raise SystemError('GPU device not found')\n",
        "print('Found GPU at: {}'.format(device_name))"
      ],
      "execution_count": 0,
      "outputs": [
        {
          "output_type": "stream",
          "text": [
            "Found GPU at: /device:GPU:0\n"
          ],
          "name": "stdout"
        }
      ]
    },
    {
      "cell_type": "code",
      "metadata": {
        "id": "ggL7wBOdPKAx",
        "colab_type": "code",
        "colab": {}
      },
      "source": [
        "# get some data\n",
        "X, y = data.iloc[:,:-1].values, data.iloc[:,-1].values"
      ],
      "execution_count": 0,
      "outputs": []
    },
    {
      "cell_type": "code",
      "metadata": {
        "id": "bZ7uD8J4OWGm",
        "colab_type": "code",
        "colab": {}
      },
      "source": [
        "dtrain = xgboost.DMatrix(X, label=y)"
      ],
      "execution_count": 0,
      "outputs": []
    },
    {
      "cell_type": "code",
      "metadata": {
        "id": "fVxCrrWTMHGM",
        "colab_type": "code",
        "outputId": "50c7f0a6-5195-4f3b-ba5f-4a0b6e71abe2",
        "colab": {
          "base_uri": "https://localhost:8080/",
          "height": 245
        }
      },
      "source": [
        "!pip install scikit-optimize"
      ],
      "execution_count": 0,
      "outputs": [
        {
          "output_type": "stream",
          "text": [
            "Collecting scikit-optimize\n",
            "\u001b[?25l  Downloading https://files.pythonhosted.org/packages/5c/87/310b52debfbc0cb79764e5770fa3f5c18f6f0754809ea9e2fc185e1b67d3/scikit_optimize-0.7.4-py2.py3-none-any.whl (80kB)\n",
            "\r\u001b[K     |████                            | 10kB 24.7MB/s eta 0:00:01\r\u001b[K     |████████▏                       | 20kB 31.4MB/s eta 0:00:01\r\u001b[K     |████████████▎                   | 30kB 35.9MB/s eta 0:00:01\r\u001b[K     |████████████████▎               | 40kB 16.5MB/s eta 0:00:01\r\u001b[K     |████████████████████▍           | 51kB 11.7MB/s eta 0:00:01\r\u001b[K     |████████████████████████▌       | 61kB 13.5MB/s eta 0:00:01\r\u001b[K     |████████████████████████████▌   | 71kB 11.9MB/s eta 0:00:01\r\u001b[K     |████████████████████████████████| 81kB 6.8MB/s \n",
            "\u001b[?25hRequirement already satisfied: scipy>=0.18.0 in /usr/local/lib/python3.6/dist-packages (from scikit-optimize) (1.4.1)\n",
            "Requirement already satisfied: numpy>=1.11.0 in /usr/local/lib/python3.6/dist-packages (from scikit-optimize) (1.18.4)\n",
            "Collecting pyaml>=16.9\n",
            "  Downloading https://files.pythonhosted.org/packages/15/c4/1310a054d33abc318426a956e7d6df0df76a6ddfa9c66f6310274fb75d42/pyaml-20.4.0-py2.py3-none-any.whl\n",
            "Requirement already satisfied: joblib>=0.11 in /usr/local/lib/python3.6/dist-packages (from scikit-optimize) (0.14.1)\n",
            "Requirement already satisfied: scikit-learn>=0.19.1 in /usr/local/lib/python3.6/dist-packages (from scikit-optimize) (0.22.2.post1)\n",
            "Requirement already satisfied: PyYAML in /usr/local/lib/python3.6/dist-packages (from pyaml>=16.9->scikit-optimize) (3.13)\n",
            "Installing collected packages: pyaml, scikit-optimize\n",
            "Successfully installed pyaml-20.4.0 scikit-optimize-0.7.4\n"
          ],
          "name": "stdout"
        }
      ]
    },
    {
      "cell_type": "code",
      "metadata": {
        "id": "YjgGNbNDYUAq",
        "colab_type": "code",
        "colab": {}
      },
      "source": [
        "from skopt import BayesSearchCV\n",
        "from skopt.space import Real, Space, Integer\n",
        "\"\"\"\n",
        "bayes_cv_opt = BayesSearchCV(\n",
        "    estimator = xgboost.XGBRegressor(\n",
        "      tree_method = \"gpu_hist\", \n",
        "      gpu_id = 0, \n",
        "      verbosity = 0\n",
        "    ),\n",
        "    search_spaces = {\n",
        "        'min_child_weight': Integer(1, 10),\n",
        "        'max_depth': Integer(3, 10),\n",
        "        'subsample': Real(0.5, 0.9, 'uniform'),\n",
        "        'colsample_bytree': Real(0.5, 0.9, 'uniform'),\n",
        "        'reg_lambda': Real(0.0, 1.0, 'uniform'),\n",
        "        'reg_alpha': Real(0.0, 1.0, 'uniform'),        \n",
        "    },    \n",
        "    scoring = 'r2',\n",
        "    cv = 5,\n",
        "    n_iter = 729,\n",
        "    iid=False, \n",
        "    optimizer_kwargs={\n",
        "        \"acq_func\": \"EI\"\n",
        "        }\n",
        ")\n",
        "\n",
        "# callback handler\n",
        "\n",
        "def on_step(optim_result):\n",
        "    score = bayes_cv_opt.best_score_\n",
        "    print(\"Best score: %s\" % score)\n",
        "    print(\"Best iteration index \", bayes_cv_opt.best_index_)\n",
        "    #if score >= 0.98:\n",
        "    #    print('Interrupting!')\n",
        "    #    return True\n",
        "\n",
        "bayes_cv_opt.fit(X, y, callback=on_step)\n",
        "\n",
        "print(\"val. score: %s\" % bayes_cv_opt.best_score_)\n",
        "\n",
        "res=pd.DataFrame(bayes_cv_opt.cv_results_)\n",
        "res['run_number']=2\n",
        "res['experiment_name']=\"bayes_opt\"\n",
        "res.to_csv(RES_SAVE_DIR+\"/bayes_opt_4.csv\", index=False)\n",
        "\"\"\""
      ],
      "execution_count": 0,
      "outputs": []
    },
    {
      "cell_type": "code",
      "metadata": {
        "id": "hylfh7dhN3cC",
        "colab_type": "code",
        "colab": {}
      },
      "source": [
        "for run_num in range(1,11):\n",
        "  # first group:\n",
        "  clf = xgboost.XGBRegressor(tree_method = \"gpu_hist\", gpu_id=0, verbosity=0)\n",
        "\n",
        "  bayes_search = BayesSearchCV(estimator = clf, \n",
        "                                search_spaces = {\n",
        "                                    'min_child_weight': Integer(1, 10),\n",
        "                                    'max_depth': Integer(3, 10)\n",
        "                                    },  \n",
        "                                scoring = 'r2',\n",
        "                                cv = 5,\n",
        "                                n_iter = 243,\n",
        "                                iid=False, \n",
        "                                optimizer_kwargs={\n",
        "                                    \"acq_func\": \"EI\"\n",
        "                                    }\n",
        "  )\n",
        "\n",
        "  bayes_search.fit(X, y)\n",
        "\n",
        "  res_bo_1=pd.DataFrame(bayes_search.cv_results_)\n",
        "  res_bo_1['experiment_name']='bayes search for 1 group'      \n",
        "\n",
        "  clf.set_params(**bayes_search.best_params_)\n",
        "  print('done first group')\n",
        "\n",
        "  #second group:\n",
        "  bayes_search = BayesSearchCV(estimator = clf, \n",
        "                                search_spaces = {\n",
        "                                    'reg_lambda': Real(0.0, 1.0, 'uniform'),\n",
        "                                    'reg_alpha': Real(0.0, 1.0, 'uniform')\n",
        "                                    },  \n",
        "                                scoring = 'r2',\n",
        "                                cv = 5,\n",
        "                                n_iter = 243,\n",
        "                                iid=False, \n",
        "                                optimizer_kwargs={\n",
        "                                    \"acq_func\": \"EI\"\n",
        "                                    }\n",
        "  )\n",
        "\n",
        "  bayes_search.fit(X, y)\n",
        "\n",
        "  res_bo_2=pd.DataFrame(bayes_search.cv_results_)\n",
        "  res_bo_2['experiment_name']='bayes search for 2 group' \n",
        "\n",
        "  clf.set_params(**bayes_search.best_params_)\n",
        "  print('done for second group')\n",
        "\n",
        "  #third group:\n",
        "  bayes_search = BayesSearchCV(estimator = clf, \n",
        "                                search_spaces = {\n",
        "                                    'subsample': Real(0.5, 0.9, 'uniform'),\n",
        "                                    'colsample_bytree': Real(0.5, 0.9, 'uniform')\n",
        "                                    },  \n",
        "                                scoring = 'r2',\n",
        "                                cv = 5,\n",
        "                                n_iter = 243,\n",
        "                                iid=False, \n",
        "                                optimizer_kwargs={\n",
        "                                    \"acq_func\": \"EI\"\n",
        "                                    }\n",
        "  )\n",
        "\n",
        "  bayes_search.fit(X, y)\n",
        "\n",
        "  res_bo_3=pd.DataFrame(bayes_search.cv_results_)\n",
        "  res_bo_3['experiment_name']='bayes search for 3 group'  \n",
        "\n",
        "  res=pd.concat([res_bo_1, res_bo_2,res_bo_3], sort=False)\n",
        "  res['run_number']=run_num  \n",
        "\n",
        "  res.to_csv(RES_SAVE_DIR+'/group_bayes_search_{}.csv'.format(run_num), index=False)\n",
        "  print('done for third group')"
      ],
      "execution_count": 0,
      "outputs": []
    }
  ]
}