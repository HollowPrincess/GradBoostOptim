{
  "nbformat": 4,
  "nbformat_minor": 0,
  "metadata": {
    "colab": {
      "name": "group_bayes_search_with_stop_criterion.ipynb",
      "provenance": [],
      "collapsed_sections": []
    },
    "kernelspec": {
      "name": "python3",
      "display_name": "Python 3"
    },
    "accelerator": "GPU"
  },
  "cells": [
    {
      "cell_type": "code",
      "metadata": {
        "id": "qD_17-MHJE6_",
        "colab_type": "code",
        "colab": {}
      },
      "source": [
        "!pip install scikit-optimize"
      ],
      "execution_count": 0,
      "outputs": []
    },
    {
      "cell_type": "code",
      "metadata": {
        "id": "1hibMhqOFeSA",
        "colab_type": "code",
        "colab": {}
      },
      "source": [
        "#imports:\n",
        "import pandas as pd\n",
        "import numpy as np\n",
        "import math\n",
        "import os\n",
        "from time import time\n",
        "import json \n",
        "\n",
        "\n",
        "import xgboost\n",
        "\n",
        "\n",
        "from skopt import BayesSearchCV\n",
        "from skopt.space import Real, Space, Integer\n",
        "\n",
        "from matplotlib import pyplot as plt"
      ],
      "execution_count": 0,
      "outputs": []
    },
    {
      "cell_type": "code",
      "metadata": {
        "id": "dKa26G9iFaEQ",
        "colab_type": "code",
        "outputId": "b7bc2e9c-addb-40fb-c0f2-e76b8c04b674",
        "colab": {
          "base_uri": "https://localhost:8080/",
          "height": 124
        }
      },
      "source": [
        "from google.colab import drive \n",
        "drive.mount('/mntDrive') \n"
      ],
      "execution_count": 0,
      "outputs": [
        {
          "output_type": "stream",
          "text": [
            "Go to this URL in a browser: https://accounts.google.com/o/oauth2/auth?client_id=947318989803-6bn6qk8qdgf4n4g3pfee6491hc0brc4i.apps.googleusercontent.com&redirect_uri=urn%3aietf%3awg%3aoauth%3a2.0%3aoob&response_type=code&scope=email%20https%3a%2f%2fwww.googleapis.com%2fauth%2fdocs.test%20https%3a%2f%2fwww.googleapis.com%2fauth%2fdrive%20https%3a%2f%2fwww.googleapis.com%2fauth%2fdrive.photos.readonly%20https%3a%2f%2fwww.googleapis.com%2fauth%2fpeopleapi.readonly\n",
            "\n",
            "Enter your authorization code:\n",
            "··········\n",
            "Mounted at /mntDrive\n"
          ],
          "name": "stdout"
        }
      ]
    },
    {
      "cell_type": "code",
      "metadata": {
        "id": "ip9jvA2zjufk",
        "colab_type": "code",
        "colab": {}
      },
      "source": [
        "PREP_DATA_PATH = \"/mntDrive/My Drive/GrBoost/Практика/data/input/prepared_facebook_data.csv\"\n",
        "data=pd.read_csv(PREP_DATA_PATH)\n",
        "\n",
        "RES_DATA_DIR = \"/mntDrive/My Drive/GrBoost/Практика/data/results/test 3\"\n",
        "RES_SAVE_DIR = \"/mntDrive/My Drive/GrBoost/Практика/data/results/test 3\""
      ],
      "execution_count": 0,
      "outputs": []
    },
    {
      "cell_type": "code",
      "metadata": {
        "id": "cWPPbGCqWRVr",
        "colab_type": "code",
        "outputId": "9e0c4e86-03cc-4bed-e7eb-3fdc08584186",
        "colab": {
          "base_uri": "https://localhost:8080/",
          "height": 34
        }
      },
      "source": [
        "%tensorflow_version 2.x\n",
        "import tensorflow as tf\n",
        "device_name = tf.test.gpu_device_name()\n",
        "if device_name != '/device:GPU:0':\n",
        "  raise SystemError('GPU device not found')\n",
        "print('Found GPU at: {}'.format(device_name))"
      ],
      "execution_count": 0,
      "outputs": [
        {
          "output_type": "stream",
          "text": [
            "Found GPU at: /device:GPU:0\n"
          ],
          "name": "stdout"
        }
      ]
    },
    {
      "cell_type": "code",
      "metadata": {
        "id": "uh-97Zr2nbpr",
        "colab_type": "code",
        "colab": {}
      },
      "source": [
        "files = os.listdir(RES_DATA_DIR)\n",
        "files = [x for x in files if x.find(\"group_bayes_search\")!=-1]"
      ],
      "execution_count": 0,
      "outputs": []
    },
    {
      "cell_type": "code",
      "metadata": {
        "id": "Ye2AXckB-anX",
        "colab_type": "code",
        "colab": {}
      },
      "source": [
        "def group_best_params_with_stop(df, stop_iter_num, left_iter_num, right_iter_num):\n",
        "    best_params = {}\n",
        "    stop_iter_nums = {}\n",
        "    best_score = {}\n",
        "\n",
        "    tmp_df = df.loc[(df['iter_num'] >= left_iter_num) & (df['iter_num'] <= right_iter_num)].copy() #take group\n",
        "    for i in tmp_df.run_number.unique(): \n",
        "      tmp_df_i = tmp_df.loc[tmp_df.run_number==i] #take run\n",
        "      #cut iterations:\n",
        "      tmp_df_i_copy = tmp_df_i.copy()\n",
        "      tmp_df_i_copy.loc[:, \"mean_test_score\"] = tmp_df_i.loc[:, \"mean_test_score\"].cummax()      \n",
        "\n",
        "      try:\n",
        "          curr_max=tmp_df_i_copy.groupby(\"mean_test_score\").count().reset_index().sort_values(by = \"mean_test_score\")\n",
        "          max_score = curr_max.loc[curr_max[\"mean_test_score\"]>=stop_iter_num].index[0] #get first interval with iter_amount more than stop_iter_num\n",
        "      except:\n",
        "          max_score = tmp_df_i_copy.mean_test_score.max()\n",
        "      \n",
        "      tmp_stop = tmp_df_i.loc[tmp_df_i[\"mean_test_score\"]==max_score].sort_values(by=\"iter_num\").iloc[0]#get first element with best_score\n",
        "\n",
        "      best_params[i] = tmp_stop['params']\n",
        "      #best_score[i] = tmp_stop['mean_test_score']\n",
        "\n",
        "      last_iter_num = tmp_stop['iter_num'] + stop_iter_num - 1\n",
        "      if last_iter_num > right_iter_num:\n",
        "          last_iter_num = right_iter_num\n",
        "\n",
        "      stop_iter_nums[i] = last_iter_num\n",
        "    return best_params, stop_iter_nums#, best_score       \n",
        "   "
      ],
      "execution_count": 0,
      "outputs": []
    },
    {
      "cell_type": "code",
      "metadata": {
        "id": "Ky0TojlcoFz3",
        "colab_type": "code",
        "colab": {}
      },
      "source": [
        "group_df = pd.DataFrame([])\n",
        "for file_res in files:\n",
        "    df = pd.read_csv(RES_DATA_DIR+\"/\"+file_res)    \n",
        "    df['iter_num'] = range(1, df.shape[0]+1)\n",
        "    group_df = pd.concat([group_df, df], sort = False)"
      ],
      "execution_count": 0,
      "outputs": []
    },
    {
      "cell_type": "code",
      "metadata": {
        "id": "ggL7wBOdPKAx",
        "colab_type": "code",
        "colab": {}
      },
      "source": [
        "# get some data\n",
        "X, y = data.iloc[:,:-1].values, data.iloc[:,-1].values\n",
        "\n",
        "param_dist_group_2 = {'reg_lambda': Real(0.0, 1.0, 'uniform'),\n",
        "                      'reg_alpha': Real(0.0, 1.0, 'uniform')\n",
        "                      }\n",
        "                      \n",
        "param_dist_group_3 = {'subsample': Real(0.5, 0.9, 'uniform'),\n",
        "                      'colsample_bytree': Real(0.5, 0.9, 'uniform')\n",
        "                      } "
      ],
      "execution_count": 0,
      "outputs": []
    },
    {
      "cell_type": "code",
      "metadata": {
        "id": "xdkljL1DiFwS",
        "colab_type": "code",
        "colab": {}
      },
      "source": [
        "stop_iter_num = 100\n",
        "\n",
        "best_params_first_group, first_stop_iter_nums = group_best_params_with_stop(group_df, \n",
        "                                                                            stop_iter_num = stop_iter_num,\n",
        "                                                                            left_iter_num=1, \n",
        "                                                                            right_iter_num=243)"
      ],
      "execution_count": 0,
      "outputs": []
    },
    {
      "cell_type": "code",
      "metadata": {
        "id": "RK8MbVtWg_Iv",
        "colab_type": "code",
        "outputId": "f34b8259-82cc-47c2-a89c-a66902877d13",
        "colab": {
          "base_uri": "https://localhost:8080/",
          "height": 121
        }
      },
      "source": [
        "#for params_set_num in best_params_first_group:\n",
        "for params_set_num in range(1,11):\n",
        "  clf = xgboost.XGBRegressor(tree_method = \"gpu_hist\", gpu_id=0, verbosity=0)\n",
        "  clf.set_params(**json.loads(best_params_first_group[params_set_num].replace(\"'\", \"\\\"\")))\n",
        "  n_iter_search_sec = int(round((729 - first_stop_iter_nums[params_set_num])/2))\n",
        "  #second group:\n",
        "  bayes_search = BayesSearchCV(estimator = clf, \n",
        "                                search_spaces = param_dist_group_2,  \n",
        "                                scoring = 'r2',\n",
        "                                cv = 5,\n",
        "                                n_iter = n_iter_search_sec,\n",
        "                                iid=False, \n",
        "                                optimizer_kwargs={\n",
        "                                    \"acq_func\": \"EI\"\n",
        "                                    }\n",
        "                                )\n",
        "\n",
        "  bayes_search.fit(X, y)\n",
        "\n",
        "  res_rand_2=pd.DataFrame(bayes_search.cv_results_)\n",
        "  res_rand_2['iter_num'] = range(first_stop_iter_nums[params_set_num]+1, first_stop_iter_nums[params_set_num]+n_iter_search_sec+1)\n",
        "  res_rand_2['experiment_name']='bayes search for 2 group' \n",
        "  res_rand_2['run_number']=params_set_num\n",
        "\n",
        "  #fit last suitable params\n",
        "  best_params_second_group, sec_stop_iter_nums = group_best_params_with_stop(res_rand_2, \n",
        "                                                         stop_iter_num = stop_iter_num, \n",
        "                                                         left_iter_num=first_stop_iter_nums[params_set_num]+1, \n",
        "                                                         right_iter_num=n_iter_search_sec)\n",
        "  clf.set_params(**best_params_second_group[params_set_num])\n",
        "  print('done for second group')\n",
        "\n",
        "  #third group:\n",
        "  n_iter_search_third = 729 - sec_stop_iter_nums[params_set_num]\n",
        "  bayes_search = BayesSearchCV(estimator = clf, \n",
        "                                search_spaces = param_dist_group_3,  \n",
        "                                scoring = 'r2',\n",
        "                                cv = 5,\n",
        "                                n_iter = n_iter_search_third,\n",
        "                                iid=False, \n",
        "                                optimizer_kwargs={\n",
        "                                    \"acq_func\": \"EI\"\n",
        "                                    }\n",
        "                                )\n",
        "\n",
        "  bayes_search.fit(X, y)\n",
        "\n",
        "  res_rand_3=pd.DataFrame(bayes_search.cv_results_)\n",
        "  res_rand_3['iter_num'] = range(sec_stop_iter_nums[params_set_num]+1, 729+1)\n",
        "  res_rand_3['experiment_name']='bayes search for 3 group' \n",
        "  res_rand_3['run_number']=params_set_num\n",
        "\n",
        "  best_params_third_group, third_stop_iter_nums = group_best_params_with_stop(res_rand_3, \n",
        "                                                         stop_iter_num = stop_iter_num, \n",
        "                                                         left_iter_num=sec_stop_iter_nums[params_set_num]+1, \n",
        "                                                         right_iter_num=729)\n",
        "  res_rand_3=res_rand_3.loc[(res_rand_3['run_number']==params_set_num) & \\\n",
        "                          (res_rand_3['iter_num']<=int(third_stop_iter_nums[params_set_num]))]\n",
        "\n",
        "  res=pd.concat([res_rand_2,res_rand_3], sort=False)\n",
        "\n",
        "  sec_idxs = res.loc[res['experiment_name']=='bayes search for 2 group','iter_num'].values\n",
        "  third_idxs = res.loc[res['experiment_name']=='bayes search for 3 group','iter_num'].values\n",
        "  intersection = np.intersect1d(third_idxs, sec_idxs)\n",
        "\n",
        "  res = res.loc[~((res['experiment_name']=='bayes search for 2 group') & (res['iter_num'].isin(intersection)))]\n",
        "\n",
        "  res.to_csv(RES_SAVE_DIR+'/GR_BAYES_2_and_3_groups_with_stop_'+str(stop_iter_num)+'_'+str(params_set_num), index=False)\n",
        "  print('done for third group')\n",
        "  print(res.shape)"
      ],
      "execution_count": 0,
      "outputs": [
        {
          "output_type": "stream",
          "text": [
            "done for second group\n",
            "done for third group\n",
            "done for second group\n",
            "done for third group\n",
            "done for second group\n",
            "done for third group\n"
          ],
          "name": "stdout"
        }
      ]
    },
    {
      "cell_type": "code",
      "metadata": {
        "id": "-FdjDpOzGI6Y",
        "colab_type": "code",
        "colab": {}
      },
      "source": [
        ""
      ],
      "execution_count": 0,
      "outputs": []
    },
    {
      "cell_type": "code",
      "metadata": {
        "id": "ClCeD08OlO9u",
        "colab_type": "code",
        "outputId": "908e3766-f5ef-4ec0-c182-c7ab3fc9d76e",
        "colab": {
          "base_uri": "https://localhost:8080/",
          "height": 54
        }
      },
      "source": [
        "\"\"\"\n",
        "files = os.listdir(RES_SAVE_DIR)\n",
        "files = [x for x in files if x.find(\"GR_S_2_and_3_groups_with_\")!=-1]\n",
        "\n",
        "stop_iter_num = 100\n",
        "sec_stop_iter_nums={}\n",
        "for file_name in files:\n",
        "  df = pd.read_csv(RES_SAVE_DIR+'/fail_11/'+file_name)\n",
        "\n",
        "  sec_idxs = df.loc[df['experiment_name']=='random search for 2 group','iter_num'].values\n",
        "  third_idxs = df.loc[df['experiment_name']=='random search for 3 group','iter_num'].values\n",
        "  intersection = np.intersect1d(third_idxs, sec_idxs)\n",
        "\n",
        "  df = df.loc[~((df['experiment_name']=='random search for 2 group') & (df['iter_num'].isin(intersection)))]\n",
        "\n",
        "  params_set_num = np.unique(df['run_number'])[0]\n",
        "  \n",
        "  sec_stop_iter_nums[params_set_num]=np.max(df.loc[df['experiment_name']=='random search for 2 group','iter_num'])\n",
        "\n",
        "  res_rand_3 = df.loc[df['experiment_name']=='random search for 3 group']\n",
        "\n",
        "  best_params_third_group, third_stop_iter_nums = group_best_params_with_stop(res_rand_3, \n",
        "                                                         stop_iter_num = stop_iter_num, \n",
        "                                                         left_iter_num=sec_stop_iter_nums[params_set_num]+1, \n",
        "                                                         right_iter_num=729)\n",
        "  res_rand_3=res_rand_3.loc[(res_rand_3['run_number']==params_set_num) & \\\n",
        "                          (res_rand_3['iter_num']<=int(third_stop_iter_nums[params_set_num]))]\n",
        "  res_rand_2 = df.loc[df['experiment_name']=='random search for 2 group']\n",
        "  res=pd.concat([res_rand_2,res_rand_3], sort=False)\n",
        "  res.to_csv(RES_SAVE_DIR+'/GR_S_2_and_3_groups_with_'+str(stop_iter_num)+'_'+str(params_set_num), index=False)\n",
        "\n",
        "\n",
        "  print(df.shape)\n",
        "\"\"\""
      ],
      "execution_count": 0,
      "outputs": [
        {
          "output_type": "execute_result",
          "data": {
            "text/plain": [
              "'\\nfiles = os.listdir(RES_SAVE_DIR)\\nfiles = [x for x in files if x.find(\"GR_S_2_and_3_groups_with_\")!=-1]\\n\\nstop_iter_num = 100\\nsec_stop_iter_nums={}\\nfor file_name in files:\\n  df = pd.read_csv(RES_SAVE_DIR+\\'/fail_11/\\'+file_name)\\n\\n  sec_idxs = df.loc[df[\\'experiment_name\\']==\\'random search for 2 group\\',\\'iter_num\\'].values\\n  third_idxs = df.loc[df[\\'experiment_name\\']==\\'random search for 3 group\\',\\'iter_num\\'].values\\n  intersection = np.intersect1d(third_idxs, sec_idxs)\\n\\n  df = df.loc[~((df[\\'experiment_name\\']==\\'random search for 2 group\\') & (df[\\'iter_num\\'].isin(intersection)))]\\n\\n  params_set_num = np.unique(df[\\'run_number\\'])[0]\\n  \\n  sec_stop_iter_nums[params_set_num]=np.max(df.loc[df[\\'experiment_name\\']==\\'random search for 2 group\\',\\'iter_num\\'])\\n\\n  res_rand_3 = df.loc[df[\\'experiment_name\\']==\\'random search for 3 group\\']\\n\\n  best_params_third_group, third_stop_iter_nums = group_best_params_with_stop(res_rand_3, \\n                                                         stop_iter_num = stop_iter_num, \\n                                                         left_iter_num=sec_stop_iter_nums[params_set_num]+1, \\n                                                         right_iter_num=729)\\n  res_rand_3=res_rand_3.loc[(res_rand_3[\\'run_number\\']==params_set_num) &                           (res_rand_3[\\'iter_num\\']<=int(third_stop_iter_nums[params_set_num]))]\\n  res_rand_2 = df.loc[df[\\'experiment_name\\']==\\'random search for 2 group\\']\\n  res=pd.concat([res_rand_2,res_rand_3], sort=False)\\n  res.to_csv(RES_SAVE_DIR+\\'/GR_S_2_and_3_groups_with_\\'+str(stop_iter_num)+\\'_\\'+str(params_set_num), index=False)\\n\\n\\n  print(df.shape)\\n'"
            ]
          },
          "metadata": {
            "tags": []
          },
          "execution_count": 11
        }
      ]
    }
  ]
}