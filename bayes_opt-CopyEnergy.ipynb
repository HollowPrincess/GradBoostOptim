{
 "cells": [
  {
   "cell_type": "code",
   "execution_count": 1,
   "metadata": {},
   "outputs": [
    {
     "name": "stdout",
     "output_type": "stream",
     "text": [
      "env: CUDA_VISIBLE_DEVICES=7\n"
     ]
    }
   ],
   "source": [
    "%env CUDA_VISIBLE_DEVICES=7\n",
    "# ended"
   ]
  },
  {
   "cell_type": "code",
   "execution_count": 2,
   "metadata": {},
   "outputs": [],
   "source": [
    "#imports:\n",
    "import pandas as pd\n",
    "import numpy as np\n",
    "import math\n",
    "import os\n",
    "import json \n",
    "\n",
    "import xgboost\n",
    "from sklearn.metrics import r2_score\n",
    "from skopt import BayesSearchCV\n",
    "from skopt.space import Real, Space, Integer\n",
    "import time\n",
    "from tqdm import tqdm"
   ]
  },
  {
   "cell_type": "code",
   "execution_count": 3,
   "metadata": {},
   "outputs": [],
   "source": [
    "# from sklearn.model_selection import TimeSeriesSplit\n",
    "RES_SAVE_DIR = \"./data/\"\n",
    "\n",
    "dataset_name = \"physics\""
   ]
  },
  {
   "cell_type": "code",
   "execution_count": 4,
   "metadata": {},
   "outputs": [],
   "source": [
    "pjme = pd.read_csv('./data/input/training.csv.zip')#, index_col=[0], parse_dates=[0])\n",
    "def create_features(df, label=None):\n",
    "    \"\"\"\n",
    "    Creates time series features from datetime index\n",
    "    \"\"\"\n",
    "    df['date'] = df.index\n",
    "    df['hour'] = df['date'].dt.hour\n",
    "    df['dayofweek'] = df['date'].dt.dayofweek\n",
    "    df['quarter'] = df['date'].dt.quarter\n",
    "    df['month'] = df['date'].dt.month\n",
    "    df['year'] = df['date'].dt.year\n",
    "    df['dayofyear'] = df['date'].dt.dayofyear\n",
    "    df['dayofmonth'] = df['date'].dt.day\n",
    "    df['weekofyear'] = df['date'].dt.weekofyear\n",
    "    \n",
    "    X = df[['hour','dayofweek','quarter','month','year',\n",
    "           'dayofyear','dayofmonth','weekofyear']]\n",
    "    if label:\n",
    "        y = df[label]\n",
    "        return X, y\n",
    "    return X"
   ]
  },
  {
   "cell_type": "code",
   "execution_count": 5,
   "metadata": {},
   "outputs": [
    {
     "name": "stderr",
     "output_type": "stream",
     "text": [
      "/opt/conda/lib/python3.6/site-packages/ipykernel_launcher.py:14: FutureWarning: Series.dt.weekofyear and Series.dt.week have been deprecated.  Please use Series.dt.isocalendar().week instead.\n",
      "  \n"
     ]
    }
   ],
   "source": [
    "# get some data\n",
    "X, y = create_features(pjme, label='PJME_MW')\n",
    "dtrain = xgboost.DMatrix(X, label=y)"
   ]
  },
  {
   "cell_type": "code",
   "execution_count": null,
   "metadata": {},
   "outputs": [
    {
     "name": "stderr",
     "output_type": "stream",
     "text": [
      "  0%|          | 0/3 [00:00<?, ?it/s]"
     ]
    }
   ],
   "source": [
    "for i in tqdm(range(1, 4)):\n",
    "    bayes_cv_opt = BayesSearchCV(\n",
    "        estimator = xgboost.XGBRegressor(\n",
    "          base_score=0.5, booster='gbtree', colsample_bylevel=1,\n",
    "             colsample_bynode=1, colsample_bytree=1, gamma=0, \n",
    "             importance_type='gain', learning_rate=0.1, max_delta_step=0,\n",
    "             max_depth=3, min_child_weight=1, missing=None, n_estimators=100,\n",
    "             n_jobs=1, nthread=None, objective='reg:linear', random_state=0,\n",
    "             reg_alpha=0, reg_lambda=1, scale_pos_weight=1, seed=None,\n",
    "             silent=None, subsample=1, \n",
    "          tree_method = \"gpu_hist\", \n",
    "          gpu_id = 0, \n",
    "          verbosity = 0\n",
    "        ),\n",
    "        search_spaces = {\n",
    "            'min_child_weight': Integer(1, 20),\n",
    "            'max_depth': Integer(1, 20),\n",
    "            'subsample': Real(0.5, 0.9, 'uniform'),\n",
    "            'colsample_bytree': Real(0.5, 0.9, 'uniform'),\n",
    "            'reg_lambda': Real(0.0, 1.0, 'uniform'),\n",
    "            'reg_alpha': Real(0.0, 1.0, 'uniform'),        \n",
    "        },    \n",
    "        scoring = 'r2',\n",
    "        cv=TimeSeriesSplit(n_splits=3), #cv = 3,\n",
    "        n_iter = 729,\n",
    "        iid=False, \n",
    "        optimizer_kwargs={\n",
    "            \"acq_func\": \"EI\"\n",
    "            }\n",
    "    )\n",
    "\n",
    "    start = time.time()\n",
    "    bayes_cv_opt.fit(X, y)\n",
    "    print(\"Evaluate in {} sec\".format(time.time()-start))\n",
    "\n",
    "    print(\"val. score: %s\" % bayes_cv_opt.best_score_)\n",
    "    res=pd.DataFrame(bayes_cv_opt.cv_results_)\n",
    "    res['run_number']=i\n",
    "    res['experiment_name']=\"bayes_opt\"\n",
    "    res.to_csv(RES_SAVE_DIR + f\"bayes_opt_{i}_{dataset_name}.csv\", index=False)\n",
    "    print(f\"{i} completed\")\n"
   ]
  },
  {
   "cell_type": "code",
   "execution_count": 8,
   "metadata": {},
   "outputs": [
    {
     "name": "stdout",
     "output_type": "stream",
     "text": [
      "1\n"
     ]
    }
   ],
   "source": [
    "print(\"1\")"
   ]
  },
  {
   "cell_type": "code",
   "execution_count": null,
   "metadata": {},
   "outputs": [],
   "source": []
  }
 ],
 "metadata": {
  "kernelspec": {
   "display_name": "Python 3",
   "language": "python",
   "name": "python3"
  },
  "language_info": {
   "codemirror_mode": {
    "name": "ipython",
    "version": 3
   },
   "file_extension": ".py",
   "mimetype": "text/x-python",
   "name": "python",
   "nbconvert_exporter": "python",
   "pygments_lexer": "ipython3",
   "version": "3.6.10"
  }
 },
 "nbformat": 4,
 "nbformat_minor": 4
}
