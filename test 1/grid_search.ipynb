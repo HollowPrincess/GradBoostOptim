{
 "cells": [
  {
   "cell_type": "code",
   "execution_count": 0,
   "metadata": {
    "colab": {},
    "colab_type": "code",
    "id": "1hibMhqOFeSA"
   },
   "outputs": [],
   "source": [
    "#imports:\n",
    "import pandas as pd\n",
    "import numpy as np\n",
    "import math\n",
    "from time import time\n",
    "\n",
    "from sklearn.utils import shuffle\n",
    "\n",
    "import xgboost\n",
    "\n",
    "from scipy.stats import randint as sp_randint # int distribution for random search\n",
    "from scipy.stats import uniform # float distribution for random search\n",
    "from sklearn.model_selection import GridSearchCV\n",
    "from sklearn.model_selection import RandomizedSearchCV\n",
    "\n",
    "from matplotlib import pyplot as plt"
   ]
  },
  {
   "cell_type": "code",
   "execution_count": 2,
   "metadata": {
    "colab": {
     "base_uri": "https://localhost:8080/",
     "height": 124
    },
    "colab_type": "code",
    "collapsed": true,
    "executionInfo": {
     "elapsed": 23206,
     "status": "ok",
     "timestamp": 1575402447327,
     "user": {
      "displayName": "Света Сорокина",
      "photoUrl": "https://lh3.googleusercontent.com/a-/AAuE7mD4mfr_6sxUlbvVspkY1FW-ZT_JAX4yiTMHxVQ9=s64",
      "userId": "00408643672459262753"
     },
     "user_tz": -180
    },
    "id": "dKa26G9iFaEQ",
    "outputId": "e0e8a675-1894-4f5b-ce77-d1f89d59d352"
   },
   "outputs": [
    {
     "name": "stdout",
     "output_type": "stream",
     "text": [
      "Go to this URL in a browser: https://accounts.google.com/o/oauth2/auth?client_id=947318989803-6bn6qk8qdgf4n4g3pfee6491hc0brc4i.apps.googleusercontent.com&redirect_uri=urn%3aietf%3awg%3aoauth%3a2.0%3aoob&response_type=code&scope=email%20https%3a%2f%2fwww.googleapis.com%2fauth%2fdocs.test%20https%3a%2f%2fwww.googleapis.com%2fauth%2fdrive%20https%3a%2f%2fwww.googleapis.com%2fauth%2fdrive.photos.readonly%20https%3a%2f%2fwww.googleapis.com%2fauth%2fpeopleapi.readonly\n",
      "\n",
      "Enter your authorization code:\n",
      "··········\n",
      "Mounted at /mntDrive\n"
     ]
    }
   ],
   "source": [
    "from google.colab import drive \n",
    "drive.mount('/mntDrive') \n",
    "data=pd.read_csv(\"/mntDrive/My Drive/НИР магистратура/Оптимизация гиперпараметров алгоритмов градиентного бустинга/Практика/data/input/prepared_facebook_data.csv\")"
   ]
  },
  {
   "cell_type": "code",
   "execution_count": 3,
   "metadata": {
    "colab": {
     "base_uri": "https://localhost:8080/",
     "height": 34
    },
    "colab_type": "code",
    "executionInfo": {
     "elapsed": 666,
     "status": "ok",
     "timestamp": 1575404485605,
     "user": {
      "displayName": "Света Сорокина",
      "photoUrl": "https://lh3.googleusercontent.com/a-/AAuE7mD4mfr_6sxUlbvVspkY1FW-ZT_JAX4yiTMHxVQ9=s64",
      "userId": "00408643672459262753"
     },
     "user_tz": -180
    },
    "id": "HH8jUU6tFnsl",
    "outputId": "fce90342-8643-40e5-a329-eaa37a6fabe9"
   },
   "outputs": [
    {
     "name": "stdout",
     "output_type": "stream",
     "text": [
      "GridSearchCV took 1940.05 seconds for 729 candidate parameter settings.\n"
     ]
    }
   ],
   "source": [
    "# grid search\n",
    "# get some data\n",
    "X, y = data.iloc[:,:-1].values, data.iloc[:,-1].values\n",
    "\n",
    "# build a classifier\n",
    "clf = xgboost.XGBRegressor(tree_method = \"gpu_hist\", gpu_id=0, verbosity=0)\n",
    "\n",
    "# use a full grid over 4 parameters\n",
    "param_grid = {'max_depth': [2, 5, 8], 'min_child_weight': [2, 5, 8], \n",
    "              'alpha':[0.25,0.5,0.75], 'lambda':[0.25,0.5,0.75],\n",
    "              'subsample':[0.625, 0.75, 0.875],'colsample_bytree':[0.625, 0.75, 0.875]} \n",
    "\n",
    "# run grid search\n",
    "grid_search = GridSearchCV(clf, param_grid=param_grid, cv=5, scoring=\"r2\" ,iid=False)\n",
    "start = time()\n",
    "grid_search.fit(X, y)\n",
    "\n",
    "print(\"GridSearchCV took %.2f seconds for %d candidate parameter settings.\"\n",
    "      % (time() - start, len(grid_search.cv_results_['params'])))\n",
    "\n",
    "res_grid=pd.DataFrame(grid_search.cv_results_)\n",
    "res_grid['experiment_name']='grid search'"
   ]
  },
  {
   "cell_type": "code",
   "execution_count": 4,
   "metadata": {
    "colab": {
     "base_uri": "https://localhost:8080/",
     "height": 34
    },
    "colab_type": "code",
    "executionInfo": {
     "elapsed": 263,
     "status": "ok",
     "timestamp": 1575404485628,
     "user": {
      "displayName": "Света Сорокина",
      "photoUrl": "https://lh3.googleusercontent.com/a-/AAuE7mD4mfr_6sxUlbvVspkY1FW-ZT_JAX4yiTMHxVQ9=s64",
      "userId": "00408643672459262753"
     },
     "user_tz": -180
    },
    "id": "5mztZDdXFqBF",
    "outputId": "8363afa1-96c8-4041-b25a-25be668095ef"
   },
   "outputs": [
    {
     "name": "stdout",
     "output_type": "stream",
     "text": [
      "GridSearchCV took 2.02 seconds for 1 candidate parameter settings.\n"
     ]
    }
   ],
   "source": [
    "# run with default values\n",
    "default = GridSearchCV(clf, param_grid={'max_depth': [3]}, cv=5, scoring=\"r2\", iid=False)#default values\n",
    "start = time()\n",
    "default.fit(X, y)\n",
    "\n",
    "print(\"GridSearchCV took %.2f seconds for %d candidate parameter settings.\"\n",
    "      % (time() - start, len(default.cv_results_['params'])))\n",
    "\n",
    "default=pd.DataFrame(default.cv_results_)\n",
    "default['experiment_name']='default params'"
   ]
  },
  {
   "cell_type": "code",
   "execution_count": 0,
   "metadata": {
    "colab": {},
    "colab_type": "code",
    "id": "GnGnG7NiFure"
   },
   "outputs": [],
   "source": [
    "res= pd.concat([res_grid, default], sort=False)"
   ]
  },
  {
   "cell_type": "code",
   "execution_count": 0,
   "metadata": {
    "colab": {},
    "colab_type": "code",
    "id": "2CkzgbGRF7XY"
   },
   "outputs": [],
   "source": [
    "res.to_csv(\"res_grid_GPU.csv\",index=False)"
   ]
  },
  {
   "cell_type": "code",
   "execution_count": 0,
   "metadata": {
    "colab": {},
    "colab_type": "code",
    "id": "E5OwaHXTF3eT"
   },
   "outputs": [],
   "source": [
    "cp res_grid_GPU.csv \"/mntDrive/My Drive/НИР магистратура/Оптимизация гиперпараметров алгоритмов градиентного бустинга/Практика/data/results/xgboost_perfomance_grid_search_GPU.csv\""
   ]
  },
  {
   "cell_type": "code",
   "execution_count": 0,
   "metadata": {
    "colab": {},
    "colab_type": "code",
    "id": "v4o--jStO-6v"
   },
   "outputs": [],
   "source": []
  }
 ],
 "metadata": {
  "accelerator": "GPU",
  "colab": {
   "collapsed_sections": [],
   "name": "grid_search.ipynb",
   "provenance": []
  },
  "kernelspec": {
   "display_name": "Python 3",
   "language": "python",
   "name": "python3"
  },
  "language_info": {
   "codemirror_mode": {
    "name": "ipython",
    "version": 3
   },
   "file_extension": ".py",
   "mimetype": "text/x-python",
   "name": "python",
   "nbconvert_exporter": "python",
   "pygments_lexer": "ipython3",
   "version": "3.7.3"
  }
 },
 "nbformat": 4,
 "nbformat_minor": 1
}
