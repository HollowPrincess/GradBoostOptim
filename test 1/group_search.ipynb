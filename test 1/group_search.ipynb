{
 "cells": [
  {
   "cell_type": "code",
   "execution_count": null,
   "metadata": {
    "colab": {},
    "colab_type": "code",
    "id": "1hibMhqOFeSA"
   },
   "outputs": [],
   "source": [
    "#imports:\n",
    "import pandas as pd\n",
    "import numpy as np\n",
    "import math\n",
    "from time import time\n",
    "\n",
    "from sklearn.utils import shuffle\n",
    "\n",
    "import xgboost\n",
    "\n",
    "from scipy.stats import randint as sp_randint # int distribution for random search\n",
    "from scipy.stats import uniform # float distribution for random search\n",
    "from sklearn.model_selection import GridSearchCV\n",
    "from sklearn.model_selection import RandomizedSearchCV\n",
    "\n",
    "from matplotlib import pyplot as plt"
   ]
  },
  {
   "cell_type": "code",
   "execution_count": null,
   "metadata": {
    "colab": {
     "base_uri": "https://localhost:8080/",
     "height": 34
    },
    "colab_type": "code",
    "executionInfo": {
     "elapsed": 557,
     "status": "ok",
     "timestamp": 1575131284252,
     "user": {
      "displayName": "Света Сорокина",
      "photoUrl": "https://lh3.googleusercontent.com/a-/AAuE7mD4mfr_6sxUlbvVspkY1FW-ZT_JAX4yiTMHxVQ9=s64",
      "userId": "00408643672459262753"
     },
     "user_tz": -180
    },
    "id": "dKa26G9iFaEQ",
    "outputId": "91553878-123a-46b4-a26e-ecc26c9f3142"
   },
   "outputs": [],
   "source": [
    "from google.colab import drive \n",
    "drive.mount('/mntDrive') \n",
    "data=pd.read_csv(\"/mntDrive/My Drive/НИР магистратура/Оптимизация гиперпараметров алгоритмов градиентного бустинга/Практика/data/input/prepared_facebook_data.csv\")"
   ]
  },
  {
   "cell_type": "code",
   "execution_count": null,
   "metadata": {},
   "outputs": [],
   "source": [
    "%tensorflow_version 2.x\n",
    "import tensorflow as tf\n",
    "device_name = tf.test.gpu_device_name()\n",
    "if device_name != '/device:GPU:0':\n",
    "    raise SystemError('GPU device not found')\n",
    "print('Found GPU at: {}'.format(device_name))"
   ]
  },
  {
   "cell_type": "code",
   "execution_count": null,
   "metadata": {
    "colab": {
     "base_uri": "https://localhost:8080/",
     "height": 237
    },
    "colab_type": "code",
    "executionInfo": {
     "elapsed": 4007,
     "status": "error",
     "timestamp": 1575130653425,
     "user": {
      "displayName": "Света Сорокина",
      "photoUrl": "https://lh3.googleusercontent.com/a-/AAuE7mD4mfr_6sxUlbvVspkY1FW-ZT_JAX4yiTMHxVQ9=s64",
      "userId": "00408643672459262753"
     },
     "user_tz": -180
    },
    "id": "HH8jUU6tFnsl",
    "outputId": "9f9590d6-2b7b-440f-9dc8-760f0eba6121"
   },
   "outputs": [],
   "source": [
    "# grid search\n",
    "# get some data\n",
    "X, y = data.iloc[:,:-1].values, data.iloc[:,-1].values\n",
    "\n",
    "param_dist_group_1 = {\"max_depth\": sp_randint(3, 10),\n",
    "                  \"min_child_weight\": sp_randint(1, 10)}\n",
    "\n",
    "param_dist_group_2 = {\"alpha\": uniform(loc=0, scale=1),\n",
    "                  \"lambda\": uniform(loc=0, scale=1)}\n",
    "\n",
    "param_dist_group_3 = {\"subsample\":uniform(loc=0.5, scale=0.4),\n",
    "                  \"colsample_bytree\":uniform(loc=0.5, scale=0.4)}\n",
    "\n",
    "\n",
    "n_iter_search = 243"
   ]
  },
  {
   "cell_type": "code",
   "execution_count": null,
   "metadata": {},
   "outputs": [],
   "source": [
    "# random groups test\n",
    "# build a classifier\n",
    "clf = xgboost.XGBRegressor(tree_method = \"gpu_hist\", gpu_id=0, verbosity=0)\n",
    "\n",
    "#first group:\n",
    "random_search = RandomizedSearchCV(clf, param_distributions=param_dist_group_1,\n",
    "                                      n_iter=n_iter_search, cv=5, scoring=\"r2\", iid=False)\n",
    "\n",
    "start = time()\n",
    "random_search.fit(X, y)\n",
    "print(\"RandomizedSearchCV for first group took %.2f seconds for %d candidates\"\n",
    "          \" parameter settings.\" % ((time() - start), n_iter_search))\n",
    "\n",
    "\n",
    "res_rand_1=pd.DataFrame(random_search.cv_results_)\n",
    "res_rand_1['experiment_name']='random search for 1 group'      \n",
    "res_rand_1['run_number']=1\n",
    "\n",
    "clf.set_params(**random_search.best_params_)"
   ]
  },
  {
   "cell_type": "code",
   "execution_count": null,
   "metadata": {},
   "outputs": [],
   "source": [
    "\n",
    "#second group:\n",
    "random_search = RandomizedSearchCV(clf, param_distributions=param_dist_group_2,\n",
    "                                      n_iter=n_iter_search, cv=5, scoring=\"r2\", iid=False)\n",
    "\n",
    "start = time()\n",
    "random_search.fit(X, y)\n",
    "print(\"RandomizedSearchCV for second group took %.2f seconds for %d candidates\"\n",
    "          \" parameter settings.\" % ((time() - start), n_iter_search))\n",
    "\n",
    "res_rand_2=pd.DataFrame(random_search.cv_results_)\n",
    "res_rand_2['experiment_name']='random search for 2 group' \n",
    "res_rand_2['run_number']=1\n",
    "\n",
    "\n",
    "clf.set_params(**random_search.best_params_)"
   ]
  },
  {
   "cell_type": "code",
   "execution_count": null,
   "metadata": {},
   "outputs": [],
   "source": [
    "#third group:\n",
    "random_search = RandomizedSearchCV(clf, param_distributions=param_dist_group_3,\n",
    "                                      n_iter=n_iter_search, cv=5, scoring=\"r2\", iid=False)\n",
    "\n",
    "start = time()\n",
    "random_search.fit(X, y)\n",
    "print(\"RandomizedSearchCV for third group took %.2f seconds for %d candidates\"\n",
    "          \" parameter settings.\" % ((time() - start), n_iter_search))\n",
    "\n",
    "res_rand_3=pd.DataFrame(random_search.cv_results_)\n",
    "res_rand_3['experiment_name']='random search for 3 group' \n",
    "res_rand_3['run_number']=1"
   ]
  },
  {
   "cell_type": "code",
   "execution_count": null,
   "metadata": {
    "colab": {
     "base_uri": "https://localhost:8080/",
     "height": 167
    },
    "colab_type": "code",
    "executionInfo": {
     "elapsed": 554,
     "status": "error",
     "timestamp": 1575130653805,
     "user": {
      "displayName": "Света Сорокина",
      "photoUrl": "https://lh3.googleusercontent.com/a-/AAuE7mD4mfr_6sxUlbvVspkY1FW-ZT_JAX4yiTMHxVQ9=s64",
      "userId": "00408643672459262753"
     },
     "user_tz": -180
    },
    "id": "2CkzgbGRF7XY",
    "outputId": "2de60a00-ead4-4127-8a56-90ed3ba409ae"
   },
   "outputs": [],
   "source": [
    "res_1=pd.concat([res_rand_1,res_rand_2,res_rand_3])\n",
    "res_1.to_csv(\"res_groups_1.csv\",index=False)"
   ]
  },
  {
   "cell_type": "code",
   "execution_count": null,
   "metadata": {
    "colab": {},
    "colab_type": "code",
    "id": "E5OwaHXTF3eT"
   },
   "outputs": [],
   "source": [
    "cp res_groups_1.csv \"/mntDrive/My Drive/НИР магистратура/Оптимизация гиперпараметров алгоритмов градиентного бустинга/Практика/data/results/xgboost_perfomance_group_search_GPU_1.csv\""
   ]
  }
 ],
 "metadata": {
  "colab": {
   "collapsed_sections": [],
   "name": "group_search.ipynb",
   "provenance": []
  },
  "kernelspec": {
   "display_name": "Python 3",
   "language": "python",
   "name": "python3"
  },
  "language_info": {
   "codemirror_mode": {
    "name": "ipython",
    "version": 3
   },
   "file_extension": ".py",
   "mimetype": "text/x-python",
   "name": "python",
   "nbconvert_exporter": "python",
   "pygments_lexer": "ipython3",
   "version": "3.7.3"
  }
 },
 "nbformat": 4,
 "nbformat_minor": 1
}
