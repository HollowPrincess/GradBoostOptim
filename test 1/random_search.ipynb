{
 "cells": [
  {
   "cell_type": "code",
   "execution_count": null,
   "metadata": {
    "colab": {},
    "colab_type": "code",
    "id": "1hibMhqOFeSA"
   },
   "outputs": [],
   "source": [
    "#imports:\n",
    "import pandas as pd\n",
    "import numpy as np\n",
    "import math\n",
    "from time import time\n",
    "\n",
    "from sklearn.utils import shuffle\n",
    "\n",
    "import xgboost\n",
    "\n",
    "from scipy.stats import randint as sp_randint # int distribution for random search\n",
    "from scipy.stats import uniform # float distribution for random search\n",
    "from sklearn.model_selection import GridSearchCV\n",
    "from sklearn.model_selection import RandomizedSearchCV\n",
    "\n",
    "from matplotlib import pyplot as plt"
   ]
  },
  {
   "cell_type": "code",
   "execution_count": null,
   "metadata": {
    "colab": {
     "base_uri": "https://localhost:8080/",
     "height": 34
    },
    "colab_type": "code",
    "executionInfo": {
     "elapsed": 557,
     "status": "ok",
     "timestamp": 1575131284252,
     "user": {
      "displayName": "Света Сорокина",
      "photoUrl": "https://lh3.googleusercontent.com/a-/AAuE7mD4mfr_6sxUlbvVspkY1FW-ZT_JAX4yiTMHxVQ9=s64",
      "userId": "00408643672459262753"
     },
     "user_tz": -180
    },
    "id": "dKa26G9iFaEQ",
    "outputId": "91553878-123a-46b4-a26e-ecc26c9f3142"
   },
   "outputs": [],
   "source": [
    "from google.colab import drive \n",
    "drive.mount('/mntDrive') \n",
    "data=pd.read_csv(\"/mntDrive/My Drive/НИР магистратура/Оптимизация гиперпараметров алгоритмов градиентного бустинга/Практика/data/input/prepared_facebook_data.csv\")"
   ]
  },
  {
   "cell_type": "code",
   "execution_count": null,
   "metadata": {},
   "outputs": [],
   "source": [
    "%tensorflow_version 2.x\n",
    "import tensorflow as tf\n",
    "device_name = tf.test.gpu_device_name()\n",
    "if device_name != '/device:GPU:0':\n",
    "    raise SystemError('GPU device not found')\n",
    "print('Found GPU at: {}'.format(device_name))"
   ]
  },
  {
   "cell_type": "code",
   "execution_count": null,
   "metadata": {
    "colab": {
     "base_uri": "https://localhost:8080/",
     "height": 237
    },
    "colab_type": "code",
    "executionInfo": {
     "elapsed": 4007,
     "status": "error",
     "timestamp": 1575130653425,
     "user": {
      "displayName": "Света Сорокина",
      "photoUrl": "https://lh3.googleusercontent.com/a-/AAuE7mD4mfr_6sxUlbvVspkY1FW-ZT_JAX4yiTMHxVQ9=s64",
      "userId": "00408643672459262753"
     },
     "user_tz": -180
    },
    "id": "HH8jUU6tFnsl",
    "outputId": "9f9590d6-2b7b-440f-9dc8-760f0eba6121"
   },
   "outputs": [],
   "source": [
    "# random search\n",
    "# get some data\n",
    "X, y = data.iloc[:,:-1].values, data.iloc[:,-1].values\n",
    "\n",
    "# build a classifier\n",
    "clf = xgboost.XGBRegressor(tree_method = \"gpu_hist\", gpu_id=0, verbosity=0)\n",
    "\n",
    "# specify parameters and distributions\n",
    "param_dist = {\"max_depth\": sp_randint(1, 10),\n",
    "              \"min_child_weight\": sp_randint(1, 10),\n",
    "              \"alpha\": uniform(loc=0, scale=1),\n",
    "              \"lambda\": uniform(loc=0, scale=1),\n",
    "              \"subsample\":uniform(loc=0.5, scale=0.4),\n",
    "              \"colsample_bytree\":uniform(loc=0.5, scale=0.4)}\n",
    "\n",
    "n_iter_search = 729\n",
    "#res=pd.DataFrame()\n"
   ]
  },
  {
   "cell_type": "code",
   "execution_count": null,
   "metadata": {
    "colab": {
     "base_uri": "https://localhost:8080/",
     "height": 167
    },
    "colab_type": "code",
    "executionInfo": {
     "elapsed": 554,
     "status": "error",
     "timestamp": 1575130653805,
     "user": {
      "displayName": "Света Сорокина",
      "photoUrl": "https://lh3.googleusercontent.com/a-/AAuE7mD4mfr_6sxUlbvVspkY1FW-ZT_JAX4yiTMHxVQ9=s64",
      "userId": "00408643672459262753"
     },
     "user_tz": -180
    },
    "id": "2CkzgbGRF7XY",
    "outputId": "2de60a00-ead4-4127-8a56-90ed3ba409ae"
   },
   "outputs": [],
   "source": [
    "# run randomized search\n",
    "random_search = RandomizedSearchCV(clf, param_distributions=param_dist,\n",
    "                                      n_iter=n_iter_search, cv=5, scoring=\"r2\",iid=False)\n",
    "\n",
    "start = time()\n",
    "random_search.fit(X, y)\n",
    "work_t=time() - start\n",
    "print(\"RandomizedSearchCV took \", str(work_t))\n",
    "\n",
    "res_rand=pd.DataFrame(random_search.cv_results_)\n",
    "res_rand['run_number']=1\n",
    "#res=pd.concat([res, res_rand], sort=False)\n",
    "res_rand['experiment_name']=\"random search\"\n",
    "res_rand.to_csv(\"res_rand_1.csv\", index=False)"
   ]
  },
  {
   "cell_type": "code",
   "execution_count": null,
   "metadata": {
    "colab": {},
    "colab_type": "code",
    "id": "E5OwaHXTF3eT"
   },
   "outputs": [],
   "source": [
    "cp res_rand_1.csv \"/mntDrive/My Drive/НИР магистратура/Оптимизация гиперпараметров алгоритмов градиентного бустинга/Практика/data/results/xgboost_perfomance_random_search_GPU_1.csv\""
   ]
  }
 ],
 "metadata": {
  "colab": {
   "collapsed_sections": [],
   "name": "random_search.ipynb",
   "provenance": []
  },
  "kernelspec": {
   "display_name": "Python 3",
   "language": "python",
   "name": "python3"
  },
  "language_info": {
   "codemirror_mode": {
    "name": "ipython",
    "version": 3
   },
   "file_extension": ".py",
   "mimetype": "text/x-python",
   "name": "python",
   "nbconvert_exporter": "python",
   "pygments_lexer": "ipython3",
   "version": "3.7.3"
  }
 },
 "nbformat": 4,
 "nbformat_minor": 1
}
