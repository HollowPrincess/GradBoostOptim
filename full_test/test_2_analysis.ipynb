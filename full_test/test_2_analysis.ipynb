{
 "cells": [
  {
   "cell_type": "code",
   "execution_count": 1,
   "metadata": {},
   "outputs": [],
   "source": [
    "import os\n",
    "import json\n",
    "\n",
    "import pandas as pd\n",
    "import numpy as np\n",
    "\n",
    "from matplotlib import pyplot as plt"
   ]
  },
  {
   "cell_type": "code",
   "execution_count": 2,
   "metadata": {},
   "outputs": [],
   "source": [
    "plt.rcParams.update({'font.size': 12})"
   ]
  },
  {
   "cell_type": "code",
   "execution_count": 3,
   "metadata": {},
   "outputs": [],
   "source": [
    "dataset_name = 'prepared_facebook_data'\n",
    "folder_name = 'facebook_comm_vol'\n",
    "first_test_path= '../other_data_experiments/{}/first experiment/'.format(folder_name)\n",
    "second_test_path= '../other_data_experiments/{}/second experiment/'.format(folder_name)"
   ]
  },
  {
   "cell_type": "code",
   "execution_count": 4,
   "metadata": {},
   "outputs": [],
   "source": [
    "grid_file = first_test_path+\"res_grid_search_{}.csv\".format(dataset_name)\n",
    "random_search_files = [first_test_path+\"res_rand_{}_{}.csv\".format(dataset_name, i) \n",
    "                       for i in range(1,11)]\n",
    "first_group_files = [first_test_path+\"res_rand_groups_{}_{}.csv\".format(dataset_name, i) \n",
    "                       for i in range(1,11)]"
   ]
  },
  {
   "cell_type": "code",
   "execution_count": 5,
   "metadata": {},
   "outputs": [],
   "source": [
    "grid_df = pd.read_csv(grid_file, usecols = ['experiment_name',\n",
    "                                           'mean_test_score',\n",
    "                                           'params'])\n",
    "grid_df['run_number']=1\n",
    "grid_df['iter_num'] = range(1, grid_df.shape[0]+1)    \n",
    "\n",
    "default_df = pd.read_csv(first_test_path+\\\n",
    "                         \"res_default_{}.csv\".format(dataset_name), \n",
    "                         usecols = ['experiment_name',\n",
    "                                    'mean_test_score',\n",
    "                                    'params'])\n",
    "default_df['run_number']=1\n",
    "default_df['iter_num'] = range(1, default_df.shape[0]+1)    \n",
    "    \n",
    "random_df = pd.DataFrame([])\n",
    "for file_name in random_search_files:\n",
    "    file_df = pd.read_csv(file_name, \n",
    "                          usecols = ['experiment_name', 'mean_test_score',\n",
    "                                     'params','run_number'])\n",
    "    file_df['iter_num'] = range(1, file_df.shape[0]+1) \n",
    "    random_df = pd.concat([random_df, file_df], sort = False)"
   ]
  },
  {
   "cell_type": "code",
   "execution_count": 6,
   "metadata": {},
   "outputs": [],
   "source": [
    "iters_info = {}\n",
    "scores_info = {}"
   ]
  },
  {
   "cell_type": "markdown",
   "metadata": {},
   "source": [
    "### set stop criterion"
   ]
  },
  {
   "cell_type": "code",
   "execution_count": 83,
   "metadata": {},
   "outputs": [],
   "source": [
    "\n",
    "\n",
    "stop_iter_num = 10\n",
    "\n"
   ]
  },
  {
   "cell_type": "code",
   "execution_count": 84,
   "metadata": {},
   "outputs": [],
   "source": [
    "sec_and_third_group_files = [second_test_path+\\\n",
    "                             \"GR_S_2_and_3_groups_with_{}_{}_{}.csv\".format(\n",
    "    stop_iter_num, i, dataset_name)\n",
    "                             for i in range(1,11)]"
   ]
  },
  {
   "cell_type": "code",
   "execution_count": 85,
   "metadata": {},
   "outputs": [],
   "source": [
    "gr_2_and_3_df = pd.DataFrame([])\n",
    "for file_name in sec_and_third_group_files:\n",
    "    file_df = pd.read_csv(file_name, \n",
    "                              usecols = ['experiment_name', 'mean_test_score',\n",
    "                                         'params','run_number','iter_num'])\n",
    "    gr_2_and_3_df = pd.concat([gr_2_and_3_df, file_df], sort = False)"
   ]
  },
  {
   "cell_type": "code",
   "execution_count": 86,
   "metadata": {},
   "outputs": [],
   "source": [
    "run_iter = gr_2_and_3_df.loc[\n",
    "    gr_2_and_3_df['experiment_name']=='random search for 3 group'\n",
    "].groupby('run_number')['iter_num'].max().reset_index()"
   ]
  },
  {
   "cell_type": "code",
   "execution_count": 87,
   "metadata": {},
   "outputs": [],
   "source": [
    "params = gr_2_and_3_df.loc[\n",
    "    gr_2_and_3_df['experiment_name']=='random search for 3 group'\n",
    "].merge(run_iter, \n",
    "        left_on=['run_number', 'iter_num'], \n",
    "        right_on = ['run_number', 'iter_num'], \n",
    "        how = 'inner')"
   ]
  },
  {
   "cell_type": "code",
   "execution_count": 88,
   "metadata": {},
   "outputs": [],
   "source": [
    "end_of_first_part = gr_2_and_3_df.groupby(by='run_number')['iter_num'].min().to_dict()"
   ]
  },
  {
   "cell_type": "code",
   "execution_count": 89,
   "metadata": {},
   "outputs": [],
   "source": [
    "first_group_df = pd.DataFrame([])\n",
    "for file_name in first_group_files:\n",
    "    file_df = pd.read_csv(file_name, \n",
    "                          usecols = ['experiment_name', 'mean_test_score',\n",
    "                                     'params','run_number'])\n",
    "    file_df['iter_num'] = range(1, file_df.shape[0]+1) \n",
    "    run_num = np.unique(file_df['run_number'])[0]\n",
    "    file_df = file_df.loc[file_df['iter_num']<end_of_first_part[run_num]]\n",
    "    first_group_df = pd.concat([first_group_df, file_df], sort = False)"
   ]
  },
  {
   "cell_type": "code",
   "execution_count": 90,
   "metadata": {},
   "outputs": [],
   "source": [
    "full_df = pd.concat([first_group_df, gr_2_and_3_df], sort = False)"
   ]
  },
  {
   "cell_type": "code",
   "execution_count": 91,
   "metadata": {},
   "outputs": [
    {
     "name": "stdout",
     "output_type": "stream",
     "text": [
      "MEAN best score: 0.663936510347155\n",
      "STD best score: 0.001651014335774807\n"
     ]
    }
   ],
   "source": [
    "scores = full_df.groupby('run_number')['mean_test_score'].max()\n",
    "print(\"MEAN best score:\", np.mean(scores))\n",
    "print(\"STD best score:\", np.std(scores))"
   ]
  },
  {
   "cell_type": "code",
   "execution_count": 92,
   "metadata": {},
   "outputs": [],
   "source": [
    "iters_num = full_df.groupby(by='run_number')['iter_num'].max()"
   ]
  },
  {
   "cell_type": "code",
   "execution_count": 93,
   "metadata": {},
   "outputs": [
    {
     "name": "stdout",
     "output_type": "stream",
     "text": [
      "MEAN iters num: 468.4\n",
      "STD iters num: 51.34627542480565\n"
     ]
    }
   ],
   "source": [
    "print(\"MEAN iters num:\", np.mean(iters_num))\n",
    "print(\"STD iters num:\", np.std(iters_num))"
   ]
  },
  {
   "cell_type": "code",
   "execution_count": 94,
   "metadata": {},
   "outputs": [],
   "source": [
    "max_iter = np.max(iters_num)"
   ]
  },
  {
   "cell_type": "code",
   "execution_count": 95,
   "metadata": {},
   "outputs": [
    {
     "data": {
      "text/plain": [
       "554.0"
      ]
     },
     "execution_count": 95,
     "metadata": {},
     "output_type": "execute_result"
    }
   ],
   "source": [
    "max_iter"
   ]
  },
  {
   "cell_type": "code",
   "execution_count": 96,
   "metadata": {},
   "outputs": [
    {
     "name": "stderr",
     "output_type": "stream",
     "text": [
      "<ipython-input-96-4338ff2a0ca9>:1: FutureWarning: Indexing with multiple keys (implicitly converted to a tuple of keys) will be deprecated, use a list instead.\n",
      "  max_score_and_iter = full_df.groupby(by = 'run_number')['mean_test_score', 'iter_num'].max()\n"
     ]
    }
   ],
   "source": [
    "max_score_and_iter = full_df.groupby(by = 'run_number')['mean_test_score', 'iter_num'].max()"
   ]
  },
  {
   "cell_type": "code",
   "execution_count": 97,
   "metadata": {},
   "outputs": [],
   "source": [
    "full_df = full_df.loc[:, ['mean_test_score', 'iter_num', 'run_number']]"
   ]
  },
  {
   "cell_type": "code",
   "execution_count": 98,
   "metadata": {},
   "outputs": [],
   "source": [
    "# Продление конечной оценки до максимальной итерации \n",
    "# для отрисовки конца доверительного интервала"
   ]
  },
  {
   "cell_type": "code",
   "execution_count": 99,
   "metadata": {},
   "outputs": [],
   "source": [
    "list_for_extension = list(max_score_and_iter.loc[\n",
    "        max_score_and_iter.iter_num < max_iter].index)"
   ]
  },
  {
   "cell_type": "code",
   "execution_count": 100,
   "metadata": {},
   "outputs": [],
   "source": [
    "full_df = full_df.dropna(how = 'all')"
   ]
  },
  {
   "cell_type": "code",
   "execution_count": 101,
   "metadata": {},
   "outputs": [],
   "source": [
    "agg_df_GRS = full_df.groupby('run_number')['iter_num'].max().values\n",
    "\n",
    "iters_info['GRS_{}'.format(stop_iter_num)] = {\n",
    "    'mean':np.mean(agg_df_GRS), \n",
    "    'std':np.nanstd(agg_df_GRS)\n",
    "}\n"
   ]
  },
  {
   "cell_type": "code",
   "execution_count": 102,
   "metadata": {},
   "outputs": [],
   "source": [
    "for run_number in list_for_extension:\n",
    "    new_part_df = pd.DataFrame([], columns=full_df.columns)\n",
    "    new_part_df['iter_num']=range(int(max_score_and_iter.loc[run_number, 'iter_num']+1), \n",
    "                                  int(max_iter)+1)\n",
    "    new_part_df['run_number'] = run_number\n",
    "    new_part_df['mean_test_score'] = max_score_and_iter.loc[run_number, \n",
    "                                                            'mean_test_score']\n",
    "    full_df = pd.concat([full_df, new_part_df], sort = False)\n",
    "    \n",
    "stopped_full_df = pd.DataFrame([])\n",
    "for run_number in np.unique(full_df.run_number):\n",
    "    copy_df = full_df.loc[full_df.run_number == run_number].sort_values(by = 'iter_num')\n",
    "    copy_df['mean_test_score']=copy_df['mean_test_score'].cummax()\n",
    "    copy_df['run_number']=run_number\n",
    "    #full_df.loc[full_df.run_number == run_number]=full_df.loc[full_df.run_number == run_number].sort_values(by = 'iter_num')\n",
    "    #full_df.loc[full_df.run_number == run_number, 'mean_test_score'] = \\\n",
    "    #    full_df.loc[full_df.run_number == run_number, 'mean_test_score'].cummax()\n",
    "    stopped_full_df = pd.concat([stopped_full_df, copy_df], sort=False)\n"
   ]
  },
  {
   "cell_type": "code",
   "execution_count": 103,
   "metadata": {},
   "outputs": [],
   "source": [
    "full_df = stopped_full_df"
   ]
  },
  {
   "cell_type": "code",
   "execution_count": 104,
   "metadata": {},
   "outputs": [],
   "source": [
    "full_df['experiment_name']='group search'"
   ]
  },
  {
   "cell_type": "code",
   "execution_count": 105,
   "metadata": {},
   "outputs": [
    {
     "name": "stdout",
     "output_type": "stream",
     "text": [
      "MEAN iters num: 18.4\n",
      "STD iters num: 7.323933369440222\n"
     ]
    }
   ],
   "source": [
    "## RANDOM_SEARCH\n",
    "#get best scores per itration for each random_search performance:\n",
    "random_df_stopped=pd.DataFrame([])\n",
    "max_iters_for_RS = []\n",
    "for i in random_df.run_number.unique():    \n",
    "    tmp=pd.DataFrame(random_df.loc[random_df.run_number==i, \n",
    "                                   \"mean_test_score\"].copy().cummax())\n",
    "    tmp[\"iter_num\"]=random_df.loc[random_df.run_number==i, \"iter_num\"]\n",
    "    curr_max=tmp.groupby(\"mean_test_score\").count().reset_index()\n",
    "    max_score=curr_max.loc[curr_max[\"iter_num\"]>=stop_iter_num, \n",
    "                           \"mean_test_score\"].values[0]\n",
    "    \n",
    "    tmp_before=tmp.loc[tmp[\"mean_test_score\"]<max_score] #get steps before stop criterion\n",
    "    tmp_stop=tmp.loc[tmp[\"mean_test_score\"]==max_score].sort_values(by=\"iter_num\")\n",
    "    tmp_stop=tmp_stop.iloc[:stop_iter_num]\n",
    "    df_stopped=pd.concat([tmp_before, tmp_stop], sort = False)  \n",
    "    df_stopped['run_number']=i\n",
    "    max_iters_for_RS.append(df_stopped.shape[0])\n",
    "    random_df_stopped=pd.concat([random_df_stopped, df_stopped], sort=False)\n",
    "    \n",
    "    \n",
    "print(\"MEAN iters num:\", np.mean(max_iters_for_RS))\n",
    "print(\"STD iters num:\", np.std(max_iters_for_RS))"
   ]
  },
  {
   "cell_type": "code",
   "execution_count": 106,
   "metadata": {},
   "outputs": [
    {
     "data": {
      "text/plain": [
       "37"
      ]
     },
     "execution_count": 106,
     "metadata": {},
     "output_type": "execute_result"
    }
   ],
   "source": [
    "np.max(max_iters_for_RS)"
   ]
  },
  {
   "cell_type": "code",
   "execution_count": 107,
   "metadata": {},
   "outputs": [],
   "source": [
    "iters_info['RS_{}'.format(stop_iter_num)] = {\n",
    "    'mean':np.mean(max_iters_for_RS), \n",
    "    'std':np.nanstd(max_iters_for_RS)\n",
    "}"
   ]
  },
  {
   "cell_type": "code",
   "execution_count": 108,
   "metadata": {},
   "outputs": [],
   "source": [
    "last_iter = random_df_stopped.groupby(by = 'run_number')['iter_num'].max().reset_index()"
   ]
  },
  {
   "cell_type": "code",
   "execution_count": 109,
   "metadata": {},
   "outputs": [
    {
     "name": "stderr",
     "output_type": "stream",
     "text": [
      "<ipython-input-109-a7549ac0e79a>:2: FutureWarning: Indexing with multiple keys (implicitly converted to a tuple of keys) will be deprecated, use a list instead.\n",
      "  max_score_and_iter_RS = random_df_stopped.groupby(by = 'run_number')['mean_test_score', 'iter_num'].max()\n"
     ]
    }
   ],
   "source": [
    "max_iter = np.max(max_iters_for_RS)\n",
    "max_score_and_iter_RS = random_df_stopped.groupby(by = 'run_number')['mean_test_score', 'iter_num'].max()\n",
    "for run_number in list(max_score_and_iter_RS.loc[\n",
    "        max_score_and_iter_RS.iter_num < max_iter].index):\n",
    "    new_part_df = pd.DataFrame([], columns=random_df_stopped.columns )\n",
    "    new_part_df['iter_num']=range(int(max_score_and_iter_RS.loc[run_number, 'iter_num']+1), \n",
    "                                  int(max_iter)+1)\n",
    "    new_part_df[['mean_test_score', 'run_number']] = max_score_and_iter_RS.loc[run_number, 'mean_test_score'], run_number\n",
    "    random_df_stopped = pd.concat([random_df_stopped, new_part_df])\n",
    "random_df_stopped['experiment_name']='random search'   "
   ]
  },
  {
   "cell_type": "code",
   "execution_count": 110,
   "metadata": {},
   "outputs": [],
   "source": [
    "#get info for grid and deafault"
   ]
  },
  {
   "cell_type": "code",
   "execution_count": 111,
   "metadata": {},
   "outputs": [],
   "source": [
    "DIR_WITH_GRAPHS='../other_data_experiments/{}/'.format(folder_name)+\"graphs/\""
   ]
  },
  {
   "cell_type": "code",
   "execution_count": 112,
   "metadata": {},
   "outputs": [
    {
     "data": {
      "image/png": "[encoded data removed]",
      "text/plain": [
       "<Figure size 1080x504 with 1 Axes>"
      ]
     },
     "metadata": {
      "needs_background": "light"
     },
     "output_type": "display_data"
    }
   ],
   "source": [
    "# Data with stop criterion\n",
    "# stop if the cumulative score hasn't grown in \"stop_iter_num\" iterations\n",
    "# GRID_SEARCH\n",
    "#get best scores per itration for grid_search performance:\n",
    "grid_perf=grid_df.loc[grid_df['experiment_name']!='default params',\n",
    "                      'mean_test_score'].cummax()\n",
    "\n",
    "\n",
    "## RANDOM_SEARCH\n",
    "# get best scores per itration for each random_search performance:\n",
    "# random_df_stopped\n",
    "    \n",
    "#get mean and confidence interval value for random_search performance on iteration:    \n",
    "\n",
    "z = 1.96 # for 95% conf interval (coefficient)\n",
    "# z = 1.64 # for 90% conf interval\n",
    "\n",
    "n=10\n",
    "random_std=random_df_stopped.groupby(by=\"iter_num\")['mean_test_score'].std() #std\n",
    "random_std=(random_std*z)/np.sqrt(n) #confidence interval value \n",
    "random_mean=random_df_stopped.groupby(by=\"iter_num\")['mean_test_score'].mean() #mean\n",
    "\n",
    "\n",
    "## GROUP_SEARCH\n",
    "#get best scores per itration for each group_search performance (same computations):\n",
    "\n",
    "n=10\n",
    "group_std=full_df.groupby(by=\"iter_num\")['mean_test_score'].std()\n",
    "group_std=(group_std*z)/np.sqrt(n) \n",
    "group_std=group_std.fillna(0)\n",
    "group_mean=full_df.groupby(by=\"iter_num\")['mean_test_score'].mean()\n",
    "\n",
    "## DEFAULT performance\n",
    "default_perf=default_df.loc[:,'mean_test_score'].values[0]\n",
    "\n",
    "\n",
    "## PLOT\n",
    "plt.figure(figsize=(15,7))\n",
    "plt.grid()\n",
    "\n",
    "#grid plot:\n",
    "x=list(range(0, grid_perf.shape[0]))\n",
    "plt.plot(x, grid_perf, label=\"Поиск по сетке\")\n",
    "\n",
    "#conf for random:\n",
    "x=list(range(0, random_mean.shape[0]))\n",
    "plt.plot(x, random_mean, color=\"y\", label=\"Случайный поиск без разбиения на группы\")\n",
    "lower_random=random_mean - random_std\n",
    "upper_random=random_mean + random_std\n",
    "plt.plot(x, lower_random, alpha=0.7, color=\"y\")\n",
    "plt.plot(x, upper_random, alpha=0.7, color=\"y\")\n",
    "plt.fill_between(x, lower_random, upper_random, alpha=0.1, color=\"y\") \n",
    "\n",
    "#conf for group:\n",
    "x=list(range(0, group_mean.shape[0]))\n",
    "plt.plot(x, group_mean, color=\"green\", label=\"Случайный поиск с разбиением на группы\")\n",
    "lower_group=group_mean - group_std\n",
    "upper_group=group_mean + group_std\n",
    "plt.plot(x, lower_group, alpha=0.5, color=\"green\")\n",
    "plt.plot(x, upper_group, alpha=0.5, color=\"green\")\n",
    "plt.fill_between(x, lower_group, upper_group, alpha=0.1, color=\"green\")\n",
    "\n",
    "#line for default values\n",
    "plt.axhline(default_perf, label=\"Параметры по умолчанию\", color='r')\n",
    "\n",
    "plt.legend()\n",
    "plt.title(\"Кривые обучения для эксперимента с критерием остановки равному {} итерациям\".format(stop_iter_num))\n",
    "plt.ylabel(\"Оценка R-квадрат\")\n",
    "plt.xlabel(\"Номер итерации\")\n",
    "plt.savefig(DIR_WITH_GRAPHS+\"scores_with_stop_{} {}.jpg\".format(stop_iter_num, \n",
    "                                                                   dataset_name))\n",
    "plt.show()"
   ]
  },
  {
   "cell_type": "code",
   "execution_count": 113,
   "metadata": {},
   "outputs": [],
   "source": [
    "agg_df_GRS = full_df.groupby('run_number')['mean_test_score'].max().values\n",
    "agg_df_RS = random_df_stopped.groupby('run_number')['mean_test_score'].max().values"
   ]
  },
  {
   "cell_type": "code",
   "execution_count": 114,
   "metadata": {},
   "outputs": [],
   "source": [
    "scores_info['GRS_{}'.format(stop_iter_num)] = {\n",
    "    'mean':np.mean(agg_df_GRS), \n",
    "    'std':np.nanstd(agg_df_GRS)\n",
    "}\n",
    "scores_info['RS_{}'.format(stop_iter_num)] = {\n",
    "    'mean':np.mean(agg_df_RS), \n",
    "    'std':np.nanstd(agg_df_RS)\n",
    "}"
   ]
  },
  {
   "cell_type": "code",
   "execution_count": null,
   "metadata": {},
   "outputs": [],
   "source": []
  },
  {
   "cell_type": "code",
   "execution_count": null,
   "metadata": {},
   "outputs": [],
   "source": []
  },
  {
   "cell_type": "code",
   "execution_count": null,
   "metadata": {},
   "outputs": [],
   "source": []
  },
  {
   "cell_type": "code",
   "execution_count": 115,
   "metadata": {},
   "outputs": [
    {
     "data": {
      "text/plain": [
       "{'GRS_50': {'mean': 0.663936510347155, 'std': 0.001651014335774807},\n",
       " 'RS_50': {'mean': 0.6636493329516642, 'std': 0.0011570015726666528},\n",
       " 'GRS_25': {'mean': 0.663936510347155, 'std': 0.001651014335774807},\n",
       " 'RS_25': {'mean': 0.6629300025891549, 'std': 0.0014621534623719566},\n",
       " 'GRS_10': {'mean': 0.663936510347155, 'std': 0.001651014335774807},\n",
       " 'RS_10': {'mean': 0.6617711189273625, 'std': 0.002578278215751294}}"
      ]
     },
     "execution_count": 115,
     "metadata": {},
     "output_type": "execute_result"
    }
   ],
   "source": [
    "scores_info"
   ]
  },
  {
   "cell_type": "code",
   "execution_count": 116,
   "metadata": {},
   "outputs": [
    {
     "data": {
      "text/plain": [
       "{'GRS_50': {'mean': 573.4, 'std': 122.71120568228478},\n",
       " 'RS_50': {'mean': 77.5, 'std': 23.165707414193076},\n",
       " 'GRS_25': {'mean': 569.6, 'std': 95.3553354563865},\n",
       " 'RS_25': {'mean': 42.7, 'std': 19.02656038279121},\n",
       " 'GRS_10': {'mean': 468.4, 'std': 51.34627542480564},\n",
       " 'RS_10': {'mean': 18.4, 'std': 7.323933369440222}}"
      ]
     },
     "execution_count": 116,
     "metadata": {},
     "output_type": "execute_result"
    }
   ],
   "source": [
    "iters_info"
   ]
  },
  {
   "cell_type": "code",
   "execution_count": 117,
   "metadata": {},
   "outputs": [],
   "source": [
    "with open(second_test_path + \"scores_info.txt\", 'w') as outfile:\n",
    "    json.dump(scores_info, outfile)\n",
    "    \n",
    "\n",
    "with open(second_test_path + \"iters_info.txt\", 'w') as outfile:\n",
    "    json.dump(iters_info, outfile)\n",
    "\n"
   ]
  },
  {
   "cell_type": "code",
   "execution_count": null,
   "metadata": {},
   "outputs": [],
   "source": []
  }
 ],
 "metadata": {
  "kernelspec": {
   "display_name": "Python 3",
   "language": "python",
   "name": "python3"
  },
  "language_info": {
   "codemirror_mode": {
    "name": "ipython",
    "version": 3
   },
   "file_extension": ".py",
   "mimetype": "text/x-python",
   "name": "python",
   "nbconvert_exporter": "python",
   "pygments_lexer": "ipython3",
   "version": "3.8.5"
  }
 },
 "nbformat": 4,
 "nbformat_minor": 2
}
