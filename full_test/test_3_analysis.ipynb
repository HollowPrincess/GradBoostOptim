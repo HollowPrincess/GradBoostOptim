{
 "cells": [
  {
   "cell_type": "code",
   "execution_count": 1,
   "metadata": {},
   "outputs": [],
   "source": [
    "import os\n",
    "import json\n",
    "import ndjson\n",
    "\n",
    "import pandas as pd\n",
    "import numpy as np\n",
    "\n",
    "from matplotlib import pyplot as plt\n",
    "\n",
    "plt.rcParams.update({'font.size': 12})"
   ]
  },
  {
   "cell_type": "code",
   "execution_count": 2,
   "metadata": {},
   "outputs": [],
   "source": [
    "dataset_name = 'prepared_facebook_data'\n",
    "folder_name = 'facebook_comm_vol'\n",
    "DIR_WITH_FILES= f'../other_data_experiments/{folder_name}/third experiment/'\n",
    "FILES_PARENT_DIR = f'../other_data_experiments/{folder_name}/'\n",
    "GRAPHS_DIR = f'../other_data_experiments/{folder_name}/graphs/3exp/'"
   ]
  },
  {
   "cell_type": "code",
   "execution_count": 3,
   "metadata": {},
   "outputs": [],
   "source": [
    "# grid, random and group search without stop:\n",
    "files=os.listdir(FILES_PARENT_DIR+'first experiment/')\n",
    "grid_files = [s for s in files if \"grid\" in s] # files with results for grid search\n",
    "random_search_files = [s for s in files if \"res_rand_prepared\" in s] \n",
    "group_files = [s for s in files if \"groups\" in s] "
   ]
  },
  {
   "cell_type": "code",
   "execution_count": 4,
   "metadata": {},
   "outputs": [],
   "source": [
    "files=os.listdir(FILES_PARENT_DIR+'third experiment/')\n",
    "bayes_files = [x for x in files if \"bayes_opt\" in x]"
   ]
  },
  {
   "cell_type": "code",
   "execution_count": 5,
   "metadata": {},
   "outputs": [],
   "source": [
    "bayes_group_files = os.listdir(FILES_PARENT_DIR+'third experiment/groups')\n",
    "bayes_group_files = [x for x in bayes_group_files if \"res_BO_groups\" in x]"
   ]
  },
  {
   "cell_type": "code",
   "execution_count": 6,
   "metadata": {},
   "outputs": [],
   "source": [
    "for (array, path) in zip([bayes_files, bayes_group_files], ['third experiment/', 'third experiment/groups/']):\n",
    "    for file in array:\n",
    "        df = pd.read_csv(FILES_PARENT_DIR + path + file)\n",
    "        num=int(file.split(\".\")[0].split(\"_\")[-1])\n",
    "        df['run_number']=num\n",
    "        #df = df.drop(columns=['Unnamed: 0'])\n",
    "        df.to_csv(FILES_PARENT_DIR+path+file, index = False)"
   ]
  },
  {
   "cell_type": "code",
   "execution_count": 7,
   "metadata": {},
   "outputs": [],
   "source": [
    "# prepare dataframes:"
   ]
  },
  {
   "cell_type": "code",
   "execution_count": 8,
   "metadata": {},
   "outputs": [],
   "source": [
    "default_perf = pd.read_csv(FILES_PARENT_DIR+'first experiment/'+f\"res_default_{dataset_name}.csv\", usecols = [\n",
    "                                                                     'mean_test_score'])"
   ]
  },
  {
   "cell_type": "code",
   "execution_count": 9,
   "metadata": {},
   "outputs": [],
   "source": [
    "grid_df=pd.DataFrame([])\n",
    "for file_name in grid_files:\n",
    "    df = pd.read_csv(FILES_PARENT_DIR+'first experiment/'+file_name, usecols = ['experiment_name',\n",
    "                                                                     'mean_test_score'])\n",
    "    \n",
    "    df['iter_num']=1\n",
    "    df.loc[df['experiment_name']!='default params', \n",
    "           'iter_num'] = range(1, df.loc[df['experiment_name']!='default params'].shape[0]+1)\n",
    "    \n",
    "    grid_df = pd.concat([grid_df, df], sort=False)\n",
    "    \n",
    "random_df = pd.DataFrame([])\n",
    "for file_name in random_search_files:\n",
    "    file_df = pd.read_csv(FILES_PARENT_DIR+'first experiment/' + file_name, \n",
    "                              usecols = ['experiment_name', 'mean_test_score',\n",
    "                                         'run_number'])\n",
    "    file_df['iter_num'] = range(1, file_df.shape[0]+1) \n",
    "    random_df = pd.concat([random_df, file_df], sort = False)\n",
    "    \n",
    "group_df = pd.DataFrame([])\n",
    "for file_name in group_files:\n",
    "    file_df = pd.read_csv(FILES_PARENT_DIR+'first experiment/' + file_name, \n",
    "                              usecols = ['experiment_name', 'mean_test_score',\n",
    "                                         'run_number'])\n",
    "    file_df['iter_num'] = range(1, file_df.shape[0]+1) \n",
    "    group_df = pd.concat([group_df, file_df], sort = False)\n",
    "    \n",
    "    \n",
    "bayes_df = pd.DataFrame([])\n",
    "for file_name in bayes_files:\n",
    "    file_df = pd.read_csv(DIR_WITH_FILES + file_name, \n",
    "                              usecols = ['experiment_name', 'mean_test_score',\n",
    "                                         'run_number', \n",
    "                                         'mean_fit_time', 'std_fit_time',\n",
    "                                         'mean_score_time', 'std_score_time'])\n",
    "    file_df['iter_num'] = range(1, file_df.shape[0]+1) \n",
    "    file_df['mean_time'] = 3*(file_df['mean_fit_time']+file_df['mean_score_time'])\n",
    "    \n",
    "    \n",
    "#     file_df = file_df.drop(columns = ['mean_fit_time', \n",
    "#                                       'mean_score_time',\n",
    "#                                       'mean_time'])\n",
    "    bayes_df = pd.concat([bayes_df, file_df], sort = False)\n",
    "\n",
    "\n",
    "bayes_group_df = pd.DataFrame([])\n",
    "for file_name in bayes_group_files:\n",
    "    file_df = pd.read_csv(DIR_WITH_FILES + \"groups/\" + file_name, \n",
    "                              usecols = ['experiment_name', 'mean_test_score',\n",
    "                                         'run_number', \n",
    "                                         'mean_fit_time', 'std_fit_time',\n",
    "                                         'mean_score_time', 'std_score_time'])\n",
    "    file_df['iter_num'] = range(1, file_df.shape[0]+1) \n",
    "    file_df['mean_time'] = 3*(file_df['mean_fit_time']+file_df['mean_score_time'])\n",
    "    \n",
    "#     file_df = file_df.drop(columns = ['mean_fit_time', 'mean_score_time', 'mean_time'])\n",
    "    bayes_group_df = pd.concat([bayes_group_df, file_df], sort = False)"
   ]
  },
  {
   "cell_type": "code",
   "execution_count": null,
   "metadata": {},
   "outputs": [],
   "source": []
  },
  {
   "cell_type": "code",
   "execution_count": 68,
   "metadata": {},
   "outputs": [],
   "source": [
    "# get best scores and iter num\n",
    "def get_best_info(df, name):\n",
    "    grpby = df.groupby(['run_number', 'experiment_name'])\n",
    "    best_scores = grpby['mean_test_score'].max().reset_index()\n",
    "    best_iter = df.merge(best_scores, on =['run_number', 'mean_test_score', 'experiment_name']\n",
    "                        ).groupby(['run_number', 'experiment_name'])['iter_num'].min().reset_index()\n",
    "    best_info = best_iter.merge(best_scores)\n",
    "    best_info['experiment_name']=name\n",
    "    return best_info\n",
    "    \n",
    "best_info = pd.DataFrame([])\n",
    "\n",
    "all_dfs = [bayes_group_df, bayes_df, \n",
    "           random_df, group_df]\n",
    "names = ['bayes_group_df', 'bayes_df', \n",
    "         'random_search', 'random_search_with_groups']\n",
    "for df, name in zip(all_dfs, names):\n",
    "    best_info = pd.concat([best_info, get_best_info(df, name)], sort=False)\n",
    "    for i in df.run_number.unique():    \n",
    "        df.loc[df.run_number==i, \"mean_test_score\"] = (\n",
    "            df.loc[df.run_number==i, \"mean_test_score\"].copy().cummax()\n",
    "        )"
   ]
  },
  {
   "cell_type": "code",
   "execution_count": 77,
   "metadata": {},
   "outputs": [
    {
     "data": {
      "text/plain": [
       "719"
      ]
     },
     "execution_count": 77,
     "metadata": {},
     "output_type": "execute_result"
    }
   ],
   "source": [
    "best_info[best_info.experiment_name=='random_search_with_groups'].groupby(['experiment_name', 'run_number']).max()['iter_num'].max()"
   ]
  },
  {
   "cell_type": "code",
   "execution_count": 76,
   "metadata": {},
   "outputs": [
    {
     "data": {
      "text/plain": [
       "0                bayes_group_df\n",
       "1                bayes_group_df\n",
       "2                bayes_group_df\n",
       "3                bayes_group_df\n",
       "4                bayes_group_df\n",
       "                ...            \n",
       "25    random_search_with_groups\n",
       "26    random_search_with_groups\n",
       "27    random_search_with_groups\n",
       "28    random_search_with_groups\n",
       "29    random_search_with_groups\n",
       "Name: experiment_name, Length: 80, dtype: object"
      ]
     },
     "execution_count": 76,
     "metadata": {},
     "output_type": "execute_result"
    }
   ],
   "source": [
    "best_info.experiment_name"
   ]
  },
  {
   "cell_type": "code",
   "execution_count": 11,
   "metadata": {},
   "outputs": [],
   "source": [
    "best_grpby = best_info.groupby(['experiment_name'])\n",
    "means = best_grpby.mean()\n",
    "mins = best_grpby.min()\n",
    "maxs = best_grpby.max()\n",
    "stds = best_grpby.std()"
   ]
  },
  {
   "cell_type": "code",
   "execution_count": 12,
   "metadata": {},
   "outputs": [
    {
     "data": {
      "text/html": [
       "<div>\n",
       "<style scoped>\n",
       "    .dataframe tbody tr th:only-of-type {\n",
       "        vertical-align: middle;\n",
       "    }\n",
       "\n",
       "    .dataframe tbody tr th {\n",
       "        vertical-align: top;\n",
       "    }\n",
       "\n",
       "    .dataframe thead th {\n",
       "        text-align: right;\n",
       "    }\n",
       "</style>\n",
       "<table border=\"1\" class=\"dataframe\">\n",
       "  <thead>\n",
       "    <tr style=\"text-align: right;\">\n",
       "      <th></th>\n",
       "      <th>run_number</th>\n",
       "      <th>iter_num</th>\n",
       "      <th>mean_test_score</th>\n",
       "    </tr>\n",
       "    <tr>\n",
       "      <th>experiment_name</th>\n",
       "      <th></th>\n",
       "      <th></th>\n",
       "      <th></th>\n",
       "    </tr>\n",
       "  </thead>\n",
       "  <tbody>\n",
       "    <tr>\n",
       "      <th>bayes_df</th>\n",
       "      <td>10</td>\n",
       "      <td>713</td>\n",
       "      <td>0.673705</td>\n",
       "    </tr>\n",
       "    <tr>\n",
       "      <th>bayes_group_df</th>\n",
       "      <td>10</td>\n",
       "      <td>688</td>\n",
       "      <td>0.672896</td>\n",
       "    </tr>\n",
       "    <tr>\n",
       "      <th>random_search</th>\n",
       "      <td>10</td>\n",
       "      <td>717</td>\n",
       "      <td>0.670112</td>\n",
       "    </tr>\n",
       "    <tr>\n",
       "      <th>random_search_with_groups</th>\n",
       "      <td>10</td>\n",
       "      <td>719</td>\n",
       "      <td>0.670311</td>\n",
       "    </tr>\n",
       "  </tbody>\n",
       "</table>\n",
       "</div>"
      ],
      "text/plain": [
       "                           run_number  iter_num  mean_test_score\n",
       "experiment_name                                                 \n",
       "bayes_df                           10       713         0.673705\n",
       "bayes_group_df                     10       688         0.672896\n",
       "random_search                      10       717         0.670112\n",
       "random_search_with_groups          10       719         0.670311"
      ]
     },
     "execution_count": 12,
     "metadata": {},
     "output_type": "execute_result"
    }
   ],
   "source": [
    "maxs"
   ]
  },
  {
   "cell_type": "code",
   "execution_count": 13,
   "metadata": {},
   "outputs": [
    {
     "data": {
      "text/html": [
       "<div>\n",
       "<style scoped>\n",
       "    .dataframe tbody tr th:only-of-type {\n",
       "        vertical-align: middle;\n",
       "    }\n",
       "\n",
       "    .dataframe tbody tr th {\n",
       "        vertical-align: top;\n",
       "    }\n",
       "\n",
       "    .dataframe thead th {\n",
       "        text-align: right;\n",
       "    }\n",
       "</style>\n",
       "<table border=\"1\" class=\"dataframe\">\n",
       "  <thead>\n",
       "    <tr style=\"text-align: right;\">\n",
       "      <th></th>\n",
       "      <th>run_number</th>\n",
       "      <th>iter_num</th>\n",
       "      <th>mean_test_score</th>\n",
       "    </tr>\n",
       "    <tr>\n",
       "      <th>experiment_name</th>\n",
       "      <th></th>\n",
       "      <th></th>\n",
       "      <th></th>\n",
       "    </tr>\n",
       "  </thead>\n",
       "  <tbody>\n",
       "    <tr>\n",
       "      <th>bayes_df</th>\n",
       "      <td>1</td>\n",
       "      <td>176</td>\n",
       "      <td>0.668561</td>\n",
       "    </tr>\n",
       "    <tr>\n",
       "      <th>bayes_group_df</th>\n",
       "      <td>1</td>\n",
       "      <td>287</td>\n",
       "      <td>0.667608</td>\n",
       "    </tr>\n",
       "    <tr>\n",
       "      <th>random_search</th>\n",
       "      <td>1</td>\n",
       "      <td>145</td>\n",
       "      <td>0.664907</td>\n",
       "    </tr>\n",
       "    <tr>\n",
       "      <th>random_search_with_groups</th>\n",
       "      <td>1</td>\n",
       "      <td>521</td>\n",
       "      <td>0.665503</td>\n",
       "    </tr>\n",
       "  </tbody>\n",
       "</table>\n",
       "</div>"
      ],
      "text/plain": [
       "                           run_number  iter_num  mean_test_score\n",
       "experiment_name                                                 \n",
       "bayes_df                            1       176         0.668561\n",
       "bayes_group_df                      1       287         0.667608\n",
       "random_search                       1       145         0.664907\n",
       "random_search_with_groups           1       521         0.665503"
      ]
     },
     "execution_count": 13,
     "metadata": {},
     "output_type": "execute_result"
    }
   ],
   "source": [
    "mins"
   ]
  },
  {
   "cell_type": "code",
   "execution_count": 14,
   "metadata": {},
   "outputs": [
    {
     "data": {
      "image/png": "[encoded data removed]",
      "text/plain": [
       "<Figure size 1080x504 with 1 Axes>"
      ]
     },
     "metadata": {
      "needs_background": "light"
     },
     "output_type": "display_data"
    }
   ],
   "source": [
    "# Data with stop criterion\n",
    "# stop if the cumulative score hasn't grown in \"stop_iter_num\" iterations\n",
    "# GRID_SEARCH\n",
    "#get best scores per itration for grid_search performance:\n",
    "grid_perf=grid_df.loc[grid_df['experiment_name']!='default params',\n",
    "                      'mean_test_score'].cummax()\n",
    "\n",
    "\n",
    "## RANDOM_SEARCH\n",
    "# get best scores per itration for each random_search performance:\n",
    "# random_df_stopped\n",
    "    \n",
    "#get mean and confidence interval value for random_search performance on iteration:    \n",
    "\n",
    "z = 1.96 # for 95% conf interval (coefficient)\n",
    "# z = 1.64 # for 90% conf interval\n",
    "\n",
    "n=10\n",
    "random_std=random_df.groupby(by=\"iter_num\")['mean_test_score'].std() #std\n",
    "random_std=(random_std*z)/np.sqrt(n) #confidence interval value \n",
    "random_mean=random_df.groupby(by=\"iter_num\")['mean_test_score'].mean() #mean\n",
    "\n",
    "\n",
    "## GROUP_SEARCH\n",
    "#get best scores per itration for each group_search performance (same computations):\n",
    "group_std=group_df.groupby(by=\"iter_num\")['mean_test_score'].std()\n",
    "group_std=(group_std*z)/np.sqrt(n) \n",
    "group_std=group_std.fillna(0)\n",
    "group_mean=group_df.groupby(by=\"iter_num\")['mean_test_score'].mean()\n",
    "\n",
    "## DEFAULT performance\n",
    "#default_perf=grid_df.loc[grid_df['experiment_name']=='default params', 'mean_test_score']\n",
    "\n",
    "## BAYES WITHOUT GROUPS\n",
    "bo_std=bayes_df.groupby(by=\"iter_num\")['mean_test_score'].std()\n",
    "bo_std=(bo_std*z)/np.sqrt(n) \n",
    "bo_std=bo_std.fillna(0)\n",
    "bo_mean=bayes_df.groupby(by=\"iter_num\")['mean_test_score'].mean()\n",
    "\n",
    "\n",
    "## BAYES WITH GROUPS\n",
    "bo_groups_std=bayes_group_df.groupby(by=\"iter_num\")['mean_test_score'].std()\n",
    "bo_groups_std=(bo_groups_std*z)/np.sqrt(n) \n",
    "bo_groups_std=bo_groups_std.fillna(0)\n",
    "bo_groups_mean=bayes_group_df.groupby(by=\"iter_num\")['mean_test_score'].mean()\n",
    "\n",
    "## PLOT\n",
    "plt.figure(figsize=(15,7))\n",
    "plt.grid()\n",
    "\n",
    "#grid plot:\n",
    "x=list(range(0, grid_perf.shape[0]))\n",
    "plt.plot(x, grid_perf, label=\"Поиск по сетке\")\n",
    "\n",
    "#conf for random:\n",
    "x=list(range(0, random_mean.shape[0]))\n",
    "plt.plot(x, random_mean, color=\"y\", label=\"Случайный поиск без разбиения на группы\")\n",
    "lower_random=random_mean - random_std\n",
    "upper_random=random_mean + random_std\n",
    "plt.plot(x, lower_random, alpha=0.7, color=\"y\")\n",
    "plt.plot(x, upper_random, alpha=0.7, color=\"y\")\n",
    "plt.fill_between(x, lower_random, upper_random, alpha=0.1, color=\"y\") \n",
    "\n",
    "#conf for group:\n",
    "plt.plot(x, group_mean, color=\"green\", label=\"Случайный поиск с разбиением на группы\")\n",
    "lower_group=group_mean - group_std\n",
    "upper_group=group_mean + group_std\n",
    "plt.plot(x, lower_group, alpha=0.5, color=\"green\")\n",
    "plt.plot(x, upper_group, alpha=0.5, color=\"green\")\n",
    "plt.fill_between(x, lower_group, upper_group, alpha=0.1, color=\"green\")\n",
    "\n",
    "#line for default values\n",
    "plt.axhline(default_perf.values[0], label=\"Параметры по умолчанию\", color='r')\n",
    "\n",
    "#conf for bayes opt without groups:\n",
    "plt.plot(x, bo_mean, color=\"m\", label=\"Байесовская оптимизация без разбиения на группы\")\n",
    "lower_bo=bo_mean - bo_std\n",
    "upper_bo=bo_mean + bo_std\n",
    "plt.plot(x, lower_bo, alpha=0.7, color=\"m\")\n",
    "plt.plot(x, upper_bo, alpha=0.7, color=\"m\")\n",
    "plt.fill_between(x, lower_bo, upper_bo, alpha=0.1, color=\"m\") \n",
    "\n",
    "#conf for bayes opt wit groups:\n",
    "plt.plot(x, bo_groups_mean, color=\"c\", label=\"Байесовская оптимизация с разбиением на группы\")\n",
    "lower_bo_groups=bo_groups_mean - bo_groups_std\n",
    "upper_bo_groups=bo_groups_mean + bo_groups_std\n",
    "plt.plot(x, lower_bo_groups, alpha=0.7, color=\"c\")\n",
    "plt.plot(x, upper_bo_groups, alpha=0.7, color=\"c\")\n",
    "plt.fill_between(x, lower_bo_groups, upper_bo_groups, alpha=0.1, color=\"c\") \n",
    "\n",
    "\n",
    "plt.legend()\n",
    "plt.title(\"Кривые обучения\")\n",
    "plt.ylabel(\"Оценка R-квадрат\")\n",
    "plt.xlabel(\"Номер итерации\")\n",
    "plt.savefig(GRAPHS_DIR + \"learning_curves_without_stop.jpg\")\n",
    "plt.show()"
   ]
  },
  {
   "cell_type": "code",
   "execution_count": 15,
   "metadata": {},
   "outputs": [
    {
     "data": {
      "image/png": "[encoded data removed]",
      "text/plain": [
       "<Figure size 1080x504 with 1 Axes>"
      ]
     },
     "metadata": {
      "needs_background": "light"
     },
     "output_type": "display_data"
    }
   ],
   "source": [
    "## PLOT\n",
    "plt.figure(figsize=(15,7))\n",
    "plt.grid()\n",
    "\n",
    "#conf for bayes opt wit groups:\n",
    "plt.plot(x, bo_groups_mean, color=\"c\", label=\"Байесовская оптимизация с разбиением на группы\")\n",
    "lower_bo_groups=bo_groups_mean - bo_groups_std\n",
    "upper_bo_groups=bo_groups_mean + bo_groups_std\n",
    "plt.plot(x, lower_bo_groups, alpha=0.7, color=\"c\")\n",
    "plt.plot(x, upper_bo_groups, alpha=0.7, color=\"c\")\n",
    "plt.fill_between(x, lower_bo_groups, upper_bo_groups, alpha=0.1, color=\"c\") \n",
    "\n",
    "plt.axvline(243, color='r')\n",
    "plt.axvline(243*2, color='r')\n",
    "\n",
    "plt.legend()\n",
    "plt.title(\"Кривая обучения для байесовской оптимизации с разбиением на группы\")\n",
    "plt.ylabel(\"Оценка R-квадрат\")\n",
    "plt.xlabel(\"Номер итерации\")\n",
    "plt.savefig(GRAPHS_DIR + \"bo_group_scores_without_stop.jpg\")\n",
    "plt.show()"
   ]
  },
  {
   "cell_type": "code",
   "execution_count": 16,
   "metadata": {},
   "outputs": [
    {
     "name": "stdout",
     "output_type": "stream",
     "text": [
      "Upper and lower bounds:\n",
      "Bayes  0.6714363586987709 0.6693010727237599\n",
      "Group bayes  0.6714814964899078 0.6696525987886766\n",
      "Group random  0.6684137069525022 0.6668586384702233\n",
      "Random  0.6687238484775194 0.6664958672406426\n"
     ]
    }
   ],
   "source": [
    "print(\"Upper and lower bounds:\")\n",
    "print(\"Bayes \", upper_bo[729], lower_bo[729])\n",
    "print(\"Group bayes \", upper_bo_groups[729], lower_bo_groups[729])\n",
    "print(\"Group random \", upper_group[729], lower_group[729])\n",
    "print(\"Random \",upper_random[729], lower_random[729])"
   ]
  },
  {
   "cell_type": "code",
   "execution_count": 17,
   "metadata": {},
   "outputs": [
    {
     "name": "stdout",
     "output_type": "stream",
     "text": [
      "Mean and std:\n",
      "Bayes  0.6703687157112654 0.001067642987505471\n",
      "Group bayes  0.6705670476392922 0.0009144488506156012\n",
      "Group random  0.6676361727113628 0.000777534241139441\n",
      "Random  0.667609857859081 0.0011139906184383945\n",
      "Grid  0.6647984628183977\n",
      "default [0.63623226]\n"
     ]
    }
   ],
   "source": [
    "print(\"Mean and std:\")\n",
    "print(\"Bayes \", bo_mean[729], bo_std[729])\n",
    "print(\"Group bayes \", bo_groups_mean[729], bo_groups_std[729])\n",
    "print(\"Group random \", group_mean[729], group_std[729])\n",
    "print(\"Random \",random_mean[729], random_std[729])\n",
    "print(\"Grid \", grid_perf.values[-1])\n",
    "print(\"default\", default_perf.values[0])"
   ]
  },
  {
   "cell_type": "code",
   "execution_count": null,
   "metadata": {},
   "outputs": [],
   "source": []
  },
  {
   "cell_type": "code",
   "execution_count": null,
   "metadata": {},
   "outputs": [],
   "source": []
  },
  {
   "cell_type": "code",
   "execution_count": null,
   "metadata": {},
   "outputs": [],
   "source": []
  }
 ],
 "metadata": {
  "kernelspec": {
   "display_name": "Python 3",
   "language": "python",
   "name": "python3"
  },
  "language_info": {
   "codemirror_mode": {
    "name": "ipython",
    "version": 3
   },
   "file_extension": ".py",
   "mimetype": "text/x-python",
   "name": "python",
   "nbconvert_exporter": "python",
   "pygments_lexer": "ipython3",
   "version": "3.8.5"
  }
 },
 "nbformat": 4,
 "nbformat_minor": 2
}
