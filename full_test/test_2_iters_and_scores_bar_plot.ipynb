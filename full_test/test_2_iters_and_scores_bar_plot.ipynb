{
 "cells": [
  {
   "cell_type": "code",
   "execution_count": 12,
   "metadata": {},
   "outputs": [],
   "source": [
    "import json\n",
    "import numpy as np\n",
    "import pandas as pd\n",
    "from matplotlib import pyplot as plt\n",
    "import seaborn as sns\n",
    "sns.set()"
   ]
  },
  {
   "cell_type": "code",
   "execution_count": 3,
   "metadata": {},
   "outputs": [],
   "source": [
    "dataset_name = \"house_prices\""
   ]
  },
  {
   "cell_type": "code",
   "execution_count": 4,
   "metadata": {},
   "outputs": [],
   "source": [
    "DIR_WITH_INFO = \"./data/{}/second_test/\".format(dataset_name)"
   ]
  },
  {
   "cell_type": "code",
   "execution_count": 5,
   "metadata": {},
   "outputs": [],
   "source": [
    "json_file= open(DIR_WITH_INFO + \"scores_info.txt\", \"r\") \n",
    "scores_info = json.load(json_file)\n",
    "json_file= open(DIR_WITH_INFO + \"iters_info.txt\", \"r\") \n",
    "iters_info = json.load(json_file)"
   ]
  },
  {
   "cell_type": "code",
   "execution_count": 6,
   "metadata": {},
   "outputs": [],
   "source": [
    "scores_info['GRS'] = {'mean': 0.6944, 'std': 0.0026}\n",
    "scores_info['RS'] = {'mean': 0.6926, 'std': 0.0028} #from first experiment \n",
    "grid_and_default = (0.6829, 0.6727)"
   ]
  },
  {
   "cell_type": "code",
   "execution_count": 7,
   "metadata": {},
   "outputs": [],
   "source": [
    "max_score = max(max(grid_and_default), scores_info['GRS']['mean'], scores_info['RS']['mean'])"
   ]
  },
  {
   "cell_type": "code",
   "execution_count": 8,
   "metadata": {},
   "outputs": [],
   "source": [
    "iters_labels = list(iters_info.keys())\n",
    "iters_info = list(iters_info.values())\n",
    "\n",
    "means_iters = []\n",
    "std_iters = []\n",
    "\n",
    "for experiment in iters_info:\n",
    "    means_iters.append(experiment['mean'])\n",
    "    std_iters.append(experiment['std'])"
   ]
  },
  {
   "cell_type": "code",
   "execution_count": 9,
   "metadata": {},
   "outputs": [],
   "source": [
    "scores_labels = list(scores_info.keys())\n",
    "scores_info = list(scores_info.values())\n",
    "\n",
    "means_scores = []\n",
    "std_scores = []\n",
    "\n",
    "\n",
    "z = 1.96\n",
    "n = 10\n",
    "for experiment in scores_info:\n",
    "    means_scores.append(experiment['mean'])\n",
    "    std_scores.append(experiment['std'])"
   ]
  },
  {
   "cell_type": "code",
   "execution_count": 17,
   "metadata": {},
   "outputs": [],
   "source": [
    "conf_std = (np.array(std_scores)*z)/np.sqrt(n)\n",
    "upper_conf = means_scores + conf_std\n",
    "lower_conf = means_scores - conf_std\n",
    "confidence = pd.DataFrame([scores_labels, lower_conf, upper_conf]).T\n",
    "confidence.columns = [\"method\", \"lower_bound\", \"upper_bound\"]"
   ]
  },
  {
   "cell_type": "code",
   "execution_count": 19,
   "metadata": {},
   "outputs": [
    {
     "data": {
      "text/html": [
       "<div>\n",
       "<style scoped>\n",
       "    .dataframe tbody tr th:only-of-type {\n",
       "        vertical-align: middle;\n",
       "    }\n",
       "\n",
       "    .dataframe tbody tr th {\n",
       "        vertical-align: top;\n",
       "    }\n",
       "\n",
       "    .dataframe thead th {\n",
       "        text-align: right;\n",
       "    }\n",
       "</style>\n",
       "<table border=\"1\" class=\"dataframe\">\n",
       "  <thead>\n",
       "    <tr style=\"text-align: right;\">\n",
       "      <th></th>\n",
       "      <th>lower_bound</th>\n",
       "      <th>upper_bound</th>\n",
       "    </tr>\n",
       "    <tr>\n",
       "      <th>method</th>\n",
       "      <th></th>\n",
       "      <th></th>\n",
       "    </tr>\n",
       "  </thead>\n",
       "  <tbody>\n",
       "    <tr>\n",
       "      <th>GRS</th>\n",
       "      <td>0.692789</td>\n",
       "      <td>0.696011</td>\n",
       "    </tr>\n",
       "    <tr>\n",
       "      <th>GRS_10</th>\n",
       "      <td>0.6964</td>\n",
       "      <td>0.700698</td>\n",
       "    </tr>\n",
       "    <tr>\n",
       "      <th>GRS_100</th>\n",
       "      <td>0.694927</td>\n",
       "      <td>0.698303</td>\n",
       "    </tr>\n",
       "    <tr>\n",
       "      <th>GRS_25</th>\n",
       "      <td>0.693824</td>\n",
       "      <td>0.69855</td>\n",
       "    </tr>\n",
       "    <tr>\n",
       "      <th>GRS_50</th>\n",
       "      <td>0.695121</td>\n",
       "      <td>0.697633</td>\n",
       "    </tr>\n",
       "    <tr>\n",
       "      <th>RS</th>\n",
       "      <td>0.690865</td>\n",
       "      <td>0.694335</td>\n",
       "    </tr>\n",
       "    <tr>\n",
       "      <th>RS_10</th>\n",
       "      <td>0.665068</td>\n",
       "      <td>0.673507</td>\n",
       "    </tr>\n",
       "    <tr>\n",
       "      <th>RS_100</th>\n",
       "      <td>0.684474</td>\n",
       "      <td>0.69105</td>\n",
       "    </tr>\n",
       "    <tr>\n",
       "      <th>RS_25</th>\n",
       "      <td>0.672947</td>\n",
       "      <td>0.681182</td>\n",
       "    </tr>\n",
       "    <tr>\n",
       "      <th>RS_50</th>\n",
       "      <td>0.677791</td>\n",
       "      <td>0.685395</td>\n",
       "    </tr>\n",
       "  </tbody>\n",
       "</table>\n",
       "</div>"
      ],
      "text/plain": [
       "        lower_bound upper_bound\n",
       "method                         \n",
       "GRS        0.692789    0.696011\n",
       "GRS_10       0.6964    0.700698\n",
       "GRS_100    0.694927    0.698303\n",
       "GRS_25     0.693824     0.69855\n",
       "GRS_50     0.695121    0.697633\n",
       "RS         0.690865    0.694335\n",
       "RS_10      0.665068    0.673507\n",
       "RS_100     0.684474     0.69105\n",
       "RS_25      0.672947    0.681182\n",
       "RS_50      0.677791    0.685395"
      ]
     },
     "execution_count": 19,
     "metadata": {},
     "output_type": "execute_result"
    }
   ],
   "source": [
    "confidence.sort_values(\"method\").set_index(\"method\")"
   ]
  },
  {
   "cell_type": "code",
   "execution_count": 9,
   "metadata": {},
   "outputs": [],
   "source": [
    "def autolabel(rects, add=0):\n",
    "    \"\"\"Attach a text label above each bar in *rects*, displaying its height.\"\"\"\n",
    "    for rect in rects:\n",
    "        height = rect.get_height()+add\n",
    "        ax.annotate('{}'.format(round(height-add,2)),\n",
    "                    xy=(rect.get_x() + rect.get_width() / 2, height),\n",
    "                    xytext=(0, 3),  \n",
    "                    textcoords=\"offset points\",\n",
    "                    ha='center', va='bottom')"
   ]
  },
  {
   "cell_type": "code",
   "execution_count": 18,
   "metadata": {},
   "outputs": [
    {
     "data": {
      "image/png": "[encoded data removed]",
      "text/plain": [
       "<Figure size 720x504 with 1 Axes>"
      ]
     },
     "metadata": {
      "needs_background": "light"
     },
     "output_type": "display_data"
    }
   ],
   "source": [
    "fig, ax = plt.subplots(figsize=(10,7))\n",
    "rects1 = ax.bar(range(len(iters_labels)), means_iters,\n",
    "        yerr=std_iters, align=\"center\", ecolor = 'y', color = ('b','g'))\n",
    "\n",
    "ax.set_xticks(range(0,len(iters_labels)))\n",
    "ax.set_xticklabels(iters_labels)\n",
    "\n",
    "line = ax.axhline(729, color='r', label = 'max_iter_num')\n",
    "autolabel(rects1)\n",
    "ax.set_title('Experimets iterations number comparison')\n",
    "plt.legend(handles= (rects1[::2],rects1[1::2],line),\n",
    "           labels = ('grouped search', 'random search', 'max iterations number = 729'),\n",
    "           loc = 'upper right')\n",
    "fig.tight_layout()\n",
    "plt.savefig(\"../graphs/test_full/iter_comp.jpg\")\n",
    "plt.show()"
   ]
  },
  {
   "cell_type": "code",
   "execution_count": 17,
   "metadata": {},
   "outputs": [
    {
     "data": {
      "image/png": "[encoded data removed]",
      "text/plain": [
       "<Figure size 864x576 with 1 Axes>"
      ]
     },
     "metadata": {
      "needs_background": "light"
     },
     "output_type": "display_data"
    }
   ],
   "source": [
    "fig, axs = plt.subplots(1, 1, figsize=(12, 8))\n",
    "full_scores_labels = scores_labels.copy()\n",
    "full_scores_labels.extend(['grid', 'default'])\n",
    "\n",
    "\n",
    "rects3 = axs.bar(range(len(scores_labels)), means_scores,\n",
    "        yerr=std_scores, align=\"center\", ecolor = 'k', color = ('b','g'))\n",
    "\n",
    "rects3_and_half = axs.bar(range(len(scores_labels), \n",
    "                                   len(scores_labels)+len(grid_and_default)), \n",
    "                             grid_and_default,\n",
    "                             align=\"center\", color = ('y', 'm'))\n",
    "\n",
    "axs.set_xticks(range(0,len(full_scores_labels)))\n",
    "axs.set_xticklabels(full_scores_labels)\n",
    "line = axs.axhline(max_score, color='r')\n",
    "axs.set_ylim(0.64, 0.72)\n",
    "\n",
    "plt.legend(handles= (line, rects3[::2], rects3[1::2], \n",
    "                     rects3_and_half[0], rects3_and_half[1]),\n",
    "           labels = ('max score in first test', 'grouped search', 'random search', \n",
    "                    'grid search', 'default values'),\n",
    "           loc = 'best')\n",
    "fig.tight_layout(rect=[0, 0.03, 1, 0.95])\n",
    "\n",
    "plt.suptitle('Experimets scores comparison')\n",
    "plt.savefig(\"../graphs/test_full/scores_comp.jpg\")\n",
    "plt.show()"
   ]
  },
  {
   "cell_type": "code",
   "execution_count": null,
   "metadata": {},
   "outputs": [],
   "source": []
  }
 ],
 "metadata": {
  "kernelspec": {
   "display_name": "Python 3",
   "language": "python",
   "name": "python3"
  },
  "language_info": {
   "codemirror_mode": {
    "name": "ipython",
    "version": 3
   },
   "file_extension": ".py",
   "mimetype": "text/x-python",
   "name": "python",
   "nbconvert_exporter": "python",
   "pygments_lexer": "ipython3",
   "version": "3.7.3"
  }
 },
 "nbformat": 4,
 "nbformat_minor": 2
}
