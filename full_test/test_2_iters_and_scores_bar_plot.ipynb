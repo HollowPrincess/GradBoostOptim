{
 "cells": [
  {
   "cell_type": "code",
   "execution_count": 1,
   "metadata": {},
   "outputs": [],
   "source": [
    "import json\n",
    "import numpy as np\n",
    "import pandas as pd\n",
    "from matplotlib import pyplot as plt\n",
    "import seaborn as sns\n",
    "sns.set()"
   ]
  },
  {
   "cell_type": "code",
   "execution_count": 2,
   "metadata": {},
   "outputs": [],
   "source": [
    "dataset_name = 'prepared_facebook_data'\n",
    "folder_name = 'facebook_comm_vol'\n",
    "# dataset_name ='house_prices'\n",
    "# folder_name = 'boston_house_prices'\n",
    "# dataset_name = 'energy_consumption'\n",
    "# folder_name = 'energy_consumption'\n",
    "# dataset_name = 'physics'\n",
    "# folder_name = 'physics'\n",
    "first_test_path= '../other_data_experiments/{}/first experiment/'.format(folder_name)\n",
    "second_test_path= '../other_data_experiments/{}/second experiment/'.format(folder_name)\n",
    "DIR_WITH_GRAPHS='../other_data_experiments/{}/'.format(folder_name)+\"graphs/\""
   ]
  },
  {
   "cell_type": "code",
   "execution_count": 3,
   "metadata": {},
   "outputs": [],
   "source": [
    "plt.rcParams.update({'font.size': 12})"
   ]
  },
  {
   "cell_type": "code",
   "execution_count": 4,
   "metadata": {},
   "outputs": [],
   "source": [
    "json_file= open(second_test_path + \"scores_info.txt\", \"r\") \n",
    "scores_info = json.load(json_file)\n",
    "json_file= open(second_test_path + \"iters_info.txt\", \"r\") \n",
    "iters_info = json.load(json_file)"
   ]
  },
  {
   "cell_type": "code",
   "execution_count": 5,
   "metadata": {},
   "outputs": [
    {
     "data": {
      "text/plain": [
       "{'GRS_25': {'mean': 517.0, 'std': 118.66254674496076},\n",
       " 'RS_25': {'mean': 42.7, 'std': 19.02656038279121},\n",
       " 'GRS_10': {'mean': 521.8, 'std': 124.07239821974909},\n",
       " 'RS_10': {'mean': 18.4, 'std': 7.323933369440222},\n",
       " 'GRS_50': {'mean': 547.9, 'std': 103.30000000000001},\n",
       " 'RS_50': {'mean': 77.5, 'std': 23.165707414193076}}"
      ]
     },
     "execution_count": 5,
     "metadata": {},
     "output_type": "execute_result"
    }
   ],
   "source": [
    "iters_info"
   ]
  },
  {
   "cell_type": "code",
   "execution_count": 6,
   "metadata": {},
   "outputs": [
    {
     "data": {
      "text/plain": [
       "{'GRS_25': {'mean': 0.6688258864812872, 'std': 0.0013847701883868068},\n",
       " 'RS_25': {'mean': 0.6629300025891549, 'std': 0.0014621534623719566},\n",
       " 'GRS_10': {'mean': 0.6683499488506008, 'std': 0.0012250001012563663},\n",
       " 'RS_10': {'mean': 0.6617711189273625, 'std': 0.002578278215751294},\n",
       " 'GRS_50': {'mean': 0.6683239034530961, 'std': 0.0014285767131122214},\n",
       " 'RS_50': {'mean': 0.6636493329516642, 'std': 0.0011570015726666528}}"
      ]
     },
     "execution_count": 6,
     "metadata": {},
     "output_type": "execute_result"
    }
   ],
   "source": [
    "scores_info"
   ]
  },
  {
   "cell_type": "code",
   "execution_count": 7,
   "metadata": {},
   "outputs": [],
   "source": [
    "order = ['GRS_10', 'RS_10', 'GRS_25', 'RS_25', 'GRS_50', 'RS_50']"
   ]
  },
  {
   "cell_type": "code",
   "execution_count": 8,
   "metadata": {},
   "outputs": [],
   "source": [
    "sorted_dict_iters = {}\n",
    "sorted_dict_scores = {}\n",
    "for k in order:\n",
    "    sorted_dict_iters[k] = iters_info[k]\n",
    "    sorted_dict_scores[k] = scores_info[k]\n",
    "iters_info = sorted_dict_iters\n",
    "scores_info = sorted_dict_scores    "
   ]
  },
  {
   "cell_type": "code",
   "execution_count": 9,
   "metadata": {},
   "outputs": [],
   "source": [
    "# !!!!!!\n",
    "\n",
    "\n",
    "if dataset_name.find(\"facebook\")!=-1:\n",
    "    scores_info['GRS'] = {'mean': 0.6676, 'std': 0.0012}\n",
    "    scores_info['RS'] = {'mean': 0.6676, 'std': 0.0018} #from first experiment \n",
    "elif dataset_name.find(\"house\")!=-1:\n",
    "    scores_info['GRS'] = {'mean': 0.6944366108086347, 'std': 0.002621311802283841} #from first experiment \n",
    "    scores_info['RS'] = {'mean': 0.6925651574756537, 'std': 0.0028240956193657176}\n",
    "elif dataset_name.find(\"energy\")!=-1:\n",
    "    scores_info['GRS'] = {'mean': 0.6858301150851477, 'std': 0.001570272280096309}\n",
    "    scores_info['RS'] = {'mean': 0.6925741735030887, 'std': 0.009574347405305867} #from first experiment \n",
    "elif dataset_name.find(\"physics\")!=-1:\n",
    "    scores_info['GRS'] = {'mean': 0.9005234945275129, 'std': 0.00040566927710077076}\n",
    "    scores_info['RS'] = {'mean': 0.8990713173748913, 'std': 0.00037148086603514457} #from first experiment \n",
    "# grid_and_default = (0.6648, 0.6362)"
   ]
  },
  {
   "cell_type": "code",
   "execution_count": 10,
   "metadata": {},
   "outputs": [],
   "source": [
    "max_score = max(scores_info['GRS']['mean'], scores_info['RS']['mean'])"
   ]
  },
  {
   "cell_type": "code",
   "execution_count": 11,
   "metadata": {},
   "outputs": [],
   "source": [
    "iters_labels = list(iters_info.keys())\n",
    "iters_info = list(iters_info.values())\n",
    "\n",
    "means_iters = []\n",
    "std_iters = []\n",
    "\n",
    "for experiment in iters_info:\n",
    "    means_iters.append(experiment['mean'])\n",
    "    std_iters.append(experiment['std'])"
   ]
  },
  {
   "cell_type": "code",
   "execution_count": 12,
   "metadata": {},
   "outputs": [],
   "source": [
    "scores_labels = list(scores_info.keys())\n",
    "scores_info = list(scores_info.values())\n",
    "\n",
    "means_scores = []\n",
    "std_scores = []\n",
    "\n",
    "\n",
    "#get mean and confidence interval value for random_search performance on iteration:    \n",
    "z = 2.262 # 95% student for n = 10\n",
    "# z = 1.833 # 90% student for n = 10\n",
    "# if normal or n>=30:\n",
    "# z = 1.96 # for 95% conf interval (coefficient)\n",
    "# z = 1.64 # for 90% conf interval\n",
    "n = 10\n",
    "for experiment in scores_info:\n",
    "    means_scores.append(experiment['mean'])\n",
    "    std_scores.append(experiment['std'])"
   ]
  },
  {
   "cell_type": "code",
   "execution_count": 13,
   "metadata": {},
   "outputs": [],
   "source": [
    "conf_std = (np.array(std_scores)*z)/np.sqrt(n)\n",
    "upper_conf = means_scores + conf_std\n",
    "lower_conf = means_scores - conf_std\n",
    "confidence = pd.DataFrame([scores_labels, lower_conf, upper_conf]).T\n",
    "confidence.columns = [\"method\", \"lower_bound\", \"upper_bound\"]"
   ]
  },
  {
   "cell_type": "code",
   "execution_count": 14,
   "metadata": {},
   "outputs": [
    {
     "data": {
      "text/html": [
       "<div>\n",
       "<style scoped>\n",
       "    .dataframe tbody tr th:only-of-type {\n",
       "        vertical-align: middle;\n",
       "    }\n",
       "\n",
       "    .dataframe tbody tr th {\n",
       "        vertical-align: top;\n",
       "    }\n",
       "\n",
       "    .dataframe thead th {\n",
       "        text-align: right;\n",
       "    }\n",
       "</style>\n",
       "<table border=\"1\" class=\"dataframe\">\n",
       "  <thead>\n",
       "    <tr style=\"text-align: right;\">\n",
       "      <th></th>\n",
       "      <th>lower_bound</th>\n",
       "      <th>upper_bound</th>\n",
       "    </tr>\n",
       "    <tr>\n",
       "      <th>method</th>\n",
       "      <th></th>\n",
       "      <th></th>\n",
       "    </tr>\n",
       "  </thead>\n",
       "  <tbody>\n",
       "    <tr>\n",
       "      <th>GRS</th>\n",
       "      <td>0.666742</td>\n",
       "      <td>0.668458</td>\n",
       "    </tr>\n",
       "    <tr>\n",
       "      <th>GRS_10</th>\n",
       "      <td>0.667474</td>\n",
       "      <td>0.669226</td>\n",
       "    </tr>\n",
       "    <tr>\n",
       "      <th>GRS_25</th>\n",
       "      <td>0.667835</td>\n",
       "      <td>0.669816</td>\n",
       "    </tr>\n",
       "    <tr>\n",
       "      <th>GRS_50</th>\n",
       "      <td>0.667302</td>\n",
       "      <td>0.669346</td>\n",
       "    </tr>\n",
       "    <tr>\n",
       "      <th>RS</th>\n",
       "      <td>0.666312</td>\n",
       "      <td>0.668888</td>\n",
       "    </tr>\n",
       "    <tr>\n",
       "      <th>RS_10</th>\n",
       "      <td>0.659927</td>\n",
       "      <td>0.663615</td>\n",
       "    </tr>\n",
       "    <tr>\n",
       "      <th>RS_25</th>\n",
       "      <td>0.661884</td>\n",
       "      <td>0.663976</td>\n",
       "    </tr>\n",
       "    <tr>\n",
       "      <th>RS_50</th>\n",
       "      <td>0.662822</td>\n",
       "      <td>0.664477</td>\n",
       "    </tr>\n",
       "  </tbody>\n",
       "</table>\n",
       "</div>"
      ],
      "text/plain": [
       "       lower_bound upper_bound\n",
       "method                        \n",
       "GRS       0.666742    0.668458\n",
       "GRS_10    0.667474    0.669226\n",
       "GRS_25    0.667835    0.669816\n",
       "GRS_50    0.667302    0.669346\n",
       "RS        0.666312    0.668888\n",
       "RS_10     0.659927    0.663615\n",
       "RS_25     0.661884    0.663976\n",
       "RS_50     0.662822    0.664477"
      ]
     },
     "execution_count": 14,
     "metadata": {},
     "output_type": "execute_result"
    }
   ],
   "source": [
    "confidence.sort_values(\"method\").set_index(\"method\")"
   ]
  },
  {
   "cell_type": "code",
   "execution_count": 15,
   "metadata": {},
   "outputs": [],
   "source": [
    "def autolabel(rects, add=0):\n",
    "    \"\"\"Attach a text label above each bar in *rects*, displaying its height.\"\"\"\n",
    "    for rect in rects:\n",
    "        height = rect.get_height()+add\n",
    "        ax.annotate('{}'.format(round(height-add,2)),\n",
    "                    xy=(rect.get_x() + rect.get_width() / 2, height),\n",
    "                    xytext=(0, 3),  \n",
    "                    textcoords=\"offset points\",\n",
    "                    ha='center', va='bottom')"
   ]
  },
  {
   "cell_type": "code",
   "execution_count": 16,
   "metadata": {},
   "outputs": [
    {
     "data": {
      "text/plain": [
       "[521.8, 18.4, 517.0, 42.7, 547.9, 77.5]"
      ]
     },
     "execution_count": 16,
     "metadata": {},
     "output_type": "execute_result"
    }
   ],
   "source": [
    "means_iters"
   ]
  },
  {
   "cell_type": "code",
   "execution_count": 17,
   "metadata": {},
   "outputs": [
    {
     "data": {
      "image/png": "[encoded data removed]",
      "text/plain": [
       "<Figure size 720x504 with 1 Axes>"
      ]
     },
     "metadata": {},
     "output_type": "display_data"
    }
   ],
   "source": [
    "fig, ax = plt.subplots(figsize=(10,7))\n",
    "rects1 = ax.bar(range(len(iters_labels)), means_iters,\n",
    "        yerr=std_iters, align=\"center\", ecolor = 'y', color = ('b','g'))\n",
    "\n",
    "ax.set_xticks(range(0,len(iters_labels)))\n",
    "ax.set_xticklabels(iters_labels)\n",
    "\n",
    "line = ax.axhline(729, color='r', label = 'max_iter_num')\n",
    "autolabel(rects1)\n",
    "ax.set_title('Количество итераций для методов с ранним критерием остановки')\n",
    "plt.legend(handles= (rects1[::2],rects1[1::2],line),\n",
    "           labels = ('Случайный поиск с разбиением на группы', \n",
    "                     'Случайный поиск без разбиения на группы', \n",
    "                     'Максимально возможное количество итераций = 729'),\n",
    "           loc = 'upper right')\n",
    "ax.set_ylim(0, 750)\n",
    "fig.tight_layout()\n",
    "plt.savefig(DIR_WITH_GRAPHS+\"iter_comp.jpg\")\n",
    "plt.show()"
   ]
  },
  {
   "cell_type": "code",
   "execution_count": 24,
   "metadata": {},
   "outputs": [
    {
     "data": {
      "image/png": "[encoded data removed]",
      "text/plain": [
       "<Figure size 864x576 with 1 Axes>"
      ]
     },
     "metadata": {},
     "output_type": "display_data"
    }
   ],
   "source": [
    "fig, axs = plt.subplots(1, 1, figsize=(12, 8))\n",
    "full_scores_labels = scores_labels.copy()\n",
    "# full_scores_labels.extend(['Поиск \\nпо сетке', '  Параметры\\n по умолчанию'])\n",
    "\n",
    "\n",
    "rects3 = axs.bar(range(len(scores_labels)), means_scores,\n",
    "        yerr=std_scores, align=\"center\", ecolor = 'k', color = ('b','g'))\n",
    "\n",
    "# rects3_and_half = axs.bar(range(len(scores_labels), \n",
    "#                                    len(scores_labels)+len(grid_and_default)), \n",
    "#                              grid_and_default,\n",
    "#                              align=\"center\", color = ('y', 'm'))\n",
    "\n",
    "axs.set_xticks(range(0,len(full_scores_labels)))\n",
    "axs.set_xticklabels(full_scores_labels)\n",
    "line = axs.axhline(max_score, color='r')\n",
    "axs.set_ylim(0.65, 0.68)\n",
    "\n",
    "plt.legend(handles= (line, rects3[::2], rects3[1::2]), \n",
    "#                      rects3_and_half[0], rects3_and_half[1]),\n",
    "           labels = ('Максимально достигнутая оценка качества в эксперименте без критерия остановки', \n",
    "                     'Случайный поиск с разбиением на группы', \n",
    "                     'Случайный поиск без разбиения на группы'), \n",
    "#                     'Поиск по сетке', 'Параметры по умолчанию'),\n",
    "           loc = 'best')\n",
    "fig.tight_layout(rect=[0, 0.03, 1, 0.95])\n",
    "\n",
    "plt.suptitle('Оценка качества рассмотренных методов')\n",
    "plt.savefig(DIR_WITH_GRAPHS+\"scores_comp.jpg\")\n",
    "plt.show()"
   ]
  },
  {
   "cell_type": "code",
   "execution_count": null,
   "metadata": {},
   "outputs": [],
   "source": []
  }
 ],
 "metadata": {
  "kernelspec": {
   "display_name": "Python 3",
   "language": "python",
   "name": "python3"
  },
  "language_info": {
   "codemirror_mode": {
    "name": "ipython",
    "version": 3
   },
   "file_extension": ".py",
   "mimetype": "text/x-python",
   "name": "python",
   "nbconvert_exporter": "python",
   "pygments_lexer": "ipython3",
   "version": "3.8.5"
  }
 },
 "nbformat": 4,
 "nbformat_minor": 2
}
