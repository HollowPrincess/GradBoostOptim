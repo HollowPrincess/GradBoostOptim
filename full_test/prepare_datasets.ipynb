{
 "cells": [
  {
   "cell_type": "code",
   "execution_count": 3,
   "metadata": {},
   "outputs": [],
   "source": [
    "import pandas as pd\n",
    "import numpy as np\n",
    "import os\n",
    "\n",
    "prepare_RSgroups = False #надо ли объединить группы в один файл\n",
    "\n",
    "\n",
    "dataset_name = 'prepared_facebook_data'\n",
    "folder_name = 'facebook_comm_vol'\n",
    "DIR_WITH_FILES= '../other_data_experiments/{}/'.format(folder_name)\n",
    "\n",
    "DIR_TO_SAVE_RES = DIR_WITH_FILES"
   ]
  },
  {
   "cell_type": "code",
   "execution_count": 4,
   "metadata": {},
   "outputs": [],
   "source": [
    "if prepare_RSgroups:\n",
    "    for i in range(1,11):\n",
    "        part_1 = pd.read_csv(DIR_TO_SAVE_RES+\\\n",
    "                             \"res_rand_group1_{}_{}.csv\".format(dataset_name, i))\n",
    "        part_2 = pd.read_csv(DIR_TO_SAVE_RES+\\\n",
    "                             \"res_rand_group2_{}_{}.csv\".format(dataset_name, i))\n",
    "        part_3 = pd.read_csv(DIR_TO_SAVE_RES+\\\n",
    "                             \"res_rand_group3_{}_{}.csv\".format(dataset_name, i))\n",
    "        full = pd.concat([part_1,part_2,part_3], sort = False)\n",
    "        full['run_number']=i\n",
    "        print(full.shape)\n",
    "        full.to_csv(DIR_TO_SAVE_RES+\"res_rand_groups_{}_{}.csv\".format(dataset_name, i), index=False)"
   ]
  },
  {
   "cell_type": "code",
   "execution_count": 5,
   "metadata": {},
   "outputs": [
    {
     "name": "stdout",
     "output_type": "stream",
     "text": [
      "nan\n",
      "nan\n"
     ]
    },
    {
     "name": "stderr",
     "output_type": "stream",
     "text": [
      "D:\\Games\\conda\\lib\\site-packages\\numpy\\core\\fromnumeric.py:3372: RuntimeWarning: Mean of empty slice.\n",
      "  return _methods._mean(a, axis=axis, dtype=dtype,\n",
      "D:\\Games\\conda\\lib\\site-packages\\numpy\\core\\_methods.py:170: RuntimeWarning: invalid value encountered in double_scalars\n",
      "  ret = ret.dtype.type(ret / rcount)\n",
      "D:\\Games\\conda\\lib\\site-packages\\numpy\\core\\_methods.py:233: RuntimeWarning: Degrees of freedom <= 0 for slice\n",
      "  ret = _var(a, axis=axis, dtype=dtype, out=out, ddof=ddof,\n",
      "D:\\Games\\conda\\lib\\site-packages\\numpy\\core\\_methods.py:194: RuntimeWarning: invalid value encountered in true_divide\n",
      "  arrmean = um.true_divide(\n",
      "D:\\Games\\conda\\lib\\site-packages\\numpy\\core\\_methods.py:226: RuntimeWarning: invalid value encountered in double_scalars\n",
      "  ret = ret.dtype.type(ret / rcount)\n"
     ]
    }
   ],
   "source": [
    "RS_time = np.array([])\n",
    "print(np.mean(RS_time))\n",
    "print(np.std(RS_time))"
   ]
  },
  {
   "cell_type": "code",
   "execution_count": 6,
   "metadata": {},
   "outputs": [
    {
     "name": "stdout",
     "output_type": "stream",
     "text": [
      "nan\n",
      "nan\n",
      "=====\n",
      "nan\n",
      "nan\n",
      "=====\n",
      "nan\n",
      "nan\n",
      "=====\n",
      "nan\n",
      "nan\n",
      "=====\n"
     ]
    }
   ],
   "source": [
    "group_1_time = np.array([])\n",
    "group_2_time = np.array([])\n",
    "group_3_time = np.array([])\n",
    "\n",
    "sum_arr=np.sum([group_1_time, group_2_time, group_3_time], axis = 0)\n",
    "\n",
    "\n",
    "for arr in [group_1_time, group_2_time, group_3_time, sum_arr]:\n",
    "    print(np.mean(arr))\n",
    "    print(np.std(arr))\n",
    "    print(\"=====\")"
   ]
  },
  {
   "cell_type": "code",
   "execution_count": 7,
   "metadata": {},
   "outputs": [],
   "source": [
    "def group_best_params_with_stop(df, stop_iter_num, left_iter_num, right_iter_num):\n",
    "    best_params = {}\n",
    "    stop_iter_nums = {}\n",
    "    best_score = {}\n",
    "\n",
    "    tmp_df = df.loc[(df['iter_num'] >= left_iter_num) & (df['iter_num'] <= right_iter_num)].copy() #take group\n",
    "    for i in tmp_df.run_number.unique(): \n",
    "      tmp_df_i = tmp_df.loc[tmp_df.run_number==i] #take run\n",
    "      #cut iterations:\n",
    "      tmp_df_i_copy = tmp_df_i.copy()\n",
    "      tmp_df_i_copy.loc[:, \"mean_test_score\"] = tmp_df_i_copy.loc[\n",
    "          :, \"mean_test_score\"].cummax()      \n",
    "\n",
    "      try:\n",
    "          curr_max=tmp_df_i_copy.groupby(\"mean_test_score\").count().reset_index().sort_values(by = \"mean_test_score\")\n",
    "          max_score = curr_max.loc[curr_max[\"mean_test_score\"]>=stop_iter_num].index[0] #get first interval with iter_amount more than stop_iter_num\n",
    "      except:\n",
    "          max_score = tmp_df_i_copy.mean_test_score.max()\n",
    "\n",
    "      tmp_stop = tmp_df_i.loc[tmp_df_i[\"mean_test_score\"]==max_score].sort_values(by=\"iter_num\").iloc[0]#get first element with best_score\n",
    "    \n",
    "      best_params[i] = tmp_stop['params']\n",
    "      #best_score[i] = tmp_stop['mean_test_score']\n",
    "\n",
    "      last_iter_num = tmp_stop['iter_num'] + stop_iter_num - 1\n",
    "      if last_iter_num > right_iter_num:\n",
    "          last_iter_num = right_iter_num\n",
    "\n",
    "      stop_iter_nums[i] = last_iter_num\n",
    "    return best_params, stop_iter_nums#, best_score       \n",
    "   "
   ]
  },
  {
   "cell_type": "code",
   "execution_count": 8,
   "metadata": {},
   "outputs": [],
   "source": [
    "group_df = pd.DataFrame([])\n",
    "for i in range(1,11):\n",
    "    df = pd.read_csv(DIR_TO_SAVE_RES+\"res_rand_groups_{}_{}.csv\".format(dataset_name, i))    \n",
    "    df['iter_num'] = range(1, df.shape[0]+1)\n",
    "    group_df = pd.concat([group_df, df], sort = False)"
   ]
  },
  {
   "cell_type": "code",
   "execution_count": 9,
   "metadata": {},
   "outputs": [],
   "source": [
    "stop_iter_num = 50\n",
    "best_params_first_group, first_stop_iter_nums = group_best_params_with_stop(\n",
    "    group_df, stop_iter_num = stop_iter_num,\n",
    "    left_iter_num=1, right_iter_num=243)"
   ]
  },
  {
   "cell_type": "code",
   "execution_count": 10,
   "metadata": {},
   "outputs": [
    {
     "data": {
      "text/plain": [
       "{1: \"{'max_depth': 6, 'min_child_weight': 9}\",\n",
       " 2: \"{'max_depth': 6, 'min_child_weight': 9}\",\n",
       " 3: \"{'max_depth': 6, 'min_child_weight': 9}\",\n",
       " 4: \"{'max_depth': 6, 'min_child_weight': 9}\",\n",
       " 5: \"{'max_depth': 6, 'min_child_weight': 9}\",\n",
       " 6: \"{'max_depth': 6, 'min_child_weight': 9}\",\n",
       " 7: \"{'max_depth': 6, 'min_child_weight': 9}\",\n",
       " 8: \"{'max_depth': 6, 'min_child_weight': 6}\",\n",
       " 9: \"{'max_depth': 6, 'min_child_weight': 9}\",\n",
       " 10: \"{'max_depth': 5, 'min_child_weight': 7}\"}"
      ]
     },
     "execution_count": 10,
     "metadata": {},
     "output_type": "execute_result"
    }
   ],
   "source": [
    "best_params_first_group"
   ]
  },
  {
   "cell_type": "code",
   "execution_count": 11,
   "metadata": {},
   "outputs": [
    {
     "data": {
      "text/plain": [
       "{1: 243,\n",
       " 2: 243,\n",
       " 3: 171,\n",
       " 4: 243,\n",
       " 5: 105,\n",
       " 6: 50,\n",
       " 7: 154,\n",
       " 8: 243,\n",
       " 9: 133,\n",
       " 10: 243}"
      ]
     },
     "execution_count": 11,
     "metadata": {},
     "output_type": "execute_result"
    }
   ],
   "source": [
    "first_stop_iter_nums"
   ]
  },
  {
   "cell_type": "code",
   "execution_count": 3,
   "metadata": {},
   "outputs": [],
   "source": [
    "#import os "
   ]
  },
  {
   "cell_type": "code",
   "execution_count": 17,
   "metadata": {},
   "outputs": [
    {
     "data": {
      "text/plain": [
       "['GR_S_2_group_with_10_6_house_prices.csv',\n",
       " 'GR_S_2_group_with_100_9_house_prices.csv',\n",
       " 'GR_S_2_group_with_25_8_house_prices.csv']"
      ]
     },
     "execution_count": 17,
     "metadata": {},
     "output_type": "execute_result"
    }
   ],
   "source": [
    "#os.listdir(\"./data/tmp\")"
   ]
  },
  {
   "cell_type": "code",
   "execution_count": 13,
   "metadata": {},
   "outputs": [],
   "source": [
    "stop_iter_num = 50\n",
    "best_params_second_group={}\n",
    "second_stop_iter_nums={}\n",
    "    \n",
    "for i in [1,2,4,8,10]:\n",
    "    group_df = pd.read_csv(DIR_TO_SAVE_RES+\"res_rand_groups_{}_{}.csv\".format(dataset_name, i))\n",
    "    group_df['iter_num'] = range(1, group_df.shape[0]+1)\n",
    "    first_group_stop_iters = 243\n",
    "    left_iter_num = first_group_stop_iters+1\n",
    "    right_iter_num =left_iter_num + int(round((729 - first_group_stop_iters)/2))\n",
    "\n",
    "    best_params_second_group_tmp, second_stop_iter_nums_tmp = group_best_params_with_stop(\n",
    "        group_df, stop_iter_num = stop_iter_num,\n",
    "        left_iter_num=left_iter_num, right_iter_num=right_iter_num)\n",
    "    best_params_second_group.update(best_params_second_group_tmp)\n",
    "    second_stop_iter_nums.update(second_stop_iter_nums_tmp)"
   ]
  },
  {
   "cell_type": "code",
   "execution_count": 14,
   "metadata": {},
   "outputs": [
    {
     "name": "stdout",
     "output_type": "stream",
     "text": [
      "{1: \"{'alpha': 0.7742493752904185, 'lambda': 0.8395446532215035}\", 2: \"{'alpha': 0.8295577863095839, 'lambda': 0.423505767258905}\", 4: \"{'alpha': 0.5799345256769086, 'lambda': 0.018130210650242562}\", 8: \"{'alpha': 0.7272678704394513, 'lambda': 0.686795003613021}\", 10: \"{'alpha': 0.8430393110070236, 'lambda': 0.8105824126665478}\"}\n"
     ]
    }
   ],
   "source": [
    "print(best_params_second_group)"
   ]
  },
  {
   "cell_type": "code",
   "execution_count": 15,
   "metadata": {},
   "outputs": [
    {
     "name": "stdout",
     "output_type": "stream",
     "text": [
      "{1: 293, 2: 293, 4: 293, 8: 293, 10: 293}\n"
     ]
    }
   ],
   "source": [
    "print(second_stop_iter_nums)"
   ]
  },
  {
   "cell_type": "code",
   "execution_count": null,
   "metadata": {},
   "outputs": [],
   "source": [
    "# добавить код склейки для 3 группы со второй, если первая группа была полной \n",
    "\n",
    "\n",
    "\"\"\"\n",
    "res_rand_3=res_rand_3.loc[(res_rand_3['run_number']==params_set_num) & \\\n",
    "                                (res_rand_3['iter_num']<=int(third_stop_iter_nums[params_set_num]))]\n",
    "\n",
    "        res=pd.concat([res_rand_2,res_rand_3], sort=False)\n",
    "\n",
    "        sec_idxs = res.loc[res['experiment_name']=='random search for 2 group','iter_num'].values\n",
    "        third_idxs = res.loc[res['experiment_name']=='random search for 3 group','iter_num'].values\n",
    "        intersection = np.intersect1d(third_idxs, sec_idxs)\n",
    "\n",
    "        res = res.loc[~((res['experiment_name']=='random search for 2 group') & (res['iter_num'].isin(intersection)))]\n",
    "\n",
    "        res.to_csv('GR_S_2_and_3_groups_with_{}_{}_{}.csv'.format(stop_criterion, params_set_num, dataset_name), index=False)\n",
    "        print(first_group_stop_iters[params_set_num]+res.shape[0])\n",
    "        print('done for third group')\n",
    "    else:\n",
    "        print(\"first group takes 243 iterations, dataset num: \", params_set_num)\n",
    "\"\"\""
   ]
  },
  {
   "cell_type": "code",
   "execution_count": null,
   "metadata": {},
   "outputs": [],
   "source": []
  },
  {
   "cell_type": "code",
   "execution_count": 30,
   "metadata": {},
   "outputs": [],
   "source": [
    "group_df = pd.read_csv(\"./data/tmp/GR_S_2_group_with_25_8_house_prices.csv\")\n",
    "# {'max_depth': 3, 'min_child_weight': 3}\n",
    "\n",
    "stop_iter_num = 100\n",
    "\n",
    "first_group_stop_iters = 109\n",
    "left_iter_num = first_group_stop_iters+1\n",
    "right_iter_num =left_iter_num + int(round((729 - first_group_stop_iters)/2))\n",
    "\n",
    "best_params_second_group, second_stop_iter_nums = group_best_params_with_stop(\n",
    "    group_df, stop_iter_num = stop_iter_num,\n",
    "    left_iter_num=left_iter_num, right_iter_num=right_iter_num)"
   ]
  },
  {
   "cell_type": "code",
   "execution_count": 31,
   "metadata": {},
   "outputs": [
    {
     "data": {
      "text/plain": [
       "{8: \"{'alpha': 0.5391121857294692, 'lambda': 0.7030791263648584}\"}"
      ]
     },
     "execution_count": 31,
     "metadata": {},
     "output_type": "execute_result"
    }
   ],
   "source": [
    "best_params_second_group"
   ]
  },
  {
   "cell_type": "code",
   "execution_count": 32,
   "metadata": {},
   "outputs": [
    {
     "data": {
      "text/plain": [
       "{8: 209}"
      ]
     },
     "execution_count": 32,
     "metadata": {},
     "output_type": "execute_result"
    }
   ],
   "source": [
    "second_stop_iter_nums"
   ]
  },
  {
   "cell_type": "code",
   "execution_count": null,
   "metadata": {},
   "outputs": [],
   "source": []
  }
 ],
 "metadata": {
  "kernelspec": {
   "display_name": "Python 3",
   "language": "python",
   "name": "python3"
  },
  "language_info": {
   "codemirror_mode": {
    "name": "ipython",
    "version": 3
   },
   "file_extension": ".py",
   "mimetype": "text/x-python",
   "name": "python",
   "nbconvert_exporter": "python",
   "pygments_lexer": "ipython3",
   "version": "3.8.5"
  }
 },
 "nbformat": 4,
 "nbformat_minor": 2
}
