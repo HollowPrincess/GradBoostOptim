{
 "cells": [
  {
   "cell_type": "code",
   "execution_count": 25,
   "metadata": {},
   "outputs": [],
   "source": [
    "import pandas as pd\n",
    "import numpy as np\n",
    "import os\n",
    "\n",
    "prepare_RSgroups = False\n",
    "dataset_name = 'house_prices'\n",
    "\n",
    "DIR_TO_SAVE_RES = './data/'+dataset_name+'/first_test/'"
   ]
  },
  {
   "cell_type": "code",
   "execution_count": 2,
   "metadata": {
    "collapsed": true
   },
   "outputs": [
    {
     "name": "stdout",
     "output_type": "stream",
     "text": [
      "(729, 21)\n",
      "(729, 21)\n",
      "(729, 21)\n",
      "(729, 21)\n",
      "(729, 21)\n",
      "(729, 21)\n",
      "(729, 21)\n",
      "(729, 21)\n",
      "(729, 21)\n",
      "(729, 21)\n"
     ]
    }
   ],
   "source": [
    "if prepare_RSgroups:\n",
    "    for i in range(1,11):\n",
    "        part_1 = pd.read_csv(DIR_TO_SAVE_RES+\\\n",
    "                             \"res_rand_group1_house_prices_{}.csv\".format(i))\n",
    "        part_2 = pd.read_csv(DIR_TO_SAVE_RES+\\\n",
    "                             \"res_rand_group2_house_prices_{}.csv\".format(i))\n",
    "        part_3 = pd.read_csv(DIR_TO_SAVE_RES+\\\n",
    "                             \"res_rand_group3_house_prices_{}.csv\".format(i))\n",
    "        full = pd.concat([part_1,part_2,part_3], sort = False)\n",
    "        full['run_number']=i\n",
    "        print(full.shape)\n",
    "        full.to_csv(DIR_TO_SAVE_RES+\"res_rand_groups_{}_{}.csv\".format(dataset_name, i), index=False)"
   ]
  },
  {
   "cell_type": "code",
   "execution_count": 3,
   "metadata": {},
   "outputs": [
    {
     "name": "stdout",
     "output_type": "stream",
     "text": [
      "27.578161259988946\n",
      "0.4568256649999829\n"
     ]
    }
   ],
   "source": [
    "RS_time = np.array([27.66507022380829, 28.061819970607758, 27.44816317160924,\n",
    "           27.645976877212526, 26.519640775521598, 27.433769524097443,\n",
    "           28.03506429195404, 27.815785245100656])\n",
    "print(np.mean(RS_time))\n",
    "print(np.std(RS_time))"
   ]
  },
  {
   "cell_type": "code",
   "execution_count": 4,
   "metadata": {},
   "outputs": [
    {
     "name": "stdout",
     "output_type": "stream",
     "text": [
      "13.81115007797877\n",
      "0.16249669157903252\n",
      "=====\n",
      "9.76175633351008\n",
      "0.2868689530953342\n",
      "=====\n",
      "9.838461096286775\n",
      "0.27468271087739105\n",
      "=====\n",
      "33.41136750777562\n",
      "0.700282576201665\n",
      "=====\n"
     ]
    }
   ],
   "source": [
    "group_1_time = np.array([13.971220242977143, 13.86060604651769, 13.980982772509257,\n",
    "                        13.661206158002217, 13.581735169887542])\n",
    "group_2_time = np.array([9.980452716350555, 9.539682837327321, 10.220448072751363,\n",
    "                        9.545726998647053, 9.52247104247411])\n",
    "group_3_time = np.array([10.060758105913798, 9.634749031066894, 10.268958103656768,\n",
    "                        9.60460832118988, 9.623231919606527])\n",
    "\n",
    "sum_arr=np.sum([group_1_time, group_2_time, group_3_time], axis = 0)\n",
    "\n",
    "\n",
    "for arr in [group_1_time, group_2_time, group_3_time, sum_arr]:\n",
    "    print(np.mean(arr))\n",
    "    print(np.std(arr))\n",
    "    print(\"=====\")"
   ]
  },
  {
   "cell_type": "code",
   "execution_count": 2,
   "metadata": {},
   "outputs": [],
   "source": [
    "def group_best_params_with_stop(df, stop_iter_num, left_iter_num, right_iter_num):\n",
    "    best_params = {}\n",
    "    stop_iter_nums = {}\n",
    "    best_score = {}\n",
    "\n",
    "    tmp_df = df.loc[(df['iter_num'] >= left_iter_num) & (df['iter_num'] <= right_iter_num)].copy() #take group\n",
    "    for i in tmp_df.run_number.unique(): \n",
    "      tmp_df_i = tmp_df.loc[tmp_df.run_number==i] #take run\n",
    "      #cut iterations:\n",
    "      tmp_df_i_copy = tmp_df_i.copy()\n",
    "      tmp_df_i_copy.loc[:, \"mean_test_score\"] = tmp_df_i_copy.loc[\n",
    "          :, \"mean_test_score\"].cummax()      \n",
    "\n",
    "      try:\n",
    "          curr_max=tmp_df_i_copy.groupby(\"mean_test_score\").count().reset_index().sort_values(by = \"mean_test_score\")\n",
    "          max_score = curr_max.loc[curr_max[\"mean_test_score\"]>=stop_iter_num].index[0] #get first interval with iter_amount more than stop_iter_num\n",
    "      except:\n",
    "          max_score = tmp_df_i_copy.mean_test_score.max()\n",
    "\n",
    "      tmp_stop = tmp_df_i.loc[tmp_df_i[\"mean_test_score\"]==max_score].sort_values(by=\"iter_num\").iloc[0]#get first element with best_score\n",
    "    \n",
    "      best_params[i] = tmp_stop['params']\n",
    "      #best_score[i] = tmp_stop['mean_test_score']\n",
    "\n",
    "      last_iter_num = tmp_stop['iter_num'] + stop_iter_num - 1\n",
    "      if last_iter_num > right_iter_num:\n",
    "          last_iter_num = right_iter_num\n",
    "\n",
    "      stop_iter_nums[i] = last_iter_num\n",
    "    return best_params, stop_iter_nums#, best_score       \n",
    "   "
   ]
  },
  {
   "cell_type": "code",
   "execution_count": 26,
   "metadata": {},
   "outputs": [],
   "source": [
    "group_df = pd.DataFrame([])\n",
    "for i in range(1,11):\n",
    "    df = pd.read_csv(DIR_TO_SAVE_RES+\"res_rand_groups_{}_{}.csv\".format(dataset_name, i))    \n",
    "    df['iter_num'] = range(1, df.shape[0]+1)\n",
    "    group_df = pd.concat([group_df, df], sort = False)"
   ]
  },
  {
   "cell_type": "code",
   "execution_count": 27,
   "metadata": {},
   "outputs": [],
   "source": [
    "stop_iter_num = 25\n",
    "best_params_first_group, first_stop_iter_nums = group_best_params_with_stop(\n",
    "    group_df, stop_iter_num = stop_iter_num,\n",
    "    left_iter_num=1, right_iter_num=243)"
   ]
  },
  {
   "cell_type": "code",
   "execution_count": 28,
   "metadata": {},
   "outputs": [
    {
     "data": {
      "text/plain": [
       "{1: \"{'max_depth': 3, 'min_child_weight': 3}\",\n",
       " 2: \"{'max_depth': 3, 'min_child_weight': 3}\",\n",
       " 3: \"{'max_depth': 3, 'min_child_weight': 3}\",\n",
       " 4: \"{'max_depth': 3, 'min_child_weight': 3}\",\n",
       " 5: \"{'max_depth': 3, 'min_child_weight': 3}\",\n",
       " 6: \"{'max_depth': 3, 'min_child_weight': 3}\",\n",
       " 7: \"{'max_depth': 3, 'min_child_weight': 5}\",\n",
       " 8: \"{'max_depth': 3, 'min_child_weight': 3}\",\n",
       " 9: \"{'max_depth': 3, 'min_child_weight': 3}\",\n",
       " 10: \"{'max_depth': 3, 'min_child_weight': 4}\"}"
      ]
     },
     "execution_count": 28,
     "metadata": {},
     "output_type": "execute_result"
    }
   ],
   "source": [
    "best_params_first_group"
   ]
  },
  {
   "cell_type": "code",
   "execution_count": 29,
   "metadata": {},
   "outputs": [
    {
     "data": {
      "text/plain": [
       "{1: 178, 2: 136, 3: 128, 4: 223, 5: 84, 6: 214, 7: 57, 8: 109, 9: 235, 10: 229}"
      ]
     },
     "execution_count": 29,
     "metadata": {},
     "output_type": "execute_result"
    }
   ],
   "source": [
    "first_stop_iter_nums"
   ]
  },
  {
   "cell_type": "code",
   "execution_count": 3,
   "metadata": {},
   "outputs": [],
   "source": [
    "import os "
   ]
  },
  {
   "cell_type": "code",
   "execution_count": 17,
   "metadata": {},
   "outputs": [
    {
     "data": {
      "text/plain": [
       "['GR_S_2_group_with_10_6_house_prices.csv',\n",
       " 'GR_S_2_group_with_100_9_house_prices.csv',\n",
       " 'GR_S_2_group_with_25_8_house_prices.csv']"
      ]
     },
     "execution_count": 17,
     "metadata": {},
     "output_type": "execute_result"
    }
   ],
   "source": [
    "os.listdir(\"./data/tmp\")"
   ]
  },
  {
   "cell_type": "code",
   "execution_count": 6,
   "metadata": {},
   "outputs": [],
   "source": [
    "group_df = pd.read_csv(\"./data/tmp/GR_S_2_group_with_10_6_house_prices.csv\")\n",
    "stop_iter_num = 10\n",
    "\n",
    "first_group_stop_iters = 199\n",
    "left_iter_num = first_group_stop_iters+1\n",
    "right_iter_num =left_iter_num + int(round((729 - first_group_stop_iters)/2))\n",
    "\n",
    "best_params_second_group, second_stop_iter_nums = group_best_params_with_stop(\n",
    "    group_df, stop_iter_num = stop_iter_num,\n",
    "    left_iter_num=left_iter_num, right_iter_num=right_iter_num)"
   ]
  },
  {
   "cell_type": "code",
   "execution_count": 7,
   "metadata": {},
   "outputs": [
    {
     "data": {
      "text/plain": [
       "{6: \"{'alpha': 0.664132198774426, 'lambda': 0.2752314671549202}\"}"
      ]
     },
     "execution_count": 7,
     "metadata": {},
     "output_type": "execute_result"
    }
   ],
   "source": [
    "best_params_second_group"
   ]
  },
  {
   "cell_type": "code",
   "execution_count": 8,
   "metadata": {},
   "outputs": [
    {
     "data": {
      "text/plain": [
       "{6: 209}"
      ]
     },
     "execution_count": 8,
     "metadata": {},
     "output_type": "execute_result"
    }
   ],
   "source": [
    "second_stop_iter_nums"
   ]
  },
  {
   "cell_type": "code",
   "execution_count": null,
   "metadata": {},
   "outputs": [],
   "source": []
  },
  {
   "cell_type": "code",
   "execution_count": null,
   "metadata": {},
   "outputs": [],
   "source": []
  },
  {
   "cell_type": "code",
   "execution_count": 30,
   "metadata": {},
   "outputs": [],
   "source": [
    "group_df = pd.read_csv(\"./data/tmp/GR_S_2_group_with_25_8_house_prices.csv\")\n",
    "# {'max_depth': 3, 'min_child_weight': 3}\n",
    "\n",
    "stop_iter_num = 100\n",
    "\n",
    "first_group_stop_iters = 109\n",
    "left_iter_num = first_group_stop_iters+1\n",
    "right_iter_num =left_iter_num + int(round((729 - first_group_stop_iters)/2))\n",
    "\n",
    "best_params_second_group, second_stop_iter_nums = group_best_params_with_stop(\n",
    "    group_df, stop_iter_num = stop_iter_num,\n",
    "    left_iter_num=left_iter_num, right_iter_num=right_iter_num)"
   ]
  },
  {
   "cell_type": "code",
   "execution_count": 31,
   "metadata": {},
   "outputs": [
    {
     "data": {
      "text/plain": [
       "{8: \"{'alpha': 0.5391121857294692, 'lambda': 0.7030791263648584}\"}"
      ]
     },
     "execution_count": 31,
     "metadata": {},
     "output_type": "execute_result"
    }
   ],
   "source": [
    "best_params_second_group"
   ]
  },
  {
   "cell_type": "code",
   "execution_count": 32,
   "metadata": {},
   "outputs": [
    {
     "data": {
      "text/plain": [
       "{8: 209}"
      ]
     },
     "execution_count": 32,
     "metadata": {},
     "output_type": "execute_result"
    }
   ],
   "source": [
    "second_stop_iter_nums"
   ]
  },
  {
   "cell_type": "code",
   "execution_count": null,
   "metadata": {},
   "outputs": [],
   "source": []
  }
 ],
 "metadata": {
  "kernelspec": {
   "display_name": "Python 3",
   "language": "python",
   "name": "python3"
  },
  "language_info": {
   "codemirror_mode": {
    "name": "ipython",
    "version": 3
   },
   "file_extension": ".py",
   "mimetype": "text/x-python",
   "name": "python",
   "nbconvert_exporter": "python",
   "pygments_lexer": "ipython3",
   "version": "3.7.3"
  }
 },
 "nbformat": 4,
 "nbformat_minor": 2
}
