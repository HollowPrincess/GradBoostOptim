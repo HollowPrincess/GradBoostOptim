{
 "cells": [
  {
   "cell_type": "markdown",
   "metadata": {
    "colab_type": "text",
    "id": "I73ujbmkvKFV"
   },
   "source": [
    "# Imports"
   ]
  },
  {
   "cell_type": "code",
   "execution_count": 0,
   "metadata": {
    "colab": {},
    "colab_type": "code",
    "id": "1mjtAzjT7JpM"
   },
   "outputs": [],
   "source": [
    "#installation:\n",
    "#!pip install googledrivedownloader"
   ]
  },
  {
   "cell_type": "code",
   "execution_count": 2,
   "metadata": {
    "colab": {
     "base_uri": "https://localhost:8080/",
     "height": 436
    },
    "colab_type": "code",
    "id": "1sotSd2I79uv",
    "outputId": "c780a8a1-7390-4e62-a988-6715e4ebaa38",
    "scrolled": true
   },
   "outputs": [
    {
     "name": "stdout",
     "output_type": "stream",
     "text": [
      "Go to this URL in a browser: https://accounts.google.com/o/oauth2/auth?client_id=947318989803-6bn6qk8qdgf4n4g3pfee6491hc0brc4i.apps.googleusercontent.com&redirect_uri=urn%3aietf%3awg%3aoauth%3a2.0%3aoob&response_type=code&scope=email%20https%3a%2f%2fwww.googleapis.com%2fauth%2fdocs.test%20https%3a%2f%2fwww.googleapis.com%2fauth%2fdrive%20https%3a%2f%2fwww.googleapis.com%2fauth%2fdrive.photos.readonly%20https%3a%2f%2fwww.googleapis.com%2fauth%2fpeopleapi.readonly\n",
      "\n",
      "Enter your authorization code:\n",
      "··········\n",
      "Mounted at /mntDrive\n",
      " 2016_01_SPbU_template_4x3_ру.gslides\n",
      "'Colab Notebooks'\n",
      " contacts00001.vcf\n",
      " data\n",
      "'MatLab '\n",
      " MyFinal.ipynb\n",
      " tests_stat.ipynb\n",
      " WebDev\n",
      " ВКР\n",
      "'Для открытого доступа'\n",
      " Документы\n",
      " Жеребьевка\n",
      "'Загрузить на комп'\n",
      "'Копия Матрица компетентности программиста.gsheet'\n",
      "'Методичка СПбГУ по MatLab'\n",
      "'НИР магистратура'\n",
      "'Практика по веб поиску'\n",
      " Универ\n"
     ]
    }
   ],
   "source": [
    "from google.colab import drive \n",
    "drive.mount('/mntDrive') \n",
    "! ls \"/mntDrive/My Drive\""
   ]
  },
  {
   "cell_type": "code",
   "execution_count": 0,
   "metadata": {
    "colab": {},
    "colab_type": "code",
    "id": "qlpKaFxBNn7d"
   },
   "outputs": [],
   "source": [
    "import warnings\n",
    "warnings.filterwarnings('ignore')"
   ]
  },
  {
   "cell_type": "code",
   "execution_count": 0,
   "metadata": {
    "colab": {},
    "colab_type": "code",
    "id": "gd2b0tAA7NVV"
   },
   "outputs": [],
   "source": [
    "#imports:\n",
    "import pandas as pd\n",
    "import numpy as np\n",
    "import math\n",
    "from time import time\n",
    "\n",
    "from sklearn.utils import shuffle\n",
    "\n",
    "import xgboost\n",
    "\n",
    "from scipy.stats import randint as sp_randint # int distribution for random search\n",
    "from scipy.stats import uniform # float distribution for random search\n",
    "from sklearn.model_selection import GridSearchCV\n",
    "from sklearn.model_selection import RandomizedSearchCV\n",
    "\n",
    "from matplotlib import pyplot as plt"
   ]
  },
  {
   "cell_type": "markdown",
   "metadata": {
    "colab_type": "text",
    "id": "0cLj0WQcADuI"
   },
   "source": [
    "# Data upload"
   ]
  },
  {
   "cell_type": "code",
   "execution_count": 5,
   "metadata": {
    "colab": {
     "base_uri": "https://localhost:8080/",
     "height": 52
    },
    "colab_type": "code",
    "id": "COWbkB5lU3a6",
    "outputId": "85389658-8600-4d01-95ed-ae871628e295"
   },
   "outputs": [
    {
     "name": "stdout",
     "output_type": "stream",
     "text": [
      "Downloading 1Vy6G1IFiWdTGoHo7YaNVYw7v9Xw3XnuT into /content/data_files/Features_Variant_1.zip... Done.\n",
      "Unzipping...Done.\n"
     ]
    }
   ],
   "source": [
    "!mkdir data_files\n",
    "\n",
    "import os.path\n",
    "os.chdir('/content/data_files')\n",
    "\n",
    "from google_drive_downloader import GoogleDriveDownloader as gdd\n",
    "gdd.download_file_from_google_drive(file_id='1Vy6G1IFiWdTGoHo7YaNVYw7v9Xw3XnuT',\n",
    "                                    dest_path='/content/data_files/Features_Variant_1.zip',\n",
    "                                    unzip=True)"
   ]
  },
  {
   "cell_type": "markdown",
   "metadata": {
    "colab_type": "text",
    "id": "3dCbszLY8Jen"
   },
   "source": [
    "# Metrics"
   ]
  },
  {
   "cell_type": "code",
   "execution_count": 0,
   "metadata": {
    "colab": {},
    "colab_type": "code",
    "id": "zYgEguku8Mt-"
   },
   "outputs": [],
   "source": [
    "def custom_R2(target, pred):\n",
    "    return 1-(np.sum((target-pred)**2))/(np.sum((target-np.mean(target))**2))\n",
    "\n",
    "def custom_RMSE(target, pred, gamma, w):\n",
    "    return np.sqrt(\n",
    "        np.sum((target-pred)**2)/len(pred)+gamma*np.linalg.norm(w)\n",
    "    )"
   ]
  },
  {
   "cell_type": "markdown",
   "metadata": {
    "colab_type": "text",
    "id": "DUxVCwgqvhF-"
   },
   "source": [
    "# Preparation"
   ]
  },
  {
   "cell_type": "markdown",
   "metadata": {
    "colab_type": "text",
    "id": "3DWEBnHzAMco"
   },
   "source": [
    "## DataFrame Preparation"
   ]
  },
  {
   "cell_type": "code",
   "execution_count": 0,
   "metadata": {
    "colab": {},
    "colab_type": "code",
    "id": "yfEWZzleYDnM"
   },
   "outputs": [],
   "source": [
    "data=pd.read_csv('/content/data_files/Features_Variant_1.csv', header=None).drop_duplicates()"
   ]
  },
  {
   "cell_type": "code",
   "execution_count": 0,
   "metadata": {
    "colab": {},
    "colab_type": "code",
    "id": "lnmU0-DWYNwh"
   },
   "outputs": [],
   "source": [
    "#get and fit features names\n",
    "features_names=np.array(['page_likes_num',#1\n",
    "               'page_checkins',#2\n",
    "               'page_talking_about',#3\n",
    "                'page_cat',#4\n",
    "                'page_statistics',#5-29 #mean, avg etc.\n",
    "                'comments_num_before_base_time',#30\n",
    "                'comments_num_in_last_24_hours',#31 #last day\n",
    "                'comments_num_in_last_48_to_24_hours',#32 #day before last\n",
    "                'comments_num_in_first_24_hours',#33\n",
    "                'comments_difference_in_last_two_days', #34 (32-31)\n",
    "                'base_time', #35\n",
    "                'character_num_in_post', #36\n",
    "                'share_num',#37\n",
    "                'post_promotion', #38 binary\n",
    "                'h_local', #39 This describes the H hrs, for which we have the target variable/ comments received. \n",
    "                'post_published_weekday', #40-46 This represents the day(Sunday...Saturday) on which the post was published. \n",
    "                'base_datetime_weekday', #47-53 This represents the day(Sunday...Saturday) on selected base Date/Time. \n",
    "                'target' #54 The no of comments in next H hrs(H is given in Feature no 39).                \n",
    "               ])\n",
    "\n",
    "for index in range(5,29):\n",
    "    features_names=np.insert(features_names, index, features_names[4]+'_'+str(index-4))\n",
    "    \n",
    "weekday=('sunday', 'monday','tuesday', 'wednesday', 'thursday', 'friday', 'saturday')    \n",
    "\n",
    "for index in range(40,47):\n",
    "    features_names=np.insert(features_names,index, features_names[39]+'_'+ weekday[index-40])\n",
    "features_names=np.delete(features_names, 39)\n",
    "\n",
    "for index in range(47,54):\n",
    "    features_names=np.insert(features_names,index, features_names[46]+'_'+ weekday[index-47])\n",
    "features_names=np.delete(features_names, 46)\n",
    "\n",
    "data.columns=features_names"
   ]
  },
  {
   "cell_type": "code",
   "execution_count": 0,
   "metadata": {
    "colab": {},
    "colab_type": "code",
    "id": "DFri2mdN78ri"
   },
   "outputs": [],
   "source": [
    "data=data.drop(columns=['post_promotion']) #post promotion has only zero values we can drop this col because it isn't informative"
   ]
  },
  {
   "cell_type": "markdown",
   "metadata": {
    "colab_type": "text",
    "id": "SphoM5_38Cyy"
   },
   "source": [
    "## Data preparation"
   ]
  },
  {
   "cell_type": "code",
   "execution_count": 0,
   "metadata": {
    "colab": {},
    "colab_type": "code",
    "id": "SsJt31hB7_6G"
   },
   "outputs": [],
   "source": [
    "#categories:\n",
    "data=data.drop(columns=['page_cat'])\n",
    "\n",
    "data=pd.concat([data,pd.get_dummies(data['h_local'], prefix='h_local')], axis=1)\n",
    "data=data.drop(columns=['h_local'])"
   ]
  },
  {
   "cell_type": "code",
   "execution_count": 0,
   "metadata": {
    "colab": {},
    "colab_type": "code",
    "id": "aFU5gRgQ8GpP"
   },
   "outputs": [],
   "source": [
    "#data shuffling\n",
    "data=shuffle(data).reset_index(drop=True)"
   ]
  },
  {
   "cell_type": "code",
   "execution_count": 0,
   "metadata": {
    "colab": {},
    "colab_type": "code",
    "id": "Fio9GzrxlwMi"
   },
   "outputs": [],
   "source": [
    "#new features:\n",
    "data['comm_part_1']=data['comments_num_in_last_24_hours']/(data['comments_num_before_base_time']+1)\n",
    "data['comm_part_4']=(data['comments_num_in_last_24_hours']-data['comments_num_in_last_48_to_24_hours'])/(data['comments_num_in_last_48_to_24_hours']+1)\n",
    "data['comm_part_5']=(data['comments_num_in_last_24_hours']-data['comments_num_in_last_48_to_24_hours'])/(data['comments_num_before_base_time']+1)\n",
    "\n",
    "#drop extra features:\n",
    "data=data.drop(columns=[\n",
    "                        'page_likes_num', \n",
    "                        'page_checkins', \n",
    "                        'page_statistics_10',\n",
    "                        'page_statistics_23', \n",
    "                        'page_statistics_15',\n",
    "                        'page_statistics_16',\n",
    "                        'page_statistics_17',\n",
    "                        'page_statistics_18',\n",
    "                        'page_statistics_19',\n",
    "                        'page_statistics_21',\n",
    "                        'comments_num_in_first_24_hours',\n",
    "       \n",
    "       'character_num_in_post', \n",
    "\n",
    "       'post_published_weekday_sunday', 'post_published_weekday_monday',\n",
    "       'post_published_weekday_tuesday', 'post_published_weekday_wednesday',\n",
    "       'post_published_weekday_thursday', 'post_published_weekday_friday',\n",
    "       'post_published_weekday_saturday', \n",
    "\n",
    "       'base_datetime_weekday_sunday',\n",
    "       'base_datetime_weekday_monday', 'base_datetime_weekday_tuesday',\n",
    "       'base_datetime_weekday_wednesday', 'base_datetime_weekday_thursday',\n",
    "       'base_datetime_weekday_friday', 'base_datetime_weekday_saturday'])\n",
    "\n",
    "# features transformation:\n",
    "data['comments_num_in_last_48_to_24_hours']=data['comments_num_in_last_48_to_24_hours'].apply(lambda x: 0 if x==0 else 1)"
   ]
  },
  {
   "cell_type": "markdown",
   "metadata": {
    "colab_type": "text",
    "id": "1KFC7qG88SM0"
   },
   "source": [
    "# Model"
   ]
  },
  {
   "cell_type": "code",
   "execution_count": 0,
   "metadata": {
    "colab": {},
    "colab_type": "code",
    "id": "F1XMof4eL7eU"
   },
   "outputs": [],
   "source": [
    "# tree booster parameters:\n",
    "\n",
    "# eta[default=0.3] in  0.01-0.2\n",
    "# min_child_weight [default=1] \n",
    "# max_depth [default=6] Typical values: 3-10\n",
    "# max_leaf_nodes\n",
    "# gamma [default=0]\n",
    "# max_delta_step [default=0]\n",
    "\n",
    "# subsample [default=1] Typical values: 0.5-1\n",
    "# colsample_bytree [default=1] Typical values: 0.5-1\n",
    "# colsample_bylevel [default=1]\n",
    "\n",
    "# lambda [default=1] L2 regularization term on weights - use it\n",
    "# alpha [default=0] L1 regularization term on weight - use it i.e. 'reg_alpha':[0, 0.001, 0.005, 0.01, 0.05] (0.005 was chosen in example)\n",
    "\n",
    "# scale_pos_weight [default=1] must be = 1 when there are a high disbalance\n"
   ]
  },
  {
   "cell_type": "code",
   "execution_count": 13,
   "metadata": {
    "colab": {
     "base_uri": "https://localhost:8080/",
     "height": 34
    },
    "colab_type": "code",
    "id": "YIsK9SM2s3kh",
    "outputId": "36cd4c9f-4eb6-4e36-b805-e37d17a646c8"
   },
   "outputs": [
    {
     "name": "stdout",
     "output_type": "stream",
     "text": [
      "GridSearchCV took 3927.89 seconds for 81 candidate parameter settings.\n"
     ]
    }
   ],
   "source": [
    "# grid search\n",
    "# get some data\n",
    "x_cols = data.columns.to_list()\n",
    "x_cols.remove('target')\n",
    "X, y = data.loc[:,x_cols].values, data.loc[:,'target'].values\n",
    "\n",
    "# build a classifier\n",
    "clf = xgboost.XGBRegressor(verbosity=0)\n",
    "\n",
    "# use a full grid over 4 parameters\n",
    "param_grid = {'max_depth': [3, 5, 10], 'min_child_weight': [1, 3, 6], 'alpha':[0.25,0.5,0.75], 'lambda':[0.25,0.5,0.75]}\n",
    "\n",
    "# run grid search\n",
    "grid_search = GridSearchCV(clf, param_grid=param_grid, cv=5, scoring=\"r2\" ,iid=False)\n",
    "start = time()\n",
    "grid_search.fit(X, y)\n",
    "\n",
    "print(\"GridSearchCV took %.2f seconds for %d candidate parameter settings.\"\n",
    "      % (time() - start, len(grid_search.cv_results_['params'])))\n",
    "\n",
    "res_grid=pd.DataFrame(grid_search.cv_results_)\n",
    "res_grid['experiment_name']='grid search'"
   ]
  },
  {
   "cell_type": "code",
   "execution_count": 14,
   "metadata": {
    "colab": {
     "base_uri": "https://localhost:8080/",
     "height": 34
    },
    "colab_type": "code",
    "id": "jlpQirxWuL6u",
    "outputId": "0895f640-3b1a-4a5a-ac97-946619108382"
   },
   "outputs": [
    {
     "name": "stdout",
     "output_type": "stream",
     "text": [
      "RandomizedSearchCV took 4134.34 seconds for 81 candidates parameter settings.\n"
     ]
    }
   ],
   "source": [
    "# specify parameters and distributions\n",
    "param_dist = {\"max_depth\": sp_randint(3, 10),\n",
    "              \"min_child_weight\": sp_randint(1, 10),\n",
    "              \"alpha\": uniform(loc=0, scale=1),\n",
    "              \"lambda\": uniform(loc=0, scale=1)}\n",
    "\n",
    "\n",
    "# run randomized search\n",
    "n_iter_search = 81\n",
    "random_search = RandomizedSearchCV(clf, param_distributions=param_dist,\n",
    "                                   n_iter=n_iter_search, cv=5, scoring=\"r2\",iid=False)\n",
    "\n",
    "start = time()\n",
    "random_search.fit(X, y)\n",
    "print(\"RandomizedSearchCV took %.2f seconds for %d candidates\"\n",
    "      \" parameter settings.\" % ((time() - start), n_iter_search))\n",
    "\n",
    "res_rand=pd.DataFrame(random_search.cv_results_)\n",
    "res_rand['experiment_name']='random search'"
   ]
  },
  {
   "cell_type": "code",
   "execution_count": 15,
   "metadata": {
    "colab": {
     "base_uri": "https://localhost:8080/",
     "height": 34
    },
    "colab_type": "code",
    "id": "VeZ1AVLSPsFf",
    "outputId": "bca4a704-cce2-4aea-d622-26d245cf4cfd"
   },
   "outputs": [
    {
     "name": "stdout",
     "output_type": "stream",
     "text": [
      "GridSearchCV took 61.26 seconds for 1 candidate parameter settings.\n"
     ]
    }
   ],
   "source": [
    "# run with default values\n",
    "default = GridSearchCV(clf, param_grid={'max_depth': [6]}, cv=5, scoring=\"r2\", iid=False)#default values\n",
    "start = time()\n",
    "default.fit(X, y)\n",
    "\n",
    "print(\"GridSearchCV took %.2f seconds for %d candidate parameter settings.\"\n",
    "      % (time() - start, len(default.cv_results_['params'])))\n",
    "\n",
    "default=pd.DataFrame(default.cv_results_)\n",
    "default['experiment_name']='default params'"
   ]
  },
  {
   "cell_type": "code",
   "execution_count": 16,
   "metadata": {
    "colab": {
     "base_uri": "https://localhost:8080/",
     "height": 34
    },
    "colab_type": "code",
    "id": "9dxao-u56F06",
    "outputId": "a73ba697-7d56-4731-840a-2ed10e71268e"
   },
   "outputs": [
    {
     "data": {
      "text/plain": [
       "'\\nclf_tmp=clf\\ndict_p={\"max_depth\": 4,\\n              \"min_child_weight\": 2}\\nclf_tmp.set_params(**dict_p)\\n'"
      ]
     },
     "execution_count": 16,
     "metadata": {
      "tags": []
     },
     "output_type": "execute_result"
    }
   ],
   "source": [
    "# get some data\n",
    "x_cols = data.columns.to_list()\n",
    "x_cols.remove('target')\n",
    "X, y = data.loc[:,x_cols].values, data.loc[:,'target'].values\n",
    "\n",
    "# build a classifier\n",
    "clf = xgboost.XGBRegressor(verbosity=0)\n",
    "\"\"\"\n",
    "clf_tmp=clf\n",
    "dict_p={\"max_depth\": 4,\n",
    "              \"min_child_weight\": 2}\n",
    "clf_tmp.set_params(**dict_p)\n",
    "\"\"\""
   ]
  },
  {
   "cell_type": "code",
   "execution_count": 17,
   "metadata": {
    "colab": {
     "base_uri": "https://localhost:8080/",
     "height": 69
    },
    "colab_type": "code",
    "id": "2dPYLYF_KD_T",
    "outputId": "62e68287-22fb-498b-dc65-3d5e44a5c948"
   },
   "outputs": [
    {
     "name": "stdout",
     "output_type": "stream",
     "text": [
      "RandomizedSearchCV for first group took 1171.77 seconds for 27 candidates parameter settings.\n",
      "RandomizedSearchCV for second group took 855.39 seconds for 27 candidates parameter settings.\n",
      "RandomizedSearchCV for third group took 740.36 seconds for 27 candidates parameter settings.\n"
     ]
    }
   ],
   "source": [
    "# random groups test\n",
    "#first group:\n",
    "param_dist = {\"max_depth\": sp_randint(3, 10),\n",
    "              \"min_child_weight\": sp_randint(1, 10)}\n",
    "\n",
    "n_iter_search = 27\n",
    "random_search = RandomizedSearchCV(clf, param_distributions=param_dist,\n",
    "                                   n_iter=n_iter_search, cv=5, scoring=\"r2\", iid=False)\n",
    "\n",
    "start = time()\n",
    "random_search.fit(X, y)\n",
    "print(\"RandomizedSearchCV for first group took %.2f seconds for %d candidates\"\n",
    "      \" parameter settings.\" % ((time() - start), n_iter_search))\n",
    "\n",
    "\n",
    "res_rand_1=pd.DataFrame(random_search.cv_results_)\n",
    "res_rand_1['experiment_name']='random search for 1 group'        \n",
    "\n",
    "clf.set_params(**random_search.best_params_)\n",
    "#second group:\n",
    "param_dist = {\"alpha\": uniform(loc=0, scale=1),\n",
    "              \"gamma\":uniform(loc=0, scale=1),\n",
    "              \"lambda\": uniform(loc=0, scale=1)}\n",
    "\n",
    "random_search = RandomizedSearchCV(clf, param_distributions=param_dist,\n",
    "                                   n_iter=n_iter_search, cv=5, scoring=\"r2\", iid=False)\n",
    "\n",
    "start = time()\n",
    "random_search.fit(X, y)\n",
    "print(\"RandomizedSearchCV for second group took %.2f seconds for %d candidates\"\n",
    "      \" parameter settings.\" % ((time() - start), n_iter_search))\n",
    "\n",
    "res_rand_2=pd.DataFrame(random_search.cv_results_)\n",
    "res_rand_2['experiment_name']='random search for 2 group' \n",
    "\n",
    "clf.set_params(**random_search.best_params_)\n",
    "#third group:\n",
    "param_dist = {\"subsample\":uniform(loc=0.5, scale=0.4),\n",
    "              \"colsample_bytree\":uniform(loc=0.5, scale=0.4)}\n",
    "\n",
    "random_search = RandomizedSearchCV(clf, param_distributions=param_dist,\n",
    "                                   n_iter=n_iter_search, cv=5, scoring=\"r2\", iid=False)\n",
    "\n",
    "start = time()\n",
    "random_search.fit(X, y)\n",
    "print(\"RandomizedSearchCV for third group took %.2f seconds for %d candidates\"\n",
    "      \" parameter settings.\" % ((time() - start), n_iter_search))\n",
    "\n",
    "res_rand_3=pd.DataFrame(random_search.cv_results_)\n",
    "res_rand_3['experiment_name']='random search for 3 group' "
   ]
  },
  {
   "cell_type": "code",
   "execution_count": 0,
   "metadata": {
    "colab": {},
    "colab_type": "code",
    "id": "NEKkmmsvB4tt"
   },
   "outputs": [],
   "source": [
    "res= pd.concat([res_grid, res_rand, res_rand_1,res_rand_2,res_rand_3,default])"
   ]
  },
  {
   "cell_type": "code",
   "execution_count": 19,
   "metadata": {
    "colab": {
     "base_uri": "https://localhost:8080/",
     "height": 306
    },
    "colab_type": "code",
    "id": "fEbjr9ZdTeMs",
    "outputId": "7225ce7e-921e-4cb2-fd12-6ad8377d0233"
   },
   "outputs": [
    {
     "data": {
      "text/html": [
       "<div>\n",
       "<style scoped>\n",
       "    .dataframe tbody tr th:only-of-type {\n",
       "        vertical-align: middle;\n",
       "    }\n",
       "\n",
       "    .dataframe tbody tr th {\n",
       "        vertical-align: top;\n",
       "    }\n",
       "\n",
       "    .dataframe thead th {\n",
       "        text-align: right;\n",
       "    }\n",
       "</style>\n",
       "<table border=\"1\" class=\"dataframe\">\n",
       "  <thead>\n",
       "    <tr style=\"text-align: right;\">\n",
       "      <th></th>\n",
       "      <th>experiment_name</th>\n",
       "      <th>mean_fit_time</th>\n",
       "      <th>mean_score_time</th>\n",
       "      <th>mean_test_score</th>\n",
       "      <th>param_alpha</th>\n",
       "      <th>param_colsample_bytree</th>\n",
       "      <th>param_gamma</th>\n",
       "      <th>param_lambda</th>\n",
       "      <th>param_max_depth</th>\n",
       "      <th>param_min_child_weight</th>\n",
       "      <th>param_subsample</th>\n",
       "      <th>params</th>\n",
       "      <th>rank_test_score</th>\n",
       "      <th>split0_test_score</th>\n",
       "      <th>split1_test_score</th>\n",
       "      <th>split2_test_score</th>\n",
       "      <th>split3_test_score</th>\n",
       "      <th>split4_test_score</th>\n",
       "      <th>std_fit_time</th>\n",
       "      <th>std_score_time</th>\n",
       "      <th>std_test_score</th>\n",
       "    </tr>\n",
       "  </thead>\n",
       "  <tbody>\n",
       "    <tr>\n",
       "      <th>0</th>\n",
       "      <td>grid search</td>\n",
       "      <td>4.776354</td>\n",
       "      <td>0.021240</td>\n",
       "      <td>0.627813</td>\n",
       "      <td>0.25</td>\n",
       "      <td>NaN</td>\n",
       "      <td>NaN</td>\n",
       "      <td>0.25</td>\n",
       "      <td>3</td>\n",
       "      <td>1</td>\n",
       "      <td>NaN</td>\n",
       "      <td>{'alpha': 0.25, 'lambda': 0.25, 'max_depth': 3...</td>\n",
       "      <td>46</td>\n",
       "      <td>0.623022</td>\n",
       "      <td>0.578157</td>\n",
       "      <td>0.623198</td>\n",
       "      <td>0.644985</td>\n",
       "      <td>0.669702</td>\n",
       "      <td>0.130457</td>\n",
       "      <td>0.000653</td>\n",
       "      <td>0.030198</td>\n",
       "    </tr>\n",
       "    <tr>\n",
       "      <th>1</th>\n",
       "      <td>grid search</td>\n",
       "      <td>4.788540</td>\n",
       "      <td>0.020954</td>\n",
       "      <td>0.636074</td>\n",
       "      <td>0.25</td>\n",
       "      <td>NaN</td>\n",
       "      <td>NaN</td>\n",
       "      <td>0.25</td>\n",
       "      <td>3</td>\n",
       "      <td>3</td>\n",
       "      <td>NaN</td>\n",
       "      <td>{'alpha': 0.25, 'lambda': 0.25, 'max_depth': 3...</td>\n",
       "      <td>19</td>\n",
       "      <td>0.628233</td>\n",
       "      <td>0.584053</td>\n",
       "      <td>0.629385</td>\n",
       "      <td>0.660831</td>\n",
       "      <td>0.677867</td>\n",
       "      <td>0.048417</td>\n",
       "      <td>0.000337</td>\n",
       "      <td>0.032162</td>\n",
       "    </tr>\n",
       "  </tbody>\n",
       "</table>\n",
       "</div>"
      ],
      "text/plain": [
       "  experiment_name  mean_fit_time  ...  std_score_time  std_test_score\n",
       "0     grid search       4.776354  ...        0.000653        0.030198\n",
       "1     grid search       4.788540  ...        0.000337        0.032162\n",
       "\n",
       "[2 rows x 21 columns]"
      ]
     },
     "execution_count": 19,
     "metadata": {
      "tags": []
     },
     "output_type": "execute_result"
    }
   ],
   "source": [
    "res[:2]"
   ]
  },
  {
   "cell_type": "code",
   "execution_count": 0,
   "metadata": {
    "colab": {},
    "colab_type": "code",
    "id": "TAuWRoR7b-Uk"
   },
   "outputs": [],
   "source": [
    "res.to_csv(\"res_new.csv\",index=False)"
   ]
  },
  {
   "cell_type": "code",
   "execution_count": 0,
   "metadata": {
    "colab": {},
    "colab_type": "code",
    "id": "dRv7_KxJLLzy"
   },
   "outputs": [],
   "source": [
    "cp res_new.csv \"/mntDrive/My Drive/data/xgboost_perfomance_for_groups.csv\""
   ]
  },
  {
   "cell_type": "code",
   "execution_count": 22,
   "metadata": {
    "colab": {
     "base_uri": "https://localhost:8080/",
     "height": 34
    },
    "colab_type": "code",
    "id": "1YDpkaUoHau4",
    "outputId": "25a4f9c0-bcb9-4f2a-ea44-784308a20457"
   },
   "outputs": [
    {
     "data": {
      "text/plain": [
       "(244, 21)"
      ]
     },
     "execution_count": 22,
     "metadata": {
      "tags": []
     },
     "output_type": "execute_result"
    }
   ],
   "source": [
    "res.shape"
   ]
  },
  {
   "cell_type": "code",
   "execution_count": 0,
   "metadata": {
    "colab": {},
    "colab_type": "code",
    "id": "urmDhhmHchyv"
   },
   "outputs": [],
   "source": []
  }
 ],
 "metadata": {
  "colab": {
   "collapsed_sections": [],
   "name": "xgboost test 1",
   "provenance": []
  },
  "kernelspec": {
   "display_name": "Python 3",
   "language": "python",
   "name": "python3"
  },
  "language_info": {
   "codemirror_mode": {
    "name": "ipython",
    "version": 3
   },
   "file_extension": ".py",
   "mimetype": "text/x-python",
   "name": "python",
   "nbconvert_exporter": "python",
   "pygments_lexer": "ipython3",
   "version": "3.7.3"
  }
 },
 "nbformat": 4,
 "nbformat_minor": 1
}
