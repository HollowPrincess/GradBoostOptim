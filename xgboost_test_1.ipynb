{
  "nbformat": 4,
  "nbformat_minor": 0,
  "metadata": {
    "colab": {
      "name": "xgboost test 1",
      "provenance": [],
      "collapsed_sections": []
    },
    "kernelspec": {
      "name": "python3",
      "display_name": "Python 3"
    }
  },
  "cells": [
    {
      "cell_type": "markdown",
      "metadata": {
        "id": "I73ujbmkvKFV",
        "colab_type": "text"
      },
      "source": [
        "# Imports"
      ]
    },
    {
      "cell_type": "code",
      "metadata": {
        "id": "1mjtAzjT7JpM",
        "colab_type": "code",
        "colab": {}
      },
      "source": [
        "#installation:\n",
        "#!pip install googledrivedownloader"
      ],
      "execution_count": 0,
      "outputs": []
    },
    {
      "cell_type": "code",
      "metadata": {
        "id": "1sotSd2I79uv",
        "colab_type": "code",
        "colab": {
          "base_uri": "https://localhost:8080/",
          "height": 436
        },
        "outputId": "d47de080-6e32-40e6-fad7-c44f6ae1c7b8"
      },
      "source": [
        "from google.colab import drive \n",
        "drive.mount('/mntDrive') \n",
        "! ls \"/mntDrive/My Drive\""
      ],
      "execution_count": 1,
      "outputs": [
        {
          "output_type": "stream",
          "text": [
            "Go to this URL in a browser: https://accounts.google.com/o/oauth2/auth?client_id=947318989803-6bn6qk8qdgf4n4g3pfee6491hc0brc4i.apps.googleusercontent.com&redirect_uri=urn%3aietf%3awg%3aoauth%3a2.0%3aoob&response_type=code&scope=email%20https%3a%2f%2fwww.googleapis.com%2fauth%2fdocs.test%20https%3a%2f%2fwww.googleapis.com%2fauth%2fdrive%20https%3a%2f%2fwww.googleapis.com%2fauth%2fdrive.photos.readonly%20https%3a%2f%2fwww.googleapis.com%2fauth%2fpeopleapi.readonly\n",
            "\n",
            "Enter your authorization code:\n",
            "··········\n",
            "Mounted at /mntDrive\n",
            " 2016_01_SPbU_template_4x3_ру.gslides\n",
            "'Colab Notebooks'\n",
            " contacts00001.vcf\n",
            " data\n",
            "'MatLab '\n",
            " MyFinal.ipynb\n",
            " tests_stat.ipynb\n",
            " WebDev\n",
            " ВКР\n",
            "'Для открытого доступа'\n",
            " Документы\n",
            " Жеребьевка\n",
            "'Загрузить на комп'\n",
            "'Копия Матрица компетентности программиста.gsheet'\n",
            "'Методичка СПбГУ по MatLab'\n",
            "'НИР магистратура'\n",
            "'Практика по веб поиску'\n",
            " Универ\n"
          ],
          "name": "stdout"
        }
      ]
    },
    {
      "cell_type": "code",
      "metadata": {
        "id": "qlpKaFxBNn7d",
        "colab_type": "code",
        "colab": {}
      },
      "source": [
        "import warnings\n",
        "warnings.filterwarnings('ignore')"
      ],
      "execution_count": 0,
      "outputs": []
    },
    {
      "cell_type": "code",
      "metadata": {
        "id": "gd2b0tAA7NVV",
        "colab_type": "code",
        "colab": {}
      },
      "source": [
        "#imports:\n",
        "import pandas as pd\n",
        "import numpy as np\n",
        "import math\n",
        "from time import time\n",
        "\n",
        "from sklearn.utils import shuffle\n",
        "\n",
        "import xgboost\n",
        "\n",
        "from scipy.stats import randint as sp_randint # int distribution for random search\n",
        "from scipy.stats import uniform # float distribution for random search\n",
        "from sklearn.model_selection import GridSearchCV\n",
        "from sklearn.model_selection import RandomizedSearchCV\n",
        "\n",
        "from matplotlib import pyplot as plt"
      ],
      "execution_count": 0,
      "outputs": []
    },
    {
      "cell_type": "markdown",
      "metadata": {
        "id": "0cLj0WQcADuI",
        "colab_type": "text"
      },
      "source": [
        "# Data upload"
      ]
    },
    {
      "cell_type": "code",
      "metadata": {
        "id": "COWbkB5lU3a6",
        "colab_type": "code",
        "outputId": "26167bfc-c591-4b40-abb3-545f9b0f8495",
        "colab": {
          "base_uri": "https://localhost:8080/",
          "height": 52
        }
      },
      "source": [
        "!mkdir data_files\n",
        "\n",
        "import os.path\n",
        "os.chdir('/content/data_files')\n",
        "\n",
        "from google_drive_downloader import GoogleDriveDownloader as gdd\n",
        "gdd.download_file_from_google_drive(file_id='1Vy6G1IFiWdTGoHo7YaNVYw7v9Xw3XnuT',\n",
        "                                    dest_path='/content/data_files/Features_Variant_1.zip',\n",
        "                                    unzip=True)"
      ],
      "execution_count": 4,
      "outputs": [
        {
          "output_type": "stream",
          "text": [
            "Downloading 1Vy6G1IFiWdTGoHo7YaNVYw7v9Xw3XnuT into /content/data_files/Features_Variant_1.zip... Done.\n",
            "Unzipping...Done.\n"
          ],
          "name": "stdout"
        }
      ]
    },
    {
      "cell_type": "markdown",
      "metadata": {
        "id": "3dCbszLY8Jen",
        "colab_type": "text"
      },
      "source": [
        "# Metrics"
      ]
    },
    {
      "cell_type": "code",
      "metadata": {
        "id": "zYgEguku8Mt-",
        "colab_type": "code",
        "colab": {}
      },
      "source": [
        "def custom_R2(target, pred):\n",
        "    return 1-(np.sum((target-pred)**2))/(np.sum((target-np.mean(target))**2))\n",
        "\n",
        "def custom_RMSE(target, pred, gamma, w):\n",
        "    return np.sqrt(\n",
        "        np.sum((target-pred)**2)/len(pred)+gamma*np.linalg.norm(w)\n",
        "    )"
      ],
      "execution_count": 0,
      "outputs": []
    },
    {
      "cell_type": "markdown",
      "metadata": {
        "id": "DUxVCwgqvhF-",
        "colab_type": "text"
      },
      "source": [
        "# Preparation"
      ]
    },
    {
      "cell_type": "markdown",
      "metadata": {
        "id": "3DWEBnHzAMco",
        "colab_type": "text"
      },
      "source": [
        "## DataFrame Preparation"
      ]
    },
    {
      "cell_type": "code",
      "metadata": {
        "id": "yfEWZzleYDnM",
        "colab_type": "code",
        "colab": {}
      },
      "source": [
        "data=pd.read_csv('/content/data_files/Features_Variant_1.csv', header=None).drop_duplicates()"
      ],
      "execution_count": 0,
      "outputs": []
    },
    {
      "cell_type": "code",
      "metadata": {
        "id": "lnmU0-DWYNwh",
        "colab_type": "code",
        "colab": {}
      },
      "source": [
        "#get and fit features names\n",
        "features_names=np.array(['page_likes_num',#1\n",
        "               'page_checkins',#2\n",
        "               'page_talking_about',#3\n",
        "                'page_cat',#4\n",
        "                'page_statistics',#5-29 #mean, avg etc.\n",
        "                'comments_num_before_base_time',#30\n",
        "                'comments_num_in_last_24_hours',#31 #last day\n",
        "                'comments_num_in_last_48_to_24_hours',#32 #day before last\n",
        "                'comments_num_in_first_24_hours',#33\n",
        "                'comments_difference_in_last_two_days', #34 (32-31)\n",
        "                'base_time', #35\n",
        "                'character_num_in_post', #36\n",
        "                'share_num',#37\n",
        "                'post_promotion', #38 binary\n",
        "                'h_local', #39 This describes the H hrs, for which we have the target variable/ comments received. \n",
        "                'post_published_weekday', #40-46 This represents the day(Sunday...Saturday) on which the post was published. \n",
        "                'base_datetime_weekday', #47-53 This represents the day(Sunday...Saturday) on selected base Date/Time. \n",
        "                'target' #54 The no of comments in next H hrs(H is given in Feature no 39).                \n",
        "               ])\n",
        "\n",
        "for index in range(5,29):\n",
        "    features_names=np.insert(features_names, index, features_names[4]+'_'+str(index-4))\n",
        "    \n",
        "weekday=('sunday', 'monday','tuesday', 'wednesday', 'thursday', 'friday', 'saturday')    \n",
        "\n",
        "for index in range(40,47):\n",
        "    features_names=np.insert(features_names,index, features_names[39]+'_'+ weekday[index-40])\n",
        "features_names=np.delete(features_names, 39)\n",
        "\n",
        "for index in range(47,54):\n",
        "    features_names=np.insert(features_names,index, features_names[46]+'_'+ weekday[index-47])\n",
        "features_names=np.delete(features_names, 46)\n",
        "\n",
        "data.columns=features_names"
      ],
      "execution_count": 0,
      "outputs": []
    },
    {
      "cell_type": "code",
      "metadata": {
        "id": "DFri2mdN78ri",
        "colab_type": "code",
        "colab": {}
      },
      "source": [
        "data=data.drop(columns=['post_promotion']) #post promotion has only zero values we can drop this col because it isn't informative"
      ],
      "execution_count": 0,
      "outputs": []
    },
    {
      "cell_type": "markdown",
      "metadata": {
        "id": "SphoM5_38Cyy",
        "colab_type": "text"
      },
      "source": [
        "## Data preparation"
      ]
    },
    {
      "cell_type": "code",
      "metadata": {
        "id": "SsJt31hB7_6G",
        "colab_type": "code",
        "colab": {}
      },
      "source": [
        "#categories:\n",
        "data=data.drop(columns=['page_cat'])\n",
        "\n",
        "data=pd.concat([data,pd.get_dummies(data['h_local'], prefix='h_local')], axis=1)\n",
        "data=data.drop(columns=['h_local'])"
      ],
      "execution_count": 0,
      "outputs": []
    },
    {
      "cell_type": "code",
      "metadata": {
        "id": "aFU5gRgQ8GpP",
        "colab_type": "code",
        "colab": {}
      },
      "source": [
        "#data shuffling\n",
        "data=shuffle(data).reset_index(drop=True)"
      ],
      "execution_count": 0,
      "outputs": []
    },
    {
      "cell_type": "code",
      "metadata": {
        "id": "Fio9GzrxlwMi",
        "colab_type": "code",
        "colab": {}
      },
      "source": [
        "#new features:\n",
        "data['comm_part_1']=data['comments_num_in_last_24_hours']/(data['comments_num_before_base_time']+1)\n",
        "data['comm_part_4']=(data['comments_num_in_last_24_hours']-data['comments_num_in_last_48_to_24_hours'])/(data['comments_num_in_last_48_to_24_hours']+1)\n",
        "data['comm_part_5']=(data['comments_num_in_last_24_hours']-data['comments_num_in_last_48_to_24_hours'])/(data['comments_num_before_base_time']+1)\n",
        "\n",
        "#drop extra features:\n",
        "data=data.drop(columns=[\n",
        "                        'page_likes_num', \n",
        "                        'page_checkins', \n",
        "                        'page_statistics_10',\n",
        "                        'page_statistics_23', \n",
        "                        'page_statistics_15',\n",
        "                        'page_statistics_16',\n",
        "                        'page_statistics_17',\n",
        "                        'page_statistics_18',\n",
        "                        'page_statistics_19',\n",
        "                        'page_statistics_21',\n",
        "                        'comments_num_in_first_24_hours',\n",
        "       \n",
        "       'character_num_in_post', \n",
        "\n",
        "       'post_published_weekday_sunday', 'post_published_weekday_monday',\n",
        "       'post_published_weekday_tuesday', 'post_published_weekday_wednesday',\n",
        "       'post_published_weekday_thursday', 'post_published_weekday_friday',\n",
        "       'post_published_weekday_saturday', \n",
        "\n",
        "       'base_datetime_weekday_sunday',\n",
        "       'base_datetime_weekday_monday', 'base_datetime_weekday_tuesday',\n",
        "       'base_datetime_weekday_wednesday', 'base_datetime_weekday_thursday',\n",
        "       'base_datetime_weekday_friday', 'base_datetime_weekday_saturday'])\n",
        "\n",
        "# features transformation:\n",
        "data['comments_num_in_last_48_to_24_hours']=data['comments_num_in_last_48_to_24_hours'].apply(lambda x: 0 if x==0 else 1)"
      ],
      "execution_count": 0,
      "outputs": []
    },
    {
      "cell_type": "markdown",
      "metadata": {
        "id": "1KFC7qG88SM0",
        "colab_type": "text"
      },
      "source": [
        "# Model"
      ]
    },
    {
      "cell_type": "code",
      "metadata": {
        "id": "F1XMof4eL7eU",
        "colab_type": "code",
        "colab": {}
      },
      "source": [
        "# tree booster parameters:\n",
        "\n",
        "# eta[default=0.3] in  0.01-0.2\n",
        "# min_child_weight [default=1] \n",
        "# max_depth [default=6] Typical values: 3-10\n",
        "# max_leaf_nodes\n",
        "# gamma [default=0]\n",
        "# max_delta_step [default=0]\n",
        "\n",
        "# subsample [default=1] Typical values: 0.5-1\n",
        "# colsample_bytree [default=1] Typical values: 0.5-1\n",
        "# colsample_bylevel [default=1]\n",
        "\n",
        "# lambda [default=1] L2 regularization term on weights - use it\n",
        "# alpha [default=0] L1 regularization term on weight - use it i.e. 'reg_alpha':[0, 0.001, 0.005, 0.01, 0.05] (0.005 was chosen in example)\n",
        "\n",
        "# scale_pos_weight [default=1] must be = 1 when there are a high disbalance\n"
      ],
      "execution_count": 0,
      "outputs": []
    },
    {
      "cell_type": "code",
      "metadata": {
        "id": "YIsK9SM2s3kh",
        "colab_type": "code",
        "outputId": "8b756449-2229-45c6-d5f0-12fd958694f2",
        "colab": {
          "base_uri": "https://localhost:8080/",
          "height": 34
        }
      },
      "source": [
        "# grid search\n",
        "# get some data\n",
        "x_cols = data.columns.to_list()\n",
        "x_cols.remove('target')\n",
        "X, y = data.loc[:,x_cols].values, data.loc[:,'target'].values\n",
        "\n",
        "# build a classifier\n",
        "clf = xgboost.XGBRegressor(verbosity=0)\n",
        "\n",
        "# use a full grid over 4 parameters\n",
        "param_grid = {'max_depth': [3, 5, 10], 'min_child_weight': [1, 3, 6], 'alpha':[0.25,0.5,0.75], 'lambda':[0.25,0.5,0.75]}\n",
        "\n",
        "# run grid search\n",
        "grid_search = GridSearchCV(clf, param_grid=param_grid, cv=5, scoring=\"r2\" ,iid=False)\n",
        "start = time()\n",
        "grid_search.fit(X, y)\n",
        "\n",
        "print(\"GridSearchCV took %.2f seconds for %d candidate parameter settings.\"\n",
        "      % (time() - start, len(grid_search.cv_results_['params'])))\n",
        "\n",
        "res_grid=pd.DataFrame(grid_search.cv_results_)\n",
        "res_grid['experiment_name']='grid search'"
      ],
      "execution_count": 0,
      "outputs": [
        {
          "output_type": "stream",
          "text": [
            "GridSearchCV took 3213.38 seconds for 81 candidate parameter settings.\n"
          ],
          "name": "stdout"
        }
      ]
    },
    {
      "cell_type": "code",
      "metadata": {
        "id": "jlpQirxWuL6u",
        "colab_type": "code",
        "outputId": "ac41c108-c85c-4518-80ce-5eb84e20fb71",
        "colab": {
          "base_uri": "https://localhost:8080/",
          "height": 34
        }
      },
      "source": [
        "# specify parameters and distributions\n",
        "param_dist = {\"max_depth\": sp_randint(3, 10),\n",
        "              \"min_child_weight\": sp_randint(1, 10),\n",
        "              \"alpha\": uniform(loc=0, scale=0.1),\n",
        "              \"lambda\": uniform(loc=0, scale=0.1)}\n",
        "\n",
        "\n",
        "# run randomized search\n",
        "n_iter_search = 81\n",
        "random_search = RandomizedSearchCV(clf, param_distributions=param_dist,\n",
        "                                   n_iter=n_iter_search, cv=5, scoring=\"r2\",iid=False)\n",
        "\n",
        "start = time()\n",
        "random_search.fit(X, y)\n",
        "print(\"RandomizedSearchCV took %.2f seconds for %d candidates\"\n",
        "      \" parameter settings.\" % ((time() - start), n_iter_search))\n",
        "\n",
        "res_rand=pd.DataFrame(random_search.cv_results_)\n",
        "res_rand['experiment_name']='random search'"
      ],
      "execution_count": 0,
      "outputs": [
        {
          "output_type": "stream",
          "text": [
            "RandomizedSearchCV took 3128.28 seconds for 81 candidates parameter settings.\n"
          ],
          "name": "stdout"
        }
      ]
    },
    {
      "cell_type": "code",
      "metadata": {
        "id": "VeZ1AVLSPsFf",
        "colab_type": "code",
        "outputId": "ab5f4df7-1d70-40a8-e52e-84d5bf6e51f0",
        "colab": {
          "base_uri": "https://localhost:8080/",
          "height": 34
        }
      },
      "source": [
        "# run with default values\n",
        "default = GridSearchCV(clf, param_grid={'max_depth': [6]}, cv=5, scoring=\"r2\", iid=False)#default values\n",
        "start = time()\n",
        "default.fit(X, y)\n",
        "\n",
        "print(\"GridSearchCV took %.2f seconds for %d candidate parameter settings.\"\n",
        "      % (time() - start, len(default.cv_results_['params'])))\n",
        "\n",
        "default=pd.DataFrame(default.cv_results_)\n",
        "default['experiment_name']='default params'"
      ],
      "execution_count": 0,
      "outputs": [
        {
          "output_type": "stream",
          "text": [
            "GridSearchCV took 48.90 seconds for 1 candidate parameter settings.\n"
          ],
          "name": "stdout"
        }
      ]
    },
    {
      "cell_type": "code",
      "metadata": {
        "id": "9dxao-u56F06",
        "colab_type": "code",
        "outputId": "fa4cf56e-2461-4b0f-fb12-2843dc228636",
        "colab": {
          "base_uri": "https://localhost:8080/",
          "height": 34
        }
      },
      "source": [
        "# get some data\n",
        "x_cols = data.columns.to_list()\n",
        "x_cols.remove('target')\n",
        "X, y = data.loc[:,x_cols].values, data.loc[:,'target'].values\n",
        "\n",
        "# build a classifier\n",
        "clf = xgboost.XGBRegressor(verbosity=0)\n",
        "\"\"\"\n",
        "clf_tmp=clf\n",
        "dict_p={\"max_depth\": 4,\n",
        "              \"min_child_weight\": 2}\n",
        "clf_tmp.set_params(**dict_p)\n",
        "\"\"\""
      ],
      "execution_count": 12,
      "outputs": [
        {
          "output_type": "execute_result",
          "data": {
            "text/plain": [
              "'\\nclf_tmp=clf\\ndict_p={\"max_depth\": 4,\\n              \"min_child_weight\": 2}\\nclf_tmp.set_params(**dict_p)\\n'"
            ]
          },
          "metadata": {
            "tags": []
          },
          "execution_count": 12
        }
      ]
    },
    {
      "cell_type": "code",
      "metadata": {
        "id": "2dPYLYF_KD_T",
        "colab_type": "code",
        "outputId": "881eef3e-beb3-4b51-acff-60bea27552d8",
        "colab": {
          "base_uri": "https://localhost:8080/",
          "height": 69
        }
      },
      "source": [
        "# random groups test\n",
        "#first group:\n",
        "param_dist = {\"max_depth\": sp_randint(3, 10),\n",
        "              \"min_child_weight\": sp_randint(1, 10)}\n",
        "\n",
        "n_iter_search = 27\n",
        "random_search = RandomizedSearchCV(clf, param_distributions=param_dist,\n",
        "                                   n_iter=n_iter_search, cv=5, scoring=\"r2\", iid=False)\n",
        "\n",
        "start = time()\n",
        "random_search.fit(X, y)\n",
        "print(\"RandomizedSearchCV for first group took %.2f seconds for %d candidates\"\n",
        "      \" parameter settings.\" % ((time() - start), n_iter_search))\n",
        "\n",
        "\n",
        "res_rand_1=pd.DataFrame(random_search.cv_results_)\n",
        "res_rand_1['experiment_name']='random search for 1 group'        \n",
        "\n",
        "clf.set_params(**random_search.best_params_)\n",
        "#second group:\n",
        "param_dist = {\"alpha\": uniform(loc=0, scale=0.1),\n",
        "              \"gamma\":uniform(loc=0, scale=0.5),\n",
        "              \"lambda\": uniform(loc=0, scale=0.1)}\n",
        "\n",
        "random_search = RandomizedSearchCV(clf, param_distributions=param_dist,\n",
        "                                   n_iter=n_iter_search, cv=5, scoring=\"r2\", iid=False)\n",
        "\n",
        "start = time()\n",
        "random_search.fit(X, y)\n",
        "print(\"RandomizedSearchCV for second group took %.2f seconds for %d candidates\"\n",
        "      \" parameter settings.\" % ((time() - start), n_iter_search))\n",
        "\n",
        "res_rand_2=pd.DataFrame(random_search.cv_results_)\n",
        "res_rand_2['experiment_name']='random search for 2 group' \n",
        "\n",
        "clf.set_params(**random_search.best_params_)\n",
        "#third group:\n",
        "param_dist = {\"subsample\":uniform(loc=0.5, scale=0.4),\n",
        "              \"colsample_bytree\":uniform(loc=0.5, scale=0.4)}\n",
        "\n",
        "random_search = RandomizedSearchCV(clf, param_distributions=param_dist,\n",
        "                                   n_iter=n_iter_search, cv=5, scoring=\"r2\", iid=False)\n",
        "\n",
        "start = time()\n",
        "random_search.fit(X, y)\n",
        "print(\"RandomizedSearchCV for third group took %.2f seconds for %d candidates\"\n",
        "      \" parameter settings.\" % ((time() - start), n_iter_search))\n",
        "\n",
        "res_rand_3=pd.DataFrame(random_search.cv_results_)\n",
        "res_rand_3['experiment_name']='random search for 3 group' "
      ],
      "execution_count": 13,
      "outputs": [
        {
          "output_type": "stream",
          "text": [
            "RandomizedSearchCV for first group took 1248.66 seconds for 27 candidates parameter settings.\n",
            "RandomizedSearchCV for second group took 844.19 seconds for 27 candidates parameter settings.\n",
            "RandomizedSearchCV for third group took 745.66 seconds for 27 candidates parameter settings.\n"
          ],
          "name": "stdout"
        }
      ]
    },
    {
      "cell_type": "code",
      "metadata": {
        "id": "NEKkmmsvB4tt",
        "colab_type": "code",
        "colab": {
          "base_uri": "https://localhost:8080/",
          "height": 167
        },
        "outputId": "05c9b5e4-5f0b-4051-9909-c6c337ddceb7"
      },
      "source": [
        "res= pd.concat([res_grid, res_rand, res_rand_1,res_rand_2,res_rand_3,default])"
      ],
      "execution_count": 15,
      "outputs": [
        {
          "output_type": "error",
          "ename": "NameError",
          "evalue": "ignored",
          "traceback": [
            "\u001b[0;31m---------------------------------------------------------------------------\u001b[0m",
            "\u001b[0;31mNameError\u001b[0m                                 Traceback (most recent call last)",
            "\u001b[0;32m<ipython-input-15-fb5da225d551>\u001b[0m in \u001b[0;36m<module>\u001b[0;34m()\u001b[0m\n\u001b[0;32m----> 1\u001b[0;31m \u001b[0mres\u001b[0m\u001b[0;34m=\u001b[0m \u001b[0mpd\u001b[0m\u001b[0;34m.\u001b[0m\u001b[0mconcat\u001b[0m\u001b[0;34m(\u001b[0m\u001b[0;34m[\u001b[0m\u001b[0mres_grid\u001b[0m\u001b[0;34m,\u001b[0m \u001b[0mres_rand\u001b[0m\u001b[0;34m,\u001b[0m \u001b[0mres_rand_1\u001b[0m\u001b[0;34m,\u001b[0m\u001b[0mres_rand_2\u001b[0m\u001b[0;34m,\u001b[0m\u001b[0mres_rand_3\u001b[0m\u001b[0;34m,\u001b[0m\u001b[0mdefault\u001b[0m\u001b[0;34m]\u001b[0m\u001b[0;34m)\u001b[0m\u001b[0;34m\u001b[0m\u001b[0;34m\u001b[0m\u001b[0m\n\u001b[0m",
            "\u001b[0;31mNameError\u001b[0m: name 'res_grid' is not defined"
          ]
        }
      ]
    },
    {
      "cell_type": "code",
      "metadata": {
        "id": "fEbjr9ZdTeMs",
        "colab_type": "code",
        "outputId": "050a7aee-378c-41a2-e08c-e726ccce021c",
        "colab": {
          "base_uri": "https://localhost:8080/",
          "height": 306
        }
      },
      "source": [
        "res[:2]"
      ],
      "execution_count": 0,
      "outputs": [
        {
          "output_type": "execute_result",
          "data": {
            "text/html": [
              "<div>\n",
              "<style scoped>\n",
              "    .dataframe tbody tr th:only-of-type {\n",
              "        vertical-align: middle;\n",
              "    }\n",
              "\n",
              "    .dataframe tbody tr th {\n",
              "        vertical-align: top;\n",
              "    }\n",
              "\n",
              "    .dataframe thead th {\n",
              "        text-align: right;\n",
              "    }\n",
              "</style>\n",
              "<table border=\"1\" class=\"dataframe\">\n",
              "  <thead>\n",
              "    <tr style=\"text-align: right;\">\n",
              "      <th></th>\n",
              "      <th>experiment_name</th>\n",
              "      <th>mean_fit_time</th>\n",
              "      <th>mean_score_time</th>\n",
              "      <th>mean_test_score</th>\n",
              "      <th>param_alpha</th>\n",
              "      <th>param_colsample_bytree</th>\n",
              "      <th>param_gamma</th>\n",
              "      <th>param_lambda</th>\n",
              "      <th>param_max_depth</th>\n",
              "      <th>param_min_child_weight</th>\n",
              "      <th>param_subsample</th>\n",
              "      <th>params</th>\n",
              "      <th>rank_test_score</th>\n",
              "      <th>split0_test_score</th>\n",
              "      <th>split1_test_score</th>\n",
              "      <th>split2_test_score</th>\n",
              "      <th>split3_test_score</th>\n",
              "      <th>split4_test_score</th>\n",
              "      <th>std_fit_time</th>\n",
              "      <th>std_score_time</th>\n",
              "      <th>std_test_score</th>\n",
              "    </tr>\n",
              "  </thead>\n",
              "  <tbody>\n",
              "    <tr>\n",
              "      <th>0</th>\n",
              "      <td>grid search</td>\n",
              "      <td>4.180195</td>\n",
              "      <td>0.022601</td>\n",
              "      <td>0.624615</td>\n",
              "      <td>0.25</td>\n",
              "      <td>NaN</td>\n",
              "      <td>NaN</td>\n",
              "      <td>0.25</td>\n",
              "      <td>3</td>\n",
              "      <td>1</td>\n",
              "      <td>NaN</td>\n",
              "      <td>{'alpha': 0.25, 'lambda': 0.25, 'max_depth': 3...</td>\n",
              "      <td>46</td>\n",
              "      <td>0.756672</td>\n",
              "      <td>0.667498</td>\n",
              "      <td>0.562196</td>\n",
              "      <td>0.582756</td>\n",
              "      <td>0.553954</td>\n",
              "      <td>0.074679</td>\n",
              "      <td>0.000890</td>\n",
              "      <td>0.077356</td>\n",
              "    </tr>\n",
              "    <tr>\n",
              "      <th>1</th>\n",
              "      <td>grid search</td>\n",
              "      <td>4.165266</td>\n",
              "      <td>0.021516</td>\n",
              "      <td>0.629656</td>\n",
              "      <td>0.25</td>\n",
              "      <td>NaN</td>\n",
              "      <td>NaN</td>\n",
              "      <td>0.25</td>\n",
              "      <td>3</td>\n",
              "      <td>3</td>\n",
              "      <td>NaN</td>\n",
              "      <td>{'alpha': 0.25, 'lambda': 0.25, 'max_depth': 3...</td>\n",
              "      <td>37</td>\n",
              "      <td>0.747616</td>\n",
              "      <td>0.669083</td>\n",
              "      <td>0.569692</td>\n",
              "      <td>0.577523</td>\n",
              "      <td>0.584365</td>\n",
              "      <td>0.019430</td>\n",
              "      <td>0.000585</td>\n",
              "      <td>0.069042</td>\n",
              "    </tr>\n",
              "  </tbody>\n",
              "</table>\n",
              "</div>"
            ],
            "text/plain": [
              "  experiment_name  mean_fit_time  ...  std_score_time  std_test_score\n",
              "0     grid search       4.180195  ...        0.000890        0.077356\n",
              "1     grid search       4.165266  ...        0.000585        0.069042\n",
              "\n",
              "[2 rows x 21 columns]"
            ]
          },
          "metadata": {
            "tags": []
          },
          "execution_count": 17
        }
      ]
    },
    {
      "cell_type": "code",
      "metadata": {
        "id": "TAuWRoR7b-Uk",
        "colab_type": "code",
        "colab": {}
      },
      "source": [
        "res= pd.concat([res_rand_1,res_rand_2,res_rand_3])\n",
        "res.to_csv(\"res_new.csv\",index=False)"
      ],
      "execution_count": 0,
      "outputs": []
    },
    {
      "cell_type": "code",
      "metadata": {
        "id": "dRv7_KxJLLzy",
        "colab_type": "code",
        "colab": {}
      },
      "source": [
        "cp res_new.csv \"/mntDrive/My Drive/data/xgboost_perfomance_for_groups.csv\""
      ],
      "execution_count": 0,
      "outputs": []
    },
    {
      "cell_type": "code",
      "metadata": {
        "id": "Hw9hmwFR8VUb",
        "colab_type": "code",
        "outputId": "eb2f928c-e3e8-412a-c614-c9cbb4daab21",
        "colab": {
          "base_uri": "https://localhost:8080/",
          "height": 268
        }
      },
      "source": [
        "res[:3]"
      ],
      "execution_count": 18,
      "outputs": [
        {
          "output_type": "execute_result",
          "data": {
            "text/html": [
              "<div>\n",
              "<style scoped>\n",
              "    .dataframe tbody tr th:only-of-type {\n",
              "        vertical-align: middle;\n",
              "    }\n",
              "\n",
              "    .dataframe tbody tr th {\n",
              "        vertical-align: top;\n",
              "    }\n",
              "\n",
              "    .dataframe thead th {\n",
              "        text-align: right;\n",
              "    }\n",
              "</style>\n",
              "<table border=\"1\" class=\"dataframe\">\n",
              "  <thead>\n",
              "    <tr style=\"text-align: right;\">\n",
              "      <th></th>\n",
              "      <th>experiment_name</th>\n",
              "      <th>mean_fit_time</th>\n",
              "      <th>mean_score_time</th>\n",
              "      <th>mean_test_score</th>\n",
              "      <th>param_alpha</th>\n",
              "      <th>param_colsample_bytree</th>\n",
              "      <th>param_gamma</th>\n",
              "      <th>param_lambda</th>\n",
              "      <th>param_max_depth</th>\n",
              "      <th>param_min_child_weight</th>\n",
              "      <th>param_subsample</th>\n",
              "      <th>params</th>\n",
              "      <th>rank_test_score</th>\n",
              "      <th>split0_test_score</th>\n",
              "      <th>split1_test_score</th>\n",
              "      <th>split2_test_score</th>\n",
              "      <th>split3_test_score</th>\n",
              "      <th>split4_test_score</th>\n",
              "      <th>std_fit_time</th>\n",
              "      <th>std_score_time</th>\n",
              "      <th>std_test_score</th>\n",
              "    </tr>\n",
              "  </thead>\n",
              "  <tbody>\n",
              "    <tr>\n",
              "      <th>0</th>\n",
              "      <td>random search for 1 group</td>\n",
              "      <td>7.825565</td>\n",
              "      <td>0.032715</td>\n",
              "      <td>0.656581</td>\n",
              "      <td>NaN</td>\n",
              "      <td>NaN</td>\n",
              "      <td>NaN</td>\n",
              "      <td>NaN</td>\n",
              "      <td>5</td>\n",
              "      <td>3</td>\n",
              "      <td>NaN</td>\n",
              "      <td>{'max_depth': 5, 'min_child_weight': 3}</td>\n",
              "      <td>7</td>\n",
              "      <td>0.710842</td>\n",
              "      <td>0.667323</td>\n",
              "      <td>0.648264</td>\n",
              "      <td>0.717756</td>\n",
              "      <td>0.538723</td>\n",
              "      <td>0.055941</td>\n",
              "      <td>0.000364</td>\n",
              "      <td>0.064439</td>\n",
              "    </tr>\n",
              "    <tr>\n",
              "      <th>1</th>\n",
              "      <td>random search for 1 group</td>\n",
              "      <td>6.228083</td>\n",
              "      <td>0.026109</td>\n",
              "      <td>0.663592</td>\n",
              "      <td>NaN</td>\n",
              "      <td>NaN</td>\n",
              "      <td>NaN</td>\n",
              "      <td>NaN</td>\n",
              "      <td>4</td>\n",
              "      <td>4</td>\n",
              "      <td>NaN</td>\n",
              "      <td>{'max_depth': 4, 'min_child_weight': 4}</td>\n",
              "      <td>1</td>\n",
              "      <td>0.720693</td>\n",
              "      <td>0.701084</td>\n",
              "      <td>0.637480</td>\n",
              "      <td>0.717912</td>\n",
              "      <td>0.540789</td>\n",
              "      <td>0.113988</td>\n",
              "      <td>0.000355</td>\n",
              "      <td>0.068380</td>\n",
              "    </tr>\n",
              "    <tr>\n",
              "      <th>2</th>\n",
              "      <td>random search for 1 group</td>\n",
              "      <td>12.490023</td>\n",
              "      <td>0.057841</td>\n",
              "      <td>0.632679</td>\n",
              "      <td>NaN</td>\n",
              "      <td>NaN</td>\n",
              "      <td>NaN</td>\n",
              "      <td>NaN</td>\n",
              "      <td>8</td>\n",
              "      <td>3</td>\n",
              "      <td>NaN</td>\n",
              "      <td>{'max_depth': 8, 'min_child_weight': 3}</td>\n",
              "      <td>25</td>\n",
              "      <td>0.686022</td>\n",
              "      <td>0.609989</td>\n",
              "      <td>0.643364</td>\n",
              "      <td>0.678484</td>\n",
              "      <td>0.545538</td>\n",
              "      <td>0.227298</td>\n",
              "      <td>0.001485</td>\n",
              "      <td>0.051315</td>\n",
              "    </tr>\n",
              "  </tbody>\n",
              "</table>\n",
              "</div>"
            ],
            "text/plain": [
              "             experiment_name  mean_fit_time  ...  std_score_time  std_test_score\n",
              "0  random search for 1 group       7.825565  ...        0.000364        0.064439\n",
              "1  random search for 1 group       6.228083  ...        0.000355        0.068380\n",
              "2  random search for 1 group      12.490023  ...        0.001485        0.051315\n",
              "\n",
              "[3 rows x 21 columns]"
            ]
          },
          "metadata": {
            "tags": []
          },
          "execution_count": 18
        }
      ]
    },
    {
      "cell_type": "code",
      "metadata": {
        "id": "1YDpkaUoHau4",
        "colab_type": "code",
        "colab": {
          "base_uri": "https://localhost:8080/",
          "height": 34
        },
        "outputId": "f91b5842-5a7e-4b78-9634-d48516d0b63a"
      },
      "source": [
        "res.shape"
      ],
      "execution_count": 19,
      "outputs": [
        {
          "output_type": "execute_result",
          "data": {
            "text/plain": [
              "(81, 21)"
            ]
          },
          "metadata": {
            "tags": []
          },
          "execution_count": 19
        }
      ]
    },
    {
      "cell_type": "code",
      "metadata": {
        "id": "urmDhhmHchyv",
        "colab_type": "code",
        "colab": {}
      },
      "source": [
        ""
      ],
      "execution_count": 0,
      "outputs": []
    }
  ]
}