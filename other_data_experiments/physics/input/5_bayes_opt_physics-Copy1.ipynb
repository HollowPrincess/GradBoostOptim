{
 "cells": [
  {
   "cell_type": "code",
   "execution_count": 2,
   "metadata": {},
   "outputs": [],
   "source": [
    "#imports:\n",
    "import pandas as pd\n",
    "import numpy as np\n",
    "import math\n",
    "import os\n",
    "import json \n",
    "\n",
    "import xgboost\n",
    "from sklearn.metrics import r2_score\n",
    "from skopt import BayesSearchCV\n",
    "from skopt.space import Real, Space, Integer\n",
    "import time\n",
    "from tqdm import tqdm"
   ]
  },
  {
   "cell_type": "code",
   "execution_count": 3,
   "metadata": {},
   "outputs": [],
   "source": [
    "# from sklearn.model_selection import TimeSeriesSplit\n",
    "RES_SAVE_DIR = \"./data/\"\n",
    "\n",
    "dataset_name = \"physics\""
   ]
  },
  {
   "cell_type": "code",
   "execution_count": 4,
   "metadata": {},
   "outputs": [],
   "source": [
    "train = pd.read_csv('./data/input/physics_training.csv.zip')#, index_col=[0], parse_dates=[0])\n",
    "train_pre = train.drop(train[train.min_ANNmuon <= 0.4].index)\n",
    "\n",
    "X = train_pre.drop(['min_ANNmuon', 'mass', 'production', 'signal', 'id', 'SPDhits'], axis = 1)\n",
    "y = train_pre['signal']"
   ]
  },
  {
   "cell_type": "code",
   "execution_count": 5,
   "metadata": {},
   "outputs": [],
   "source": [
    "# get some data\n",
    "dtrain = xgboost.DMatrix(X, label=y)"
   ]
  },
  {
   "cell_type": "code",
   "execution_count": null,
   "metadata": {},
   "outputs": [
    {
     "name": "stderr",
     "output_type": "stream",
     "text": [
      "  0%|          | 0/1 [00:00<?, ?it/s]"
     ]
    }
   ],
   "source": [
    "for i in tqdm(range(6, 7)):\n",
    "    bayes_cv_opt = BayesSearchCV(\n",
    "        estimator = xgboost.XGBClassifier(\n",
    "          base_score=0.5, booster='gbtree', colsample_bylevel=1,\n",
    "             colsample_bynode=1, colsample_bytree=1, gamma=0, \n",
    "             importance_type='gain', learning_rate=0.1, max_delta_step=0,\n",
    "             max_depth=3, min_child_weight=1, missing=None, n_estimators=100,\n",
    "             n_jobs=1, nthread=None, objective=\"binary:logistic\", random_state=0,\n",
    "             reg_alpha=0, reg_lambda=1, scale_pos_weight=1, seed=None,\n",
    "             silent=None, subsample=1, \n",
    "          tree_method = \"gpu_hist\", \n",
    "          gpu_id = 0, \n",
    "          verbosity = 0,\n",
    "        use_label_encoder=False, # new\n",
    "        ),\n",
    "        search_spaces = {\n",
    "            'min_child_weight': Integer(1, 20),\n",
    "            'max_depth': Integer(1, 20),\n",
    "            'subsample': Real(0.5, 0.9, 'uniform'),\n",
    "            'colsample_bytree': Real(0.5, 0.9, 'uniform'),\n",
    "            'reg_lambda': Real(0.0, 1.0, 'uniform'),\n",
    "            'reg_alpha': Real(0.0, 1.0, 'uniform'),        \n",
    "        },    \n",
    "        scoring = 'accuracy',\n",
    "        cv=3, #cv = 3,\n",
    "        n_iter = 729,\n",
    "        iid=False, \n",
    "        optimizer_kwargs={\n",
    "            \"acq_func\": \"EI\"\n",
    "            }\n",
    "    )\n",
    "\n",
    "    start = time.time()\n",
    "    bayes_cv_opt.fit(X, y)\n",
    "    print(\"Evaluate in {} sec\".format(time.time()-start))\n",
    "\n",
    "    print(\"val. score: %s\" % bayes_cv_opt.best_score_)\n",
    "    res=pd.DataFrame(bayes_cv_opt.cv_results_)\n",
    "    res['run_number']=i\n",
    "    res['experiment_name']=\"bayes_opt\"\n",
    "    res.to_csv(RES_SAVE_DIR + f\"bayes_opt_{i}_{dataset_name}.csv\", index=False)\n",
    "    print(f\"{i} completed\")\n"
   ]
  },
  {
   "cell_type": "code",
   "execution_count": null,
   "metadata": {},
   "outputs": [],
   "source": [
    "print(\"1\")"
   ]
  },
  {
   "cell_type": "code",
   "execution_count": null,
   "metadata": {},
   "outputs": [],
   "source": [
    "# 6"
   ]
  }
 ],
 "metadata": {
  "kernelspec": {
   "display_name": "Python 3",
   "language": "python",
   "name": "python3"
  },
  "language_info": {
   "codemirror_mode": {
    "name": "ipython",
    "version": 3
   },
   "file_extension": ".py",
   "mimetype": "text/x-python",
   "name": "python",
   "nbconvert_exporter": "python",
   "pygments_lexer": "ipython3",
   "version": "3.8.5"
  }
 },
 "nbformat": 4,
 "nbformat_minor": 4
}
