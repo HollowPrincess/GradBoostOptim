{
 "cells": [
  {
   "cell_type": "code",
   "execution_count": 0,
   "metadata": {
    "colab": {},
    "colab_type": "code",
    "id": "1hibMhqOFeSA"
   },
   "outputs": [],
   "source": [
    "#imports:\n",
    "import pandas as pd\n",
    "import numpy as np\n",
    "import math\n",
    "import os\n",
    "from time import time\n",
    "import json \n",
    "\n",
    "from sklearn.utils import shuffle\n",
    "\n",
    "import xgboost\n",
    "\n",
    "from scipy.stats import randint as sp_randint # int distribution for random search\n",
    "from scipy.stats import uniform # float distribution for random search\n",
    "from sklearn.model_selection import GridSearchCV\n",
    "from sklearn.model_selection import RandomizedSearchCV\n",
    "\n",
    "from matplotlib import pyplot as plt"
   ]
  },
  {
   "cell_type": "code",
   "execution_count": 2,
   "metadata": {
    "colab": {
     "base_uri": "https://localhost:8080/",
     "height": 124
    },
    "colab_type": "code",
    "executionInfo": {
     "elapsed": 27428,
     "status": "ok",
     "timestamp": 1586168837465,
     "user": {
      "displayName": "Света Сорокина",
      "photoUrl": "https://lh3.googleusercontent.com/a-/AOh14GhP5b7WHhwRcbIn8yB21S2mZi9tlMCD4aFLmFcr=s64",
      "userId": "00408643672459262753"
     },
     "user_tz": -180
    },
    "id": "dKa26G9iFaEQ",
    "outputId": "b7bc2e9c-addb-40fb-c0f2-e76b8c04b674"
   },
   "outputs": [
    {
     "name": "stdout",
     "output_type": "stream",
     "text": [
      "Go to this URL in a browser: https://accounts.google.com/o/oauth2/auth?client_id=947318989803-6bn6qk8qdgf4n4g3pfee6491hc0brc4i.apps.googleusercontent.com&redirect_uri=urn%3aietf%3awg%3aoauth%3a2.0%3aoob&response_type=code&scope=email%20https%3a%2f%2fwww.googleapis.com%2fauth%2fdocs.test%20https%3a%2f%2fwww.googleapis.com%2fauth%2fdrive%20https%3a%2f%2fwww.googleapis.com%2fauth%2fdrive.photos.readonly%20https%3a%2f%2fwww.googleapis.com%2fauth%2fpeopleapi.readonly\n",
      "\n",
      "Enter your authorization code:\n",
      "··········\n",
      "Mounted at /mntDrive\n"
     ]
    }
   ],
   "source": [
    "from google.colab import drive \n",
    "drive.mount('/mntDrive') \n"
   ]
  },
  {
   "cell_type": "code",
   "execution_count": 0,
   "metadata": {
    "colab": {},
    "colab_type": "code",
    "id": "ip9jvA2zjufk"
   },
   "outputs": [],
   "source": [
    "PREP_DATA_PATH = \"/mntDrive/My Drive/GrBoost/Практика/data/input/prepared_facebook_data.csv\"\n",
    "data=pd.read_csv(PREP_DATA_PATH)\n",
    "\n",
    "RES_DATA_DIR = \"/mntDrive/My Drive/GrBoost/Практика/data/results/test 1\"\n",
    "RES_SAVE_DIR = \"/mntDrive/My Drive/GrBoost/Практика/data/results/test 2\""
   ]
  },
  {
   "cell_type": "code",
   "execution_count": 4,
   "metadata": {
    "colab": {
     "base_uri": "https://localhost:8080/",
     "height": 34
    },
    "colab_type": "code",
    "executionInfo": {
     "elapsed": 37675,
     "status": "ok",
     "timestamp": 1586168847773,
     "user": {
      "displayName": "Света Сорокина",
      "photoUrl": "https://lh3.googleusercontent.com/a-/AOh14GhP5b7WHhwRcbIn8yB21S2mZi9tlMCD4aFLmFcr=s64",
      "userId": "00408643672459262753"
     },
     "user_tz": -180
    },
    "id": "cWPPbGCqWRVr",
    "outputId": "9e0c4e86-03cc-4bed-e7eb-3fdc08584186"
   },
   "outputs": [
    {
     "name": "stdout",
     "output_type": "stream",
     "text": [
      "Found GPU at: /device:GPU:0\n"
     ]
    }
   ],
   "source": [
    "%tensorflow_version 2.x\n",
    "import tensorflow as tf\n",
    "device_name = tf.test.gpu_device_name()\n",
    "if device_name != '/device:GPU:0':\n",
    "  raise SystemError('GPU device not found')\n",
    "print('Found GPU at: {}'.format(device_name))"
   ]
  },
  {
   "cell_type": "code",
   "execution_count": 0,
   "metadata": {
    "colab": {},
    "colab_type": "code",
    "id": "uh-97Zr2nbpr"
   },
   "outputs": [],
   "source": [
    "files = os.listdir(RES_DATA_DIR)\n",
    "files = [x for x in files if x.find(\"group_search\")!=-1]"
   ]
  },
  {
   "cell_type": "code",
   "execution_count": 0,
   "metadata": {
    "colab": {},
    "colab_type": "code",
    "id": "Ye2AXckB-anX"
   },
   "outputs": [],
   "source": [
    "def group_best_params_with_stop(df, stop_iter_num, left_iter_num, right_iter_num):\n",
    "    best_params = {}\n",
    "    stop_iter_nums = {}\n",
    "    best_score = {}\n",
    "\n",
    "    tmp_df = df.loc[(df['iter_num'] >= left_iter_num) & (df['iter_num'] <= right_iter_num)].copy() #take group\n",
    "    for i in tmp_df.run_number.unique(): \n",
    "      tmp_df_i = tmp_df.loc[tmp_df.run_number==i] #take run\n",
    "      #cut iterations:\n",
    "      tmp_df_i_copy = tmp_df_i.copy()\n",
    "      tmp_df_i_copy.loc[:, \"mean_test_score\"] = tmp_df_i.loc[:, \"mean_test_score\"].cummax()      \n",
    "\n",
    "      try:\n",
    "          curr_max=tmp_df_i_copy.groupby(\"mean_test_score\").count().reset_index().sort_values(by = \"mean_test_score\")\n",
    "          max_score = curr_max.loc[curr_max[\"mean_test_score\"]>=stop_iter_num].index[0] #get first interval with iter_amount more than stop_iter_num\n",
    "      except:\n",
    "          max_score = tmp_df_i_copy.mean_test_score.max()\n",
    "      \n",
    "      tmp_stop = tmp_df_i.loc[tmp_df_i[\"mean_test_score\"]==max_score].sort_values(by=\"iter_num\").iloc[0]#get first element with best_score\n",
    "\n",
    "      best_params[i] = tmp_stop['params']\n",
    "      #best_score[i] = tmp_stop['mean_test_score']\n",
    "\n",
    "      last_iter_num = tmp_stop['iter_num'] + stop_iter_num - 1\n",
    "      if last_iter_num > right_iter_num:\n",
    "          last_iter_num = right_iter_num\n",
    "\n",
    "      stop_iter_nums[i] = last_iter_num\n",
    "    return best_params, stop_iter_nums#, best_score       \n",
    "   "
   ]
  },
  {
   "cell_type": "code",
   "execution_count": 0,
   "metadata": {
    "colab": {},
    "colab_type": "code",
    "id": "Ky0TojlcoFz3"
   },
   "outputs": [],
   "source": [
    "group_df = pd.DataFrame([])\n",
    "for file_res in files:\n",
    "    df = pd.read_csv(RES_DATA_DIR+\"/\"+file_res)    \n",
    "    df['iter_num'] = range(1, df.shape[0]+1)\n",
    "    group_df = pd.concat([group_df, df], sort = False)"
   ]
  },
  {
   "cell_type": "code",
   "execution_count": 0,
   "metadata": {
    "colab": {},
    "colab_type": "code",
    "id": "ggL7wBOdPKAx"
   },
   "outputs": [],
   "source": [
    "# get some data\n",
    "X, y = data.iloc[:,:-1].values, data.iloc[:,-1].values\n",
    "\n",
    "param_dist_group_2 = {\"alpha\": uniform(loc=0, scale=1),\n",
    "                  \"lambda\": uniform(loc=0, scale=1)}\n",
    "\n",
    "param_dist_group_3 = {\"subsample\":uniform(loc=0.5, scale=0.4),\n",
    "                  \"colsample_bytree\":uniform(loc=0.5, scale=0.4)}"
   ]
  },
  {
   "cell_type": "code",
   "execution_count": 0,
   "metadata": {
    "colab": {},
    "colab_type": "code",
    "id": "xdkljL1DiFwS"
   },
   "outputs": [],
   "source": [
    "stop_iter_num = 50\n",
    "\n",
    "best_params_first_group, first_stop_iter_nums = group_best_params_with_stop(group_df, \n",
    "                                                                            stop_iter_num = stop_iter_num,\n",
    "                                                                            left_iter_num=1, \n",
    "                                                                            right_iter_num=243)"
   ]
  },
  {
   "cell_type": "code",
   "execution_count": 10,
   "metadata": {
    "colab": {
     "base_uri": "https://localhost:8080/",
     "height": 121
    },
    "colab_type": "code",
    "executionInfo": {
     "elapsed": 3503005,
     "status": "ok",
     "timestamp": 1586174256126,
     "user": {
      "displayName": "Света Сорокина",
      "photoUrl": "https://lh3.googleusercontent.com/a-/AOh14GhP5b7WHhwRcbIn8yB21S2mZi9tlMCD4aFLmFcr=s64",
      "userId": "00408643672459262753"
     },
     "user_tz": -180
    },
    "id": "RK8MbVtWg_Iv",
    "outputId": "f34b8259-82cc-47c2-a89c-a66902877d13"
   },
   "outputs": [
    {
     "name": "stdout",
     "output_type": "stream",
     "text": [
      "done for second group\n",
      "done for third group\n",
      "done for second group\n",
      "done for third group\n",
      "done for second group\n",
      "done for third group\n"
     ]
    }
   ],
   "source": [
    "#for params_set_num in best_params_first_group:\n",
    "for params_set_num in [2,4,6]:\n",
    "  clf = xgboost.XGBRegressor(tree_method = \"gpu_hist\", gpu_id=0, verbosity=0)\n",
    "  clf.set_params(**json.loads(best_params_first_group[params_set_num].replace(\"'\", \"\\\"\")))\n",
    "  n_iter_search_sec = int(round((729 - first_stop_iter_nums[params_set_num])/2))\n",
    "  #second group:\n",
    "  random_search = RandomizedSearchCV(clf, param_distributions=param_dist_group_2,\n",
    "                                      n_iter=n_iter_search_sec, cv=5, scoring=\"r2\")\n",
    "\n",
    "  random_search.fit(X, y)\n",
    "\n",
    "  res_rand_2=pd.DataFrame(random_search.cv_results_)\n",
    "  res_rand_2['iter_num'] = range(first_stop_iter_nums[params_set_num]+1, first_stop_iter_nums[params_set_num]+n_iter_search_sec+1)\n",
    "  res_rand_2['experiment_name']='random search for 2 group' \n",
    "  res_rand_2['run_number']=params_set_num\n",
    "\n",
    "  #fit last suitable params\n",
    "  best_params_second_group, sec_stop_iter_nums = group_best_params_with_stop(res_rand_2, \n",
    "                                                         stop_iter_num = stop_iter_num, \n",
    "                                                         left_iter_num=first_stop_iter_nums[params_set_num]+1, \n",
    "                                                         right_iter_num=n_iter_search_sec)\n",
    "  clf.set_params(**best_params_second_group[params_set_num])\n",
    "  print('done for second group')\n",
    "\n",
    "  #third group:\n",
    "  n_iter_search_third = 729 - sec_stop_iter_nums[params_set_num]\n",
    "  random_search = RandomizedSearchCV(clf, param_distributions=param_dist_group_3,\n",
    "                                        n_iter=n_iter_search_third, cv=5, scoring=\"r2\")\n",
    "  random_search.fit(X, y)\n",
    "\n",
    "  res_rand_3=pd.DataFrame(random_search.cv_results_)\n",
    "  res_rand_3['iter_num'] = range(sec_stop_iter_nums[params_set_num]+1, 729+1)\n",
    "  res_rand_3['experiment_name']='random search for 3 group' \n",
    "  res_rand_3['run_number']=params_set_num\n",
    "\n",
    "  best_params_third_group, third_stop_iter_nums = group_best_params_with_stop(res_rand_3, \n",
    "                                                         stop_iter_num = stop_iter_num, \n",
    "                                                         left_iter_num=sec_stop_iter_nums[params_set_num]+1, \n",
    "                                                         right_iter_num=729)\n",
    "  res_rand_3=res_rand_3.loc[(res_rand_3['run_number']==params_set_num) & \\\n",
    "                          (res_rand_3['iter_num']<=int(third_stop_iter_nums[params_set_num]))]\n",
    "\n",
    "  res=pd.concat([res_rand_2,res_rand_3], sort=False)\n",
    "\n",
    "  sec_idxs = res.loc[res['experiment_name']=='random search for 2 group','iter_num'].values\n",
    "  third_idxs = res.loc[res['experiment_name']=='random search for 3 group','iter_num'].values\n",
    "  intersection = np.intersect1d(third_idxs, sec_idxs)\n",
    "\n",
    "  res = res.loc[~((res['experiment_name']=='random search for 2 group') & (res['iter_num'].isin(intersection)))]\n",
    "\n",
    "  res.to_csv(RES_SAVE_DIR+'/GR_S_2_and_3_groups_with_'+str(stop_iter_num)+'_'+str(params_set_num), index=False)\n",
    "  print('done for third group')"
   ]
  },
  {
   "cell_type": "code",
   "execution_count": 0,
   "metadata": {
    "colab": {},
    "colab_type": "code",
    "id": "-FdjDpOzGI6Y"
   },
   "outputs": [],
   "source": []
  },
  {
   "cell_type": "code",
   "execution_count": 11,
   "metadata": {
    "colab": {
     "base_uri": "https://localhost:8080/",
     "height": 54
    },
    "colab_type": "code",
    "executionInfo": {
     "elapsed": 132,
     "status": "ok",
     "timestamp": 1586174256140,
     "user": {
      "displayName": "Света Сорокина",
      "photoUrl": "https://lh3.googleusercontent.com/a-/AOh14GhP5b7WHhwRcbIn8yB21S2mZi9tlMCD4aFLmFcr=s64",
      "userId": "00408643672459262753"
     },
     "user_tz": -180
    },
    "id": "ClCeD08OlO9u",
    "outputId": "908e3766-f5ef-4ec0-c182-c7ab3fc9d76e"
   },
   "outputs": [
    {
     "data": {
      "text/plain": [
       "'\\nfiles = os.listdir(RES_SAVE_DIR)\\nfiles = [x for x in files if x.find(\"GR_S_2_and_3_groups_with_\")!=-1]\\n\\nstop_iter_num = 100\\nsec_stop_iter_nums={}\\nfor file_name in files:\\n  df = pd.read_csv(RES_SAVE_DIR+\\'/fail_11/\\'+file_name)\\n\\n  sec_idxs = df.loc[df[\\'experiment_name\\']==\\'random search for 2 group\\',\\'iter_num\\'].values\\n  third_idxs = df.loc[df[\\'experiment_name\\']==\\'random search for 3 group\\',\\'iter_num\\'].values\\n  intersection = np.intersect1d(third_idxs, sec_idxs)\\n\\n  df = df.loc[~((df[\\'experiment_name\\']==\\'random search for 2 group\\') & (df[\\'iter_num\\'].isin(intersection)))]\\n\\n  params_set_num = np.unique(df[\\'run_number\\'])[0]\\n  \\n  sec_stop_iter_nums[params_set_num]=np.max(df.loc[df[\\'experiment_name\\']==\\'random search for 2 group\\',\\'iter_num\\'])\\n\\n  res_rand_3 = df.loc[df[\\'experiment_name\\']==\\'random search for 3 group\\']\\n\\n  best_params_third_group, third_stop_iter_nums = group_best_params_with_stop(res_rand_3, \\n                                                         stop_iter_num = stop_iter_num, \\n                                                         left_iter_num=sec_stop_iter_nums[params_set_num]+1, \\n                                                         right_iter_num=729)\\n  res_rand_3=res_rand_3.loc[(res_rand_3[\\'run_number\\']==params_set_num) &                           (res_rand_3[\\'iter_num\\']<=int(third_stop_iter_nums[params_set_num]))]\\n  res_rand_2 = df.loc[df[\\'experiment_name\\']==\\'random search for 2 group\\']\\n  res=pd.concat([res_rand_2,res_rand_3], sort=False)\\n  res.to_csv(RES_SAVE_DIR+\\'/GR_S_2_and_3_groups_with_\\'+str(stop_iter_num)+\\'_\\'+str(params_set_num), index=False)\\n\\n\\n  print(df.shape)\\n'"
      ]
     },
     "execution_count": 11,
     "metadata": {
      "tags": []
     },
     "output_type": "execute_result"
    }
   ],
   "source": [
    "\"\"\"\n",
    "files = os.listdir(RES_SAVE_DIR)\n",
    "files = [x for x in files if x.find(\"GR_S_2_and_3_groups_with_\")!=-1]\n",
    "\n",
    "stop_iter_num = 100\n",
    "sec_stop_iter_nums={}\n",
    "for file_name in files:\n",
    "  df = pd.read_csv(RES_SAVE_DIR+'/fail_11/'+file_name)\n",
    "\n",
    "  sec_idxs = df.loc[df['experiment_name']=='random search for 2 group','iter_num'].values\n",
    "  third_idxs = df.loc[df['experiment_name']=='random search for 3 group','iter_num'].values\n",
    "  intersection = np.intersect1d(third_idxs, sec_idxs)\n",
    "\n",
    "  df = df.loc[~((df['experiment_name']=='random search for 2 group') & (df['iter_num'].isin(intersection)))]\n",
    "\n",
    "  params_set_num = np.unique(df['run_number'])[0]\n",
    "  \n",
    "  sec_stop_iter_nums[params_set_num]=np.max(df.loc[df['experiment_name']=='random search for 2 group','iter_num'])\n",
    "\n",
    "  res_rand_3 = df.loc[df['experiment_name']=='random search for 3 group']\n",
    "\n",
    "  best_params_third_group, third_stop_iter_nums = group_best_params_with_stop(res_rand_3, \n",
    "                                                         stop_iter_num = stop_iter_num, \n",
    "                                                         left_iter_num=sec_stop_iter_nums[params_set_num]+1, \n",
    "                                                         right_iter_num=729)\n",
    "  res_rand_3=res_rand_3.loc[(res_rand_3['run_number']==params_set_num) & \\\n",
    "                          (res_rand_3['iter_num']<=int(third_stop_iter_nums[params_set_num]))]\n",
    "  res_rand_2 = df.loc[df['experiment_name']=='random search for 2 group']\n",
    "  res=pd.concat([res_rand_2,res_rand_3], sort=False)\n",
    "  res.to_csv(RES_SAVE_DIR+'/GR_S_2_and_3_groups_with_'+str(stop_iter_num)+'_'+str(params_set_num), index=False)\n",
    "\n",
    "\n",
    "  print(df.shape)\n",
    "\"\"\""
   ]
  }
 ],
 "metadata": {
  "accelerator": "GPU",
  "colab": {
   "collapsed_sections": [],
   "name": "group_search_with_stop_criterion.ipynb",
   "provenance": []
  },
  "kernelspec": {
   "display_name": "Python 3",
   "language": "python",
   "name": "python3"
  },
  "language_info": {
   "codemirror_mode": {
    "name": "ipython",
    "version": 3
   },
   "file_extension": ".py",
   "mimetype": "text/x-python",
   "name": "python",
   "nbconvert_exporter": "python",
   "pygments_lexer": "ipython3",
   "version": "3.7.3"
  }
 },
 "nbformat": 4,
 "nbformat_minor": 1
}
