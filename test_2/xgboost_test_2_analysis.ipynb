{
 "cells": [
  {
   "cell_type": "code",
   "execution_count": 1,
   "metadata": {},
   "outputs": [],
   "source": [
    "import os\n",
    "import json\n",
    "\n",
    "import pandas as pd\n",
    "import numpy as np\n",
    "\n",
    "from matplotlib import pyplot as plt"
   ]
  },
  {
   "cell_type": "code",
   "execution_count": 2,
   "metadata": {},
   "outputs": [],
   "source": [
    "def group_best_params_with_stop(df, group_num, stop_iter_num, group_size = 243):\n",
    "    best_params = {}\n",
    "    stop_iter_nums = {}\n",
    "    best_score = {}\n",
    "\n",
    "    tmp_df = df.loc[(df['iter_num'] > (group_num-1)*group_size) & \\\n",
    "                        (df['iter_num'] <= group_num*group_size)].copy() #take group\n",
    "    \n",
    "    for i in tmp_df.run_number.unique(): \n",
    "        tmp_df_i = tmp_df.loc[tmp_df.run_number==i] #take run\n",
    "        #cut iterations:\n",
    "        tmp_df_i_copy = tmp_df_i.copy()\n",
    "        tmp_df_i_copy.loc[:, \"mean_test_score\"] = \\\n",
    "            tmp_df_i.loc[:, \"mean_test_score\"].cummax()      \n",
    "\n",
    "        try:\n",
    "            curr_max=tmp_df_i_copy.groupby(\"mean_test_score\")[\"mean_test_score\"]\\\n",
    "                .count().reset_index()\n",
    "            max_score = curr_max.loc[curr_max[\"mean_test_score\"]\\\n",
    "                                     >=stop_iter_num].index[0] \n",
    "                #get first interval with iter_amount more than stop_iter_num\n",
    "        except:\n",
    "            max_score = tmp_df_i_copy.mean_test_score.max()\n",
    "\n",
    "        tmp_stop = tmp_df_i.loc[tmp_df_i[\"mean_test_score\"]\\\n",
    "                                ==max_score].sort_values(by=\"iter_num\").iloc[0]\n",
    "            #get first element with best_score\n",
    "\n",
    "        best_params[i] = tmp_stop['params']\n",
    "        best_score[i] = max_score\n",
    "\n",
    "        last_iter_num = tmp_stop['iter_num'] + stop_iter_num-1\n",
    "        if (last_iter_num > group_num*group_size):\n",
    "            last_iter_num = group_num*group_size\n",
    "\n",
    "        stop_iter_nums[i] = last_iter_num - group_size*(group_num-1)\n",
    "    return best_params, stop_iter_nums, best_score    \n",
    "\n",
    "def get_df_from_files(files_arr, group_num, group_size = 243):\n",
    "    if group_num == 1:\n",
    "        file_dir = \"../data/results/test 1/\"\n",
    "    else:\n",
    "        file_dir = \"../data/results/test 2/\"\n",
    "\n",
    "    group_df = pd.DataFrame([])\n",
    "    for file_name in files_arr:\n",
    "        file_df = pd.read_csv(file_dir + file_name, \n",
    "                              usecols = ['mean_test_score',\n",
    "                                         'params','run_number'])\n",
    "        file_df['iter_num'] = range(1, file_df.shape[0]+1) \n",
    "        file_df['iter_num'] += (group_num-1)*group_size\n",
    "        group_df = pd.concat([group_df, file_df], sort = False)\n",
    "    return group_df\n",
    "    "
   ]
  },
  {
   "cell_type": "code",
   "execution_count": 3,
   "metadata": {},
   "outputs": [],
   "source": [
    "first_group_files=os.listdir(\"../data/results/test 1\")\n",
    "grid_files = [x for x in first_group_files if \"grid\" in x]\n",
    "random_search_files = [x for x in first_group_files if x.find(\"random\")!=-1]\n",
    "first_group_files = [x for x in first_group_files if x.find(\"group\")!=-1]\n",
    "sec_and_third_group_files_dir=os.listdir(\"../data/results/test 2\")"
   ]
  },
  {
   "cell_type": "code",
   "execution_count": 4,
   "metadata": {},
   "outputs": [],
   "source": [
    "grid_df=pd.DataFrame([])\n",
    "for file_name in grid_files:\n",
    "    df = pd.read_csv(\"../data/results/test 1/\"+file_name, usecols = ['experiment_name',\n",
    "                                                                     'mean_test_score',\n",
    "                                         'params'])\n",
    "    \n",
    "    df['iter_num']=1\n",
    "    df.loc[df['experiment_name']!='default params', \n",
    "           'iter_num'] = range(1, df.loc[df['experiment_name']!='default params'].shape[0]+1)\n",
    "    \n",
    "    grid_df = pd.concat([grid_df, df], sort=False)\n",
    "    \n",
    "random_df = pd.DataFrame([])\n",
    "for file_name in random_search_files:\n",
    "    file_df = pd.read_csv(\"../data/results/test 1/\" + file_name, \n",
    "                              usecols = ['experiment_name', 'mean_test_score',\n",
    "                                         'params','run_number'])\n",
    "    file_df['iter_num'] = range(1, file_df.shape[0]+1) \n",
    "    random_df = pd.concat([random_df, file_df], sort = False)"
   ]
  },
  {
   "cell_type": "code",
   "execution_count": 5,
   "metadata": {},
   "outputs": [],
   "source": [
    "iters_info = {}\n",
    "scores_info = {}"
   ]
  },
  {
   "cell_type": "code",
   "execution_count": 78,
   "metadata": {},
   "outputs": [],
   "source": [
    "stop_iter_num = 50"
   ]
  },
  {
   "cell_type": "code",
   "execution_count": 79,
   "metadata": {},
   "outputs": [],
   "source": [
    "sec_and_third_group_files = [x for x in sec_and_third_group_files_dir \\\n",
    "                                 if x.find(str(stop_iter_num))!=-1]"
   ]
  },
  {
   "cell_type": "code",
   "execution_count": 80,
   "metadata": {},
   "outputs": [],
   "source": [
    "best_params_full = {}\n",
    "stop_iter_nums_full = {}\n",
    "best_score_full = {}"
   ]
  },
  {
   "cell_type": "code",
   "execution_count": 81,
   "metadata": {},
   "outputs": [],
   "source": [
    "first_df = get_df_from_files(first_group_files, 1)\n",
    "first_df = first_df.loc[first_df.iter_num<244]\n",
    "best_params_full[1], stop_iter_nums_full[1], best_score_full[1] = \\\n",
    "            group_best_params_with_stop(first_df, 1, stop_iter_num)\n",
    "\n",
    "gr_2_and_3_df = get_df_from_files(sec_and_third_group_files, 2)\n",
    "best_params_full[2], stop_iter_nums_full[2], best_score_full[2] = \\\n",
    "            group_best_params_with_stop(gr_2_and_3_df, 2, stop_iter_num)\n",
    "best_params_full[3], stop_iter_nums_full[3], best_score_full[3] = \\\n",
    "            group_best_params_with_stop(gr_2_and_3_df, 3, stop_iter_num)"
   ]
  },
  {
   "cell_type": "code",
   "execution_count": 82,
   "metadata": {},
   "outputs": [],
   "source": [
    "full_df = pd.concat([first_df, gr_2_and_3_df], sort = False)"
   ]
  },
  {
   "cell_type": "code",
   "execution_count": 83,
   "metadata": {},
   "outputs": [
    {
     "name": "stdout",
     "output_type": "stream",
     "text": [
      "MEAN best score: 0.6663082716758508\n",
      "STD best score: 0.0010631944516123837\n"
     ]
    }
   ],
   "source": [
    "scores = np.array(list(best_score_full[3].values()), dtype = float)\n",
    "print(\"MEAN best score:\", np.mean(scores))\n",
    "print(\"STD best score:\", np.std(scores))"
   ]
  },
  {
   "cell_type": "code",
   "execution_count": 84,
   "metadata": {},
   "outputs": [],
   "source": [
    "scores_info['GRS_'+str(stop_iter_num)] = {'mean':np.mean(scores), 'std': np.std(scores)}"
   ]
  },
  {
   "cell_type": "code",
   "execution_count": 85,
   "metadata": {},
   "outputs": [
    {
     "name": "stdout",
     "output_type": "stream",
     "text": [
      "Group num:  1\n",
      "Mean:  [5. 9.]\n",
      "Std:  [0. 0.]\n",
      "Group num:  2\n",
      "Mean:  [0.42981767 0.57238993]\n",
      "Std:  [0.24265102 0.2644884 ]\n",
      "Group num:  3\n",
      "Mean:  [0.7048306  0.78385028]\n",
      "Std:  [0.12789717 0.06681897]\n"
     ]
    }
   ],
   "source": [
    "for group_num in best_params_full:\n",
    "    params_set = []\n",
    "    for run_num in best_params_full[group_num]:\n",
    "        param_vals = json.loads((best_params_full[group_num][run_num]).replace(\"\\'\",\"\\\"\"))\n",
    "        params_set.append(list(param_vals.values()))\n",
    "    print(\"Group num: \", group_num)\n",
    "    print(\"Mean: \",np.mean(params_set, axis = 0))\n",
    "    print(\"Std: \",np.std(params_set, axis = 0))"
   ]
  },
  {
   "cell_type": "code",
   "execution_count": 86,
   "metadata": {},
   "outputs": [],
   "source": [
    "for group_num in stop_iter_nums_full:\n",
    "    for run_num in stop_iter_nums_full[group_num]:\n",
    "        stop_num = stop_iter_nums_full[group_num][run_num]\n",
    "        full_df.loc[(full_df.run_number == run_num)&\\\n",
    "                    (full_df.iter_num > (group_num-1)*243)&\\\n",
    "                   (full_df.iter_num <= group_num*243)] = full_df.loc[(full_df.run_number == run_num)&\\\n",
    "                        (full_df.iter_num > (group_num-1)*243)&\\\n",
    "                        (full_df.iter_num <= (group_num-1)*243 + stop_num)]\n"
   ]
  },
  {
   "cell_type": "code",
   "execution_count": 87,
   "metadata": {},
   "outputs": [],
   "source": [
    "full_df = full_df.dropna(how = 'all')"
   ]
  },
  {
   "cell_type": "code",
   "execution_count": 88,
   "metadata": {},
   "outputs": [
    {
     "name": "stdout",
     "output_type": "stream",
     "text": [
      "MEAN iters num: 298.8\n",
      "STD iters num: 76.77343290487927\n"
     ]
    }
   ],
   "source": [
    "max_iters = []\n",
    "for run_num in full_df.run_number.unique():\n",
    "    max_iters.append(full_df.loc[full_df.run_number == run_num].shape[0])\n",
    "    full_df.loc[full_df.run_number == run_num, 'iter_num'] = range(1, max_iters[-1]+1)\n",
    "print(\"MEAN iters num:\", np.mean(max_iters))\n",
    "print(\"STD iters num:\", np.std(max_iters))"
   ]
  },
  {
   "cell_type": "code",
   "execution_count": 89,
   "metadata": {},
   "outputs": [],
   "source": [
    "iters_info['GRS_'+str(stop_iter_num)] = {'mean':np.mean(max_iters), 'std': np.std(max_iters)}"
   ]
  },
  {
   "cell_type": "code",
   "execution_count": 90,
   "metadata": {},
   "outputs": [],
   "source": [
    "max_iter = np.max(max_iters)"
   ]
  },
  {
   "cell_type": "code",
   "execution_count": 91,
   "metadata": {},
   "outputs": [],
   "source": [
    "max_score_and_iter = full_df.groupby(by = 'run_number')['mean_test_score', 'iter_num'].max()"
   ]
  },
  {
   "cell_type": "code",
   "execution_count": 92,
   "metadata": {},
   "outputs": [],
   "source": [
    "full_df = full_df.loc[:, ['mean_test_score', 'iter_num', 'run_number']]"
   ]
  },
  {
   "cell_type": "code",
   "execution_count": 93,
   "metadata": {},
   "outputs": [],
   "source": [
    "for run_number in list(max_score_and_iter.loc[\n",
    "        max_score_and_iter.iter_num < max_iter].index):\n",
    "    new_part_df = pd.DataFrame([], columns=full_df.columns )\n",
    "    new_part_df['iter_num']=range(int(max_score_and_iter.loc[run_number, 'iter_num']+1), \n",
    "                                  int(max_iter)+1)\n",
    "    new_part_df['run_number'] = run_number\n",
    "    new_part_df['mean_test_score'] = full_df.loc[full_df.run_number == run_number, 'mean_test_score'].max()\n",
    "    full_df = pd.concat([full_df, new_part_df])\n",
    "    full_df.loc[full_df.run_number == run_number, 'mean_test_score'] = \\\n",
    "        full_df.loc[full_df.run_number == run_number, 'mean_test_score'].cummax()\n",
    "    \n",
    "for run_number in list(max_score_and_iter.loc[\n",
    "        max_score_and_iter.iter_num >= max_iter].index):\n",
    "    full_df.loc[full_df.run_number == run_number, 'mean_test_score'] = \\\n",
    "        full_df.loc[full_df.run_number == run_number, 'mean_test_score'].cummax()"
   ]
  },
  {
   "cell_type": "code",
   "execution_count": 94,
   "metadata": {},
   "outputs": [],
   "source": [
    "full_df['experiment_name']='group search'"
   ]
  },
  {
   "cell_type": "code",
   "execution_count": 95,
   "metadata": {},
   "outputs": [
    {
     "name": "stdout",
     "output_type": "stream",
     "text": [
      "MEAN iters num: 106.5\n",
      "STD iters num: 32.47537528651517\n"
     ]
    }
   ],
   "source": [
    "## RANDOM_SEARCH\n",
    "#get best scores per itration for each random_search performance:\n",
    "random_df_stopped=pd.DataFrame([])\n",
    "max_iters_for_RS = []\n",
    "for i in random_df.run_number.unique():\n",
    "    \n",
    "    tmp=pd.DataFrame(random_df.loc[random_df.run_number==i, \n",
    "                                   \"mean_test_score\"].copy().cummax())\n",
    "    tmp[\"iter_num\"]=random_df.loc[random_df.run_number==i, \"iter_num\"]\n",
    "    curr_max=tmp.groupby(\"mean_test_score\").count().reset_index()\n",
    "    max_score=curr_max.loc[curr_max[\"iter_num\"]>=stop_iter_num, \n",
    "                           \"mean_test_score\"].values[0]\n",
    "    \n",
    "    tmp_before=tmp.loc[tmp[\"mean_test_score\"]<max_score] #get steps before stop criterion\n",
    "    tmp_stop=tmp.loc[tmp[\"mean_test_score\"]==max_score].sort_values(by=\"iter_num\")\n",
    "    tmp_stop=tmp_stop.iloc[:stop_iter_num]\n",
    "    df_stopped=pd.concat([tmp_before, tmp_stop], sort = False)  \n",
    "    df_stopped['run_number']=i\n",
    "    max_iters_for_RS.append(df_stopped.shape[0])\n",
    "    random_df_stopped=pd.concat([random_df_stopped, df_stopped], sort=False)\n",
    "    \n",
    "    \n",
    "print(\"MEAN iters num:\", np.mean(max_iters_for_RS))\n",
    "print(\"STD iters num:\", np.std(max_iters_for_RS))"
   ]
  },
  {
   "cell_type": "code",
   "execution_count": 96,
   "metadata": {},
   "outputs": [],
   "source": [
    "iters_info['RS_'+str(stop_iter_num)] = {'mean':np.mean(max_iters_for_RS), \n",
    "                                         'std': np.std(max_iters_for_RS)}"
   ]
  },
  {
   "cell_type": "code",
   "execution_count": 97,
   "metadata": {},
   "outputs": [],
   "source": [
    "last_iter = random_df_stopped.groupby(by = 'run_number')['iter_num'].max().reset_index()"
   ]
  },
  {
   "cell_type": "code",
   "execution_count": 98,
   "metadata": {},
   "outputs": [],
   "source": [
    "params = list(random_df.merge(last_iter)['params'].values)\n",
    "params = [list(json.loads(x.replace('\\'','\\\"')).values()) for x in params]"
   ]
  },
  {
   "cell_type": "code",
   "execution_count": 99,
   "metadata": {},
   "outputs": [
    {
     "data": {
      "text/plain": [
       "\"{'alpha': 0.43389798587359796, 'colsample_bytree': 0.6194841834157054, 'lambda': 0.7992907173822504, 'max_depth': 1, 'min_child_weight': 3, 'subsample': 0.9282249107704157}\""
      ]
     },
     "execution_count": 99,
     "metadata": {},
     "output_type": "execute_result"
    }
   ],
   "source": [
    "list(random_df.merge(last_iter)['params'].values)[0]"
   ]
  },
  {
   "cell_type": "code",
   "execution_count": 100,
   "metadata": {},
   "outputs": [
    {
     "name": "stdout",
     "output_type": "stream",
     "text": [
      "Mean:  [0.37992755 0.74484797 0.54035879 4.         4.4        0.7114221 ]\n",
      "Std:  [0.23943305 0.16307037 0.31107009 2.23606798 2.57681975 0.15542802]\n"
     ]
    }
   ],
   "source": [
    "print(\"Mean: \",np.mean(params, axis = 0))\n",
    "print(\"Std: \",np.std(params, axis = 0))"
   ]
  },
  {
   "cell_type": "code",
   "execution_count": 101,
   "metadata": {},
   "outputs": [],
   "source": [
    "max_iter = np.max(max_iters_for_RS)\n",
    "max_score_and_iter_RS = random_df_stopped.groupby(by = 'run_number')['mean_test_score', 'iter_num'].max()\n",
    "for run_number in list(max_score_and_iter_RS.loc[\n",
    "        max_score_and_iter_RS.iter_num < max_iter].index):\n",
    "    new_part_df = pd.DataFrame([], columns=random_df_stopped.columns )\n",
    "    new_part_df['iter_num']=range(int(max_score_and_iter_RS.loc[run_number, 'iter_num']+1), \n",
    "                                  int(max_iter)+1)\n",
    "    new_part_df[['mean_test_score', 'run_number']] = max_score_and_iter_RS.loc[run_number, 'mean_test_score'], run_number\n",
    "    random_df_stopped = pd.concat([random_df_stopped, new_part_df])\n",
    "random_df_stopped['experiment_name']='random search'   "
   ]
  },
  {
   "cell_type": "code",
   "execution_count": 102,
   "metadata": {},
   "outputs": [],
   "source": [
    "#get info for grid and deafault"
   ]
  },
  {
   "cell_type": "code",
   "execution_count": 103,
   "metadata": {},
   "outputs": [
    {
     "data": {
      "image/png": "[encoded data removed]",
      "text/plain": [
       "<Figure size 1080x504 with 1 Axes>"
      ]
     },
     "metadata": {
      "needs_background": "light"
     },
     "output_type": "display_data"
    }
   ],
   "source": [
    "# Data with stop criterion\n",
    "# stop if the cumulative score hasn't grown in \"stop_iter_num\" iterations\n",
    "# GRID_SEARCH\n",
    "#get best scores per itration for grid_search performance:\n",
    "grid_perf=grid_df.loc[grid_df['experiment_name']!='default params',\n",
    "                      'mean_test_score'].cummax()\n",
    "\n",
    "\n",
    "## RANDOM_SEARCH\n",
    "# get best scores per itration for each random_search performance:\n",
    "# random_df_stopped\n",
    "    \n",
    "#get mean and confidence interval value for random_search performance on iteration:    \n",
    "\n",
    "z = 1.96 # for 95% conf interval (coefficient)\n",
    "# z = 1.64 # for 90% conf interval\n",
    "\n",
    "n=random_df_stopped.shape[0]/random_df_stopped.iter_num.max() # now n=9, because 4 runs were made for random search\n",
    "random_std=random_df_stopped.groupby(by=\"iter_num\")['mean_test_score'].std() #std\n",
    "random_std=(random_std*z)/np.sqrt(n) #confidence interval value \n",
    "random_mean=random_df_stopped.groupby(by=\"iter_num\")['mean_test_score'].mean() #mean\n",
    "\n",
    "\n",
    "## GROUP_SEARCH\n",
    "#get best scores per itration for each group_search performance (same computations):\n",
    "\n",
    "n=full_df.shape[0]/full_df.iter_num.max() # now n=10\n",
    "group_std=full_df.groupby(by=\"iter_num\")['mean_test_score'].std()\n",
    "group_std=(group_std*z)/np.sqrt(n) \n",
    "group_std=group_std.fillna(0)\n",
    "group_mean=full_df.groupby(by=\"iter_num\")['mean_test_score'].mean()\n",
    "\n",
    "## DEFAULT performance\n",
    "default_perf=grid_df.loc[grid_df['experiment_name']=='default params', 'mean_test_score']\n",
    "\n",
    "\n",
    "## PLOT\n",
    "plt.figure(figsize=(15,7))\n",
    "plt.grid()\n",
    "\n",
    "#grid plot:\n",
    "x=list(range(0, grid_perf.shape[0]))\n",
    "plt.plot(x, grid_perf, label=\"grid_search\")\n",
    "\n",
    "#conf for random:\n",
    "x=list(range(0, random_mean.shape[0]))\n",
    "plt.plot(x, random_mean, color=\"y\", label=\"random_search mean values\")\n",
    "lower_random=random_mean - random_std\n",
    "upper_random=random_mean + random_std\n",
    "plt.plot(x, lower_random, alpha=0.7, color=\"y\")\n",
    "plt.plot(x, upper_random, alpha=0.7, color=\"y\")\n",
    "plt.fill_between(x, lower_random, upper_random, alpha=0.1, color=\"y\") \n",
    "\n",
    "#conf for group:\n",
    "x=list(range(0, group_mean.shape[0]))\n",
    "plt.plot(x, group_mean, color=\"green\", label=\"group_search mean values\")\n",
    "lower_group=group_mean - group_std\n",
    "upper_group=group_mean + group_std\n",
    "plt.plot(x, lower_group, alpha=0.5, color=\"green\")\n",
    "plt.plot(x, upper_group, alpha=0.5, color=\"green\")\n",
    "plt.fill_between(x, lower_group, upper_group, alpha=0.1, color=\"green\")\n",
    "\n",
    "#line for default values\n",
    "plt.axhline(default_perf.values, label=\"default_params\", color='r')\n",
    "\n",
    "plt.legend(title='tests:')\n",
    "plt.title(\"Learning curves: the best score per iteration with {} stop value\".format(stop_iter_num))\n",
    "plt.ylabel(\"Best score r2 per iteration\")\n",
    "plt.xlabel(\"iteration number\")\n",
    "plt.savefig(\"../graphs/test 2/scores_with_stop_{}.jpg\".format(stop_iter_num))\n",
    "plt.show()"
   ]
  },
  {
   "cell_type": "code",
   "execution_count": 104,
   "metadata": {},
   "outputs": [],
   "source": [
    "df = pd.concat([full_df, random_df_stopped], sort = False)"
   ]
  },
  {
   "cell_type": "code",
   "execution_count": 105,
   "metadata": {},
   "outputs": [],
   "source": [
    "best_scores=df.groupby(by=['experiment_name', \n",
    "                           'run_number'])['mean_test_score'].max().reset_index()\n",
    "#print(\"best scores:\")\n",
    "#print(best_scores)\n",
    "\n",
    "best=pd.merge(df, best_scores, how='inner', \n",
    "              on=['experiment_name','run_number','mean_test_score']\n",
    "             ).loc[:,['experiment_name','mean_test_score', \n",
    "                      'iter_num','run_number']]\n",
    "#best step and params"
   ]
  },
  {
   "cell_type": "code",
   "execution_count": 106,
   "metadata": {},
   "outputs": [],
   "source": [
    "best_scores_grpBy = best_scores.groupby(by='experiment_name')['mean_test_score']"
   ]
  },
  {
   "cell_type": "code",
   "execution_count": 107,
   "metadata": {},
   "outputs": [
    {
     "name": "stdout",
     "output_type": "stream",
     "text": [
      "MEAN:\n",
      "experiment_name\n",
      "group search     0.666308\n",
      "random search    0.661082\n",
      "Name: mean_test_score, dtype: float64\n",
      "STD:\n",
      "experiment_name\n",
      "group search     0.001121\n",
      "random search    0.002038\n",
      "Name: mean_test_score, dtype: float64\n"
     ]
    }
   ],
   "source": [
    "print(\"MEAN:\")\n",
    "print(best_scores_grpBy.mean())\n",
    "print(\"STD:\")\n",
    "print(best_scores_grpBy.std())"
   ]
  },
  {
   "cell_type": "code",
   "execution_count": 108,
   "metadata": {},
   "outputs": [],
   "source": [
    "stats = best_scores_grpBy.agg([np.mean,np.std]).loc['random search']"
   ]
  },
  {
   "cell_type": "code",
   "execution_count": 109,
   "metadata": {},
   "outputs": [],
   "source": [
    "scores_info['RS_'+str(stop_iter_num)] = {'mean':stats['mean'], \n",
    "                                         'std': stats['std']}"
   ]
  },
  {
   "cell_type": "code",
   "execution_count": 110,
   "metadata": {},
   "outputs": [
    {
     "data": {
      "text/plain": [
       "{'GRS_100': {'mean': 460.1, 'std': 52.29235125713893},\n",
       " 'RS_100': {'mean': 195.0, 'std': 48.20165972246184},\n",
       " 'GRS_75': {'mean': 419.4, 'std': 72.4599199557935},\n",
       " 'RS_75': {'mean': 162.3, 'std': 33.41870733586205},\n",
       " 'GRS_50': {'mean': 298.8, 'std': 76.77343290487927},\n",
       " 'RS_50': {'mean': 106.5, 'std': 32.47537528651517}}"
      ]
     },
     "execution_count": 110,
     "metadata": {},
     "output_type": "execute_result"
    }
   ],
   "source": [
    "iters_info"
   ]
  },
  {
   "cell_type": "code",
   "execution_count": 111,
   "metadata": {},
   "outputs": [],
   "source": [
    "with open(\"../data/results/test 2/iters_info.txt\", 'w') as outfile:\n",
    "    json.dump(iters_info, outfile)"
   ]
  },
  {
   "cell_type": "code",
   "execution_count": 112,
   "metadata": {},
   "outputs": [
    {
     "data": {
      "text/plain": [
       "{'GRS_100': {'mean': 0.6674590799006869, 'std': 0.0010305259879038954},\n",
       " 'RS_100': {'mean': 0.6627090283296673, 'std': 0.002200474470596113},\n",
       " 'GRS_75': {'mean': 0.6673347659686246, 'std': 0.001143914437668295},\n",
       " 'RS_75': {'mean': 0.6624504569887075, 'std': 0.002053794666269355},\n",
       " 'GRS_50': {'mean': 0.6663082716758508, 'std': 0.0010631944516123837},\n",
       " 'RS_50': {'mean': 0.6610820315997675, 'std': 0.0020377103949608287}}"
      ]
     },
     "execution_count": 112,
     "metadata": {},
     "output_type": "execute_result"
    }
   ],
   "source": [
    "scores_info"
   ]
  },
  {
   "cell_type": "code",
   "execution_count": 113,
   "metadata": {},
   "outputs": [],
   "source": [
    "with open(\"../data/results/test 2/scores_info.txt\", 'w') as outfile:\n",
    "    json.dump(scores_info, outfile)"
   ]
  }
 ],
 "metadata": {
  "kernelspec": {
   "display_name": "Python 3",
   "language": "python",
   "name": "python3"
  },
  "language_info": {
   "codemirror_mode": {
    "name": "ipython",
    "version": 3
   },
   "file_extension": ".py",
   "mimetype": "text/x-python",
   "name": "python",
   "nbconvert_exporter": "python",
   "pygments_lexer": "ipython3",
   "version": "3.7.3"
  }
 },
 "nbformat": 4,
 "nbformat_minor": 2
}
