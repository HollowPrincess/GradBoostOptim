{
 "cells": [
  {
   "cell_type": "code",
   "execution_count": 1,
   "metadata": {},
   "outputs": [],
   "source": [
    "import os\n",
    "import json\n",
    "\n",
    "import pandas as pd\n",
    "import numpy as np\n",
    "\n",
    "from matplotlib import pyplot as plt"
   ]
  },
  {
   "cell_type": "code",
   "execution_count": 2,
   "metadata": {},
   "outputs": [],
   "source": [
    "first_group_files=os.listdir(\"../data/results/test 1\")\n",
    "grid_files = [x for x in first_group_files if \"grid\" in x]\n",
    "random_search_files = [x for x in first_group_files if x.find(\"random\")!=-1]\n",
    "first_group_files = [x for x in first_group_files if x.find(\"group\")!=-1]\n",
    "sec_and_third_group_files_dir=os.listdir(\"../data/results/test 2\")\n",
    "sec_and_third_group_files_dir = [x for x in sec_and_third_group_files_dir\\\n",
    "                                 if x.find(\"old\")==-1]"
   ]
  },
  {
   "cell_type": "code",
   "execution_count": 3,
   "metadata": {},
   "outputs": [],
   "source": [
    "grid_df=pd.DataFrame([])\n",
    "for file_name in grid_files:\n",
    "    df = pd.read_csv(\"../data/results/test 1/\"+file_name, usecols = ['experiment_name',\n",
    "                                                                     'mean_test_score',\n",
    "                                         'params'])\n",
    "    \n",
    "    df['iter_num']=1\n",
    "    df.loc[df['experiment_name']!='default params', \n",
    "           'iter_num'] = range(1, df.loc[df['experiment_name']!='default params'].shape[0]+1)\n",
    "    \n",
    "    grid_df = pd.concat([grid_df, df], sort=False)\n",
    "    \n",
    "random_df = pd.DataFrame([])\n",
    "for file_name in random_search_files:\n",
    "    file_df = pd.read_csv(\"../data/results/test 1/\" + file_name, \n",
    "                              usecols = ['experiment_name', 'mean_test_score',\n",
    "                                         'params','run_number'])\n",
    "    file_df['iter_num'] = range(1, file_df.shape[0]+1) \n",
    "    random_df = pd.concat([random_df, file_df], sort = False)"
   ]
  },
  {
   "cell_type": "code",
   "execution_count": 4,
   "metadata": {},
   "outputs": [],
   "source": [
    "iters_info = {}\n",
    "scores_info = {}"
   ]
  },
  {
   "cell_type": "code",
   "execution_count": null,
   "metadata": {},
   "outputs": [],
   "source": []
  },
  {
   "cell_type": "code",
   "execution_count": null,
   "metadata": {},
   "outputs": [],
   "source": []
  },
  {
   "cell_type": "code",
   "execution_count": null,
   "metadata": {},
   "outputs": [],
   "source": []
  },
  {
   "cell_type": "code",
   "execution_count": 118,
   "metadata": {},
   "outputs": [],
   "source": [
    "stop_iter_num = 10"
   ]
  },
  {
   "cell_type": "code",
   "execution_count": 119,
   "metadata": {},
   "outputs": [],
   "source": [
    "sec_and_third_group_files = [x for x in sec_and_third_group_files_dir \\\n",
    "                                 if x.find(str(stop_iter_num)+\"_\")!=-1]"
   ]
  },
  {
   "cell_type": "code",
   "execution_count": 120,
   "metadata": {},
   "outputs": [
    {
     "data": {
      "text/plain": [
       "['GR_S_2_and_3_groups_with_10_9',\n",
       " 'GR_S_2_and_3_groups_with_10_5',\n",
       " 'GR_S_2_and_3_groups_with_10_3',\n",
       " 'GR_S_2_and_3_groups_with_10_2',\n",
       " 'GR_S_2_and_3_groups_with_10_10',\n",
       " 'GR_S_2_and_3_groups_with_10_6',\n",
       " 'GR_S_2_and_3_groups_with_10_4',\n",
       " 'GR_S_2_and_3_groups_with_10_8',\n",
       " 'GR_S_2_and_3_groups_with_10_7',\n",
       " 'GR_S_2_and_3_groups_with_10_1']"
      ]
     },
     "execution_count": 120,
     "metadata": {},
     "output_type": "execute_result"
    }
   ],
   "source": [
    "sec_and_third_group_files"
   ]
  },
  {
   "cell_type": "code",
   "execution_count": 121,
   "metadata": {},
   "outputs": [],
   "source": [
    "gr_2_and_3_df = pd.DataFrame([])\n",
    "for file_name in sec_and_third_group_files:\n",
    "    file_df = pd.read_csv(\"../data/results/test 2/\" + file_name, \n",
    "                              usecols = ['experiment_name', 'mean_test_score',\n",
    "                                         'params','run_number','iter_num'])\n",
    "    gr_2_and_3_df = pd.concat([gr_2_and_3_df, file_df], sort = False)"
   ]
  },
  {
   "cell_type": "code",
   "execution_count": 122,
   "metadata": {},
   "outputs": [],
   "source": [
    "end_of_first_part = gr_2_and_3_df.groupby(by='run_number')['iter_num'].min().to_dict()"
   ]
  },
  {
   "cell_type": "code",
   "execution_count": 123,
   "metadata": {},
   "outputs": [],
   "source": [
    "first_group_df = pd.DataFrame([])\n",
    "for file_name in first_group_files:\n",
    "    file_df = pd.read_csv(\"../data/results/test 1/\" + file_name, \n",
    "                              usecols = ['experiment_name', 'mean_test_score',\n",
    "                                         'params','run_number'])\n",
    "    file_df['iter_num'] = range(1, file_df.shape[0]+1) \n",
    "    run_num = np.unique(file_df['run_number'])[0]\n",
    "    file_df = file_df.loc[file_df['iter_num']<end_of_first_part[run_num]]\n",
    "    first_group_df = pd.concat([first_group_df, file_df], sort = False)"
   ]
  },
  {
   "cell_type": "code",
   "execution_count": 124,
   "metadata": {},
   "outputs": [],
   "source": [
    "full_df = pd.concat([first_group_df, gr_2_and_3_df], sort = False)"
   ]
  },
  {
   "cell_type": "code",
   "execution_count": 125,
   "metadata": {},
   "outputs": [
    {
     "name": "stdout",
     "output_type": "stream",
     "text": [
      "MEAN best score: 0.6680433906486642\n",
      "STD best score: 0.001022508910769857\n"
     ]
    }
   ],
   "source": [
    "scores = full_df.groupby('run_number')['mean_test_score'].max()\n",
    "print(\"MEAN best score:\", np.mean(scores))\n",
    "print(\"STD best score:\", np.std(scores))"
   ]
  },
  {
   "cell_type": "code",
   "execution_count": 126,
   "metadata": {},
   "outputs": [],
   "source": [
    "iters_num = full_df.groupby(by='run_number')['iter_num'].max()"
   ]
  },
  {
   "cell_type": "code",
   "execution_count": 127,
   "metadata": {},
   "outputs": [
    {
     "name": "stdout",
     "output_type": "stream",
     "text": [
      "MEAN iters num: 458.6\n",
      "STD iters num: 101.61220399144977\n"
     ]
    }
   ],
   "source": [
    "print(\"MEAN iters num:\", np.mean(iters_num))\n",
    "print(\"STD iters num:\", np.std(iters_num))"
   ]
  },
  {
   "cell_type": "code",
   "execution_count": 128,
   "metadata": {},
   "outputs": [],
   "source": [
    "max_iter = np.max(iters_num)"
   ]
  },
  {
   "cell_type": "code",
   "execution_count": 129,
   "metadata": {},
   "outputs": [
    {
     "data": {
      "text/plain": [
       "685"
      ]
     },
     "execution_count": 129,
     "metadata": {},
     "output_type": "execute_result"
    }
   ],
   "source": [
    "max_iter"
   ]
  },
  {
   "cell_type": "code",
   "execution_count": 130,
   "metadata": {},
   "outputs": [],
   "source": [
    "max_score_and_iter = full_df.groupby(by = 'run_number')['mean_test_score', 'iter_num'].max()"
   ]
  },
  {
   "cell_type": "code",
   "execution_count": 131,
   "metadata": {},
   "outputs": [],
   "source": [
    "full_df = full_df.loc[:, ['mean_test_score', 'iter_num', 'run_number']]"
   ]
  },
  {
   "cell_type": "code",
   "execution_count": 132,
   "metadata": {},
   "outputs": [],
   "source": [
    "# Продление конечной оценки до максимальной итерации \n",
    "# для отрисовки конца доверительного интервала"
   ]
  },
  {
   "cell_type": "code",
   "execution_count": 133,
   "metadata": {},
   "outputs": [],
   "source": [
    "list_for_extension = list(max_score_and_iter.loc[\n",
    "        max_score_and_iter.iter_num < max_iter].index)"
   ]
  },
  {
   "cell_type": "code",
   "execution_count": 134,
   "metadata": {},
   "outputs": [],
   "source": [
    "full_df = full_df.dropna(how = 'all')"
   ]
  },
  {
   "cell_type": "code",
   "execution_count": 135,
   "metadata": {},
   "outputs": [],
   "source": [
    "agg_df_GRS = full_df.groupby('run_number')['iter_num'].max().values\n",
    "\n",
    "iters_info['GRS_{}'.format(stop_iter_num)] = {\n",
    "    'mean':np.mean(agg_df_GRS), \n",
    "    'std':np.nanstd(agg_df_GRS)\n",
    "}\n"
   ]
  },
  {
   "cell_type": "code",
   "execution_count": 136,
   "metadata": {},
   "outputs": [],
   "source": [
    "for run_number in list_for_extension:\n",
    "    new_part_df = pd.DataFrame([], columns=full_df.columns)\n",
    "    new_part_df['iter_num']=range(int(max_score_and_iter.loc[run_number, 'iter_num']+1), \n",
    "                                  int(max_iter)+1)\n",
    "    new_part_df['run_number'] = run_number\n",
    "    new_part_df['mean_test_score'] = max_score_and_iter.loc[run_number, \n",
    "                                                            'mean_test_score']\n",
    "    full_df = pd.concat([full_df, new_part_df], sort = False)\n",
    "    \n",
    "stopped_full_df = pd.DataFrame([])\n",
    "for run_number in np.unique(full_df.run_number):\n",
    "    copy_df = full_df.loc[full_df.run_number == run_number].sort_values(by = 'iter_num')\n",
    "    copy_df['mean_test_score']=copy_df['mean_test_score'].cummax()\n",
    "    copy_df['run_number']=run_number\n",
    "    #full_df.loc[full_df.run_number == run_number]=full_df.loc[full_df.run_number == run_number].sort_values(by = 'iter_num')\n",
    "    #full_df.loc[full_df.run_number == run_number, 'mean_test_score'] = \\\n",
    "    #    full_df.loc[full_df.run_number == run_number, 'mean_test_score'].cummax()\n",
    "    stopped_full_df = pd.concat([stopped_full_df, copy_df], sort=False)\n"
   ]
  },
  {
   "cell_type": "code",
   "execution_count": 137,
   "metadata": {},
   "outputs": [],
   "source": [
    "full_df = stopped_full_df"
   ]
  },
  {
   "cell_type": "code",
   "execution_count": 138,
   "metadata": {},
   "outputs": [],
   "source": [
    "full_df['experiment_name']='group search'"
   ]
  },
  {
   "cell_type": "code",
   "execution_count": 139,
   "metadata": {},
   "outputs": [
    {
     "name": "stdout",
     "output_type": "stream",
     "text": [
      "MEAN iters num: 15.9\n",
      "STD iters num: 5.18555686498567\n"
     ]
    }
   ],
   "source": [
    "## RANDOM_SEARCH\n",
    "#get best scores per itration for each random_search performance:\n",
    "random_df_stopped=pd.DataFrame([])\n",
    "max_iters_for_RS = []\n",
    "for i in random_df.run_number.unique():    \n",
    "    tmp=pd.DataFrame(random_df.loc[random_df.run_number==i, \n",
    "                                   \"mean_test_score\"].copy().cummax())\n",
    "    tmp[\"iter_num\"]=random_df.loc[random_df.run_number==i, \"iter_num\"]\n",
    "    curr_max=tmp.groupby(\"mean_test_score\").count().reset_index()\n",
    "    max_score=curr_max.loc[curr_max[\"iter_num\"]>=stop_iter_num, \n",
    "                           \"mean_test_score\"].values[0]\n",
    "    \n",
    "    tmp_before=tmp.loc[tmp[\"mean_test_score\"]<max_score] #get steps before stop criterion\n",
    "    tmp_stop=tmp.loc[tmp[\"mean_test_score\"]==max_score].sort_values(by=\"iter_num\")\n",
    "    tmp_stop=tmp_stop.iloc[:stop_iter_num]\n",
    "    df_stopped=pd.concat([tmp_before, tmp_stop], sort = False)  \n",
    "    df_stopped['run_number']=i\n",
    "    max_iters_for_RS.append(df_stopped.shape[0])\n",
    "    random_df_stopped=pd.concat([random_df_stopped, df_stopped], sort=False)\n",
    "    \n",
    "    \n",
    "print(\"MEAN iters num:\", np.mean(max_iters_for_RS))\n",
    "print(\"STD iters num:\", np.std(max_iters_for_RS))"
   ]
  },
  {
   "cell_type": "code",
   "execution_count": 140,
   "metadata": {},
   "outputs": [
    {
     "data": {
      "text/plain": [
       "29"
      ]
     },
     "execution_count": 140,
     "metadata": {},
     "output_type": "execute_result"
    }
   ],
   "source": [
    "np.max(max_iters_for_RS)"
   ]
  },
  {
   "cell_type": "code",
   "execution_count": 141,
   "metadata": {},
   "outputs": [],
   "source": [
    "iters_info['RS_{}'.format(stop_iter_num)] = {\n",
    "    'mean':np.mean(max_iters_for_RS), \n",
    "    'std':np.nanstd(max_iters_for_RS)\n",
    "}"
   ]
  },
  {
   "cell_type": "code",
   "execution_count": 142,
   "metadata": {},
   "outputs": [],
   "source": [
    "last_iter = random_df_stopped.groupby(by = 'run_number')['iter_num'].max().reset_index()"
   ]
  },
  {
   "cell_type": "code",
   "execution_count": 143,
   "metadata": {},
   "outputs": [],
   "source": [
    "max_iter = np.max(max_iters_for_RS)\n",
    "max_score_and_iter_RS = random_df_stopped.groupby(by = 'run_number')['mean_test_score', 'iter_num'].max()\n",
    "for run_number in list(max_score_and_iter_RS.loc[\n",
    "        max_score_and_iter_RS.iter_num < max_iter].index):\n",
    "    new_part_df = pd.DataFrame([], columns=random_df_stopped.columns )\n",
    "    new_part_df['iter_num']=range(int(max_score_and_iter_RS.loc[run_number, 'iter_num']+1), \n",
    "                                  int(max_iter)+1)\n",
    "    new_part_df[['mean_test_score', 'run_number']] = max_score_and_iter_RS.loc[run_number, 'mean_test_score'], run_number\n",
    "    random_df_stopped = pd.concat([random_df_stopped, new_part_df])\n",
    "random_df_stopped['experiment_name']='random search'   "
   ]
  },
  {
   "cell_type": "code",
   "execution_count": 144,
   "metadata": {},
   "outputs": [],
   "source": [
    "#get info for grid and deafault"
   ]
  },
  {
   "cell_type": "code",
   "execution_count": 145,
   "metadata": {},
   "outputs": [
    {
     "data": {
      "image/png": "[encoded data removed]",
      "text/plain": [
       "<Figure size 1080x504 with 1 Axes>"
      ]
     },
     "metadata": {
      "needs_background": "light"
     },
     "output_type": "display_data"
    }
   ],
   "source": [
    "# Data with stop criterion\n",
    "# stop if the cumulative score hasn't grown in \"stop_iter_num\" iterations\n",
    "# GRID_SEARCH\n",
    "#get best scores per itration for grid_search performance:\n",
    "grid_perf=grid_df.loc[grid_df['experiment_name']!='default params',\n",
    "                      'mean_test_score'].cummax()\n",
    "\n",
    "\n",
    "## RANDOM_SEARCH\n",
    "# get best scores per itration for each random_search performance:\n",
    "# random_df_stopped\n",
    "    \n",
    "#get mean and confidence interval value for random_search performance on iteration:    \n",
    "\n",
    "z = 1.96 # for 95% conf interval (coefficient)\n",
    "# z = 1.64 # for 90% conf interval\n",
    "\n",
    "n=10\n",
    "random_std=random_df_stopped.groupby(by=\"iter_num\")['mean_test_score'].std() #std\n",
    "random_std=(random_std*z)/np.sqrt(n) #confidence interval value \n",
    "random_mean=random_df_stopped.groupby(by=\"iter_num\")['mean_test_score'].mean() #mean\n",
    "\n",
    "\n",
    "## GROUP_SEARCH\n",
    "#get best scores per itration for each group_search performance (same computations):\n",
    "\n",
    "n=10\n",
    "group_std=full_df.groupby(by=\"iter_num\")['mean_test_score'].std()\n",
    "group_std=(group_std*z)/np.sqrt(n) \n",
    "group_std=group_std.fillna(0)\n",
    "group_mean=full_df.groupby(by=\"iter_num\")['mean_test_score'].mean()\n",
    "\n",
    "## DEFAULT performance\n",
    "default_perf=grid_df.loc[grid_df['experiment_name']=='default params', 'mean_test_score']\n",
    "\n",
    "\n",
    "## PLOT\n",
    "plt.figure(figsize=(15,7))\n",
    "plt.grid()\n",
    "\n",
    "#grid plot:\n",
    "x=list(range(0, grid_perf.shape[0]))\n",
    "plt.plot(x, grid_perf, label=\"grid_search\")\n",
    "\n",
    "#conf for random:\n",
    "x=list(range(0, random_mean.shape[0]))\n",
    "plt.plot(x, random_mean, color=\"y\", label=\"random_search mean values\")\n",
    "lower_random=random_mean - random_std\n",
    "upper_random=random_mean + random_std\n",
    "plt.plot(x, lower_random, alpha=0.7, color=\"y\")\n",
    "plt.plot(x, upper_random, alpha=0.7, color=\"y\")\n",
    "plt.fill_between(x, lower_random, upper_random, alpha=0.1, color=\"y\") \n",
    "\n",
    "#conf for group:\n",
    "x=list(range(0, group_mean.shape[0]))\n",
    "plt.plot(x, group_mean, color=\"green\", label=\"group_search mean values\")\n",
    "lower_group=group_mean - group_std\n",
    "upper_group=group_mean + group_std\n",
    "plt.plot(x, lower_group, alpha=0.5, color=\"green\")\n",
    "plt.plot(x, upper_group, alpha=0.5, color=\"green\")\n",
    "plt.fill_between(x, lower_group, upper_group, alpha=0.1, color=\"green\")\n",
    "\n",
    "#line for default values\n",
    "plt.axhline(default_perf.values, label=\"default_params\", color='r')\n",
    "\n",
    "plt.legend(title='tests:')\n",
    "plt.title(\"Learning curves: the best score per iteration with {} stop value\".format(stop_iter_num))\n",
    "plt.ylabel(\"Best score r2 per iteration\")\n",
    "plt.xlabel(\"iteration number\")\n",
    "plt.savefig(\"../graphs/test 2/scores_with_stop_{}.jpg\".format(stop_iter_num))\n",
    "plt.show()"
   ]
  },
  {
   "cell_type": "code",
   "execution_count": 146,
   "metadata": {},
   "outputs": [],
   "source": [
    "agg_df_GRS = full_df.groupby('run_number')['mean_test_score'].max().values\n",
    "agg_df_RS = random_df_stopped.groupby('run_number')['mean_test_score'].max().values"
   ]
  },
  {
   "cell_type": "code",
   "execution_count": 147,
   "metadata": {},
   "outputs": [],
   "source": [
    "scores_info['GRS_{}'.format(stop_iter_num)] = {\n",
    "    'mean':np.mean(agg_df_GRS), \n",
    "    'std':np.nanstd(agg_df_GRS)\n",
    "}\n",
    "scores_info['RS_{}'.format(stop_iter_num)] = {\n",
    "    'mean':np.mean(agg_df_RS), \n",
    "    'std':np.nanstd(agg_df_RS)\n",
    "}"
   ]
  },
  {
   "cell_type": "code",
   "execution_count": null,
   "metadata": {},
   "outputs": [],
   "source": []
  },
  {
   "cell_type": "code",
   "execution_count": null,
   "metadata": {},
   "outputs": [],
   "source": []
  },
  {
   "cell_type": "code",
   "execution_count": null,
   "metadata": {},
   "outputs": [],
   "source": []
  },
  {
   "cell_type": "code",
   "execution_count": 148,
   "metadata": {},
   "outputs": [
    {
     "data": {
      "text/plain": [
       "{'GRS_100': {'mean': 0.6680651354998307, 'std': 0.0013008025390191303},\n",
       " 'RS_100': {'mean': 0.6627090283296673, 'std': 0.0020875533780410765},\n",
       " 'GRS_50': {'mean': 0.6684343127525796, 'std': 0.0010214373531322479},\n",
       " 'RS_50': {'mean': 0.6610820315997675, 'std': 0.0019331418179632512},\n",
       " 'GRS_25': {'mean': 0.6684685619701072, 'std': 0.0013655312193986838},\n",
       " 'RS_25': {'mean': 0.658642748941135, 'std': 0.0020499179251756636},\n",
       " 'GRS_10': {'mean': 0.6680433906486641, 'std': 0.0010225089107698568},\n",
       " 'RS_10': {'mean': 0.6555108401569943, 'std': 0.0024108997034330486}}"
      ]
     },
     "execution_count": 148,
     "metadata": {},
     "output_type": "execute_result"
    }
   ],
   "source": [
    "scores_info"
   ]
  },
  {
   "cell_type": "code",
   "execution_count": 149,
   "metadata": {},
   "outputs": [
    {
     "data": {
      "text/plain": [
       "{'GRS_100': {'mean': 545.9, 'std': 142.87858481941933},\n",
       " 'RS_100': {'mean': 195.0, 'std': 48.20165972246184},\n",
       " 'GRS_50': {'mean': 450.7, 'std': 79.16065942120493},\n",
       " 'RS_50': {'mean': 106.5, 'std': 32.47537528651517},\n",
       " 'GRS_25': {'mean': 507.8, 'std': 113.5057707784058},\n",
       " 'RS_25': {'mean': 47.9, 'std': 21.021179795625173},\n",
       " 'GRS_10': {'mean': 458.6, 'std': 101.61220399144976},\n",
       " 'RS_10': {'mean': 15.9, 'std': 5.18555686498567}}"
      ]
     },
     "execution_count": 149,
     "metadata": {},
     "output_type": "execute_result"
    }
   ],
   "source": [
    "iters_info"
   ]
  },
  {
   "cell_type": "code",
   "execution_count": 150,
   "metadata": {},
   "outputs": [],
   "source": [
    "with open(\"../data/results/test 2/scores_info.txt\", 'w') as outfile:\n",
    "    json.dump(scores_info, outfile)\n",
    "    \n",
    "\n",
    "with open(\"../data/results/test 2/iters_info.txt\", 'w') as outfile:\n",
    "    json.dump(iters_info, outfile)\n",
    "\n"
   ]
  },
  {
   "cell_type": "code",
   "execution_count": null,
   "metadata": {},
   "outputs": [],
   "source": []
  }
 ],
 "metadata": {
  "kernelspec": {
   "display_name": "Python 3",
   "language": "python",
   "name": "python3"
  },
  "language_info": {
   "codemirror_mode": {
    "name": "ipython",
    "version": 3
   },
   "file_extension": ".py",
   "mimetype": "text/x-python",
   "name": "python",
   "nbconvert_exporter": "python",
   "pygments_lexer": "ipython3",
   "version": "3.7.3"
  }
 },
 "nbformat": 4,
 "nbformat_minor": 2
}
