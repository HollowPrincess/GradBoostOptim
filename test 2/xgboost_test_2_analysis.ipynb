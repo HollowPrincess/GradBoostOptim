{
 "cells": [
  {
   "cell_type": "code",
   "execution_count": 1,
   "metadata": {},
   "outputs": [],
   "source": [
    "import pandas as pd\n",
    "import numpy as np\n",
    "from matplotlib import pyplot as plt\n",
    "import os"
   ]
  },
  {
   "cell_type": "code",
   "execution_count": 2,
   "metadata": {},
   "outputs": [],
   "source": [
    "first_group_files=os.listdir(\"../data/results/test 1\")\n",
    "grid_files = [x for x in first_group_files if \"grid\" in x]\n",
    "random_search_files = [x for x in first_group_files if x.find(\"random\")!=-1]\n",
    "first_group_files = [x for x in first_group_files if x.find(\"group\")!=-1]\n",
    "sec_and_third_group_files=os.listdir(\"../data/results/test 2\")"
   ]
  },
  {
   "cell_type": "code",
   "execution_count": 3,
   "metadata": {},
   "outputs": [],
   "source": [
    "grid_df=pd.DataFrame([])\n",
    "for file_name in grid_files:\n",
    "    df = pd.read_csv(\"../data/results/test 1/\"+file_name, usecols = ['experiment_name',\n",
    "                                                                     'mean_test_score',\n",
    "                                         'params'])\n",
    "    \n",
    "    df['iter_num']=1\n",
    "    df.loc[df['experiment_name']!='default params', \n",
    "           'iter_num'] = range(1, df.loc[df['experiment_name']!='default params'].shape[0]+1)\n",
    "    \n",
    "    grid_df = pd.concat([grid_df, df], sort=False)"
   ]
  },
  {
   "cell_type": "code",
   "execution_count": 4,
   "metadata": {},
   "outputs": [],
   "source": [
    "def group_best_params_with_stop(df, group_num, stop_iter_num, group_size = 243):\n",
    "    best_params = {}\n",
    "    stop_iter_nums = {}\n",
    "    best_score = {}\n",
    "\n",
    "    tmp_df = df.loc[(df['iter_num'] > (group_num-1)*group_size) & \\\n",
    "                        (df['iter_num'] <= group_num*group_size)].copy() #take group\n",
    "    \n",
    "    for i in tmp_df.run_number.unique(): \n",
    "        tmp_df_i = tmp_df.loc[tmp_df.run_number==i] #take run\n",
    "        #cut iterations:\n",
    "        tmp_df_i_copy = tmp_df_i.copy()\n",
    "        tmp_df_i_copy.loc[:, \"mean_test_score\"] = \\\n",
    "            tmp_df_i.loc[:, \"mean_test_score\"].cummax()      \n",
    "\n",
    "        try:\n",
    "            curr_max=tmp_df_i_copy.groupby(\"mean_test_score\")[\"mean_test_score\"]\\\n",
    "                .count().reset_index()\n",
    "            max_score = curr_max.loc[curr_max[\"mean_test_score\"]\\\n",
    "                                     >=stop_iter_num].index[0] \n",
    "                #get first interval with iter_amount more than stop_iter_num\n",
    "        except:\n",
    "            max_score = tmp_df_i_copy.mean_test_score.max()\n",
    "\n",
    "        tmp_stop = tmp_df_i.loc[tmp_df_i[\"mean_test_score\"]\\\n",
    "                                ==max_score].sort_values(by=\"iter_num\").iloc[0]\n",
    "            #get first element with best_score\n",
    "\n",
    "        best_params[i] = tmp_stop['params']\n",
    "        best_score[i] = max_score\n",
    "\n",
    "        last_iter_num = tmp_stop['iter_num'] + stop_iter_num-1\n",
    "        if (last_iter_num > group_num*group_size):\n",
    "            last_iter_num = group_num*group_size\n",
    "\n",
    "        stop_iter_nums[i] = last_iter_num - group_size*(group_num-1)\n",
    "    return best_params, stop_iter_nums, best_score          "
   ]
  },
  {
   "cell_type": "code",
   "execution_count": 5,
   "metadata": {},
   "outputs": [],
   "source": [
    "random_df = pd.DataFrame([])\n",
    "for file_name in random_search_files:\n",
    "    file_df = pd.read_csv(\"../data/results/test 1/\" + file_name, \n",
    "                              usecols = ['experiment_name', 'mean_test_score',\n",
    "                                         'params','run_number'])\n",
    "    file_df['iter_num'] = range(1, file_df.shape[0]+1) \n",
    "    random_df = pd.concat([random_df, file_df], sort = False)"
   ]
  },
  {
   "cell_type": "code",
   "execution_count": 6,
   "metadata": {},
   "outputs": [],
   "source": [
    "stop_iter_num = 100\n",
    "\n",
    "sec_and_third_group_files = [x for x in sec_and_third_group_files \\\n",
    "                                 if x.find(str(stop_iter_num))!=-1]"
   ]
  },
  {
   "cell_type": "code",
   "execution_count": 7,
   "metadata": {},
   "outputs": [],
   "source": [
    "best_params_full = {}\n",
    "stop_iter_nums_full = {}\n",
    "best_score_full = {}"
   ]
  },
  {
   "cell_type": "code",
   "execution_count": 8,
   "metadata": {},
   "outputs": [],
   "source": [
    "def get_df_from_files(files_arr, group_num, group_size = 243):\n",
    "    if group_num == 1:\n",
    "        file_dir = \"../data/results/test 1/\"\n",
    "    else:\n",
    "        file_dir = \"../data/results/test 2/\"\n",
    "\n",
    "    group_df = pd.DataFrame([])\n",
    "    for file_name in files_arr:\n",
    "        file_df = pd.read_csv(file_dir + file_name, \n",
    "                              usecols = ['mean_test_score',\n",
    "                                         'params','run_number'])\n",
    "        file_df['iter_num'] = range(1, file_df.shape[0]+1) \n",
    "        file_df['iter_num'] += (group_num-1)*group_size\n",
    "        group_df = pd.concat([group_df, file_df], sort = False)\n",
    "    return group_df\n",
    "    \n",
    "\n",
    "first_df = get_df_from_files(first_group_files, 1)\n",
    "first_df = first_df.loc[first_df.iter_num<244]\n",
    "best_params_full[1], stop_iter_nums_full[1], best_score_full[1] = \\\n",
    "            group_best_params_with_stop(first_df, 1, stop_iter_num)\n",
    "\n",
    "gr_2_and_3_df = get_df_from_files(sec_and_third_group_files, 2)\n",
    "best_params_full[2], stop_iter_nums_full[2], best_score_full[2] = \\\n",
    "            group_best_params_with_stop(gr_2_and_3_df, 2, stop_iter_num)\n",
    "best_params_full[3], stop_iter_nums_full[3], best_score_full[3] = \\\n",
    "            group_best_params_with_stop(gr_2_and_3_df, 3, stop_iter_num)"
   ]
  },
  {
   "cell_type": "code",
   "execution_count": 9,
   "metadata": {},
   "outputs": [],
   "source": [
    "full_df = pd.concat([first_df, gr_2_and_3_df], sort = False)"
   ]
  },
  {
   "cell_type": "code",
   "execution_count": 10,
   "metadata": {},
   "outputs": [
    {
     "name": "stdout",
     "output_type": "stream",
     "text": [
      "MEAN best score: 0.6674590799006869\n",
      "STD best score: 0.0010305259879038954\n"
     ]
    }
   ],
   "source": [
    "scores = np.array(list(best_score_full[3].values()), dtype = float)\n",
    "print(\"MEAN best score:\", np.mean(scores))\n",
    "print(\"STD best score:\", np.std(scores))"
   ]
  },
  {
   "cell_type": "code",
   "execution_count": 11,
   "metadata": {},
   "outputs": [
    {
     "data": {
      "text/plain": [
       "{1: {8: \"{'max_depth': 5, 'min_child_weight': 9}\",\n",
       "  3: \"{'max_depth': 5, 'min_child_weight': 9}\",\n",
       "  1: \"{'max_depth': 5, 'min_child_weight': 9}\",\n",
       "  9: \"{'max_depth': 5, 'min_child_weight': 9}\",\n",
       "  7: \"{'max_depth': 5, 'min_child_weight': 9}\",\n",
       "  10: \"{'max_depth': 5, 'min_child_weight': 9}\",\n",
       "  5: \"{'max_depth': 5, 'min_child_weight': 9}\",\n",
       "  4: \"{'max_depth': 5, 'min_child_weight': 9}\",\n",
       "  2: \"{'max_depth': 5, 'min_child_weight': 9}\",\n",
       "  6: \"{'max_depth': 5, 'min_child_weight': 9}\"},\n",
       " 2: {5: \"{'alpha': 0.12474489836055391, 'lambda': 0.012978253306978327}\",\n",
       "  10: \"{'alpha': 0.48617912866394575, 'lambda': 0.5001369411003012}\",\n",
       "  8: \"{'alpha': 0.7848690753328582, 'lambda': 0.5614150356069537}\",\n",
       "  3: \"{'alpha': 0.9324358939404794, 'lambda': 0.5668554595955249}\",\n",
       "  9: \"{'alpha': 0.48498789277245746, 'lambda': 0.032776563814494786}\",\n",
       "  2: \"{'alpha': 0.6237297453340719, 'lambda': 0.6251026030301604}\",\n",
       "  6: \"{'alpha': 0.33907644559974726, 'lambda': 0.09765767974465045}\",\n",
       "  4: \"{'alpha': 0.09221902868955256, 'lambda': 0.8875645850095792}\",\n",
       "  7: \"{'alpha': 0.358558635083303, 'lambda': 0.9223347363511748}\",\n",
       "  1: \"{'alpha': 0.351812056215164, 'lambda': 0.5332535919698587}\"},\n",
       " 3: {5: \"{'colsample_bytree': 0.8376345582436858, 'subsample': 0.7975696464927642}\",\n",
       "  10: \"{'colsample_bytree': 0.6453370312612059, 'subsample': 0.8216965937746347}\",\n",
       "  8: \"{'colsample_bytree': 0.5116775522940371, 'subsample': 0.8111073952618364}\",\n",
       "  3: \"{'colsample_bytree': 0.5244362193328961, 'subsample': 0.8456150152693669}\",\n",
       "  9: \"{'colsample_bytree': 0.6829453761712361, 'subsample': 0.7498259634743134}\",\n",
       "  2: \"{'colsample_bytree': 0.8289500974268194, 'subsample': 0.8247085173513918}\",\n",
       "  6: \"{'colsample_bytree': 0.5863225180016374, 'subsample': 0.652360926894336}\",\n",
       "  4: \"{'colsample_bytree': 0.6270069818900639, 'subsample': 0.8209576230180526}\",\n",
       "  7: \"{'colsample_bytree': 0.8432948855787756, 'subsample': 0.8290777772543769}\",\n",
       "  1: \"{'colsample_bytree': 0.6044907779290387, 'subsample': 0.8306068547657005}\"}}"
      ]
     },
     "execution_count": 11,
     "metadata": {},
     "output_type": "execute_result"
    }
   ],
   "source": [
    "best_params_full"
   ]
  },
  {
   "cell_type": "code",
   "execution_count": 12,
   "metadata": {},
   "outputs": [
    {
     "data": {
      "text/plain": [
       "{1: {8: 102,\n",
       "  3: 135,\n",
       "  1: 118,\n",
       "  9: 119,\n",
       "  7: 230,\n",
       "  10: 187,\n",
       "  5: 121,\n",
       "  4: 135,\n",
       "  2: 225,\n",
       "  6: 111},\n",
       " 2: {5: 100,\n",
       "  10: 100,\n",
       "  8: 100,\n",
       "  3: 100,\n",
       "  9: 100,\n",
       "  2: 100,\n",
       "  6: 100,\n",
       "  4: 100,\n",
       "  7: 100,\n",
       "  1: 100},\n",
       " 3: {5: 243,\n",
       "  10: 195,\n",
       "  8: 228,\n",
       "  3: 243,\n",
       "  9: 238,\n",
       "  2: 159,\n",
       "  6: 232,\n",
       "  4: 202,\n",
       "  7: 243,\n",
       "  1: 135}}"
      ]
     },
     "execution_count": 12,
     "metadata": {},
     "output_type": "execute_result"
    }
   ],
   "source": [
    "stop_iter_nums_full # {group_num: {run_num : value, ...}, ...}"
   ]
  },
  {
   "cell_type": "code",
   "execution_count": 13,
   "metadata": {},
   "outputs": [],
   "source": [
    "for group_num in stop_iter_nums_full:\n",
    "    for run_num in stop_iter_nums_full[group_num]:\n",
    "        stop_num = stop_iter_nums_full[group_num][run_num]\n",
    "        full_df.loc[(full_df.run_number == run_num)&\\\n",
    "                    (full_df.iter_num > (group_num-1)*243)&\\\n",
    "                   (full_df.iter_num <= group_num*243)] = full_df.loc[(full_df.run_number == run_num)&\\\n",
    "                        (full_df.iter_num > (group_num-1)*243)&\\\n",
    "                        (full_df.iter_num <= (group_num-1)*243 + stop_num)]\n"
   ]
  },
  {
   "cell_type": "code",
   "execution_count": 14,
   "metadata": {},
   "outputs": [],
   "source": [
    "full_df = full_df.dropna(how = 'all')"
   ]
  },
  {
   "cell_type": "code",
   "execution_count": 15,
   "metadata": {},
   "outputs": [
    {
     "name": "stdout",
     "output_type": "stream",
     "text": [
      "MEAN iters num: 460.1\n",
      "STD iters num: 52.29235125713893\n"
     ]
    }
   ],
   "source": [
    "max_iters = []\n",
    "for run_num in full_df.run_number.unique():\n",
    "    max_iters.append(full_df.loc[full_df.run_number == run_num].shape[0])\n",
    "    full_df.loc[full_df.run_number == run_num, 'iter_num'] = range(1, max_iters[-1]+1)\n",
    "print(\"MEAN iters num:\", np.mean(max_iters))\n",
    "print(\"STD iters num:\", np.std(max_iters))"
   ]
  },
  {
   "cell_type": "code",
   "execution_count": 16,
   "metadata": {},
   "outputs": [],
   "source": [
    "max_iter = np.max(max_iters)"
   ]
  },
  {
   "cell_type": "code",
   "execution_count": 17,
   "metadata": {},
   "outputs": [],
   "source": [
    "max_score_and_iter = full_df.groupby(by = 'run_number')['mean_test_score', 'iter_num'].max()"
   ]
  },
  {
   "cell_type": "code",
   "execution_count": 19,
   "metadata": {},
   "outputs": [],
   "source": [
    "full_df = full_df.loc[:, ['mean_test_score', 'iter_num', 'run_number']]"
   ]
  },
  {
   "cell_type": "code",
   "execution_count": 20,
   "metadata": {},
   "outputs": [],
   "source": [
    "for run_number in list(max_score_and_iter.loc[\n",
    "        max_score_and_iter.iter_num < max_iter].index):\n",
    "    new_part_df = pd.DataFrame([], columns=full_df.columns )\n",
    "    new_part_df['iter_num']=range(int(max_score_and_iter.loc[run_number, 'iter_num']+1), \n",
    "                                  int(max_iter)+1)\n",
    "    new_part_df['run_number'] = run_number\n",
    "    new_part_df['mean_test_score'] = full_df.loc[full_df.run_number == run_number, 'mean_test_score'].max()\n",
    "    full_df = pd.concat([full_df, new_part_df])\n",
    "    full_df.loc[full_df.run_number == run_number, 'mean_test_score'] = \\\n",
    "        full_df.loc[full_df.run_number == run_number, 'mean_test_score'].cummax()\n",
    "    \n",
    "for run_number in list(max_score_and_iter.loc[\n",
    "        max_score_and_iter.iter_num >= max_iter].index):\n",
    "    full_df.loc[full_df.run_number == run_number, 'mean_test_score'] = \\\n",
    "        full_df.loc[full_df.run_number == run_number, 'mean_test_score'].cummax()"
   ]
  },
  {
   "cell_type": "code",
   "execution_count": 21,
   "metadata": {},
   "outputs": [],
   "source": [
    "full_df['experiment_name']='group search'"
   ]
  },
  {
   "cell_type": "code",
   "execution_count": 22,
   "metadata": {},
   "outputs": [
    {
     "name": "stdout",
     "output_type": "stream",
     "text": [
      "MEAN iters num: 195.0\n",
      "STD iters num: 48.20165972246184\n"
     ]
    }
   ],
   "source": [
    "## RANDOM_SEARCH\n",
    "#get best scores per itration for each random_search performance:\n",
    "random_df_stopped=pd.DataFrame([])\n",
    "max_iters_for_RS = []\n",
    "for i in random_df.run_number.unique():\n",
    "    \n",
    "    tmp=pd.DataFrame(random_df.loc[random_df.run_number==i, \n",
    "                                   \"mean_test_score\"].copy().cummax())\n",
    "    tmp[\"iter_num\"]=random_df.loc[random_df.run_number==i, \"iter_num\"]\n",
    "    curr_max=tmp.groupby(\"mean_test_score\").count().reset_index()\n",
    "    max_score=curr_max.loc[curr_max[\"iter_num\"]>=stop_iter_num, \n",
    "                           \"mean_test_score\"].values[0]\n",
    "    \n",
    "    tmp_before=tmp.loc[tmp[\"mean_test_score\"]<max_score] #get steps before stop criterion\n",
    "    tmp_stop=tmp.loc[tmp[\"mean_test_score\"]==max_score].sort_values(by=\"iter_num\")\n",
    "    tmp_stop=tmp_stop.iloc[:stop_iter_num]\n",
    "    df_stopped=pd.concat([tmp_before, tmp_stop], sort = False)  \n",
    "    df_stopped['run_number']=i\n",
    "    max_iters_for_RS.append(df_stopped.shape[0])\n",
    "    random_df_stopped=pd.concat([random_df_stopped, df_stopped], sort=False)\n",
    "    \n",
    "    \n",
    "print(\"MEAN iters num:\", np.mean(max_iters_for_RS))\n",
    "print(\"STD iters num:\", np.std(max_iters_for_RS))"
   ]
  },
  {
   "cell_type": "code",
   "execution_count": 23,
   "metadata": {},
   "outputs": [],
   "source": [
    "max_iter = np.max(max_iters_for_RS)\n",
    "max_score_and_iter_RS = random_df_stopped.groupby(by = 'run_number')['mean_test_score', 'iter_num'].max()\n",
    "for run_number in list(max_score_and_iter_RS.loc[\n",
    "        max_score_and_iter_RS.iter_num < max_iter].index):\n",
    "    new_part_df = pd.DataFrame([], columns=random_df_stopped.columns )\n",
    "    new_part_df['iter_num']=range(int(max_score_and_iter_RS.loc[run_number, 'iter_num']+1), \n",
    "                                  int(max_iter)+1)\n",
    "    new_part_df[['mean_test_score', 'run_number']] = max_score_and_iter_RS.loc[run_number, 'mean_test_score'], run_number\n",
    "    random_df_stopped = pd.concat([random_df_stopped, new_part_df])\n",
    "random_df_stopped['experiment_name']='random search'   "
   ]
  },
  {
   "cell_type": "code",
   "execution_count": 24,
   "metadata": {},
   "outputs": [],
   "source": [
    "#get info for grid and deafault"
   ]
  },
  {
   "cell_type": "code",
   "execution_count": 25,
   "metadata": {},
   "outputs": [
    {
     "data": {
      "image/png": "[encoded data removed]",
      "text/plain": [
       "<Figure size 1080x504 with 1 Axes>"
      ]
     },
     "metadata": {
      "needs_background": "light"
     },
     "output_type": "display_data"
    }
   ],
   "source": [
    "# Data with stop criterion\n",
    "# stop if the cumulative score hasn't grown in \"stop_iter_num\" iterations\n",
    "# GRID_SEARCH\n",
    "#get best scores per itration for grid_search performance:\n",
    "grid_perf=grid_df.loc[grid_df['experiment_name']!='default params',\n",
    "                      'mean_test_score'].cummax()\n",
    "\n",
    "\n",
    "## RANDOM_SEARCH\n",
    "# get best scores per itration for each random_search performance:\n",
    "# random_df_stopped\n",
    "    \n",
    "#get mean and confidence interval value for random_search performance on iteration:    \n",
    "\n",
    "z = 1.96 # for 95% conf interval (coefficient)\n",
    "# z = 1.64 # for 90% conf interval\n",
    "\n",
    "n=random_df_stopped.shape[0]/random_df_stopped.iter_num.max() # now n=9, because 4 runs were made for random search\n",
    "random_std=random_df_stopped.groupby(by=\"iter_num\")['mean_test_score'].std() #std\n",
    "random_std=(random_std*z)/np.sqrt(n) #confidence interval value \n",
    "random_mean=random_df_stopped.groupby(by=\"iter_num\")['mean_test_score'].mean() #mean\n",
    "\n",
    "\n",
    "## GROUP_SEARCH\n",
    "#get best scores per itration for each group_search performance (same computations):\n",
    "\n",
    "n=full_df.shape[0]/full_df.iter_num.max() # now n=10\n",
    "group_std=full_df.groupby(by=\"iter_num\")['mean_test_score'].std()\n",
    "group_std=(group_std*z)/np.sqrt(n) \n",
    "group_std=group_std.fillna(0)\n",
    "group_mean=full_df.groupby(by=\"iter_num\")['mean_test_score'].mean()\n",
    "\n",
    "## DEFAULT performance\n",
    "default_perf=grid_df.loc[grid_df['experiment_name']=='default params', 'mean_test_score']\n",
    "\n",
    "\n",
    "## PLOT\n",
    "plt.figure(figsize=(15,7))\n",
    "plt.grid()\n",
    "\n",
    "#grid plot:\n",
    "x=list(range(0, grid_perf.shape[0]))\n",
    "plt.plot(x, grid_perf, label=\"grid_search\")\n",
    "\n",
    "#conf for random:\n",
    "x=list(range(0, random_mean.shape[0]))\n",
    "plt.plot(x, random_mean, color=\"y\", label=\"random_search mean values\")\n",
    "lower_random=random_mean - random_std\n",
    "upper_random=random_mean + random_std\n",
    "plt.plot(x, lower_random, alpha=0.7, color=\"y\")\n",
    "plt.plot(x, upper_random, alpha=0.7, color=\"y\")\n",
    "plt.fill_between(x, lower_random, upper_random, alpha=0.1, color=\"y\") \n",
    "\n",
    "#conf for group:\n",
    "x=list(range(0, group_mean.shape[0]))\n",
    "plt.plot(x, group_mean, color=\"green\", label=\"group_search mean values\")\n",
    "lower_group=group_mean - group_std\n",
    "upper_group=group_mean + group_std\n",
    "plt.plot(x, lower_group, alpha=0.5, color=\"green\")\n",
    "plt.plot(x, upper_group, alpha=0.5, color=\"green\")\n",
    "plt.fill_between(x, lower_group, upper_group, alpha=0.1, color=\"green\")\n",
    "\n",
    "#line for default values\n",
    "plt.axhline(default_perf.values, label=\"default_params\", color='r')\n",
    "\n",
    "plt.legend(title='tests:')\n",
    "plt.title(\"Learning curves: the best score per iteration\")\n",
    "plt.ylabel(\"Best score r2 per iteration\")\n",
    "plt.xlabel(\"iteration number\")\n",
    "plt.savefig(\"../graphs/test 2/scores_with_stop_{}.jpg\".format(stop_iter_num))\n",
    "plt.show()"
   ]
  },
  {
   "cell_type": "code",
   "execution_count": 26,
   "metadata": {},
   "outputs": [],
   "source": [
    "df = pd.concat([full_df, random_df_stopped], sort = False)"
   ]
  },
  {
   "cell_type": "code",
   "execution_count": 27,
   "metadata": {},
   "outputs": [],
   "source": [
    "best_scores=df.groupby(by=['experiment_name', \n",
    "                           'run_number'])['mean_test_score'].max().reset_index()\n",
    "#print(\"best scores:\")\n",
    "#print(best_scores)\n",
    "\n",
    "best=pd.merge(df, best_scores, how='inner', \n",
    "              on=['experiment_name','run_number','mean_test_score']\n",
    "             ).loc[:,['experiment_name','mean_test_score', \n",
    "                      'iter_num','run_number']]\n",
    "#best step and params"
   ]
  },
  {
   "cell_type": "code",
   "execution_count": 28,
   "metadata": {},
   "outputs": [
    {
     "name": "stdout",
     "output_type": "stream",
     "text": [
      "MEAN:\n",
      "experiment_name\n",
      "group search     0.667459\n",
      "random search    0.662709\n",
      "Name: mean_test_score, dtype: float64\n",
      "STD:\n",
      "experiment_name\n",
      "group search     0.001086\n",
      "random search    0.002200\n",
      "Name: mean_test_score, dtype: float64\n"
     ]
    }
   ],
   "source": [
    "print(\"MEAN:\")\n",
    "print(best_scores.groupby(by='experiment_name')['mean_test_score'].mean())\n",
    "print(\"STD:\")\n",
    "print(best_scores.groupby(by='experiment_name')['mean_test_score'].std())"
   ]
  },
  {
   "cell_type": "code",
   "execution_count": null,
   "metadata": {},
   "outputs": [],
   "source": []
  }
 ],
 "metadata": {
  "kernelspec": {
   "display_name": "Python 3",
   "language": "python",
   "name": "python3"
  },
  "language_info": {
   "codemirror_mode": {
    "name": "ipython",
    "version": 3
   },
   "file_extension": ".py",
   "mimetype": "text/x-python",
   "name": "python",
   "nbconvert_exporter": "python",
   "pygments_lexer": "ipython3",
   "version": "3.7.3"
  }
 },
 "nbformat": 4,
 "nbformat_minor": 2
}
